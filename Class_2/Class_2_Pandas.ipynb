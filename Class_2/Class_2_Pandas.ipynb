{
 "cells": [
  {
   "cell_type": "markdown",
   "metadata": {},
   "source": [
    "<div style=\"font-size:18pt; padding-top:20px; text-align:center\">СЕМИНАР 2. <b>Введение в </b> <span style=\"font-weight:bold; color:green\">Pandas</span></div><hr>\n",
    "<div style=\"text-align:right;\">Папулин С.Ю. <span style=\"font-style: italic;font-weight: bold;\">(papulin_hse@mail.ru)</span></div>"
   ]
  },
  {
   "cell_type": "markdown",
   "metadata": {},
   "source": [
    "<a name=\"0\"></a>\n",
    "<div><span style=\"font-size:14pt; font-weight:bold\">Содержание</span>\n",
    "    <ol>\n",
    "        <li><a href=\"#1\">Основные типы данных в Pandas</a></li>\n",
    "            <ol style = \"list-style-type:lower-alpha\">\n",
    "                <li><a href=\"#1a\">Последовательность</a></li>\n",
    "                <li><a href=\"#1b\">Табличная структура данных (DataFrame)</a></li>\n",
    "                <li><a href=\"#1c\">Панель (Panel)</a></li>\n",
    "            </ol>\n",
    "        <li><a href=\"#2\">Первые шаги с DataFrame</a></li>\n",
    "            <ol style = \"list-style-type:lower-alpha\">\n",
    "                <li><a href=\"#2a\">Создание DataFrame</a></li>\n",
    "                <li><a href=\"#2b\">Обращение к элементам</a></li>\n",
    "                <li><a href=\"#2c\">Запись содержания DataFrame во внешний файл</a></li>\n",
    "                <li><a href=\"#2d\">Загрузка внешних данных в DataFrame</a></li>\n",
    "            </ol>\n",
    "        <li><a href=\"#3\">Манипулирование DataFrame'ми</a></li>\n",
    "            <ol style = \"list-style-type:lower-alpha\">\n",
    "                <li><a href=\"#3a\">Столбцы</a></li>\n",
    "                <li><a href=\"#3b\">Строки</a></li>\n",
    "                <li><a href=\"#3c\">Значения ячеек</a></li>\n",
    "                <li><a href=\"#3d\">Группировка</a></li>\n",
    "                <li><a href=\"#3e\">Сортировка</a></li>\n",
    "                <li><a href=\"#3f\">Сложные индексы</a></li>\n",
    "                <li><a href=\"#3g\">Объединение DataFrame'ов: <i>append, concat, merge, join</i></a></li>\n",
    "                <li><a href=\"#3h\">Методы <i>iterrows</i>, <i>map</i>, <i>apply</i>, <i>applymap</i></a></li>\n",
    "            </ol>\n",
    "        <li><a href=\"#4\">Математическая поддержка</a></li>\n",
    "            <ol style = \"list-style-type:lower-alpha\">\n",
    "                <li><a href=\"#4a\">Операции со столбцами</a></li>\n",
    "                <li><a href=\"#4b\">Специальные методы</a></li>\n",
    "            </ol>\n",
    "        <li><a href=\"#5\">Визуализация данных</a></li>\n",
    "            <ol style = \"list-style-type:lower-alpha\">\n",
    "                <li><a href=\"#5a\">График (plot)</a></li>\n",
    "                <li><a href=\"#5b\">Гистограмма</a></li>\n",
    "            </ol>\n",
    "        <li><a href=\"#6\">Источники</a></li>\n",
    "    </ol>\n",
    "</div>"
   ]
  },
  {
   "cell_type": "markdown",
   "metadata": {},
   "source": [
    "<a name=\"1\"></a>\n",
    "<div style=\"display:table; width:100%; padding-top:10px; padding-bottom:10px; border-bottom:1px solid lightgrey\">\n",
    "    <div style=\"display:table-row\">\n",
    "        <div style=\"display:table-cell; width:80%; font-size:14pt; font-weight:bold\">1. Основные типы данных в <span style=\"font-weight:bold; color:green\">Pandas</span></div>\n",
    "    \t<div style=\"display:table-cell; width:20%; text-align:center; background-color:whitesmoke; border:1px solid lightgrey\"><a href=\"#0\">К содержанию</a></div>\n",
    "    </div>\n",
    "</div>"
   ]
  },
  {
   "cell_type": "markdown",
   "metadata": {},
   "source": [
    "<div>\n",
    "<p><b>Рассматриваемые вопросы:</b></p>\n",
    "<p style=\"line-height:20pt\">\n",
    "a) последовательность <span style=\"font-weight:bold; color:green\">Series</span><br> \n",
    "b) табличная структура <span style=\"font-weight:bold; color:green\">DataFrame</span><br> \n",
    "c) панель <span style=\"font-weight:bold; color:green\">Panel</span><br>\n",
    "</div>"
   ]
  },
  {
   "cell_type": "code",
   "execution_count": 1,
   "metadata": {
    "collapsed": true
   },
   "outputs": [],
   "source": [
    "import pandas as pnd\n",
    "import numpy as np"
   ]
  },
  {
   "cell_type": "markdown",
   "metadata": {},
   "source": [
    "<a name = \"1a\"></a>\n",
    "<div style=\"padding-top:10px;\">\n",
    "    <div style=\"display: inline-block; font-style:italic; font-weight:bold; font-size:12pt\">a. Последовательность (<span style=\"font-weight:bold; color:green\">Series</span>)</div>\n",
    "    <div style=\"display: inline-block; float:right; width:20%; text-align:center; border:1px solid lightgrey\">\n",
    "        <div style=\"display: inline-block; text-align:center; width:50%; background-color:whitesmoke;\"><a href=\"#1\">Назад</a></div><div style=\"display: inline-block; text-align:center; width:50%;\"><a href=\"#1b\">Далее</a></div>\n",
    "    </div>\n",
    "</div>"
   ]
  },
  {
   "cell_type": "markdown",
   "metadata": {},
   "source": [
    "<p>Последовательность <span style=\"font-weight:bold; color:green\">Series</span> - одномерный массив с метками (индексами) для хранения различных типов данных: целых (integer), действительных чисел (float), строк (string), объектов Python</p>"
   ]
  },
  {
   "cell_type": "code",
   "execution_count": 2,
   "metadata": {
    "collapsed": false
   },
   "outputs": [
    {
     "data": {
      "text/plain": [
       "1     Dima\n",
       "2    Sveta\n",
       "3     Alex\n",
       "4     Ivan\n",
       "5     Kate\n",
       "6    Maria\n",
       "Name: Name, dtype: object"
      ]
     },
     "execution_count": 2,
     "metadata": {},
     "output_type": "execute_result"
    }
   ],
   "source": [
    "s = pnd.Series(data = [\"Dima\", \"Sveta\",\"Alex\", \"Ivan\", \"Kate\", \"Maria\"], index = list(range(1,7)), name = \"Name\")\n",
    "s"
   ]
  },
  {
   "cell_type": "code",
   "execution_count": 3,
   "metadata": {
    "collapsed": false
   },
   "outputs": [
    {
     "data": {
      "text/plain": [
       "[-2.011894, 0.098981, 0.693385, 1.055508, 0.640023]"
      ]
     },
     "execution_count": 3,
     "metadata": {},
     "output_type": "execute_result"
    }
   ],
   "source": [
    "lNum = [-2.011894, 0.098981, 0.693385, 1.055508, 0.640023]\n",
    "lNum"
   ]
  },
  {
   "cell_type": "code",
   "execution_count": 4,
   "metadata": {
    "collapsed": false
   },
   "outputs": [
    {
     "data": {
      "text/plain": [
       "a   -2.011894\n",
       "b    0.098981\n",
       "c    0.693385\n",
       "d    1.055508\n",
       "e    0.640023\n",
       "Name: Number, dtype: float64"
      ]
     },
     "execution_count": 4,
     "metadata": {},
     "output_type": "execute_result"
    }
   ],
   "source": [
    "s2 = pnd.Series(data = lNum, index=['a', 'b', 'c', 'd', 'e'], name = \"Number\")\n",
    "s2"
   ]
  },
  {
   "cell_type": "code",
   "execution_count": 5,
   "metadata": {
    "collapsed": false
   },
   "outputs": [
    {
     "data": {
      "text/plain": [
       "a   -2\n",
       "b    0\n",
       "c    0\n",
       "d    1\n",
       "e    0\n",
       "Name: Number, dtype: int64"
      ]
     },
     "execution_count": 5,
     "metadata": {},
     "output_type": "execute_result"
    }
   ],
   "source": [
    "s3 = pnd.Series(data = lNum, index=['a', 'b', 'c', 'd', 'e'], name = \"Number\", dtype = 'int')\n",
    "s3"
   ]
  },
  {
   "cell_type": "markdown",
   "metadata": {},
   "source": [
    "<p>Вывод первых (<i>head</i>) и последних (<i>tail</i>) $n$ значений</p>"
   ]
  },
  {
   "cell_type": "code",
   "execution_count": 6,
   "metadata": {
    "collapsed": false
   },
   "outputs": [
    {
     "data": {
      "text/plain": [
       "1     Dima\n",
       "2    Sveta\n",
       "Name: Name, dtype: object"
      ]
     },
     "execution_count": 6,
     "metadata": {},
     "output_type": "execute_result"
    }
   ],
   "source": [
    "s.head(2)"
   ]
  },
  {
   "cell_type": "code",
   "execution_count": 7,
   "metadata": {
    "collapsed": false
   },
   "outputs": [
    {
     "data": {
      "text/plain": [
       "5     Kate\n",
       "6    Maria\n",
       "Name: Name, dtype: object"
      ]
     },
     "execution_count": 7,
     "metadata": {},
     "output_type": "execute_result"
    }
   ],
   "source": [
    "s.tail(2)"
   ]
  },
  {
   "cell_type": "markdown",
   "metadata": {},
   "source": [
    "<p>Обращение к элементам <span style=\"font-weight:bold; color:green\">Series</span></p>"
   ]
  },
  {
   "cell_type": "code",
   "execution_count": 8,
   "metadata": {
    "collapsed": false
   },
   "outputs": [
    {
     "data": {
      "text/plain": [
       "'Alex'"
      ]
     },
     "execution_count": 8,
     "metadata": {},
     "output_type": "execute_result"
    }
   ],
   "source": [
    "s[3]"
   ]
  },
  {
   "cell_type": "code",
   "execution_count": 9,
   "metadata": {
    "collapsed": false
   },
   "outputs": [
    {
     "data": {
      "text/plain": [
       "0.098981"
      ]
     },
     "execution_count": 9,
     "metadata": {},
     "output_type": "execute_result"
    }
   ],
   "source": [
    "s2['b']"
   ]
  },
  {
   "cell_type": "code",
   "execution_count": 10,
   "metadata": {
    "collapsed": false
   },
   "outputs": [
    {
     "data": {
      "text/plain": [
       "1       Dima\n",
       "2      Sveta\n",
       "3    NewAlex\n",
       "4       Ivan\n",
       "5       Kate\n",
       "6      Maria\n",
       "Name: Name, dtype: object"
      ]
     },
     "execution_count": 10,
     "metadata": {},
     "output_type": "execute_result"
    }
   ],
   "source": [
    "s[3] = \"NewAlex\"\n",
    "s"
   ]
  },
  {
   "cell_type": "markdown",
   "metadata": {},
   "source": [
    "<a name = \"1b\"></a>\n",
    "<div style=\"padding-top:10px;\">\n",
    "    <div style=\"display: inline-block; font-style:italic; font-weight:bold; font-size:12pt\">b. Табличная структура данных (<span style=\"font-weight:bold; color:green\">DataFrame</span>)</div>\n",
    "    <div style=\"display: inline-block; float:right; width:20%; text-align:center; border:1px solid lightgrey\">\n",
    "        <div style=\"display: inline-block; text-align:center; width:50%; background-color:whitesmoke;\"><a href=\"#1a\">Назад</a></div><div style=\"display: inline-block; text-align:center; width:50%;\"><a href=\"#1c\">Далее</a></div>\n",
    "    </div>\n",
    "</div>"
   ]
  },
  {
   "cell_type": "markdown",
   "metadata": {},
   "source": [
    "<p>Табличная структура <span style=\"font-weight:bold; color:green\">DataFrame</span> - двумерный массив с метками</p>"
   ]
  },
  {
   "cell_type": "code",
   "execution_count": 11,
   "metadata": {
    "collapsed": false
   },
   "outputs": [
    {
     "data": {
      "text/plain": [
       "array([[-0.55296155, -1.18294239,  1.25138869],\n",
       "       [ 0.29186434,  0.0576352 , -0.37724355],\n",
       "       [-0.93531239,  0.50082001, -0.7968828 ],\n",
       "       [-0.15860995,  0.5551462 , -0.11624506]])"
      ]
     },
     "execution_count": 11,
     "metadata": {},
     "output_type": "execute_result"
    }
   ],
   "source": [
    "randMatrix = np.random.randn(4,3)\n",
    "randMatrix"
   ]
  },
  {
   "cell_type": "code",
   "execution_count": 12,
   "metadata": {
    "collapsed": false
   },
   "outputs": [
    {
     "data": {
      "text/plain": [
       "['Column_1', 'Column_2', 'Column_3']"
      ]
     },
     "execution_count": 12,
     "metadata": {},
     "output_type": "execute_result"
    }
   ],
   "source": [
    "lCmls = [\"Column_1\", \"Column_2\", \"Column_3\"]\n",
    "lCmls"
   ]
  },
  {
   "cell_type": "code",
   "execution_count": 13,
   "metadata": {
    "collapsed": false
   },
   "outputs": [
    {
     "data": {
      "text/html": [
       "<div>\n",
       "<table border=\"1\" class=\"dataframe\">\n",
       "  <thead>\n",
       "    <tr style=\"text-align: right;\">\n",
       "      <th></th>\n",
       "      <th>Column_1</th>\n",
       "      <th>Column_2</th>\n",
       "      <th>Column_3</th>\n",
       "    </tr>\n",
       "  </thead>\n",
       "  <tbody>\n",
       "    <tr>\n",
       "      <th>0</th>\n",
       "      <td>-0.552962</td>\n",
       "      <td>-1.182942</td>\n",
       "      <td>1.251389</td>\n",
       "    </tr>\n",
       "    <tr>\n",
       "      <th>1</th>\n",
       "      <td>0.291864</td>\n",
       "      <td>0.057635</td>\n",
       "      <td>-0.377244</td>\n",
       "    </tr>\n",
       "    <tr>\n",
       "      <th>2</th>\n",
       "      <td>-0.935312</td>\n",
       "      <td>0.500820</td>\n",
       "      <td>-0.796883</td>\n",
       "    </tr>\n",
       "    <tr>\n",
       "      <th>3</th>\n",
       "      <td>-0.158610</td>\n",
       "      <td>0.555146</td>\n",
       "      <td>-0.116245</td>\n",
       "    </tr>\n",
       "  </tbody>\n",
       "</table>\n",
       "</div>"
      ],
      "text/plain": [
       "   Column_1  Column_2  Column_3\n",
       "0 -0.552962 -1.182942  1.251389\n",
       "1  0.291864  0.057635 -0.377244\n",
       "2 -0.935312  0.500820 -0.796883\n",
       "3 -0.158610  0.555146 -0.116245"
      ]
     },
     "execution_count": 13,
     "metadata": {},
     "output_type": "execute_result"
    }
   ],
   "source": [
    "df = pnd.DataFrame(data = randMatrix, columns = lCmls)\n",
    "df"
   ]
  },
  {
   "cell_type": "code",
   "execution_count": 14,
   "metadata": {
    "collapsed": false
   },
   "outputs": [
    {
     "data": {
      "text/html": [
       "<div>\n",
       "<table border=\"1\" class=\"dataframe\">\n",
       "  <thead>\n",
       "    <tr style=\"text-align: right;\">\n",
       "      <th></th>\n",
       "      <th>Column_1</th>\n",
       "      <th>Column_2</th>\n",
       "      <th>Column_3</th>\n",
       "    </tr>\n",
       "  </thead>\n",
       "  <tbody>\n",
       "    <tr>\n",
       "      <th>a</th>\n",
       "      <td>-0.552962</td>\n",
       "      <td>-1.182942</td>\n",
       "      <td>1.251389</td>\n",
       "    </tr>\n",
       "    <tr>\n",
       "      <th>b</th>\n",
       "      <td>0.291864</td>\n",
       "      <td>0.057635</td>\n",
       "      <td>-0.377244</td>\n",
       "    </tr>\n",
       "    <tr>\n",
       "      <th>c</th>\n",
       "      <td>-0.935312</td>\n",
       "      <td>0.500820</td>\n",
       "      <td>-0.796883</td>\n",
       "    </tr>\n",
       "    <tr>\n",
       "      <th>d</th>\n",
       "      <td>-0.158610</td>\n",
       "      <td>0.555146</td>\n",
       "      <td>-0.116245</td>\n",
       "    </tr>\n",
       "  </tbody>\n",
       "</table>\n",
       "</div>"
      ],
      "text/plain": [
       "   Column_1  Column_2  Column_3\n",
       "a -0.552962 -1.182942  1.251389\n",
       "b  0.291864  0.057635 -0.377244\n",
       "c -0.935312  0.500820 -0.796883\n",
       "d -0.158610  0.555146 -0.116245"
      ]
     },
     "execution_count": 14,
     "metadata": {},
     "output_type": "execute_result"
    }
   ],
   "source": [
    "df2 = pnd.DataFrame(data = randMatrix, columns = lCmls, index = ['a','b','c','d'])\n",
    "df2"
   ]
  },
  {
   "cell_type": "markdown",
   "metadata": {},
   "source": [
    "<p>Вывод первых и последних $n$ значений</p>"
   ]
  },
  {
   "cell_type": "code",
   "execution_count": 15,
   "metadata": {
    "collapsed": false
   },
   "outputs": [
    {
     "data": {
      "text/html": [
       "<div>\n",
       "<table border=\"1\" class=\"dataframe\">\n",
       "  <thead>\n",
       "    <tr style=\"text-align: right;\">\n",
       "      <th></th>\n",
       "      <th>Column_1</th>\n",
       "      <th>Column_2</th>\n",
       "      <th>Column_3</th>\n",
       "    </tr>\n",
       "  </thead>\n",
       "  <tbody>\n",
       "    <tr>\n",
       "      <th>a</th>\n",
       "      <td>-0.552962</td>\n",
       "      <td>-1.182942</td>\n",
       "      <td>1.251389</td>\n",
       "    </tr>\n",
       "    <tr>\n",
       "      <th>b</th>\n",
       "      <td>0.291864</td>\n",
       "      <td>0.057635</td>\n",
       "      <td>-0.377244</td>\n",
       "    </tr>\n",
       "  </tbody>\n",
       "</table>\n",
       "</div>"
      ],
      "text/plain": [
       "   Column_1  Column_2  Column_3\n",
       "a -0.552962 -1.182942  1.251389\n",
       "b  0.291864  0.057635 -0.377244"
      ]
     },
     "execution_count": 15,
     "metadata": {},
     "output_type": "execute_result"
    }
   ],
   "source": [
    "df2.head(2)"
   ]
  },
  {
   "cell_type": "code",
   "execution_count": 16,
   "metadata": {
    "collapsed": false
   },
   "outputs": [
    {
     "data": {
      "text/html": [
       "<div>\n",
       "<table border=\"1\" class=\"dataframe\">\n",
       "  <thead>\n",
       "    <tr style=\"text-align: right;\">\n",
       "      <th></th>\n",
       "      <th>Column_1</th>\n",
       "      <th>Column_2</th>\n",
       "      <th>Column_3</th>\n",
       "    </tr>\n",
       "  </thead>\n",
       "  <tbody>\n",
       "    <tr>\n",
       "      <th>c</th>\n",
       "      <td>-0.935312</td>\n",
       "      <td>0.500820</td>\n",
       "      <td>-0.796883</td>\n",
       "    </tr>\n",
       "    <tr>\n",
       "      <th>d</th>\n",
       "      <td>-0.158610</td>\n",
       "      <td>0.555146</td>\n",
       "      <td>-0.116245</td>\n",
       "    </tr>\n",
       "  </tbody>\n",
       "</table>\n",
       "</div>"
      ],
      "text/plain": [
       "   Column_1  Column_2  Column_3\n",
       "c -0.935312  0.500820 -0.796883\n",
       "d -0.158610  0.555146 -0.116245"
      ]
     },
     "execution_count": 16,
     "metadata": {},
     "output_type": "execute_result"
    }
   ],
   "source": [
    "df2.tail(2)"
   ]
  },
  {
   "cell_type": "markdown",
   "metadata": {},
   "source": [
    "<p>Способы обращения к столбцам, строкам и ячейкам <span style=\"font-weight:bold; color:green\">DataFrame</span>'а рассматриваются в следующих разделах</p>"
   ]
  },
  {
   "cell_type": "markdown",
   "metadata": {},
   "source": [
    "<a name = \"1c\"></a>\n",
    "<div style=\"padding-top:10px;\">\n",
    "    <div style=\"display: inline-block; font-style:italic; font-weight:bold; font-size:12pt\">с. Панель (<span style=\"font-weight:bold; color:green\">Panel</span>)</div>\n",
    "    <div style=\"display: inline-block; float:right; width:20%; text-align:center; border:1px solid lightgrey\">\n",
    "        <div style=\"display: inline-block; text-align:center; width:50%; background-color:whitesmoke;\"><a href=\"#1b\">Назад</a></div><div style=\"display: inline-block; text-align:center; width:50%;\"><a href=\"#2\">Далее</a></div>\n",
    "    </div>\n",
    "</div>"
   ]
  },
  {
   "cell_type": "markdown",
   "metadata": {
    "collapsed": true
   },
   "source": [
    "<p>Панель <span style=\"font-weight:bold; color:green\">Panel</span> - контейнер для трехмерных данных</p>"
   ]
  },
  {
   "cell_type": "markdown",
   "metadata": {},
   "source": [
    "<p>Создание панели с использованием списков</p>"
   ]
  },
  {
   "cell_type": "code",
   "execution_count": 17,
   "metadata": {
    "collapsed": false
   },
   "outputs": [
    {
     "data": {
      "text/plain": [
       "[[['TV', 100, 40], ['Smartphone', 50, 10], ['Pendrive', 10, 10]],\n",
       " [['TV', 90, 48], ['Smartphone', 45, 12], ['Pendrive', 12, 8]]]"
      ]
     },
     "execution_count": 17,
     "metadata": {},
     "output_type": "execute_result"
    }
   ],
   "source": [
    "m3DimData = [[[\"TV\", 100, 40],\n",
    "              [\"Smartphone\", 50, 10], \n",
    "              [\"Pendrive\", 10, 10]],\n",
    "             [[\"TV\", 90, 48],\n",
    "              [\"Smartphone\", 45, 12], \n",
    "              [\"Pendrive\", 12, 8]]]\n",
    "m3DimData"
   ]
  },
  {
   "cell_type": "code",
   "execution_count": 18,
   "metadata": {
    "collapsed": false
   },
   "outputs": [
    {
     "data": {
      "text/plain": [
       "<class 'pandas.core.panel.Panel'>\n",
       "Dimensions: 2 (items) x 3 (major_axis) x 3 (minor_axis)\n",
       "Items axis: Jan to Feb\n",
       "Major_axis axis: 0 to 2\n",
       "Minor_axis axis: Item_Name to Item_Total"
      ]
     },
     "execution_count": 18,
     "metadata": {},
     "output_type": "execute_result"
    }
   ],
   "source": [
    "p = pnd.Panel(data = m3DimData, items = [\"Jan\", \"Feb\"], major_axis=list(range(3)),  minor_axis = [\"Item_Name\",\"Item_Price\",\"Item_Total\"])\n",
    "p"
   ]
  },
  {
   "cell_type": "markdown",
   "metadata": {},
   "source": [
    "<p>Создание панели через словарь</p>"
   ]
  },
  {
   "cell_type": "code",
   "execution_count": 19,
   "metadata": {
    "collapsed": false
   },
   "outputs": [
    {
     "data": {
      "text/plain": [
       "{'Feb': {'Item_Name': ['TV', 'Smartphone', 'Pendrive'],\n",
       "  'Item_Price': [90, 45, 12],\n",
       "  'Item_Total': [48, 12, 8]},\n",
       " 'Jan': {'Item_Name': ['TV', 'Smartphone', 'Pendrive'],\n",
       "  'Item_Price': [100, 50, 10],\n",
       "  'Item_Total': [40, 10, 10]}}"
      ]
     },
     "execution_count": 19,
     "metadata": {},
     "output_type": "execute_result"
    }
   ],
   "source": [
    "d3DimData = {\"Jan\": {\"Item_Name\":[\"TV\", \"Smartphone\", \"Pendrive\"],\n",
    "                    \"Item_Price\":[100, 50, 10], \n",
    "                    \"Item_Total\": [40, 10, 10]}, \n",
    "            \"Feb\": {\"Item_Name\":[\"TV\", \"Smartphone\", \"Pendrive\"],\n",
    "                    \"Item_Price\":[90, 45, 12], \n",
    "                    \"Item_Total\": [48, 12, 8]}}\n",
    "d3DimData"
   ]
  },
  {
   "cell_type": "code",
   "execution_count": 20,
   "metadata": {
    "collapsed": false
   },
   "outputs": [
    {
     "data": {
      "text/plain": [
       "<class 'pandas.core.panel.Panel'>\n",
       "Dimensions: 2 (items) x 3 (major_axis) x 3 (minor_axis)\n",
       "Items axis: Feb to Jan\n",
       "Major_axis axis: 0 to 2\n",
       "Minor_axis axis: Item_Name to Item_Total"
      ]
     },
     "execution_count": 20,
     "metadata": {},
     "output_type": "execute_result"
    }
   ],
   "source": [
    "p2 = pnd.Panel(data = d3DimData)\n",
    "p2"
   ]
  },
  {
   "cell_type": "markdown",
   "metadata": {},
   "source": [
    "<p>Обращение к таблицам <span style=\"font-weight:bold; color:green\">Panel</span></p>"
   ]
  },
  {
   "cell_type": "code",
   "execution_count": 21,
   "metadata": {
    "collapsed": false
   },
   "outputs": [
    {
     "data": {
      "text/html": [
       "<div>\n",
       "<table border=\"1\" class=\"dataframe\">\n",
       "  <thead>\n",
       "    <tr style=\"text-align: right;\">\n",
       "      <th></th>\n",
       "      <th>Item_Name</th>\n",
       "      <th>Item_Price</th>\n",
       "      <th>Item_Total</th>\n",
       "    </tr>\n",
       "  </thead>\n",
       "  <tbody>\n",
       "    <tr>\n",
       "      <th>0</th>\n",
       "      <td>TV</td>\n",
       "      <td>100</td>\n",
       "      <td>40</td>\n",
       "    </tr>\n",
       "    <tr>\n",
       "      <th>1</th>\n",
       "      <td>Smartphone</td>\n",
       "      <td>50</td>\n",
       "      <td>10</td>\n",
       "    </tr>\n",
       "    <tr>\n",
       "      <th>2</th>\n",
       "      <td>Pendrive</td>\n",
       "      <td>10</td>\n",
       "      <td>10</td>\n",
       "    </tr>\n",
       "  </tbody>\n",
       "</table>\n",
       "</div>"
      ],
      "text/plain": [
       "    Item_Name Item_Price Item_Total\n",
       "0          TV        100         40\n",
       "1  Smartphone         50         10\n",
       "2    Pendrive         10         10"
      ]
     },
     "execution_count": 21,
     "metadata": {},
     "output_type": "execute_result"
    }
   ],
   "source": [
    "p['Jan']"
   ]
  },
  {
   "cell_type": "code",
   "execution_count": 22,
   "metadata": {
    "collapsed": false
   },
   "outputs": [
    {
     "data": {
      "text/html": [
       "<div>\n",
       "<table border=\"1\" class=\"dataframe\">\n",
       "  <thead>\n",
       "    <tr style=\"text-align: right;\">\n",
       "      <th></th>\n",
       "      <th>Item_Name</th>\n",
       "      <th>Item_Price</th>\n",
       "      <th>Item_Total</th>\n",
       "    </tr>\n",
       "  </thead>\n",
       "  <tbody>\n",
       "    <tr>\n",
       "      <th>0</th>\n",
       "      <td>TV</td>\n",
       "      <td>100</td>\n",
       "      <td>40</td>\n",
       "    </tr>\n",
       "    <tr>\n",
       "      <th>1</th>\n",
       "      <td>Smartphone</td>\n",
       "      <td>50</td>\n",
       "      <td>10</td>\n",
       "    </tr>\n",
       "    <tr>\n",
       "      <th>2</th>\n",
       "      <td>Pendrive</td>\n",
       "      <td>10</td>\n",
       "      <td>10</td>\n",
       "    </tr>\n",
       "  </tbody>\n",
       "</table>\n",
       "</div>"
      ],
      "text/plain": [
       "    Item_Name Item_Price Item_Total\n",
       "0          TV        100         40\n",
       "1  Smartphone         50         10\n",
       "2    Pendrive         10         10"
      ]
     },
     "execution_count": 22,
     "metadata": {},
     "output_type": "execute_result"
    }
   ],
   "source": [
    "p2['Jan']"
   ]
  },
  {
   "cell_type": "code",
   "execution_count": 23,
   "metadata": {
    "collapsed": false
   },
   "outputs": [
    {
     "data": {
      "text/html": [
       "<div>\n",
       "<table border=\"1\" class=\"dataframe\">\n",
       "  <thead>\n",
       "    <tr style=\"text-align: right;\">\n",
       "      <th></th>\n",
       "      <th>Item_Name</th>\n",
       "      <th>Item_Price</th>\n",
       "      <th>Item_Total</th>\n",
       "    </tr>\n",
       "  </thead>\n",
       "  <tbody>\n",
       "    <tr>\n",
       "      <th>0</th>\n",
       "      <td>TV</td>\n",
       "      <td>90</td>\n",
       "      <td>48</td>\n",
       "    </tr>\n",
       "    <tr>\n",
       "      <th>1</th>\n",
       "      <td>Smartphone</td>\n",
       "      <td>45</td>\n",
       "      <td>12</td>\n",
       "    </tr>\n",
       "    <tr>\n",
       "      <th>2</th>\n",
       "      <td>Pendrive</td>\n",
       "      <td>12</td>\n",
       "      <td>8</td>\n",
       "    </tr>\n",
       "  </tbody>\n",
       "</table>\n",
       "</div>"
      ],
      "text/plain": [
       "    Item_Name Item_Price Item_Total\n",
       "0          TV         90         48\n",
       "1  Smartphone         45         12\n",
       "2    Pendrive         12          8"
      ]
     },
     "execution_count": 23,
     "metadata": {},
     "output_type": "execute_result"
    }
   ],
   "source": [
    "p['Feb']"
   ]
  },
  {
   "cell_type": "code",
   "execution_count": 24,
   "metadata": {
    "collapsed": false
   },
   "outputs": [
    {
     "data": {
      "text/html": [
       "<div>\n",
       "<table border=\"1\" class=\"dataframe\">\n",
       "  <thead>\n",
       "    <tr style=\"text-align: right;\">\n",
       "      <th></th>\n",
       "      <th>Item_Name</th>\n",
       "      <th>Item_Price</th>\n",
       "      <th>Item_Total</th>\n",
       "    </tr>\n",
       "  </thead>\n",
       "  <tbody>\n",
       "    <tr>\n",
       "      <th>0</th>\n",
       "      <td>TV</td>\n",
       "      <td>90</td>\n",
       "      <td>48</td>\n",
       "    </tr>\n",
       "    <tr>\n",
       "      <th>1</th>\n",
       "      <td>Smartphone</td>\n",
       "      <td>45</td>\n",
       "      <td>12</td>\n",
       "    </tr>\n",
       "    <tr>\n",
       "      <th>2</th>\n",
       "      <td>Pendrive</td>\n",
       "      <td>12</td>\n",
       "      <td>8</td>\n",
       "    </tr>\n",
       "  </tbody>\n",
       "</table>\n",
       "</div>"
      ],
      "text/plain": [
       "    Item_Name Item_Price Item_Total\n",
       "0          TV         90         48\n",
       "1  Smartphone         45         12\n",
       "2    Pendrive         12          8"
      ]
     },
     "execution_count": 24,
     "metadata": {},
     "output_type": "execute_result"
    }
   ],
   "source": [
    "p2['Feb']"
   ]
  },
  {
   "cell_type": "markdown",
   "metadata": {},
   "source": [
    "<a name=\"2\"></a>\n",
    "<div style=\"display:table; width:100%; padding-top:10px; padding-bottom:10px; border-bottom:1px solid lightgrey\">\n",
    "    <div style=\"display:table-row\">\n",
    "        <div style=\"display:table-cell; width:80%; font-size:14pt; font-weight:bold\">2. Первые шаги с <span style=\"font-weight:bold; color:green\">DataFrame</span></div>\n",
    "    \t<div style=\"display:table-cell; width:20%; text-align:center; background-color:whitesmoke; border:1px solid lightgrey\"><a href=\"#0\">К содержанию</a></div>\n",
    "    </div>\n",
    "</div>"
   ]
  },
  {
   "cell_type": "markdown",
   "metadata": {},
   "source": [
    "<div>\n",
    "<p><b>Рассматриваемые вопросы:</b></p>\n",
    "<p style=\"line-height:20pt\">\n",
    "a) создание <span style=\"font-weight:bold; color:green\">DataFrame</span>'а: <i>с использованием матрицы, списков, словаря, последовательностей</i><br> \n",
    "b) обращение к элементам<br> \n",
    "c) запись содержания <span style=\"font-weight:bold; color:green\">DataFrame</span>'а во внешний файл: <i><b>csv</b> формат данных</i><br> \n",
    "d) загрузка внешних данных в <span style=\"font-weight:bold; color:green\">DataFrame</span>: <i>обращение к ячейкам, изменение значений</i><br>\n",
    "</div>"
   ]
  },
  {
   "cell_type": "markdown",
   "metadata": {},
   "source": [
    "<a name = \"2a\"></a>\n",
    "<div style=\"padding-top:10px;\">\n",
    "    <div style=\"display: inline-block; font-style:italic; font-weight:bold; font-size:12pt\">a. Создание <span style=\"font-weight:bold; color:green\">DataFrame</span>'а</div>\n",
    "    <div style=\"display: inline-block; float:right; width:20%; text-align:center; border:1px solid lightgrey\">\n",
    "        <div style=\"display: inline-block; text-align:center; width:50%; background-color:whitesmoke;\"><a href=\"#2\">Назад</a></div><div style=\"display: inline-block; text-align:center; width:50%;\"><a href=\"#2b\">Далее</a></div>\n",
    "    </div>\n",
    "</div>"
   ]
  },
  {
   "cell_type": "markdown",
   "metadata": {},
   "source": [
    "<p>Создание <span style=\"font-weight:bold; color:green\">DataFrame</span>'а с использованием <i>матрицы</i></p>"
   ]
  },
  {
   "cell_type": "code",
   "execution_count": 25,
   "metadata": {
    "collapsed": false
   },
   "outputs": [
    {
     "data": {
      "text/plain": [
       "[['Dima', 'Moscow', 1988, 4, 'm'],\n",
       " ['Sveta', 'Kiev', 1999, 4, 'f'],\n",
       " ['Alex', 'Minsk', 1954, nan, 'm'],\n",
       " ['Ivan', 'St.Petersburg', 2005, 6, 'm'],\n",
       " ['Kate', 'London', 2001, nan, 'f'],\n",
       " ['Maria', 'New York', 1997, 7, 'f']]"
      ]
     },
     "execution_count": 25,
     "metadata": {},
     "output_type": "execute_result"
    }
   ],
   "source": [
    "matrix = [['Dima', 'Moscow', 1988, 4, 'm'],\n",
    " ['Sveta', 'Kiev', 1999, 4, 'f'],\n",
    " ['Alex', 'Minsk', 1954, np.NaN, 'm'],\n",
    " ['Ivan', 'St.Petersburg', 2005, 6, 'm'],\n",
    " ['Kate', 'London', 2001, np.NaN, 'f'],\n",
    " ['Maria', 'New York', 1997, 7, 'f']]\n",
    "matrix"
   ]
  },
  {
   "cell_type": "code",
   "execution_count": 26,
   "metadata": {
    "collapsed": false
   },
   "outputs": [
    {
     "data": {
      "text/html": [
       "<div>\n",
       "<table border=\"1\" class=\"dataframe\">\n",
       "  <thead>\n",
       "    <tr style=\"text-align: right;\">\n",
       "      <th></th>\n",
       "      <th>Name</th>\n",
       "      <th>City</th>\n",
       "      <th>Year</th>\n",
       "      <th>Grade</th>\n",
       "      <th>Gender</th>\n",
       "    </tr>\n",
       "  </thead>\n",
       "  <tbody>\n",
       "    <tr>\n",
       "      <th>0</th>\n",
       "      <td>Dima</td>\n",
       "      <td>Moscow</td>\n",
       "      <td>1988</td>\n",
       "      <td>4.0</td>\n",
       "      <td>m</td>\n",
       "    </tr>\n",
       "    <tr>\n",
       "      <th>1</th>\n",
       "      <td>Sveta</td>\n",
       "      <td>Kiev</td>\n",
       "      <td>1999</td>\n",
       "      <td>4.0</td>\n",
       "      <td>f</td>\n",
       "    </tr>\n",
       "    <tr>\n",
       "      <th>2</th>\n",
       "      <td>Alex</td>\n",
       "      <td>Minsk</td>\n",
       "      <td>1954</td>\n",
       "      <td>NaN</td>\n",
       "      <td>m</td>\n",
       "    </tr>\n",
       "    <tr>\n",
       "      <th>3</th>\n",
       "      <td>Ivan</td>\n",
       "      <td>St.Petersburg</td>\n",
       "      <td>2005</td>\n",
       "      <td>6.0</td>\n",
       "      <td>m</td>\n",
       "    </tr>\n",
       "    <tr>\n",
       "      <th>4</th>\n",
       "      <td>Kate</td>\n",
       "      <td>London</td>\n",
       "      <td>2001</td>\n",
       "      <td>NaN</td>\n",
       "      <td>f</td>\n",
       "    </tr>\n",
       "    <tr>\n",
       "      <th>5</th>\n",
       "      <td>Maria</td>\n",
       "      <td>New York</td>\n",
       "      <td>1997</td>\n",
       "      <td>7.0</td>\n",
       "      <td>f</td>\n",
       "    </tr>\n",
       "  </tbody>\n",
       "</table>\n",
       "</div>"
      ],
      "text/plain": [
       "    Name           City  Year  Grade Gender\n",
       "0   Dima         Moscow  1988    4.0      m\n",
       "1  Sveta           Kiev  1999    4.0      f\n",
       "2   Alex          Minsk  1954    NaN      m\n",
       "3   Ivan  St.Petersburg  2005    6.0      m\n",
       "4   Kate         London  2001    NaN      f\n",
       "5  Maria       New York  1997    7.0      f"
      ]
     },
     "execution_count": 26,
     "metadata": {},
     "output_type": "execute_result"
    }
   ],
   "source": [
    "df = pnd.DataFrame(data = matrix, columns = [\"Name\", \"City\", \"Year\", \"Grade\", \"Gender\"])\n",
    "df"
   ]
  },
  {
   "cell_type": "markdown",
   "metadata": {},
   "source": [
    "<p>Создание <span style=\"font-weight:bold; color:green\">DataFrame</span>'а с использованием <i>списков</i> и <b>zip()</b></p>"
   ]
  },
  {
   "cell_type": "code",
   "execution_count": 27,
   "metadata": {
    "collapsed": false
   },
   "outputs": [
    {
     "data": {
      "text/plain": [
       "[('Dima', 'Moscow', 1988, 4, 'm'),\n",
       " ('Sveta', 'Kiev', 1999, 4, 'f'),\n",
       " ('Alex', 'Minsk', 1954, nan, 'm'),\n",
       " ('Ivan', 'St.Petersburg', 2005, 6, 'm'),\n",
       " ('Kate', 'London', 2001, nan, 'f'),\n",
       " ('Maria', 'New York', 1997, 7, 'f')]"
      ]
     },
     "execution_count": 27,
     "metadata": {},
     "output_type": "execute_result"
    }
   ],
   "source": [
    "names = [\"Dima\", \"Sveta\",\"Alex\", \"Ivan\", \"Kate\", \"Maria\"]\n",
    "cities = [\"Moscow\", \"Kiev\", \"Minsk\", \"St.Petersburg\", \"London\", \"New York\"]\n",
    "year = [1988, 1999, 1954, 2005, 2001, 1997]\n",
    "grades = [4, 4, np.NaN, 6, np.NaN, 7]\n",
    "gender = [\"m\", \"f\", \"m\", \"m\", \"f\", \"f\"]\n",
    "\n",
    "rows = list(zip(names, cities, year, grades, gender))\n",
    "rows"
   ]
  },
  {
   "cell_type": "code",
   "execution_count": 28,
   "metadata": {
    "collapsed": false
   },
   "outputs": [
    {
     "data": {
      "text/html": [
       "<div>\n",
       "<table border=\"1\" class=\"dataframe\">\n",
       "  <thead>\n",
       "    <tr style=\"text-align: right;\">\n",
       "      <th></th>\n",
       "      <th>Name</th>\n",
       "      <th>City</th>\n",
       "      <th>Year</th>\n",
       "      <th>Grade</th>\n",
       "      <th>Gender</th>\n",
       "    </tr>\n",
       "  </thead>\n",
       "  <tbody>\n",
       "    <tr>\n",
       "      <th>0</th>\n",
       "      <td>Dima</td>\n",
       "      <td>Moscow</td>\n",
       "      <td>1988</td>\n",
       "      <td>4.0</td>\n",
       "      <td>m</td>\n",
       "    </tr>\n",
       "    <tr>\n",
       "      <th>1</th>\n",
       "      <td>Sveta</td>\n",
       "      <td>Kiev</td>\n",
       "      <td>1999</td>\n",
       "      <td>4.0</td>\n",
       "      <td>f</td>\n",
       "    </tr>\n",
       "    <tr>\n",
       "      <th>2</th>\n",
       "      <td>Alex</td>\n",
       "      <td>Minsk</td>\n",
       "      <td>1954</td>\n",
       "      <td>NaN</td>\n",
       "      <td>m</td>\n",
       "    </tr>\n",
       "    <tr>\n",
       "      <th>3</th>\n",
       "      <td>Ivan</td>\n",
       "      <td>St.Petersburg</td>\n",
       "      <td>2005</td>\n",
       "      <td>6.0</td>\n",
       "      <td>m</td>\n",
       "    </tr>\n",
       "    <tr>\n",
       "      <th>4</th>\n",
       "      <td>Kate</td>\n",
       "      <td>London</td>\n",
       "      <td>2001</td>\n",
       "      <td>NaN</td>\n",
       "      <td>f</td>\n",
       "    </tr>\n",
       "    <tr>\n",
       "      <th>5</th>\n",
       "      <td>Maria</td>\n",
       "      <td>New York</td>\n",
       "      <td>1997</td>\n",
       "      <td>7.0</td>\n",
       "      <td>f</td>\n",
       "    </tr>\n",
       "  </tbody>\n",
       "</table>\n",
       "</div>"
      ],
      "text/plain": [
       "    Name           City  Year  Grade Gender\n",
       "0   Dima         Moscow  1988    4.0      m\n",
       "1  Sveta           Kiev  1999    4.0      f\n",
       "2   Alex          Minsk  1954    NaN      m\n",
       "3   Ivan  St.Petersburg  2005    6.0      m\n",
       "4   Kate         London  2001    NaN      f\n",
       "5  Maria       New York  1997    7.0      f"
      ]
     },
     "execution_count": 28,
     "metadata": {},
     "output_type": "execute_result"
    }
   ],
   "source": [
    "df = pnd.DataFrame(data = rows, columns = [\"Name\", \"City\", \"Year\", \"Grade\", \"Gender\"])\n",
    "df"
   ]
  },
  {
   "cell_type": "markdown",
   "metadata": {},
   "source": [
    "<p>Создание <span style=\"font-weight:bold; color:green\">DataFrame</span>'а с использованием <i>списков</i> и <i>словаря</i></p>"
   ]
  },
  {
   "cell_type": "code",
   "execution_count": 29,
   "metadata": {
    "collapsed": false
   },
   "outputs": [
    {
     "data": {
      "text/plain": [
       "{'City': ['Moscow', 'Kiev', 'Minsk', 'St.Petersburg', 'London', 'New York'],\n",
       " 'Gender': ['m', 'f', 'm', 'm', 'f', 'f'],\n",
       " 'Grade': [4, 4, nan, 6, nan, 7],\n",
       " 'Name': ['Dima', 'Sveta', 'Alex', 'Ivan', 'Kate', 'Maria'],\n",
       " 'Year': [1988, 1999, 1954, 2005, 2001, 1997]}"
      ]
     },
     "execution_count": 29,
     "metadata": {},
     "output_type": "execute_result"
    }
   ],
   "source": [
    "dictL = {\"Name\":[\"Dima\", \"Sveta\",\"Alex\", \"Ivan\", \"Kate\", \"Maria\"],\n",
    "        \"City\":[\"Moscow\", \"Kiev\", \"Minsk\", \"St.Petersburg\", \"London\", \"New York\"],\n",
    "        \"Year\":[1988, 1999, 1954, 2005, 2001, 1997],\n",
    "        \"Grade\":[4, 4, np.NaN, 6, np.NaN, 7],\n",
    "        \"Gender\":[\"m\", \"f\", \"m\", \"m\", \"f\", \"f\"]}\n",
    "\n",
    "dictL"
   ]
  },
  {
   "cell_type": "code",
   "execution_count": 30,
   "metadata": {
    "collapsed": false
   },
   "outputs": [
    {
     "data": {
      "text/html": [
       "<div>\n",
       "<table border=\"1\" class=\"dataframe\">\n",
       "  <thead>\n",
       "    <tr style=\"text-align: right;\">\n",
       "      <th></th>\n",
       "      <th>City</th>\n",
       "      <th>Gender</th>\n",
       "      <th>Grade</th>\n",
       "      <th>Name</th>\n",
       "      <th>Year</th>\n",
       "    </tr>\n",
       "  </thead>\n",
       "  <tbody>\n",
       "    <tr>\n",
       "      <th>0</th>\n",
       "      <td>Moscow</td>\n",
       "      <td>m</td>\n",
       "      <td>4.0</td>\n",
       "      <td>Dima</td>\n",
       "      <td>1988</td>\n",
       "    </tr>\n",
       "    <tr>\n",
       "      <th>1</th>\n",
       "      <td>Kiev</td>\n",
       "      <td>f</td>\n",
       "      <td>4.0</td>\n",
       "      <td>Sveta</td>\n",
       "      <td>1999</td>\n",
       "    </tr>\n",
       "    <tr>\n",
       "      <th>2</th>\n",
       "      <td>Minsk</td>\n",
       "      <td>m</td>\n",
       "      <td>NaN</td>\n",
       "      <td>Alex</td>\n",
       "      <td>1954</td>\n",
       "    </tr>\n",
       "    <tr>\n",
       "      <th>3</th>\n",
       "      <td>St.Petersburg</td>\n",
       "      <td>m</td>\n",
       "      <td>6.0</td>\n",
       "      <td>Ivan</td>\n",
       "      <td>2005</td>\n",
       "    </tr>\n",
       "    <tr>\n",
       "      <th>4</th>\n",
       "      <td>London</td>\n",
       "      <td>f</td>\n",
       "      <td>NaN</td>\n",
       "      <td>Kate</td>\n",
       "      <td>2001</td>\n",
       "    </tr>\n",
       "    <tr>\n",
       "      <th>5</th>\n",
       "      <td>New York</td>\n",
       "      <td>f</td>\n",
       "      <td>7.0</td>\n",
       "      <td>Maria</td>\n",
       "      <td>1997</td>\n",
       "    </tr>\n",
       "  </tbody>\n",
       "</table>\n",
       "</div>"
      ],
      "text/plain": [
       "            City Gender  Grade   Name  Year\n",
       "0         Moscow      m    4.0   Dima  1988\n",
       "1           Kiev      f    4.0  Sveta  1999\n",
       "2          Minsk      m    NaN   Alex  1954\n",
       "3  St.Petersburg      m    6.0   Ivan  2005\n",
       "4         London      f    NaN   Kate  2001\n",
       "5       New York      f    7.0  Maria  1997"
      ]
     },
     "execution_count": 30,
     "metadata": {},
     "output_type": "execute_result"
    }
   ],
   "source": [
    "df = pnd.DataFrame(data = dictL)\n",
    "df"
   ]
  },
  {
   "cell_type": "markdown",
   "metadata": {},
   "source": [
    "<p>Чтобы указать последовательность столбцов, следует воспользоваться параметром <i>columns</i></p>"
   ]
  },
  {
   "cell_type": "code",
   "execution_count": 31,
   "metadata": {
    "collapsed": false
   },
   "outputs": [
    {
     "data": {
      "text/html": [
       "<div>\n",
       "<table border=\"1\" class=\"dataframe\">\n",
       "  <thead>\n",
       "    <tr style=\"text-align: right;\">\n",
       "      <th></th>\n",
       "      <th>Name</th>\n",
       "      <th>City</th>\n",
       "      <th>Year</th>\n",
       "      <th>Grade</th>\n",
       "      <th>Gender</th>\n",
       "    </tr>\n",
       "  </thead>\n",
       "  <tbody>\n",
       "    <tr>\n",
       "      <th>0</th>\n",
       "      <td>Dima</td>\n",
       "      <td>Moscow</td>\n",
       "      <td>1988</td>\n",
       "      <td>4.0</td>\n",
       "      <td>m</td>\n",
       "    </tr>\n",
       "    <tr>\n",
       "      <th>1</th>\n",
       "      <td>Sveta</td>\n",
       "      <td>Kiev</td>\n",
       "      <td>1999</td>\n",
       "      <td>4.0</td>\n",
       "      <td>f</td>\n",
       "    </tr>\n",
       "    <tr>\n",
       "      <th>2</th>\n",
       "      <td>Alex</td>\n",
       "      <td>Minsk</td>\n",
       "      <td>1954</td>\n",
       "      <td>NaN</td>\n",
       "      <td>m</td>\n",
       "    </tr>\n",
       "    <tr>\n",
       "      <th>3</th>\n",
       "      <td>Ivan</td>\n",
       "      <td>St.Petersburg</td>\n",
       "      <td>2005</td>\n",
       "      <td>6.0</td>\n",
       "      <td>m</td>\n",
       "    </tr>\n",
       "    <tr>\n",
       "      <th>4</th>\n",
       "      <td>Kate</td>\n",
       "      <td>London</td>\n",
       "      <td>2001</td>\n",
       "      <td>NaN</td>\n",
       "      <td>f</td>\n",
       "    </tr>\n",
       "    <tr>\n",
       "      <th>5</th>\n",
       "      <td>Maria</td>\n",
       "      <td>New York</td>\n",
       "      <td>1997</td>\n",
       "      <td>7.0</td>\n",
       "      <td>f</td>\n",
       "    </tr>\n",
       "  </tbody>\n",
       "</table>\n",
       "</div>"
      ],
      "text/plain": [
       "    Name           City  Year  Grade Gender\n",
       "0   Dima         Moscow  1988    4.0      m\n",
       "1  Sveta           Kiev  1999    4.0      f\n",
       "2   Alex          Minsk  1954    NaN      m\n",
       "3   Ivan  St.Petersburg  2005    6.0      m\n",
       "4   Kate         London  2001    NaN      f\n",
       "5  Maria       New York  1997    7.0      f"
      ]
     },
     "execution_count": 31,
     "metadata": {},
     "output_type": "execute_result"
    }
   ],
   "source": [
    "df = pnd.DataFrame(data = dictL, columns = [\"Name\", \"City\", \"Year\", \"Grade\", \"Gender\"])\n",
    "df"
   ]
  },
  {
   "cell_type": "markdown",
   "metadata": {},
   "source": [
    "<p>Создание <span style=\"font-weight:bold; color:green\">DataFrame</span>'а с использованием <i>последовательностей</i></p>"
   ]
  },
  {
   "cell_type": "code",
   "execution_count": 32,
   "metadata": {
    "collapsed": false
   },
   "outputs": [
    {
     "data": {
      "text/html": [
       "<div>\n",
       "<table border=\"1\" class=\"dataframe\">\n",
       "  <thead>\n",
       "    <tr style=\"text-align: right;\">\n",
       "      <th></th>\n",
       "      <th>0</th>\n",
       "      <th>1</th>\n",
       "      <th>2</th>\n",
       "      <th>3</th>\n",
       "      <th>4</th>\n",
       "      <th>5</th>\n",
       "    </tr>\n",
       "  </thead>\n",
       "  <tbody>\n",
       "    <tr>\n",
       "      <th>Name</th>\n",
       "      <td>Dima</td>\n",
       "      <td>Sveta</td>\n",
       "      <td>Alex</td>\n",
       "      <td>Ivan</td>\n",
       "      <td>Kate</td>\n",
       "      <td>Maria</td>\n",
       "    </tr>\n",
       "    <tr>\n",
       "      <th>City</th>\n",
       "      <td>Moscow</td>\n",
       "      <td>Kiev</td>\n",
       "      <td>Minsk</td>\n",
       "      <td>St.Petersburg</td>\n",
       "      <td>London</td>\n",
       "      <td>New York</td>\n",
       "    </tr>\n",
       "    <tr>\n",
       "      <th>Year</th>\n",
       "      <td>1988</td>\n",
       "      <td>1999</td>\n",
       "      <td>1954</td>\n",
       "      <td>2005</td>\n",
       "      <td>2001</td>\n",
       "      <td>1997</td>\n",
       "    </tr>\n",
       "    <tr>\n",
       "      <th>Grade</th>\n",
       "      <td>4</td>\n",
       "      <td>4</td>\n",
       "      <td>NaN</td>\n",
       "      <td>6</td>\n",
       "      <td>NaN</td>\n",
       "      <td>7</td>\n",
       "    </tr>\n",
       "    <tr>\n",
       "      <th>Gender</th>\n",
       "      <td>m</td>\n",
       "      <td>f</td>\n",
       "      <td>m</td>\n",
       "      <td>m</td>\n",
       "      <td>f</td>\n",
       "      <td>f</td>\n",
       "    </tr>\n",
       "  </tbody>\n",
       "</table>\n",
       "</div>"
      ],
      "text/plain": [
       "             0      1      2              3       4         5\n",
       "Name      Dima  Sveta   Alex           Ivan    Kate     Maria\n",
       "City    Moscow   Kiev  Minsk  St.Petersburg  London  New York\n",
       "Year      1988   1999   1954           2005    2001      1997\n",
       "Grade        4      4    NaN              6     NaN         7\n",
       "Gender       m      f      m              m       f         f"
      ]
     },
     "execution_count": 32,
     "metadata": {},
     "output_type": "execute_result"
    }
   ],
   "source": [
    "s1 = pnd.Series(data = ['Dima', 'Sveta', 'Alex', 'Ivan', 'Kate', 'Maria'], name = 'Name')\n",
    "s2 = pnd.Series(data = [\"Moscow\", \"Kiev\", \"Minsk\", \"St.Petersburg\", \"London\", \"New York\"], name = 'City')\n",
    "s3 = pnd.Series(data = [1988, 1999, 1954, 2005, 2001, 1997], name = 'Year')\n",
    "s4 = pnd.Series(data = [4, 4, np.NaN, 6, np.NaN, 7], name = 'Grade')\n",
    "s5 = pnd.Series(data = ['m', 'f', 'm', 'm', 'f', 'f'], name = 'Gender')\n",
    "\n",
    "df1 = pnd.DataFrame([s1,s2,s3,s4,s5])\n",
    "df1"
   ]
  },
  {
   "cell_type": "code",
   "execution_count": 33,
   "metadata": {
    "collapsed": false
   },
   "outputs": [
    {
     "data": {
      "text/html": [
       "<div>\n",
       "<table border=\"1\" class=\"dataframe\">\n",
       "  <thead>\n",
       "    <tr style=\"text-align: right;\">\n",
       "      <th></th>\n",
       "      <th>Name</th>\n",
       "      <th>City</th>\n",
       "      <th>Year</th>\n",
       "      <th>Grade</th>\n",
       "      <th>Gender</th>\n",
       "    </tr>\n",
       "  </thead>\n",
       "  <tbody>\n",
       "    <tr>\n",
       "      <th>0</th>\n",
       "      <td>Dima</td>\n",
       "      <td>Moscow</td>\n",
       "      <td>1988</td>\n",
       "      <td>4</td>\n",
       "      <td>m</td>\n",
       "    </tr>\n",
       "    <tr>\n",
       "      <th>1</th>\n",
       "      <td>Sveta</td>\n",
       "      <td>Kiev</td>\n",
       "      <td>1999</td>\n",
       "      <td>4</td>\n",
       "      <td>f</td>\n",
       "    </tr>\n",
       "    <tr>\n",
       "      <th>2</th>\n",
       "      <td>Alex</td>\n",
       "      <td>Minsk</td>\n",
       "      <td>1954</td>\n",
       "      <td>NaN</td>\n",
       "      <td>m</td>\n",
       "    </tr>\n",
       "    <tr>\n",
       "      <th>3</th>\n",
       "      <td>Ivan</td>\n",
       "      <td>St.Petersburg</td>\n",
       "      <td>2005</td>\n",
       "      <td>6</td>\n",
       "      <td>m</td>\n",
       "    </tr>\n",
       "    <tr>\n",
       "      <th>4</th>\n",
       "      <td>Kate</td>\n",
       "      <td>London</td>\n",
       "      <td>2001</td>\n",
       "      <td>NaN</td>\n",
       "      <td>f</td>\n",
       "    </tr>\n",
       "    <tr>\n",
       "      <th>5</th>\n",
       "      <td>Maria</td>\n",
       "      <td>New York</td>\n",
       "      <td>1997</td>\n",
       "      <td>7</td>\n",
       "      <td>f</td>\n",
       "    </tr>\n",
       "  </tbody>\n",
       "</table>\n",
       "</div>"
      ],
      "text/plain": [
       "    Name           City  Year Grade Gender\n",
       "0   Dima         Moscow  1988     4      m\n",
       "1  Sveta           Kiev  1999     4      f\n",
       "2   Alex          Minsk  1954   NaN      m\n",
       "3   Ivan  St.Petersburg  2005     6      m\n",
       "4   Kate         London  2001   NaN      f\n",
       "5  Maria       New York  1997     7      f"
      ]
     },
     "execution_count": 33,
     "metadata": {},
     "output_type": "execute_result"
    }
   ],
   "source": [
    "df1 = df1.T\n",
    "df1"
   ]
  },
  {
   "cell_type": "markdown",
   "metadata": {},
   "source": [
    "Чтобы изменить стандартную индексацию от 0, можно воспользоваться следующим выражением"
   ]
  },
  {
   "cell_type": "code",
   "execution_count": 34,
   "metadata": {
    "collapsed": false
   },
   "outputs": [
    {
     "data": {
      "text/html": [
       "<div>\n",
       "<table border=\"1\" class=\"dataframe\">\n",
       "  <thead>\n",
       "    <tr style=\"text-align: right;\">\n",
       "      <th></th>\n",
       "      <th>Name</th>\n",
       "      <th>City</th>\n",
       "      <th>Year</th>\n",
       "      <th>Grade</th>\n",
       "      <th>Gender</th>\n",
       "    </tr>\n",
       "  </thead>\n",
       "  <tbody>\n",
       "    <tr>\n",
       "      <th>1</th>\n",
       "      <td>Dima</td>\n",
       "      <td>Moscow</td>\n",
       "      <td>1988</td>\n",
       "      <td>4.0</td>\n",
       "      <td>m</td>\n",
       "    </tr>\n",
       "    <tr>\n",
       "      <th>2</th>\n",
       "      <td>Sveta</td>\n",
       "      <td>Kiev</td>\n",
       "      <td>1999</td>\n",
       "      <td>4.0</td>\n",
       "      <td>f</td>\n",
       "    </tr>\n",
       "    <tr>\n",
       "      <th>3</th>\n",
       "      <td>Alex</td>\n",
       "      <td>Minsk</td>\n",
       "      <td>1954</td>\n",
       "      <td>NaN</td>\n",
       "      <td>m</td>\n",
       "    </tr>\n",
       "    <tr>\n",
       "      <th>4</th>\n",
       "      <td>Ivan</td>\n",
       "      <td>St.Petersburg</td>\n",
       "      <td>2005</td>\n",
       "      <td>6.0</td>\n",
       "      <td>m</td>\n",
       "    </tr>\n",
       "    <tr>\n",
       "      <th>5</th>\n",
       "      <td>Kate</td>\n",
       "      <td>London</td>\n",
       "      <td>2001</td>\n",
       "      <td>NaN</td>\n",
       "      <td>f</td>\n",
       "    </tr>\n",
       "    <tr>\n",
       "      <th>6</th>\n",
       "      <td>Maria</td>\n",
       "      <td>New York</td>\n",
       "      <td>1997</td>\n",
       "      <td>7.0</td>\n",
       "      <td>f</td>\n",
       "    </tr>\n",
       "  </tbody>\n",
       "</table>\n",
       "</div>"
      ],
      "text/plain": [
       "    Name           City  Year  Grade Gender\n",
       "1   Dima         Moscow  1988    4.0      m\n",
       "2  Sveta           Kiev  1999    4.0      f\n",
       "3   Alex          Minsk  1954    NaN      m\n",
       "4   Ivan  St.Petersburg  2005    6.0      m\n",
       "5   Kate         London  2001    NaN      f\n",
       "6  Maria       New York  1997    7.0      f"
      ]
     },
     "execution_count": 34,
     "metadata": {},
     "output_type": "execute_result"
    }
   ],
   "source": [
    "df.index = df.index + 1 #индексация будет от 1\n",
    "df"
   ]
  },
  {
   "cell_type": "markdown",
   "metadata": {},
   "source": [
    "<p>Доступ к индексам</p>"
   ]
  },
  {
   "cell_type": "code",
   "execution_count": 35,
   "metadata": {
    "collapsed": false
   },
   "outputs": [
    {
     "data": {
      "text/plain": [
       "RangeIndex(start=1, stop=7, step=1)"
      ]
     },
     "execution_count": 35,
     "metadata": {},
     "output_type": "execute_result"
    }
   ],
   "source": [
    "df.index"
   ]
  },
  {
   "cell_type": "markdown",
   "metadata": {},
   "source": [
    "<p>Доступ к именам столбцов</p>"
   ]
  },
  {
   "cell_type": "code",
   "execution_count": 36,
   "metadata": {
    "collapsed": false
   },
   "outputs": [
    {
     "data": {
      "text/plain": [
       "Index(['Name', 'City', 'Year', 'Grade', 'Gender'], dtype='object')"
      ]
     },
     "execution_count": 36,
     "metadata": {},
     "output_type": "execute_result"
    }
   ],
   "source": [
    "df.columns"
   ]
  },
  {
   "cell_type": "markdown",
   "metadata": {},
   "source": [
    "<a name = \"2b\"></a>\n",
    "<div style=\"padding-top:10px;\">\n",
    "    <div style=\"display: inline-block; font-style:italic; font-weight:bold; font-size:12pt\">b. Обращение к элементам <span style=\"font-weight:bold; color:green\">DataFrame</span></div>\n",
    "    <div style=\"display: inline-block; float:right; width:20%; text-align:center; border:1px solid lightgrey\">\n",
    "        <div style=\"display: inline-block; text-align:center; width:50%; background-color:whitesmoke;\"><a href=\"#2a\">Назад</a></div><div style=\"display: inline-block; text-align:center; width:50%;\"><a href=\"#2c\">Далее</a></div>\n",
    "    </div>\n",
    "</div>"
   ]
  },
  {
   "cell_type": "markdown",
   "metadata": {},
   "source": [
    "<p>Обращение к элементу по <b>индексу</b> строки и имени столбца</p>"
   ]
  },
  {
   "cell_type": "code",
   "execution_count": 37,
   "metadata": {
    "collapsed": false
   },
   "outputs": [
    {
     "data": {
      "text/plain": [
       "'Kiev'"
      ]
     },
     "execution_count": 37,
     "metadata": {},
     "output_type": "execute_result"
    }
   ],
   "source": [
    "df.loc[2,\"City\"]"
   ]
  },
  {
   "cell_type": "code",
   "execution_count": 38,
   "metadata": {
    "collapsed": false
   },
   "outputs": [
    {
     "data": {
      "text/plain": [
       "'Kiev'"
      ]
     },
     "execution_count": 38,
     "metadata": {},
     "output_type": "execute_result"
    }
   ],
   "source": [
    "df.ix[2,\"City\"]"
   ]
  },
  {
   "cell_type": "markdown",
   "metadata": {},
   "source": [
    "<p>Обращение к элементу по <b>индексу</b> строки и номеру столбца</p>"
   ]
  },
  {
   "cell_type": "code",
   "execution_count": 39,
   "metadata": {
    "collapsed": false
   },
   "outputs": [
    {
     "data": {
      "text/plain": [
       "'Kiev'"
      ]
     },
     "execution_count": 39,
     "metadata": {},
     "output_type": "execute_result"
    }
   ],
   "source": [
    "df.ix[2,1]"
   ]
  },
  {
   "cell_type": "markdown",
   "metadata": {},
   "source": [
    "<p>Обращение к элементу по <b>номеру</b> строки и номеру столбца</p>"
   ]
  },
  {
   "cell_type": "code",
   "execution_count": 40,
   "metadata": {
    "collapsed": false
   },
   "outputs": [
    {
     "data": {
      "text/plain": [
       "'Minsk'"
      ]
     },
     "execution_count": 40,
     "metadata": {},
     "output_type": "execute_result"
    }
   ],
   "source": [
    "df.iloc[2,1]"
   ]
  },
  {
   "cell_type": "markdown",
   "metadata": {},
   "source": [
    "<a name = \"2c\"></a>\n",
    "<div style=\"padding-top:10px;\">\n",
    "    <div style=\"display: inline-block; font-style:italic; font-weight:bold; font-size:12pt\">c. Запись содержания <span style=\"font-weight:bold; color:green\">DataFrame</span> во внешний файл</div>\n",
    "    <div style=\"display: inline-block; float:right; width:20%; text-align:center; border:1px solid lightgrey\">\n",
    "        <div style=\"display: inline-block; text-align:center; width:50%; background-color:whitesmoke;\"><a href=\"#2b\">Назад</a></div><div style=\"display: inline-block; text-align:center; width:50%;\"><a href=\"#2d\">Далее</a></div>\n",
    "    </div>\n",
    "</div>"
   ]
  },
  {
   "cell_type": "markdown",
   "metadata": {},
   "source": [
    "<p>Pandas позволяет работать с различными форматами файлов, такими как csv, excel, xml, json и др. Более подробно <a href = \"http://pandas.pydata.org/pandas-docs/stable/io.html\">здесь</a></p>\n",
    "<p>В качестве примера далее рассматривается небольшой пример того, как значения <span style=\"font-weight:bold; color:green\">DataFrame</span>'а записать во внешний файл csv, а затем загрузить из него данные обратно в <span style=\"font-weight:bold; color:green\">DataFrame</span></p>"
   ]
  },
  {
   "cell_type": "markdown",
   "metadata": {},
   "source": [
    "<p>Запись данных в файл <i>csv</i></p>"
   ]
  },
  {
   "cell_type": "code",
   "execution_count": 41,
   "metadata": {
    "collapsed": false
   },
   "outputs": [],
   "source": [
    "df.to_csv(\"testFile.csv\", index = False, header = True)"
   ]
  },
  {
   "cell_type": "markdown",
   "metadata": {},
   "source": [
    "<a name = \"2d\"></a>\n",
    "<div style=\"padding-top:10px;\">\n",
    "    <div style=\"display: inline-block; font-style:italic; font-weight:bold; font-size:12pt\">d. Загрузка внешних данных в <span style=\"font-weight:bold; color:green\">DataFrame</span></div>\n",
    "    <div style=\"display: inline-block; float:right; width:20%; text-align:center; border:1px solid lightgrey\">\n",
    "        <div style=\"display: inline-block; text-align:center; width:50%; background-color:whitesmoke;\"><a href=\"#2c\">Назад</a></div><div style=\"display: inline-block; text-align:center; width:50%;\"><a href=\"#3\">Далее</a></div>\n",
    "    </div>\n",
    "</div>"
   ]
  },
  {
   "cell_type": "code",
   "execution_count": 42,
   "metadata": {
    "collapsed": false
   },
   "outputs": [
    {
     "data": {
      "text/html": [
       "<div>\n",
       "<table border=\"1\" class=\"dataframe\">\n",
       "  <thead>\n",
       "    <tr style=\"text-align: right;\">\n",
       "      <th></th>\n",
       "      <th>Name</th>\n",
       "      <th>City</th>\n",
       "      <th>Year</th>\n",
       "      <th>Grade</th>\n",
       "      <th>Gender</th>\n",
       "    </tr>\n",
       "  </thead>\n",
       "  <tbody>\n",
       "    <tr>\n",
       "      <th>0</th>\n",
       "      <td>Dima</td>\n",
       "      <td>Moscow</td>\n",
       "      <td>1988</td>\n",
       "      <td>4.0</td>\n",
       "      <td>m</td>\n",
       "    </tr>\n",
       "    <tr>\n",
       "      <th>1</th>\n",
       "      <td>Sveta</td>\n",
       "      <td>Kiev</td>\n",
       "      <td>1999</td>\n",
       "      <td>4.0</td>\n",
       "      <td>f</td>\n",
       "    </tr>\n",
       "    <tr>\n",
       "      <th>2</th>\n",
       "      <td>Alex</td>\n",
       "      <td>Minsk</td>\n",
       "      <td>1954</td>\n",
       "      <td>NaN</td>\n",
       "      <td>m</td>\n",
       "    </tr>\n",
       "    <tr>\n",
       "      <th>3</th>\n",
       "      <td>Ivan</td>\n",
       "      <td>St.Petersburg</td>\n",
       "      <td>2005</td>\n",
       "      <td>6.0</td>\n",
       "      <td>m</td>\n",
       "    </tr>\n",
       "    <tr>\n",
       "      <th>4</th>\n",
       "      <td>Kate</td>\n",
       "      <td>London</td>\n",
       "      <td>2001</td>\n",
       "      <td>NaN</td>\n",
       "      <td>f</td>\n",
       "    </tr>\n",
       "    <tr>\n",
       "      <th>5</th>\n",
       "      <td>Maria</td>\n",
       "      <td>New York</td>\n",
       "      <td>1997</td>\n",
       "      <td>7.0</td>\n",
       "      <td>f</td>\n",
       "    </tr>\n",
       "  </tbody>\n",
       "</table>\n",
       "</div>"
      ],
      "text/plain": [
       "    Name           City  Year  Grade Gender\n",
       "0   Dima         Moscow  1988    4.0      m\n",
       "1  Sveta           Kiev  1999    4.0      f\n",
       "2   Alex          Minsk  1954    NaN      m\n",
       "3   Ivan  St.Petersburg  2005    6.0      m\n",
       "4   Kate         London  2001    NaN      f\n",
       "5  Maria       New York  1997    7.0      f"
      ]
     },
     "execution_count": 42,
     "metadata": {},
     "output_type": "execute_result"
    }
   ],
   "source": [
    "df1 = pnd.read_csv(\"testFile.csv\")\n",
    "df1"
   ]
  },
  {
   "cell_type": "markdown",
   "metadata": {},
   "source": [
    "<a name = \"3\"></a>\n",
    "<div style=\"padding-top:10px;\">\n",
    "    <div style=\"display: inline-block; font-size:14pt; font-weight:bold\">3. Манипулирование <span style=\"font-weight:bold; color:green\">DataFrame</span>'ми</div>\n",
    "    <div style=\"display: inline-block; float:right; width:20%; text-align:center; background-color:whitesmoke; border:1px solid lightgrey\"><a href=\"#0\">К содержанию</a></div>\n",
    "</div>\n",
    "\n",
    "<div style=\"padding-bottom:10px; border-bottom:1px solid lightgrey\"></div>"
   ]
  },
  {
   "cell_type": "markdown",
   "metadata": {},
   "source": [
    "<div>\n",
    "<p><b>Рассматриваемые вопросы:</b></p>\n",
    "<p style=\"line-height:20pt\">\n",
    "a) работа со столбцами: <i>выбор данных по столбцам, добавление/удаление столбца</i><br> \n",
    "b) работа со строками: <i>выбор строк по индексу, использование условий, добавление/удаление строк</i><br> \n",
    "c) работа с ячейками: <i>обращение к ячейкам, изменение значений</i><br>\n",
    "d) использованием метода groupby для группировки<br>\n",
    "e) сортировка строк<br>\n",
    "f) формирование сложных индексов<br>\n",
    "g) объединение нескольких <span style=\"font-weight:bold; color:green\">DataFrame</span>'ов: <i>append</i>, <i>concat</i>, <i>merge</i>, <i>join</i><br>\n",
    "h) методы iterrows, map, apply, applymap\n",
    "</p>\n",
    "</div>"
   ]
  },
  {
   "cell_type": "markdown",
   "metadata": {},
   "source": [
    "<a name = \"3a\"></a>\n",
    "<div style=\"padding-top:10px;\">\n",
    "    <div style=\"display: inline-block; font-style:italic; font-weight:bold; font-size:12pt\">a. Столбцы</div>\n",
    "    <div style=\"display: inline-block; float:right; width:20%; text-align:center; border:1px solid lightgrey\">\n",
    "        <div style=\"display: inline-block; text-align:center; width:50%; background-color:whitesmoke;\"><a href=\"#3\">Назад</a></div><div style=\"display: inline-block; text-align:center; width:50%;\"><a href=\"#3b\">Далее</a></div>\n",
    "    </div>\n",
    "</div>"
   ]
  },
  {
   "cell_type": "markdown",
   "metadata": {},
   "source": [
    "<p>Исходный <span style=\"font-weight:bold; color:green\">DataFrame</span></p>"
   ]
  },
  {
   "cell_type": "code",
   "execution_count": 43,
   "metadata": {
    "collapsed": false
   },
   "outputs": [
    {
     "data": {
      "text/html": [
       "<div>\n",
       "<table border=\"1\" class=\"dataframe\">\n",
       "  <thead>\n",
       "    <tr style=\"text-align: right;\">\n",
       "      <th></th>\n",
       "      <th>Name</th>\n",
       "      <th>City</th>\n",
       "      <th>Year</th>\n",
       "      <th>Grade</th>\n",
       "      <th>Gender</th>\n",
       "    </tr>\n",
       "  </thead>\n",
       "  <tbody>\n",
       "    <tr>\n",
       "      <th>1</th>\n",
       "      <td>Dima</td>\n",
       "      <td>Moscow</td>\n",
       "      <td>1988</td>\n",
       "      <td>4.0</td>\n",
       "      <td>m</td>\n",
       "    </tr>\n",
       "    <tr>\n",
       "      <th>2</th>\n",
       "      <td>Sveta</td>\n",
       "      <td>Kiev</td>\n",
       "      <td>1999</td>\n",
       "      <td>4.0</td>\n",
       "      <td>f</td>\n",
       "    </tr>\n",
       "    <tr>\n",
       "      <th>3</th>\n",
       "      <td>Alex</td>\n",
       "      <td>Minsk</td>\n",
       "      <td>1954</td>\n",
       "      <td>NaN</td>\n",
       "      <td>m</td>\n",
       "    </tr>\n",
       "    <tr>\n",
       "      <th>4</th>\n",
       "      <td>Ivan</td>\n",
       "      <td>St.Petersburg</td>\n",
       "      <td>2005</td>\n",
       "      <td>6.0</td>\n",
       "      <td>m</td>\n",
       "    </tr>\n",
       "    <tr>\n",
       "      <th>5</th>\n",
       "      <td>Kate</td>\n",
       "      <td>London</td>\n",
       "      <td>2001</td>\n",
       "      <td>NaN</td>\n",
       "      <td>f</td>\n",
       "    </tr>\n",
       "    <tr>\n",
       "      <th>6</th>\n",
       "      <td>Maria</td>\n",
       "      <td>New York</td>\n",
       "      <td>1997</td>\n",
       "      <td>7.0</td>\n",
       "      <td>f</td>\n",
       "    </tr>\n",
       "  </tbody>\n",
       "</table>\n",
       "</div>"
      ],
      "text/plain": [
       "    Name           City  Year  Grade Gender\n",
       "1   Dima         Moscow  1988    4.0      m\n",
       "2  Sveta           Kiev  1999    4.0      f\n",
       "3   Alex          Minsk  1954    NaN      m\n",
       "4   Ivan  St.Petersburg  2005    6.0      m\n",
       "5   Kate         London  2001    NaN      f\n",
       "6  Maria       New York  1997    7.0      f"
      ]
     },
     "execution_count": 43,
     "metadata": {},
     "output_type": "execute_result"
    }
   ],
   "source": [
    "df"
   ]
  },
  {
   "cell_type": "markdown",
   "metadata": {},
   "source": [
    "<p>Получение последовательности по имени столбца</p>"
   ]
  },
  {
   "cell_type": "code",
   "execution_count": 44,
   "metadata": {
    "collapsed": false
   },
   "outputs": [
    {
     "data": {
      "text/plain": [
       "1     Dima\n",
       "2    Sveta\n",
       "3     Alex\n",
       "4     Ivan\n",
       "5     Kate\n",
       "6    Maria\n",
       "Name: Name, dtype: object"
      ]
     },
     "execution_count": 44,
     "metadata": {},
     "output_type": "execute_result"
    }
   ],
   "source": [
    "s_name = df[\"Name\"]\n",
    "s_name"
   ]
  },
  {
   "cell_type": "code",
   "execution_count": 45,
   "metadata": {
    "collapsed": false
   },
   "outputs": [
    {
     "data": {
      "text/plain": [
       "1     Dima\n",
       "2    Sveta\n",
       "3     Alex\n",
       "4     Ivan\n",
       "5     Kate\n",
       "6    Maria\n",
       "Name: Name, dtype: object"
      ]
     },
     "execution_count": 45,
     "metadata": {},
     "output_type": "execute_result"
    }
   ],
   "source": [
    "s_name = df.Name\n",
    "s_name"
   ]
  },
  {
   "cell_type": "code",
   "execution_count": 46,
   "metadata": {
    "collapsed": false
   },
   "outputs": [
    {
     "data": {
      "text/plain": [
       "pandas.core.series.Series"
      ]
     },
     "execution_count": 46,
     "metadata": {},
     "output_type": "execute_result"
    }
   ],
   "source": [
    "type(s_name)"
   ]
  },
  {
   "cell_type": "markdown",
   "metadata": {},
   "source": [
    "<p>Получение DataFrame по столбцу</p>"
   ]
  },
  {
   "cell_type": "code",
   "execution_count": 47,
   "metadata": {
    "collapsed": false
   },
   "outputs": [
    {
     "data": {
      "text/html": [
       "<div>\n",
       "<table border=\"1\" class=\"dataframe\">\n",
       "  <thead>\n",
       "    <tr style=\"text-align: right;\">\n",
       "      <th></th>\n",
       "      <th>Name</th>\n",
       "    </tr>\n",
       "  </thead>\n",
       "  <tbody>\n",
       "    <tr>\n",
       "      <th>1</th>\n",
       "      <td>Dima</td>\n",
       "    </tr>\n",
       "    <tr>\n",
       "      <th>2</th>\n",
       "      <td>Sveta</td>\n",
       "    </tr>\n",
       "    <tr>\n",
       "      <th>3</th>\n",
       "      <td>Alex</td>\n",
       "    </tr>\n",
       "    <tr>\n",
       "      <th>4</th>\n",
       "      <td>Ivan</td>\n",
       "    </tr>\n",
       "    <tr>\n",
       "      <th>5</th>\n",
       "      <td>Kate</td>\n",
       "    </tr>\n",
       "    <tr>\n",
       "      <th>6</th>\n",
       "      <td>Maria</td>\n",
       "    </tr>\n",
       "  </tbody>\n",
       "</table>\n",
       "</div>"
      ],
      "text/plain": [
       "    Name\n",
       "1   Dima\n",
       "2  Sveta\n",
       "3   Alex\n",
       "4   Ivan\n",
       "5   Kate\n",
       "6  Maria"
      ]
     },
     "execution_count": 47,
     "metadata": {},
     "output_type": "execute_result"
    }
   ],
   "source": [
    "df_name = df[[\"Name\"]] #Обращение по имени столбца\n",
    "df_name"
   ]
  },
  {
   "cell_type": "code",
   "execution_count": 48,
   "metadata": {
    "collapsed": false
   },
   "outputs": [
    {
     "data": {
      "text/html": [
       "<div>\n",
       "<table border=\"1\" class=\"dataframe\">\n",
       "  <thead>\n",
       "    <tr style=\"text-align: right;\">\n",
       "      <th></th>\n",
       "      <th>Name</th>\n",
       "    </tr>\n",
       "  </thead>\n",
       "  <tbody>\n",
       "    <tr>\n",
       "      <th>1</th>\n",
       "      <td>Dima</td>\n",
       "    </tr>\n",
       "    <tr>\n",
       "      <th>2</th>\n",
       "      <td>Sveta</td>\n",
       "    </tr>\n",
       "    <tr>\n",
       "      <th>3</th>\n",
       "      <td>Alex</td>\n",
       "    </tr>\n",
       "    <tr>\n",
       "      <th>4</th>\n",
       "      <td>Ivan</td>\n",
       "    </tr>\n",
       "    <tr>\n",
       "      <th>5</th>\n",
       "      <td>Kate</td>\n",
       "    </tr>\n",
       "    <tr>\n",
       "      <th>6</th>\n",
       "      <td>Maria</td>\n",
       "    </tr>\n",
       "  </tbody>\n",
       "</table>\n",
       "</div>"
      ],
      "text/plain": [
       "    Name\n",
       "1   Dima\n",
       "2  Sveta\n",
       "3   Alex\n",
       "4   Ivan\n",
       "5   Kate\n",
       "6  Maria"
      ]
     },
     "execution_count": 48,
     "metadata": {},
     "output_type": "execute_result"
    }
   ],
   "source": [
    "df_name = df[[0]] #Обращение по индексу столбца\n",
    "df_name"
   ]
  },
  {
   "cell_type": "code",
   "execution_count": 49,
   "metadata": {
    "collapsed": false
   },
   "outputs": [
    {
     "data": {
      "text/plain": [
       "pandas.core.frame.DataFrame"
      ]
     },
     "execution_count": 49,
     "metadata": {},
     "output_type": "execute_result"
    }
   ],
   "source": [
    "type(df_name)"
   ]
  },
  {
   "cell_type": "markdown",
   "metadata": {},
   "source": [
    "<p>Использование нескольких столбцов для выбора данных</p>"
   ]
  },
  {
   "cell_type": "code",
   "execution_count": 50,
   "metadata": {
    "collapsed": false
   },
   "outputs": [
    {
     "data": {
      "text/html": [
       "<div>\n",
       "<table border=\"1\" class=\"dataframe\">\n",
       "  <thead>\n",
       "    <tr style=\"text-align: right;\">\n",
       "      <th></th>\n",
       "      <th>Name</th>\n",
       "      <th>City</th>\n",
       "    </tr>\n",
       "  </thead>\n",
       "  <tbody>\n",
       "    <tr>\n",
       "      <th>1</th>\n",
       "      <td>Dima</td>\n",
       "      <td>Moscow</td>\n",
       "    </tr>\n",
       "    <tr>\n",
       "      <th>2</th>\n",
       "      <td>Sveta</td>\n",
       "      <td>Kiev</td>\n",
       "    </tr>\n",
       "    <tr>\n",
       "      <th>3</th>\n",
       "      <td>Alex</td>\n",
       "      <td>Minsk</td>\n",
       "    </tr>\n",
       "    <tr>\n",
       "      <th>4</th>\n",
       "      <td>Ivan</td>\n",
       "      <td>St.Petersburg</td>\n",
       "    </tr>\n",
       "    <tr>\n",
       "      <th>5</th>\n",
       "      <td>Kate</td>\n",
       "      <td>London</td>\n",
       "    </tr>\n",
       "    <tr>\n",
       "      <th>6</th>\n",
       "      <td>Maria</td>\n",
       "      <td>New York</td>\n",
       "    </tr>\n",
       "  </tbody>\n",
       "</table>\n",
       "</div>"
      ],
      "text/plain": [
       "    Name           City\n",
       "1   Dima         Moscow\n",
       "2  Sveta           Kiev\n",
       "3   Alex          Minsk\n",
       "4   Ivan  St.Petersburg\n",
       "5   Kate         London\n",
       "6  Maria       New York"
      ]
     },
     "execution_count": 50,
     "metadata": {},
     "output_type": "execute_result"
    }
   ],
   "source": [
    "df_NC = df[[\"Name\", \"City\"]]\n",
    "df_NC"
   ]
  },
  {
   "cell_type": "code",
   "execution_count": 51,
   "metadata": {
    "collapsed": false
   },
   "outputs": [
    {
     "data": {
      "text/html": [
       "<div>\n",
       "<table border=\"1\" class=\"dataframe\">\n",
       "  <thead>\n",
       "    <tr style=\"text-align: right;\">\n",
       "      <th></th>\n",
       "      <th>Name</th>\n",
       "      <th>City</th>\n",
       "    </tr>\n",
       "  </thead>\n",
       "  <tbody>\n",
       "    <tr>\n",
       "      <th>1</th>\n",
       "      <td>Dima</td>\n",
       "      <td>Moscow</td>\n",
       "    </tr>\n",
       "    <tr>\n",
       "      <th>2</th>\n",
       "      <td>Sveta</td>\n",
       "      <td>Kiev</td>\n",
       "    </tr>\n",
       "    <tr>\n",
       "      <th>3</th>\n",
       "      <td>Alex</td>\n",
       "      <td>Minsk</td>\n",
       "    </tr>\n",
       "    <tr>\n",
       "      <th>4</th>\n",
       "      <td>Ivan</td>\n",
       "      <td>St.Petersburg</td>\n",
       "    </tr>\n",
       "    <tr>\n",
       "      <th>5</th>\n",
       "      <td>Kate</td>\n",
       "      <td>London</td>\n",
       "    </tr>\n",
       "    <tr>\n",
       "      <th>6</th>\n",
       "      <td>Maria</td>\n",
       "      <td>New York</td>\n",
       "    </tr>\n",
       "  </tbody>\n",
       "</table>\n",
       "</div>"
      ],
      "text/plain": [
       "    Name           City\n",
       "1   Dima         Moscow\n",
       "2  Sveta           Kiev\n",
       "3   Alex          Minsk\n",
       "4   Ivan  St.Petersburg\n",
       "5   Kate         London\n",
       "6  Maria       New York"
      ]
     },
     "execution_count": 51,
     "metadata": {},
     "output_type": "execute_result"
    }
   ],
   "source": [
    "df_NC = df[[0, 1]]\n",
    "df_NC"
   ]
  },
  {
   "cell_type": "markdown",
   "metadata": {},
   "source": [
    "Получение уникальных значений столбца"
   ]
  },
  {
   "cell_type": "code",
   "execution_count": 52,
   "metadata": {
    "collapsed": false
   },
   "outputs": [
    {
     "data": {
      "text/plain": [
       "array(['Dima', 'Sveta', 'Alex', 'Ivan', 'Kate', 'Maria'], dtype=object)"
      ]
     },
     "execution_count": 52,
     "metadata": {},
     "output_type": "execute_result"
    }
   ],
   "source": [
    "df.Name.unique()"
   ]
  },
  {
   "cell_type": "code",
   "execution_count": 53,
   "metadata": {
    "collapsed": false
   },
   "outputs": [
    {
     "data": {
      "text/plain": [
       "array(['m', 'f'], dtype=object)"
      ]
     },
     "execution_count": 53,
     "metadata": {},
     "output_type": "execute_result"
    }
   ],
   "source": [
    "df.Gender.unique()"
   ]
  },
  {
   "cell_type": "markdown",
   "metadata": {},
   "source": [
    "<p>Добавление/изменение столбца</p>"
   ]
  },
  {
   "cell_type": "code",
   "execution_count": 54,
   "metadata": {
    "collapsed": false
   },
   "outputs": [
    {
     "data": {
      "text/html": [
       "<div>\n",
       "<table border=\"1\" class=\"dataframe\">\n",
       "  <thead>\n",
       "    <tr style=\"text-align: right;\">\n",
       "      <th></th>\n",
       "      <th>Name</th>\n",
       "      <th>City</th>\n",
       "      <th>Year</th>\n",
       "      <th>Grade</th>\n",
       "      <th>Gender</th>\n",
       "      <th>NewColumn</th>\n",
       "    </tr>\n",
       "  </thead>\n",
       "  <tbody>\n",
       "    <tr>\n",
       "      <th>1</th>\n",
       "      <td>Dima</td>\n",
       "      <td>Moscow</td>\n",
       "      <td>1988</td>\n",
       "      <td>4.0</td>\n",
       "      <td>m</td>\n",
       "      <td>4</td>\n",
       "    </tr>\n",
       "    <tr>\n",
       "      <th>2</th>\n",
       "      <td>Sveta</td>\n",
       "      <td>Kiev</td>\n",
       "      <td>1999</td>\n",
       "      <td>4.0</td>\n",
       "      <td>f</td>\n",
       "      <td>5</td>\n",
       "    </tr>\n",
       "    <tr>\n",
       "      <th>3</th>\n",
       "      <td>Alex</td>\n",
       "      <td>Minsk</td>\n",
       "      <td>1954</td>\n",
       "      <td>NaN</td>\n",
       "      <td>m</td>\n",
       "      <td>7</td>\n",
       "    </tr>\n",
       "    <tr>\n",
       "      <th>4</th>\n",
       "      <td>Ivan</td>\n",
       "      <td>St.Petersburg</td>\n",
       "      <td>2005</td>\n",
       "      <td>6.0</td>\n",
       "      <td>m</td>\n",
       "      <td>3</td>\n",
       "    </tr>\n",
       "    <tr>\n",
       "      <th>5</th>\n",
       "      <td>Kate</td>\n",
       "      <td>London</td>\n",
       "      <td>2001</td>\n",
       "      <td>NaN</td>\n",
       "      <td>f</td>\n",
       "      <td>2</td>\n",
       "    </tr>\n",
       "    <tr>\n",
       "      <th>6</th>\n",
       "      <td>Maria</td>\n",
       "      <td>New York</td>\n",
       "      <td>1997</td>\n",
       "      <td>7.0</td>\n",
       "      <td>f</td>\n",
       "      <td>6</td>\n",
       "    </tr>\n",
       "  </tbody>\n",
       "</table>\n",
       "</div>"
      ],
      "text/plain": [
       "    Name           City  Year  Grade Gender  NewColumn\n",
       "1   Dima         Moscow  1988    4.0      m          4\n",
       "2  Sveta           Kiev  1999    4.0      f          5\n",
       "3   Alex          Minsk  1954    NaN      m          7\n",
       "4   Ivan  St.Petersburg  2005    6.0      m          3\n",
       "5   Kate         London  2001    NaN      f          2\n",
       "6  Maria       New York  1997    7.0      f          6"
      ]
     },
     "execution_count": 54,
     "metadata": {},
     "output_type": "execute_result"
    }
   ],
   "source": [
    "df[\"NewColumn\"] = [4,5,7,3,2,6] #Добавление\n",
    "df"
   ]
  },
  {
   "cell_type": "code",
   "execution_count": 55,
   "metadata": {
    "collapsed": false
   },
   "outputs": [
    {
     "data": {
      "text/html": [
       "<div>\n",
       "<table border=\"1\" class=\"dataframe\">\n",
       "  <thead>\n",
       "    <tr style=\"text-align: right;\">\n",
       "      <th></th>\n",
       "      <th>Name</th>\n",
       "      <th>City</th>\n",
       "      <th>Year</th>\n",
       "      <th>Grade</th>\n",
       "      <th>Gender</th>\n",
       "      <th>NewColumn</th>\n",
       "    </tr>\n",
       "  </thead>\n",
       "  <tbody>\n",
       "    <tr>\n",
       "      <th>1</th>\n",
       "      <td>Dima</td>\n",
       "      <td>Moscow</td>\n",
       "      <td>1988</td>\n",
       "      <td>1</td>\n",
       "      <td>m</td>\n",
       "      <td>4</td>\n",
       "    </tr>\n",
       "    <tr>\n",
       "      <th>2</th>\n",
       "      <td>Sveta</td>\n",
       "      <td>Kiev</td>\n",
       "      <td>1999</td>\n",
       "      <td>1</td>\n",
       "      <td>f</td>\n",
       "      <td>5</td>\n",
       "    </tr>\n",
       "    <tr>\n",
       "      <th>3</th>\n",
       "      <td>Alex</td>\n",
       "      <td>Minsk</td>\n",
       "      <td>1954</td>\n",
       "      <td>1</td>\n",
       "      <td>m</td>\n",
       "      <td>7</td>\n",
       "    </tr>\n",
       "    <tr>\n",
       "      <th>4</th>\n",
       "      <td>Ivan</td>\n",
       "      <td>St.Petersburg</td>\n",
       "      <td>2005</td>\n",
       "      <td>1</td>\n",
       "      <td>m</td>\n",
       "      <td>3</td>\n",
       "    </tr>\n",
       "    <tr>\n",
       "      <th>5</th>\n",
       "      <td>Kate</td>\n",
       "      <td>London</td>\n",
       "      <td>2001</td>\n",
       "      <td>1</td>\n",
       "      <td>f</td>\n",
       "      <td>2</td>\n",
       "    </tr>\n",
       "    <tr>\n",
       "      <th>6</th>\n",
       "      <td>Maria</td>\n",
       "      <td>New York</td>\n",
       "      <td>1997</td>\n",
       "      <td>1</td>\n",
       "      <td>f</td>\n",
       "      <td>6</td>\n",
       "    </tr>\n",
       "  </tbody>\n",
       "</table>\n",
       "</div>"
      ],
      "text/plain": [
       "    Name           City  Year  Grade Gender  NewColumn\n",
       "1   Dima         Moscow  1988      1      m          4\n",
       "2  Sveta           Kiev  1999      1      f          5\n",
       "3   Alex          Minsk  1954      1      m          7\n",
       "4   Ivan  St.Petersburg  2005      1      m          3\n",
       "5   Kate         London  2001      1      f          2\n",
       "6  Maria       New York  1997      1      f          6"
      ]
     },
     "execution_count": 55,
     "metadata": {},
     "output_type": "execute_result"
    }
   ],
   "source": [
    "df[\"Grade\"] = [1,1,1,1,1,1] #Изменение\n",
    "df"
   ]
  },
  {
   "cell_type": "code",
   "execution_count": 56,
   "metadata": {
    "collapsed": false
   },
   "outputs": [
    {
     "data": {
      "text/html": [
       "<div>\n",
       "<table border=\"1\" class=\"dataframe\">\n",
       "  <thead>\n",
       "    <tr style=\"text-align: right;\">\n",
       "      <th></th>\n",
       "      <th>Name</th>\n",
       "      <th>City</th>\n",
       "      <th>Year</th>\n",
       "      <th>Grade</th>\n",
       "      <th>Gender</th>\n",
       "      <th>NewColumn</th>\n",
       "    </tr>\n",
       "  </thead>\n",
       "  <tbody>\n",
       "    <tr>\n",
       "      <th>1</th>\n",
       "      <td>Dima</td>\n",
       "      <td>Moscow</td>\n",
       "      <td>1988</td>\n",
       "      <td>4.0</td>\n",
       "      <td>m</td>\n",
       "      <td>4</td>\n",
       "    </tr>\n",
       "    <tr>\n",
       "      <th>2</th>\n",
       "      <td>Sveta</td>\n",
       "      <td>Kiev</td>\n",
       "      <td>1999</td>\n",
       "      <td>4.0</td>\n",
       "      <td>f</td>\n",
       "      <td>5</td>\n",
       "    </tr>\n",
       "    <tr>\n",
       "      <th>3</th>\n",
       "      <td>Alex</td>\n",
       "      <td>Minsk</td>\n",
       "      <td>1954</td>\n",
       "      <td>NaN</td>\n",
       "      <td>m</td>\n",
       "      <td>7</td>\n",
       "    </tr>\n",
       "    <tr>\n",
       "      <th>4</th>\n",
       "      <td>Ivan</td>\n",
       "      <td>St.Petersburg</td>\n",
       "      <td>2005</td>\n",
       "      <td>6.0</td>\n",
       "      <td>m</td>\n",
       "      <td>3</td>\n",
       "    </tr>\n",
       "    <tr>\n",
       "      <th>5</th>\n",
       "      <td>Kate</td>\n",
       "      <td>London</td>\n",
       "      <td>2001</td>\n",
       "      <td>NaN</td>\n",
       "      <td>f</td>\n",
       "      <td>2</td>\n",
       "    </tr>\n",
       "    <tr>\n",
       "      <th>6</th>\n",
       "      <td>Maria</td>\n",
       "      <td>New York</td>\n",
       "      <td>1997</td>\n",
       "      <td>7.0</td>\n",
       "      <td>f</td>\n",
       "      <td>6</td>\n",
       "    </tr>\n",
       "  </tbody>\n",
       "</table>\n",
       "</div>"
      ],
      "text/plain": [
       "    Name           City  Year  Grade Gender  NewColumn\n",
       "1   Dima         Moscow  1988    4.0      m          4\n",
       "2  Sveta           Kiev  1999    4.0      f          5\n",
       "3   Alex          Minsk  1954    NaN      m          7\n",
       "4   Ivan  St.Petersburg  2005    6.0      m          3\n",
       "5   Kate         London  2001    NaN      f          2\n",
       "6  Maria       New York  1997    7.0      f          6"
      ]
     },
     "execution_count": 56,
     "metadata": {},
     "output_type": "execute_result"
    }
   ],
   "source": [
    "df[\"Grade\"] = [4, 4, np.NaN, 6, np.NaN, 7]\n",
    "df"
   ]
  },
  {
   "cell_type": "code",
   "execution_count": 57,
   "metadata": {
    "collapsed": false
   },
   "outputs": [
    {
     "data": {
      "text/html": [
       "<div>\n",
       "<table border=\"1\" class=\"dataframe\">\n",
       "  <thead>\n",
       "    <tr style=\"text-align: right;\">\n",
       "      <th></th>\n",
       "      <th>Name</th>\n",
       "      <th>NewColumn2</th>\n",
       "      <th>City</th>\n",
       "      <th>Year</th>\n",
       "      <th>Grade</th>\n",
       "      <th>Gender</th>\n",
       "      <th>NewColumn</th>\n",
       "    </tr>\n",
       "  </thead>\n",
       "  <tbody>\n",
       "    <tr>\n",
       "      <th>1</th>\n",
       "      <td>Dima</td>\n",
       "      <td>10</td>\n",
       "      <td>Moscow</td>\n",
       "      <td>1988</td>\n",
       "      <td>4.0</td>\n",
       "      <td>m</td>\n",
       "      <td>4</td>\n",
       "    </tr>\n",
       "    <tr>\n",
       "      <th>2</th>\n",
       "      <td>Sveta</td>\n",
       "      <td>40</td>\n",
       "      <td>Kiev</td>\n",
       "      <td>1999</td>\n",
       "      <td>4.0</td>\n",
       "      <td>f</td>\n",
       "      <td>5</td>\n",
       "    </tr>\n",
       "    <tr>\n",
       "      <th>3</th>\n",
       "      <td>Alex</td>\n",
       "      <td>50</td>\n",
       "      <td>Minsk</td>\n",
       "      <td>1954</td>\n",
       "      <td>NaN</td>\n",
       "      <td>m</td>\n",
       "      <td>7</td>\n",
       "    </tr>\n",
       "    <tr>\n",
       "      <th>4</th>\n",
       "      <td>Ivan</td>\n",
       "      <td>30</td>\n",
       "      <td>St.Petersburg</td>\n",
       "      <td>2005</td>\n",
       "      <td>6.0</td>\n",
       "      <td>m</td>\n",
       "      <td>3</td>\n",
       "    </tr>\n",
       "    <tr>\n",
       "      <th>5</th>\n",
       "      <td>Kate</td>\n",
       "      <td>70</td>\n",
       "      <td>London</td>\n",
       "      <td>2001</td>\n",
       "      <td>NaN</td>\n",
       "      <td>f</td>\n",
       "      <td>2</td>\n",
       "    </tr>\n",
       "    <tr>\n",
       "      <th>6</th>\n",
       "      <td>Maria</td>\n",
       "      <td>49</td>\n",
       "      <td>New York</td>\n",
       "      <td>1997</td>\n",
       "      <td>7.0</td>\n",
       "      <td>f</td>\n",
       "      <td>6</td>\n",
       "    </tr>\n",
       "  </tbody>\n",
       "</table>\n",
       "</div>"
      ],
      "text/plain": [
       "    Name  NewColumn2           City  Year  Grade Gender  NewColumn\n",
       "1   Dima          10         Moscow  1988    4.0      m          4\n",
       "2  Sveta          40           Kiev  1999    4.0      f          5\n",
       "3   Alex          50          Minsk  1954    NaN      m          7\n",
       "4   Ivan          30  St.Petersburg  2005    6.0      m          3\n",
       "5   Kate          70         London  2001    NaN      f          2\n",
       "6  Maria          49       New York  1997    7.0      f          6"
      ]
     },
     "execution_count": 57,
     "metadata": {},
     "output_type": "execute_result"
    }
   ],
   "source": [
    "if \"NewColumn2\" not in df.columns:\n",
    "    df.insert(loc=1, value=[10,40,50,30,70,49], column=\"NewColumn2\") #loc - позиция столбца\n",
    "df"
   ]
  },
  {
   "cell_type": "markdown",
   "metadata": {},
   "source": [
    "<p>Создание из исходного <i>df</i> нового <span style=\"font-weight:bold; color:green\">DataFrame</span>'а <i>df2</i> без столбца <i>NewColumn</i> </p>"
   ]
  },
  {
   "cell_type": "code",
   "execution_count": 58,
   "metadata": {
    "collapsed": false
   },
   "outputs": [
    {
     "data": {
      "text/html": [
       "<div>\n",
       "<table border=\"1\" class=\"dataframe\">\n",
       "  <thead>\n",
       "    <tr style=\"text-align: right;\">\n",
       "      <th></th>\n",
       "      <th>Name</th>\n",
       "      <th>NewColumn2</th>\n",
       "      <th>City</th>\n",
       "      <th>Year</th>\n",
       "      <th>Grade</th>\n",
       "      <th>Gender</th>\n",
       "    </tr>\n",
       "  </thead>\n",
       "  <tbody>\n",
       "    <tr>\n",
       "      <th>1</th>\n",
       "      <td>Dima</td>\n",
       "      <td>10</td>\n",
       "      <td>Moscow</td>\n",
       "      <td>1988</td>\n",
       "      <td>4.0</td>\n",
       "      <td>m</td>\n",
       "    </tr>\n",
       "    <tr>\n",
       "      <th>2</th>\n",
       "      <td>Sveta</td>\n",
       "      <td>40</td>\n",
       "      <td>Kiev</td>\n",
       "      <td>1999</td>\n",
       "      <td>4.0</td>\n",
       "      <td>f</td>\n",
       "    </tr>\n",
       "    <tr>\n",
       "      <th>3</th>\n",
       "      <td>Alex</td>\n",
       "      <td>50</td>\n",
       "      <td>Minsk</td>\n",
       "      <td>1954</td>\n",
       "      <td>NaN</td>\n",
       "      <td>m</td>\n",
       "    </tr>\n",
       "    <tr>\n",
       "      <th>4</th>\n",
       "      <td>Ivan</td>\n",
       "      <td>30</td>\n",
       "      <td>St.Petersburg</td>\n",
       "      <td>2005</td>\n",
       "      <td>6.0</td>\n",
       "      <td>m</td>\n",
       "    </tr>\n",
       "    <tr>\n",
       "      <th>5</th>\n",
       "      <td>Kate</td>\n",
       "      <td>70</td>\n",
       "      <td>London</td>\n",
       "      <td>2001</td>\n",
       "      <td>NaN</td>\n",
       "      <td>f</td>\n",
       "    </tr>\n",
       "    <tr>\n",
       "      <th>6</th>\n",
       "      <td>Maria</td>\n",
       "      <td>49</td>\n",
       "      <td>New York</td>\n",
       "      <td>1997</td>\n",
       "      <td>7.0</td>\n",
       "      <td>f</td>\n",
       "    </tr>\n",
       "  </tbody>\n",
       "</table>\n",
       "</div>"
      ],
      "text/plain": [
       "    Name  NewColumn2           City  Year  Grade Gender\n",
       "1   Dima          10         Moscow  1988    4.0      m\n",
       "2  Sveta          40           Kiev  1999    4.0      f\n",
       "3   Alex          50          Minsk  1954    NaN      m\n",
       "4   Ivan          30  St.Petersburg  2005    6.0      m\n",
       "5   Kate          70         London  2001    NaN      f\n",
       "6  Maria          49       New York  1997    7.0      f"
      ]
     },
     "execution_count": 58,
     "metadata": {},
     "output_type": "execute_result"
    }
   ],
   "source": [
    "df2 = df.drop('NewColumn', axis=1, inplace=False) #axis = 1 - удаление столбца\n",
    "df2"
   ]
  },
  {
   "cell_type": "code",
   "execution_count": 59,
   "metadata": {
    "collapsed": false
   },
   "outputs": [
    {
     "data": {
      "text/html": [
       "<div>\n",
       "<table border=\"1\" class=\"dataframe\">\n",
       "  <thead>\n",
       "    <tr style=\"text-align: right;\">\n",
       "      <th></th>\n",
       "      <th>Name</th>\n",
       "      <th>NewColumn2</th>\n",
       "      <th>City</th>\n",
       "      <th>Year</th>\n",
       "      <th>Grade</th>\n",
       "      <th>Gender</th>\n",
       "      <th>NewColumn</th>\n",
       "    </tr>\n",
       "  </thead>\n",
       "  <tbody>\n",
       "    <tr>\n",
       "      <th>1</th>\n",
       "      <td>Dima</td>\n",
       "      <td>10</td>\n",
       "      <td>Moscow</td>\n",
       "      <td>1988</td>\n",
       "      <td>4.0</td>\n",
       "      <td>m</td>\n",
       "      <td>4</td>\n",
       "    </tr>\n",
       "    <tr>\n",
       "      <th>2</th>\n",
       "      <td>Sveta</td>\n",
       "      <td>40</td>\n",
       "      <td>Kiev</td>\n",
       "      <td>1999</td>\n",
       "      <td>4.0</td>\n",
       "      <td>f</td>\n",
       "      <td>5</td>\n",
       "    </tr>\n",
       "    <tr>\n",
       "      <th>3</th>\n",
       "      <td>Alex</td>\n",
       "      <td>50</td>\n",
       "      <td>Minsk</td>\n",
       "      <td>1954</td>\n",
       "      <td>NaN</td>\n",
       "      <td>m</td>\n",
       "      <td>7</td>\n",
       "    </tr>\n",
       "    <tr>\n",
       "      <th>4</th>\n",
       "      <td>Ivan</td>\n",
       "      <td>30</td>\n",
       "      <td>St.Petersburg</td>\n",
       "      <td>2005</td>\n",
       "      <td>6.0</td>\n",
       "      <td>m</td>\n",
       "      <td>3</td>\n",
       "    </tr>\n",
       "    <tr>\n",
       "      <th>5</th>\n",
       "      <td>Kate</td>\n",
       "      <td>70</td>\n",
       "      <td>London</td>\n",
       "      <td>2001</td>\n",
       "      <td>NaN</td>\n",
       "      <td>f</td>\n",
       "      <td>2</td>\n",
       "    </tr>\n",
       "    <tr>\n",
       "      <th>6</th>\n",
       "      <td>Maria</td>\n",
       "      <td>49</td>\n",
       "      <td>New York</td>\n",
       "      <td>1997</td>\n",
       "      <td>7.0</td>\n",
       "      <td>f</td>\n",
       "      <td>6</td>\n",
       "    </tr>\n",
       "  </tbody>\n",
       "</table>\n",
       "</div>"
      ],
      "text/plain": [
       "    Name  NewColumn2           City  Year  Grade Gender  NewColumn\n",
       "1   Dima          10         Moscow  1988    4.0      m          4\n",
       "2  Sveta          40           Kiev  1999    4.0      f          5\n",
       "3   Alex          50          Minsk  1954    NaN      m          7\n",
       "4   Ivan          30  St.Petersburg  2005    6.0      m          3\n",
       "5   Kate          70         London  2001    NaN      f          2\n",
       "6  Maria          49       New York  1997    7.0      f          6"
      ]
     },
     "execution_count": 59,
     "metadata": {},
     "output_type": "execute_result"
    }
   ],
   "source": [
    "df"
   ]
  },
  {
   "cell_type": "markdown",
   "metadata": {},
   "source": [
    "<p>Удаление столбцов из исходного <span style=\"font-weight:bold; color:green\">DataFrame</span>'а</p>"
   ]
  },
  {
   "cell_type": "code",
   "execution_count": 60,
   "metadata": {
    "collapsed": false
   },
   "outputs": [
    {
     "data": {
      "text/html": [
       "<div>\n",
       "<table border=\"1\" class=\"dataframe\">\n",
       "  <thead>\n",
       "    <tr style=\"text-align: right;\">\n",
       "      <th></th>\n",
       "      <th>Name</th>\n",
       "      <th>City</th>\n",
       "      <th>Year</th>\n",
       "      <th>Grade</th>\n",
       "      <th>Gender</th>\n",
       "    </tr>\n",
       "  </thead>\n",
       "  <tbody>\n",
       "    <tr>\n",
       "      <th>1</th>\n",
       "      <td>Dima</td>\n",
       "      <td>Moscow</td>\n",
       "      <td>1988</td>\n",
       "      <td>4.0</td>\n",
       "      <td>m</td>\n",
       "    </tr>\n",
       "    <tr>\n",
       "      <th>2</th>\n",
       "      <td>Sveta</td>\n",
       "      <td>Kiev</td>\n",
       "      <td>1999</td>\n",
       "      <td>4.0</td>\n",
       "      <td>f</td>\n",
       "    </tr>\n",
       "    <tr>\n",
       "      <th>3</th>\n",
       "      <td>Alex</td>\n",
       "      <td>Minsk</td>\n",
       "      <td>1954</td>\n",
       "      <td>NaN</td>\n",
       "      <td>m</td>\n",
       "    </tr>\n",
       "    <tr>\n",
       "      <th>4</th>\n",
       "      <td>Ivan</td>\n",
       "      <td>St.Petersburg</td>\n",
       "      <td>2005</td>\n",
       "      <td>6.0</td>\n",
       "      <td>m</td>\n",
       "    </tr>\n",
       "    <tr>\n",
       "      <th>5</th>\n",
       "      <td>Kate</td>\n",
       "      <td>London</td>\n",
       "      <td>2001</td>\n",
       "      <td>NaN</td>\n",
       "      <td>f</td>\n",
       "    </tr>\n",
       "    <tr>\n",
       "      <th>6</th>\n",
       "      <td>Maria</td>\n",
       "      <td>New York</td>\n",
       "      <td>1997</td>\n",
       "      <td>7.0</td>\n",
       "      <td>f</td>\n",
       "    </tr>\n",
       "  </tbody>\n",
       "</table>\n",
       "</div>"
      ],
      "text/plain": [
       "    Name           City  Year  Grade Gender\n",
       "1   Dima         Moscow  1988    4.0      m\n",
       "2  Sveta           Kiev  1999    4.0      f\n",
       "3   Alex          Minsk  1954    NaN      m\n",
       "4   Ivan  St.Petersburg  2005    6.0      m\n",
       "5   Kate         London  2001    NaN      f\n",
       "6  Maria       New York  1997    7.0      f"
      ]
     },
     "execution_count": 60,
     "metadata": {},
     "output_type": "execute_result"
    }
   ],
   "source": [
    "df.drop([\"NewColumn\", \"NewColumn2\"], axis=1, inplace=True) #Удаление нескольких столбцов\n",
    "df"
   ]
  },
  {
   "cell_type": "markdown",
   "metadata": {},
   "source": [
    "<a name = \"3b\"></a>\n",
    "<div style=\"padding-top:10px;\">\n",
    "    <div style=\"display: inline-block; font-style:italic; font-weight:bold; font-size:12pt\">b. Строки</div>\n",
    "    <div style=\"display: inline-block; float:right; width:20%; text-align:center; border:1px solid lightgrey\">\n",
    "        <div style=\"display: inline-block; text-align:center; width:50%; background-color:whitesmoke;\"><a href=\"#3a\">Назад</a></div><div style=\"display: inline-block; text-align:center; width:50%;\"><a href=\"#3c\">Далее</a></div>\n",
    "    </div>\n",
    "</div>"
   ]
  },
  {
   "cell_type": "markdown",
   "metadata": {},
   "source": [
    "<p>Исходный <span style=\"font-weight:bold; color:green\">DataFrame</span></p>"
   ]
  },
  {
   "cell_type": "code",
   "execution_count": 61,
   "metadata": {
    "collapsed": false
   },
   "outputs": [
    {
     "data": {
      "text/html": [
       "<div>\n",
       "<table border=\"1\" class=\"dataframe\">\n",
       "  <thead>\n",
       "    <tr style=\"text-align: right;\">\n",
       "      <th></th>\n",
       "      <th>Name</th>\n",
       "      <th>City</th>\n",
       "      <th>Year</th>\n",
       "      <th>Grade</th>\n",
       "      <th>Gender</th>\n",
       "    </tr>\n",
       "  </thead>\n",
       "  <tbody>\n",
       "    <tr>\n",
       "      <th>1</th>\n",
       "      <td>Dima</td>\n",
       "      <td>Moscow</td>\n",
       "      <td>1988</td>\n",
       "      <td>4.0</td>\n",
       "      <td>m</td>\n",
       "    </tr>\n",
       "    <tr>\n",
       "      <th>2</th>\n",
       "      <td>Sveta</td>\n",
       "      <td>Kiev</td>\n",
       "      <td>1999</td>\n",
       "      <td>4.0</td>\n",
       "      <td>f</td>\n",
       "    </tr>\n",
       "    <tr>\n",
       "      <th>3</th>\n",
       "      <td>Alex</td>\n",
       "      <td>Minsk</td>\n",
       "      <td>1954</td>\n",
       "      <td>NaN</td>\n",
       "      <td>m</td>\n",
       "    </tr>\n",
       "    <tr>\n",
       "      <th>4</th>\n",
       "      <td>Ivan</td>\n",
       "      <td>St.Petersburg</td>\n",
       "      <td>2005</td>\n",
       "      <td>6.0</td>\n",
       "      <td>m</td>\n",
       "    </tr>\n",
       "    <tr>\n",
       "      <th>5</th>\n",
       "      <td>Kate</td>\n",
       "      <td>London</td>\n",
       "      <td>2001</td>\n",
       "      <td>NaN</td>\n",
       "      <td>f</td>\n",
       "    </tr>\n",
       "    <tr>\n",
       "      <th>6</th>\n",
       "      <td>Maria</td>\n",
       "      <td>New York</td>\n",
       "      <td>1997</td>\n",
       "      <td>7.0</td>\n",
       "      <td>f</td>\n",
       "    </tr>\n",
       "  </tbody>\n",
       "</table>\n",
       "</div>"
      ],
      "text/plain": [
       "    Name           City  Year  Grade Gender\n",
       "1   Dima         Moscow  1988    4.0      m\n",
       "2  Sveta           Kiev  1999    4.0      f\n",
       "3   Alex          Minsk  1954    NaN      m\n",
       "4   Ivan  St.Petersburg  2005    6.0      m\n",
       "5   Kate         London  2001    NaN      f\n",
       "6  Maria       New York  1997    7.0      f"
      ]
     },
     "execution_count": 61,
     "metadata": {},
     "output_type": "execute_result"
    }
   ],
   "source": [
    "df"
   ]
  },
  {
   "cell_type": "markdown",
   "metadata": {},
   "source": [
    "<p>Выбор строк по <b>индексу</b></p>"
   ]
  },
  {
   "cell_type": "code",
   "execution_count": 62,
   "metadata": {
    "collapsed": false
   },
   "outputs": [
    {
     "data": {
      "text/plain": [
       "Name      Sveta\n",
       "City       Kiev\n",
       "Year       1999\n",
       "Grade         4\n",
       "Gender        f\n",
       "Name: 2, dtype: object"
      ]
     },
     "execution_count": 62,
     "metadata": {},
     "output_type": "execute_result"
    }
   ],
   "source": [
    "df.loc[2] "
   ]
  },
  {
   "cell_type": "code",
   "execution_count": 63,
   "metadata": {
    "collapsed": false
   },
   "outputs": [
    {
     "data": {
      "text/plain": [
       "Name      Sveta\n",
       "City       Kiev\n",
       "Year       1999\n",
       "Grade         4\n",
       "Gender        f\n",
       "Name: 2, dtype: object"
      ]
     },
     "execution_count": 63,
     "metadata": {},
     "output_type": "execute_result"
    }
   ],
   "source": [
    "df.ix[2]"
   ]
  },
  {
   "cell_type": "markdown",
   "metadata": {},
   "source": [
    "<p>Выбор строк по <b>позиции</b> (номер строки начиная с 0)</p>"
   ]
  },
  {
   "cell_type": "code",
   "execution_count": 64,
   "metadata": {
    "collapsed": false
   },
   "outputs": [
    {
     "data": {
      "text/plain": [
       "Name       Alex\n",
       "City      Minsk\n",
       "Year       1954\n",
       "Grade       NaN\n",
       "Gender        m\n",
       "Name: 3, dtype: object"
      ]
     },
     "execution_count": 64,
     "metadata": {},
     "output_type": "execute_result"
    }
   ],
   "source": [
    "df.iloc[2]"
   ]
  },
  {
   "cell_type": "code",
   "execution_count": 65,
   "metadata": {
    "collapsed": false
   },
   "outputs": [
    {
     "name": "stderr",
     "output_type": "stream",
     "text": [
      "/home/kirill/anaconda3/lib/python3.5/site-packages/ipykernel/__main__.py:1: FutureWarning: irow(i) is deprecated. Please use .iloc[i]\n",
      "  if __name__ == '__main__':\n"
     ]
    },
    {
     "data": {
      "text/plain": [
       "Name       Alex\n",
       "City      Minsk\n",
       "Year       1954\n",
       "Grade       NaN\n",
       "Gender        m\n",
       "Name: 3, dtype: object"
      ]
     },
     "execution_count": 65,
     "metadata": {},
     "output_type": "execute_result"
    }
   ],
   "source": [
    "df.irow(2)"
   ]
  },
  {
   "cell_type": "markdown",
   "metadata": {},
   "source": [
    "Использование диапазона позиций"
   ]
  },
  {
   "cell_type": "code",
   "execution_count": 66,
   "metadata": {
    "collapsed": false
   },
   "outputs": [
    {
     "data": {
      "text/html": [
       "<div>\n",
       "<table border=\"1\" class=\"dataframe\">\n",
       "  <thead>\n",
       "    <tr style=\"text-align: right;\">\n",
       "      <th></th>\n",
       "      <th>Name</th>\n",
       "      <th>City</th>\n",
       "      <th>Year</th>\n",
       "      <th>Grade</th>\n",
       "      <th>Gender</th>\n",
       "    </tr>\n",
       "  </thead>\n",
       "  <tbody>\n",
       "    <tr>\n",
       "      <th>1</th>\n",
       "      <td>Dima</td>\n",
       "      <td>Moscow</td>\n",
       "      <td>1988</td>\n",
       "      <td>4.0</td>\n",
       "      <td>m</td>\n",
       "    </tr>\n",
       "    <tr>\n",
       "      <th>2</th>\n",
       "      <td>Sveta</td>\n",
       "      <td>Kiev</td>\n",
       "      <td>1999</td>\n",
       "      <td>4.0</td>\n",
       "      <td>f</td>\n",
       "    </tr>\n",
       "    <tr>\n",
       "      <th>3</th>\n",
       "      <td>Alex</td>\n",
       "      <td>Minsk</td>\n",
       "      <td>1954</td>\n",
       "      <td>NaN</td>\n",
       "      <td>m</td>\n",
       "    </tr>\n",
       "  </tbody>\n",
       "</table>\n",
       "</div>"
      ],
      "text/plain": [
       "    Name    City  Year  Grade Gender\n",
       "1   Dima  Moscow  1988    4.0      m\n",
       "2  Sveta    Kiev  1999    4.0      f\n",
       "3   Alex   Minsk  1954    NaN      m"
      ]
     },
     "execution_count": 66,
     "metadata": {},
     "output_type": "execute_result"
    }
   ],
   "source": [
    "df[:3]"
   ]
  },
  {
   "cell_type": "code",
   "execution_count": 67,
   "metadata": {
    "collapsed": false
   },
   "outputs": [
    {
     "data": {
      "text/html": [
       "<div>\n",
       "<table border=\"1\" class=\"dataframe\">\n",
       "  <thead>\n",
       "    <tr style=\"text-align: right;\">\n",
       "      <th></th>\n",
       "      <th>Name</th>\n",
       "      <th>City</th>\n",
       "      <th>Year</th>\n",
       "      <th>Grade</th>\n",
       "      <th>Gender</th>\n",
       "    </tr>\n",
       "  </thead>\n",
       "  <tbody>\n",
       "    <tr>\n",
       "      <th>2</th>\n",
       "      <td>Sveta</td>\n",
       "      <td>Kiev</td>\n",
       "      <td>1999</td>\n",
       "      <td>4.0</td>\n",
       "      <td>f</td>\n",
       "    </tr>\n",
       "    <tr>\n",
       "      <th>3</th>\n",
       "      <td>Alex</td>\n",
       "      <td>Minsk</td>\n",
       "      <td>1954</td>\n",
       "      <td>NaN</td>\n",
       "      <td>m</td>\n",
       "    </tr>\n",
       "    <tr>\n",
       "      <th>4</th>\n",
       "      <td>Ivan</td>\n",
       "      <td>St.Petersburg</td>\n",
       "      <td>2005</td>\n",
       "      <td>6.0</td>\n",
       "      <td>m</td>\n",
       "    </tr>\n",
       "  </tbody>\n",
       "</table>\n",
       "</div>"
      ],
      "text/plain": [
       "    Name           City  Year  Grade Gender\n",
       "2  Sveta           Kiev  1999    4.0      f\n",
       "3   Alex          Minsk  1954    NaN      m\n",
       "4   Ivan  St.Petersburg  2005    6.0      m"
      ]
     },
     "execution_count": 67,
     "metadata": {},
     "output_type": "execute_result"
    }
   ],
   "source": [
    "df[1:4]"
   ]
  },
  {
   "cell_type": "markdown",
   "metadata": {},
   "source": [
    "<p>Использование условий</p>"
   ]
  },
  {
   "cell_type": "code",
   "execution_count": 68,
   "metadata": {
    "collapsed": false
   },
   "outputs": [
    {
     "data": {
      "text/html": [
       "<div>\n",
       "<table border=\"1\" class=\"dataframe\">\n",
       "  <thead>\n",
       "    <tr style=\"text-align: right;\">\n",
       "      <th></th>\n",
       "      <th>Name</th>\n",
       "      <th>City</th>\n",
       "      <th>Year</th>\n",
       "      <th>Grade</th>\n",
       "      <th>Gender</th>\n",
       "    </tr>\n",
       "  </thead>\n",
       "  <tbody>\n",
       "    <tr>\n",
       "      <th>1</th>\n",
       "      <td>Dima</td>\n",
       "      <td>Moscow</td>\n",
       "      <td>1988</td>\n",
       "      <td>4.0</td>\n",
       "      <td>m</td>\n",
       "    </tr>\n",
       "  </tbody>\n",
       "</table>\n",
       "</div>"
      ],
      "text/plain": [
       "   Name    City  Year  Grade Gender\n",
       "1  Dima  Moscow  1988    4.0      m"
      ]
     },
     "execution_count": 68,
     "metadata": {},
     "output_type": "execute_result"
    }
   ],
   "source": [
    "df[df.Name == \"Dima\"]"
   ]
  },
  {
   "cell_type": "code",
   "execution_count": 69,
   "metadata": {
    "collapsed": false
   },
   "outputs": [
    {
     "data": {
      "text/html": [
       "<div>\n",
       "<table border=\"1\" class=\"dataframe\">\n",
       "  <thead>\n",
       "    <tr style=\"text-align: right;\">\n",
       "      <th></th>\n",
       "      <th>Name</th>\n",
       "      <th>City</th>\n",
       "      <th>Year</th>\n",
       "      <th>Grade</th>\n",
       "      <th>Gender</th>\n",
       "    </tr>\n",
       "  </thead>\n",
       "  <tbody>\n",
       "    <tr>\n",
       "      <th>4</th>\n",
       "      <td>Ivan</td>\n",
       "      <td>St.Petersburg</td>\n",
       "      <td>2005</td>\n",
       "      <td>6.0</td>\n",
       "      <td>m</td>\n",
       "    </tr>\n",
       "    <tr>\n",
       "      <th>6</th>\n",
       "      <td>Maria</td>\n",
       "      <td>New York</td>\n",
       "      <td>1997</td>\n",
       "      <td>7.0</td>\n",
       "      <td>f</td>\n",
       "    </tr>\n",
       "  </tbody>\n",
       "</table>\n",
       "</div>"
      ],
      "text/plain": [
       "    Name           City  Year  Grade Gender\n",
       "4   Ivan  St.Petersburg  2005    6.0      m\n",
       "6  Maria       New York  1997    7.0      f"
      ]
     },
     "execution_count": 69,
     "metadata": {},
     "output_type": "execute_result"
    }
   ],
   "source": [
    "df[df[\"Grade\"]>=5]"
   ]
  },
  {
   "cell_type": "code",
   "execution_count": 70,
   "metadata": {
    "collapsed": false
   },
   "outputs": [
    {
     "data": {
      "text/html": [
       "<div>\n",
       "<table border=\"1\" class=\"dataframe\">\n",
       "  <thead>\n",
       "    <tr style=\"text-align: right;\">\n",
       "      <th></th>\n",
       "      <th>Name</th>\n",
       "      <th>City</th>\n",
       "      <th>Year</th>\n",
       "      <th>Grade</th>\n",
       "      <th>Gender</th>\n",
       "    </tr>\n",
       "  </thead>\n",
       "  <tbody>\n",
       "    <tr>\n",
       "      <th>4</th>\n",
       "      <td>Ivan</td>\n",
       "      <td>St.Petersburg</td>\n",
       "      <td>2005</td>\n",
       "      <td>6.0</td>\n",
       "      <td>m</td>\n",
       "    </tr>\n",
       "    <tr>\n",
       "      <th>6</th>\n",
       "      <td>Maria</td>\n",
       "      <td>New York</td>\n",
       "      <td>1997</td>\n",
       "      <td>7.0</td>\n",
       "      <td>f</td>\n",
       "    </tr>\n",
       "  </tbody>\n",
       "</table>\n",
       "</div>"
      ],
      "text/plain": [
       "    Name           City  Year  Grade Gender\n",
       "4   Ivan  St.Petersburg  2005    6.0      m\n",
       "6  Maria       New York  1997    7.0      f"
      ]
     },
     "execution_count": 70,
     "metadata": {},
     "output_type": "execute_result"
    }
   ],
   "source": [
    "df[df.Grade>=5]"
   ]
  },
  {
   "cell_type": "code",
   "execution_count": 71,
   "metadata": {
    "collapsed": false
   },
   "outputs": [
    {
     "data": {
      "text/html": [
       "<div>\n",
       "<table border=\"1\" class=\"dataframe\">\n",
       "  <thead>\n",
       "    <tr style=\"text-align: right;\">\n",
       "      <th></th>\n",
       "      <th>Name</th>\n",
       "      <th>City</th>\n",
       "      <th>Year</th>\n",
       "      <th>Grade</th>\n",
       "      <th>Gender</th>\n",
       "    </tr>\n",
       "  </thead>\n",
       "  <tbody>\n",
       "    <tr>\n",
       "      <th>6</th>\n",
       "      <td>Maria</td>\n",
       "      <td>New York</td>\n",
       "      <td>1997</td>\n",
       "      <td>7.0</td>\n",
       "      <td>f</td>\n",
       "    </tr>\n",
       "  </tbody>\n",
       "</table>\n",
       "</div>"
      ],
      "text/plain": [
       "    Name      City  Year  Grade Gender\n",
       "6  Maria  New York  1997    7.0      f"
      ]
     },
     "execution_count": 71,
     "metadata": {},
     "output_type": "execute_result"
    }
   ],
   "source": [
    "df[(df.Grade>=5) & (df.Gender==\"f\")] #Операция \"И\""
   ]
  },
  {
   "cell_type": "code",
   "execution_count": 72,
   "metadata": {
    "collapsed": false
   },
   "outputs": [
    {
     "data": {
      "text/html": [
       "<div>\n",
       "<table border=\"1\" class=\"dataframe\">\n",
       "  <thead>\n",
       "    <tr style=\"text-align: right;\">\n",
       "      <th></th>\n",
       "      <th>Name</th>\n",
       "      <th>City</th>\n",
       "      <th>Year</th>\n",
       "      <th>Grade</th>\n",
       "      <th>Gender</th>\n",
       "    </tr>\n",
       "  </thead>\n",
       "  <tbody>\n",
       "    <tr>\n",
       "      <th>1</th>\n",
       "      <td>Dima</td>\n",
       "      <td>Moscow</td>\n",
       "      <td>1988</td>\n",
       "      <td>4.0</td>\n",
       "      <td>m</td>\n",
       "    </tr>\n",
       "    <tr>\n",
       "      <th>2</th>\n",
       "      <td>Sveta</td>\n",
       "      <td>Kiev</td>\n",
       "      <td>1999</td>\n",
       "      <td>4.0</td>\n",
       "      <td>f</td>\n",
       "    </tr>\n",
       "    <tr>\n",
       "      <th>4</th>\n",
       "      <td>Ivan</td>\n",
       "      <td>St.Petersburg</td>\n",
       "      <td>2005</td>\n",
       "      <td>6.0</td>\n",
       "      <td>m</td>\n",
       "    </tr>\n",
       "  </tbody>\n",
       "</table>\n",
       "</div>"
      ],
      "text/plain": [
       "    Name           City  Year  Grade Gender\n",
       "1   Dima         Moscow  1988    4.0      m\n",
       "2  Sveta           Kiev  1999    4.0      f\n",
       "4   Ivan  St.Petersburg  2005    6.0      m"
      ]
     },
     "execution_count": 72,
     "metadata": {},
     "output_type": "execute_result"
    }
   ],
   "source": [
    "df[(df.Grade==4) | (df.Grade==6)] #Операция \"ИЛИ\""
   ]
  },
  {
   "cell_type": "code",
   "execution_count": 73,
   "metadata": {
    "collapsed": false
   },
   "outputs": [
    {
     "data": {
      "text/html": [
       "<div>\n",
       "<table border=\"1\" class=\"dataframe\">\n",
       "  <thead>\n",
       "    <tr style=\"text-align: right;\">\n",
       "      <th></th>\n",
       "      <th>Name</th>\n",
       "      <th>City</th>\n",
       "      <th>Year</th>\n",
       "      <th>Grade</th>\n",
       "      <th>Gender</th>\n",
       "    </tr>\n",
       "  </thead>\n",
       "  <tbody>\n",
       "    <tr>\n",
       "      <th>3</th>\n",
       "      <td>Alex</td>\n",
       "      <td>Minsk</td>\n",
       "      <td>1954</td>\n",
       "      <td>NaN</td>\n",
       "      <td>m</td>\n",
       "    </tr>\n",
       "    <tr>\n",
       "      <th>5</th>\n",
       "      <td>Kate</td>\n",
       "      <td>London</td>\n",
       "      <td>2001</td>\n",
       "      <td>NaN</td>\n",
       "      <td>f</td>\n",
       "    </tr>\n",
       "  </tbody>\n",
       "</table>\n",
       "</div>"
      ],
      "text/plain": [
       "   Name    City  Year  Grade Gender\n",
       "3  Alex   Minsk  1954    NaN      m\n",
       "5  Kate  London  2001    NaN      f"
      ]
     },
     "execution_count": 73,
     "metadata": {},
     "output_type": "execute_result"
    }
   ],
   "source": [
    "df[np.isnan(df.Grade)]  #Строки с неопредленным значнием Grade"
   ]
  },
  {
   "cell_type": "markdown",
   "metadata": {},
   "source": [
    "<p>Применение метода <b>isin()</b> для вывода строк, в которых значение заданного столбца содержится в списке</p>"
   ]
  },
  {
   "cell_type": "code",
   "execution_count": 74,
   "metadata": {
    "collapsed": false
   },
   "outputs": [
    {
     "data": {
      "text/html": [
       "<div>\n",
       "<table border=\"1\" class=\"dataframe\">\n",
       "  <thead>\n",
       "    <tr style=\"text-align: right;\">\n",
       "      <th></th>\n",
       "      <th>Name</th>\n",
       "      <th>City</th>\n",
       "      <th>Year</th>\n",
       "      <th>Grade</th>\n",
       "      <th>Gender</th>\n",
       "    </tr>\n",
       "  </thead>\n",
       "  <tbody>\n",
       "    <tr>\n",
       "      <th>1</th>\n",
       "      <td>Dima</td>\n",
       "      <td>Moscow</td>\n",
       "      <td>1988</td>\n",
       "      <td>4.0</td>\n",
       "      <td>m</td>\n",
       "    </tr>\n",
       "    <tr>\n",
       "      <th>3</th>\n",
       "      <td>Alex</td>\n",
       "      <td>Minsk</td>\n",
       "      <td>1954</td>\n",
       "      <td>NaN</td>\n",
       "      <td>m</td>\n",
       "    </tr>\n",
       "  </tbody>\n",
       "</table>\n",
       "</div>"
      ],
      "text/plain": [
       "   Name    City  Year  Grade Gender\n",
       "1  Dima  Moscow  1988    4.0      m\n",
       "3  Alex   Minsk  1954    NaN      m"
      ]
     },
     "execution_count": 74,
     "metadata": {},
     "output_type": "execute_result"
    }
   ],
   "source": [
    "l_cities = [\"Moscow\", \"Minsk\"]\n",
    "df2 = df[df.City.isin(l_cities)]\n",
    "df2"
   ]
  },
  {
   "cell_type": "markdown",
   "metadata": {},
   "source": [
    "<p>Добавление/изменение строки</p>"
   ]
  },
  {
   "cell_type": "code",
   "execution_count": 75,
   "metadata": {
    "collapsed": false
   },
   "outputs": [
    {
     "data": {
      "text/html": [
       "<div>\n",
       "<table border=\"1\" class=\"dataframe\">\n",
       "  <thead>\n",
       "    <tr style=\"text-align: right;\">\n",
       "      <th></th>\n",
       "      <th>Name</th>\n",
       "      <th>City</th>\n",
       "      <th>Year</th>\n",
       "      <th>Grade</th>\n",
       "      <th>Gender</th>\n",
       "    </tr>\n",
       "  </thead>\n",
       "  <tbody>\n",
       "    <tr>\n",
       "      <th>1</th>\n",
       "      <td>Dima</td>\n",
       "      <td>Moscow</td>\n",
       "      <td>1988</td>\n",
       "      <td>4.0</td>\n",
       "      <td>m</td>\n",
       "    </tr>\n",
       "    <tr>\n",
       "      <th>2</th>\n",
       "      <td>Sveta</td>\n",
       "      <td>Kiev</td>\n",
       "      <td>1999</td>\n",
       "      <td>4.0</td>\n",
       "      <td>f</td>\n",
       "    </tr>\n",
       "    <tr>\n",
       "      <th>3</th>\n",
       "      <td>Alex</td>\n",
       "      <td>Minsk</td>\n",
       "      <td>1954</td>\n",
       "      <td>NaN</td>\n",
       "      <td>m</td>\n",
       "    </tr>\n",
       "    <tr>\n",
       "      <th>4</th>\n",
       "      <td>Ivan</td>\n",
       "      <td>St.Petersburg</td>\n",
       "      <td>2005</td>\n",
       "      <td>6.0</td>\n",
       "      <td>m</td>\n",
       "    </tr>\n",
       "    <tr>\n",
       "      <th>5</th>\n",
       "      <td>Kate</td>\n",
       "      <td>London</td>\n",
       "      <td>2001</td>\n",
       "      <td>NaN</td>\n",
       "      <td>f</td>\n",
       "    </tr>\n",
       "    <tr>\n",
       "      <th>6</th>\n",
       "      <td>Maria</td>\n",
       "      <td>New York</td>\n",
       "      <td>1997</td>\n",
       "      <td>7.0</td>\n",
       "      <td>f</td>\n",
       "    </tr>\n",
       "    <tr>\n",
       "      <th>10</th>\n",
       "      <td>NewName</td>\n",
       "      <td>NewCity</td>\n",
       "      <td>2016</td>\n",
       "      <td>1.0</td>\n",
       "      <td>f</td>\n",
       "    </tr>\n",
       "  </tbody>\n",
       "</table>\n",
       "</div>"
      ],
      "text/plain": [
       "       Name           City  Year  Grade Gender\n",
       "1      Dima         Moscow  1988    4.0      m\n",
       "2     Sveta           Kiev  1999    4.0      f\n",
       "3      Alex          Minsk  1954    NaN      m\n",
       "4      Ivan  St.Petersburg  2005    6.0      m\n",
       "5      Kate         London  2001    NaN      f\n",
       "6     Maria       New York  1997    7.0      f\n",
       "10  NewName        NewCity  2016    1.0      f"
      ]
     },
     "execution_count": 75,
     "metadata": {},
     "output_type": "execute_result"
    }
   ],
   "source": [
    "df.ix[10] = [\"NewName\",\"NewCity\",2016,1,'f'] #Добавление строки с указанием индекса\n",
    "df"
   ]
  },
  {
   "cell_type": "code",
   "execution_count": 76,
   "metadata": {
    "collapsed": false
   },
   "outputs": [
    {
     "data": {
      "text/html": [
       "<div>\n",
       "<table border=\"1\" class=\"dataframe\">\n",
       "  <thead>\n",
       "    <tr style=\"text-align: right;\">\n",
       "      <th></th>\n",
       "      <th>Name</th>\n",
       "      <th>City</th>\n",
       "      <th>Year</th>\n",
       "      <th>Grade</th>\n",
       "      <th>Gender</th>\n",
       "    </tr>\n",
       "  </thead>\n",
       "  <tbody>\n",
       "    <tr>\n",
       "      <th>1</th>\n",
       "      <td>Dima</td>\n",
       "      <td>Moscow</td>\n",
       "      <td>1988</td>\n",
       "      <td>4.0</td>\n",
       "      <td>m</td>\n",
       "    </tr>\n",
       "    <tr>\n",
       "      <th>2</th>\n",
       "      <td>Sveta</td>\n",
       "      <td>Kiev</td>\n",
       "      <td>1999</td>\n",
       "      <td>4.0</td>\n",
       "      <td>f</td>\n",
       "    </tr>\n",
       "    <tr>\n",
       "      <th>3</th>\n",
       "      <td>Alex</td>\n",
       "      <td>Minsk</td>\n",
       "      <td>1954</td>\n",
       "      <td>NaN</td>\n",
       "      <td>m</td>\n",
       "    </tr>\n",
       "    <tr>\n",
       "      <th>4</th>\n",
       "      <td>Ivan</td>\n",
       "      <td>St.Petersburg</td>\n",
       "      <td>2005</td>\n",
       "      <td>6.0</td>\n",
       "      <td>m</td>\n",
       "    </tr>\n",
       "    <tr>\n",
       "      <th>5</th>\n",
       "      <td>Kate</td>\n",
       "      <td>London</td>\n",
       "      <td>2001</td>\n",
       "      <td>NaN</td>\n",
       "      <td>f</td>\n",
       "    </tr>\n",
       "    <tr>\n",
       "      <th>6</th>\n",
       "      <td>Maria</td>\n",
       "      <td>New York</td>\n",
       "      <td>1997</td>\n",
       "      <td>7.0</td>\n",
       "      <td>f</td>\n",
       "    </tr>\n",
       "    <tr>\n",
       "      <th>10</th>\n",
       "      <td>NewName</td>\n",
       "      <td>NewCity</td>\n",
       "      <td>2016</td>\n",
       "      <td>1.0</td>\n",
       "      <td>f</td>\n",
       "    </tr>\n",
       "    <tr>\n",
       "      <th>11</th>\n",
       "      <td>NewName2</td>\n",
       "      <td>NewCity2</td>\n",
       "      <td>2016</td>\n",
       "      <td>1.0</td>\n",
       "      <td>f</td>\n",
       "    </tr>\n",
       "  </tbody>\n",
       "</table>\n",
       "</div>"
      ],
      "text/plain": [
       "        Name           City  Year  Grade Gender\n",
       "1       Dima         Moscow  1988    4.0      m\n",
       "2      Sveta           Kiev  1999    4.0      f\n",
       "3       Alex          Minsk  1954    NaN      m\n",
       "4       Ivan  St.Petersburg  2005    6.0      m\n",
       "5       Kate         London  2001    NaN      f\n",
       "6      Maria       New York  1997    7.0      f\n",
       "10   NewName        NewCity  2016    1.0      f\n",
       "11  NewName2       NewCity2  2016    1.0      f"
      ]
     },
     "execution_count": 76,
     "metadata": {},
     "output_type": "execute_result"
    }
   ],
   "source": [
    "df.ix[11] = [\"NewName2\",\"NewCity2\",2016,1,'f'] #Добавление строки с указанием индекса\n",
    "df"
   ]
  },
  {
   "cell_type": "code",
   "execution_count": 77,
   "metadata": {
    "collapsed": false
   },
   "outputs": [
    {
     "data": {
      "text/html": [
       "<div>\n",
       "<table border=\"1\" class=\"dataframe\">\n",
       "  <thead>\n",
       "    <tr style=\"text-align: right;\">\n",
       "      <th></th>\n",
       "      <th>Name</th>\n",
       "      <th>City</th>\n",
       "      <th>Year</th>\n",
       "      <th>Grade</th>\n",
       "      <th>Gender</th>\n",
       "    </tr>\n",
       "  </thead>\n",
       "  <tbody>\n",
       "    <tr>\n",
       "      <th>1</th>\n",
       "      <td>Dima</td>\n",
       "      <td>Moscow</td>\n",
       "      <td>1988</td>\n",
       "      <td>4.0</td>\n",
       "      <td>m</td>\n",
       "    </tr>\n",
       "    <tr>\n",
       "      <th>2</th>\n",
       "      <td>Sveta</td>\n",
       "      <td>Kiev</td>\n",
       "      <td>1999</td>\n",
       "      <td>4.0</td>\n",
       "      <td>f</td>\n",
       "    </tr>\n",
       "    <tr>\n",
       "      <th>3</th>\n",
       "      <td>Alex</td>\n",
       "      <td>Minsk</td>\n",
       "      <td>1954</td>\n",
       "      <td>NaN</td>\n",
       "      <td>m</td>\n",
       "    </tr>\n",
       "    <tr>\n",
       "      <th>4</th>\n",
       "      <td>ChangedIvan</td>\n",
       "      <td>St.Petersburg</td>\n",
       "      <td>2005</td>\n",
       "      <td>6.0</td>\n",
       "      <td>m</td>\n",
       "    </tr>\n",
       "    <tr>\n",
       "      <th>5</th>\n",
       "      <td>Kate</td>\n",
       "      <td>London</td>\n",
       "      <td>2001</td>\n",
       "      <td>NaN</td>\n",
       "      <td>f</td>\n",
       "    </tr>\n",
       "    <tr>\n",
       "      <th>6</th>\n",
       "      <td>Maria</td>\n",
       "      <td>New York</td>\n",
       "      <td>1997</td>\n",
       "      <td>7.0</td>\n",
       "      <td>f</td>\n",
       "    </tr>\n",
       "    <tr>\n",
       "      <th>10</th>\n",
       "      <td>NewName</td>\n",
       "      <td>NewCity</td>\n",
       "      <td>2016</td>\n",
       "      <td>1.0</td>\n",
       "      <td>f</td>\n",
       "    </tr>\n",
       "    <tr>\n",
       "      <th>11</th>\n",
       "      <td>NewName2</td>\n",
       "      <td>NewCity2</td>\n",
       "      <td>2016</td>\n",
       "      <td>1.0</td>\n",
       "      <td>f</td>\n",
       "    </tr>\n",
       "  </tbody>\n",
       "</table>\n",
       "</div>"
      ],
      "text/plain": [
       "           Name           City  Year  Grade Gender\n",
       "1          Dima         Moscow  1988    4.0      m\n",
       "2         Sveta           Kiev  1999    4.0      f\n",
       "3          Alex          Minsk  1954    NaN      m\n",
       "4   ChangedIvan  St.Petersburg  2005    6.0      m\n",
       "5          Kate         London  2001    NaN      f\n",
       "6         Maria       New York  1997    7.0      f\n",
       "10      NewName        NewCity  2016    1.0      f\n",
       "11     NewName2       NewCity2  2016    1.0      f"
      ]
     },
     "execution_count": 77,
     "metadata": {},
     "output_type": "execute_result"
    }
   ],
   "source": [
    "df.loc[4] = [\"ChangedIvan\", \"St.Petersburg\", 2005, 6, \"m\"] #Изменение строки с указанием её номера\n",
    "df"
   ]
  },
  {
   "cell_type": "code",
   "execution_count": 78,
   "metadata": {
    "collapsed": false
   },
   "outputs": [
    {
     "data": {
      "text/html": [
       "<div>\n",
       "<table border=\"1\" class=\"dataframe\">\n",
       "  <thead>\n",
       "    <tr style=\"text-align: right;\">\n",
       "      <th></th>\n",
       "      <th>Name</th>\n",
       "      <th>City</th>\n",
       "      <th>Year</th>\n",
       "      <th>Grade</th>\n",
       "      <th>Gender</th>\n",
       "    </tr>\n",
       "  </thead>\n",
       "  <tbody>\n",
       "    <tr>\n",
       "      <th>1</th>\n",
       "      <td>Changed</td>\n",
       "      <td>Changed</td>\n",
       "      <td>2000</td>\n",
       "      <td>10.0</td>\n",
       "      <td>m</td>\n",
       "    </tr>\n",
       "    <tr>\n",
       "      <th>2</th>\n",
       "      <td>Sveta</td>\n",
       "      <td>Kiev</td>\n",
       "      <td>1999</td>\n",
       "      <td>4.0</td>\n",
       "      <td>f</td>\n",
       "    </tr>\n",
       "    <tr>\n",
       "      <th>3</th>\n",
       "      <td>Alex</td>\n",
       "      <td>Minsk</td>\n",
       "      <td>1954</td>\n",
       "      <td>NaN</td>\n",
       "      <td>m</td>\n",
       "    </tr>\n",
       "    <tr>\n",
       "      <th>4</th>\n",
       "      <td>ChangedIvan</td>\n",
       "      <td>St.Petersburg</td>\n",
       "      <td>2005</td>\n",
       "      <td>6.0</td>\n",
       "      <td>m</td>\n",
       "    </tr>\n",
       "    <tr>\n",
       "      <th>5</th>\n",
       "      <td>Kate</td>\n",
       "      <td>London</td>\n",
       "      <td>2001</td>\n",
       "      <td>NaN</td>\n",
       "      <td>f</td>\n",
       "    </tr>\n",
       "    <tr>\n",
       "      <th>6</th>\n",
       "      <td>Maria</td>\n",
       "      <td>New York</td>\n",
       "      <td>1997</td>\n",
       "      <td>7.0</td>\n",
       "      <td>f</td>\n",
       "    </tr>\n",
       "    <tr>\n",
       "      <th>10</th>\n",
       "      <td>NewName</td>\n",
       "      <td>NewCity</td>\n",
       "      <td>2016</td>\n",
       "      <td>1.0</td>\n",
       "      <td>f</td>\n",
       "    </tr>\n",
       "    <tr>\n",
       "      <th>11</th>\n",
       "      <td>NewName2</td>\n",
       "      <td>NewCity2</td>\n",
       "      <td>2016</td>\n",
       "      <td>1.0</td>\n",
       "      <td>f</td>\n",
       "    </tr>\n",
       "  </tbody>\n",
       "</table>\n",
       "</div>"
      ],
      "text/plain": [
       "           Name           City  Year  Grade Gender\n",
       "1       Changed        Changed  2000   10.0      m\n",
       "2         Sveta           Kiev  1999    4.0      f\n",
       "3          Alex          Minsk  1954    NaN      m\n",
       "4   ChangedIvan  St.Petersburg  2005    6.0      m\n",
       "5          Kate         London  2001    NaN      f\n",
       "6         Maria       New York  1997    7.0      f\n",
       "10      NewName        NewCity  2016    1.0      f\n",
       "11     NewName2       NewCity2  2016    1.0      f"
      ]
     },
     "execution_count": 78,
     "metadata": {},
     "output_type": "execute_result"
    }
   ],
   "source": [
    "df.iloc[0] = [\"Changed\", \"Changed\", 2000, 10, \"m\"] #Изменение строки по индексу строки\n",
    "df"
   ]
  },
  {
   "cell_type": "markdown",
   "metadata": {},
   "source": [
    "Метод <b>fillna()</b> заполняет пустые ячейки значением аргумента "
   ]
  },
  {
   "cell_type": "code",
   "execution_count": 79,
   "metadata": {
    "collapsed": false
   },
   "outputs": [
    {
     "data": {
      "text/html": [
       "<div>\n",
       "<table border=\"1\" class=\"dataframe\">\n",
       "  <thead>\n",
       "    <tr style=\"text-align: right;\">\n",
       "      <th></th>\n",
       "      <th>Grade</th>\n",
       "    </tr>\n",
       "  </thead>\n",
       "  <tbody>\n",
       "    <tr>\n",
       "      <th>1</th>\n",
       "      <td>10.0</td>\n",
       "    </tr>\n",
       "    <tr>\n",
       "      <th>2</th>\n",
       "      <td>4.0</td>\n",
       "    </tr>\n",
       "    <tr>\n",
       "      <th>3</th>\n",
       "      <td>3.0</td>\n",
       "    </tr>\n",
       "    <tr>\n",
       "      <th>4</th>\n",
       "      <td>6.0</td>\n",
       "    </tr>\n",
       "    <tr>\n",
       "      <th>5</th>\n",
       "      <td>3.0</td>\n",
       "    </tr>\n",
       "    <tr>\n",
       "      <th>6</th>\n",
       "      <td>7.0</td>\n",
       "    </tr>\n",
       "    <tr>\n",
       "      <th>10</th>\n",
       "      <td>1.0</td>\n",
       "    </tr>\n",
       "    <tr>\n",
       "      <th>11</th>\n",
       "      <td>1.0</td>\n",
       "    </tr>\n",
       "  </tbody>\n",
       "</table>\n",
       "</div>"
      ],
      "text/plain": [
       "    Grade\n",
       "1    10.0\n",
       "2     4.0\n",
       "3     3.0\n",
       "4     6.0\n",
       "5     3.0\n",
       "6     7.0\n",
       "10    1.0\n",
       "11    1.0"
      ]
     },
     "execution_count": 79,
     "metadata": {},
     "output_type": "execute_result"
    }
   ],
   "source": [
    "df4 = df[\"Grade\"].fillna(3) #Возвращает новый DataFrame\n",
    "pnd.DataFrame(df4)"
   ]
  },
  {
   "cell_type": "markdown",
   "metadata": {},
   "source": [
    "<p>Удаление строки</p>"
   ]
  },
  {
   "cell_type": "code",
   "execution_count": 80,
   "metadata": {
    "collapsed": false
   },
   "outputs": [
    {
     "data": {
      "text/html": [
       "<div>\n",
       "<table border=\"1\" class=\"dataframe\">\n",
       "  <thead>\n",
       "    <tr style=\"text-align: right;\">\n",
       "      <th></th>\n",
       "      <th>Name</th>\n",
       "      <th>City</th>\n",
       "      <th>Year</th>\n",
       "      <th>Grade</th>\n",
       "      <th>Gender</th>\n",
       "    </tr>\n",
       "  </thead>\n",
       "  <tbody>\n",
       "    <tr>\n",
       "      <th>1</th>\n",
       "      <td>Changed</td>\n",
       "      <td>Changed</td>\n",
       "      <td>2000</td>\n",
       "      <td>10.0</td>\n",
       "      <td>m</td>\n",
       "    </tr>\n",
       "    <tr>\n",
       "      <th>2</th>\n",
       "      <td>Sveta</td>\n",
       "      <td>Kiev</td>\n",
       "      <td>1999</td>\n",
       "      <td>4.0</td>\n",
       "      <td>f</td>\n",
       "    </tr>\n",
       "    <tr>\n",
       "      <th>3</th>\n",
       "      <td>Alex</td>\n",
       "      <td>Minsk</td>\n",
       "      <td>1954</td>\n",
       "      <td>NaN</td>\n",
       "      <td>m</td>\n",
       "    </tr>\n",
       "    <tr>\n",
       "      <th>4</th>\n",
       "      <td>ChangedIvan</td>\n",
       "      <td>St.Petersburg</td>\n",
       "      <td>2005</td>\n",
       "      <td>6.0</td>\n",
       "      <td>m</td>\n",
       "    </tr>\n",
       "    <tr>\n",
       "      <th>5</th>\n",
       "      <td>Kate</td>\n",
       "      <td>London</td>\n",
       "      <td>2001</td>\n",
       "      <td>NaN</td>\n",
       "      <td>f</td>\n",
       "    </tr>\n",
       "    <tr>\n",
       "      <th>6</th>\n",
       "      <td>Maria</td>\n",
       "      <td>New York</td>\n",
       "      <td>1997</td>\n",
       "      <td>7.0</td>\n",
       "      <td>f</td>\n",
       "    </tr>\n",
       "    <tr>\n",
       "      <th>10</th>\n",
       "      <td>NewName</td>\n",
       "      <td>NewCity</td>\n",
       "      <td>2016</td>\n",
       "      <td>1.0</td>\n",
       "      <td>f</td>\n",
       "    </tr>\n",
       "  </tbody>\n",
       "</table>\n",
       "</div>"
      ],
      "text/plain": [
       "           Name           City  Year  Grade Gender\n",
       "1       Changed        Changed  2000   10.0      m\n",
       "2         Sveta           Kiev  1999    4.0      f\n",
       "3          Alex          Minsk  1954    NaN      m\n",
       "4   ChangedIvan  St.Petersburg  2005    6.0      m\n",
       "5          Kate         London  2001    NaN      f\n",
       "6         Maria       New York  1997    7.0      f\n",
       "10      NewName        NewCity  2016    1.0      f"
      ]
     },
     "execution_count": 80,
     "metadata": {},
     "output_type": "execute_result"
    }
   ],
   "source": [
    "df.drop(df.index[7], axis = 0, inplace = True) #Удаление по номеру строки, axis = 0 - строки, inplace = True - удаляет в df\n",
    "df"
   ]
  },
  {
   "cell_type": "code",
   "execution_count": 81,
   "metadata": {
    "collapsed": false
   },
   "outputs": [
    {
     "data": {
      "text/html": [
       "<div>\n",
       "<table border=\"1\" class=\"dataframe\">\n",
       "  <thead>\n",
       "    <tr style=\"text-align: right;\">\n",
       "      <th></th>\n",
       "      <th>Name</th>\n",
       "      <th>City</th>\n",
       "      <th>Year</th>\n",
       "      <th>Grade</th>\n",
       "      <th>Gender</th>\n",
       "    </tr>\n",
       "  </thead>\n",
       "  <tbody>\n",
       "    <tr>\n",
       "      <th>1</th>\n",
       "      <td>Changed</td>\n",
       "      <td>Changed</td>\n",
       "      <td>2000</td>\n",
       "      <td>10.0</td>\n",
       "      <td>m</td>\n",
       "    </tr>\n",
       "    <tr>\n",
       "      <th>2</th>\n",
       "      <td>Sveta</td>\n",
       "      <td>Kiev</td>\n",
       "      <td>1999</td>\n",
       "      <td>4.0</td>\n",
       "      <td>f</td>\n",
       "    </tr>\n",
       "    <tr>\n",
       "      <th>3</th>\n",
       "      <td>Alex</td>\n",
       "      <td>Minsk</td>\n",
       "      <td>1954</td>\n",
       "      <td>NaN</td>\n",
       "      <td>m</td>\n",
       "    </tr>\n",
       "    <tr>\n",
       "      <th>4</th>\n",
       "      <td>ChangedIvan</td>\n",
       "      <td>St.Petersburg</td>\n",
       "      <td>2005</td>\n",
       "      <td>6.0</td>\n",
       "      <td>m</td>\n",
       "    </tr>\n",
       "    <tr>\n",
       "      <th>5</th>\n",
       "      <td>Kate</td>\n",
       "      <td>London</td>\n",
       "      <td>2001</td>\n",
       "      <td>NaN</td>\n",
       "      <td>f</td>\n",
       "    </tr>\n",
       "    <tr>\n",
       "      <th>6</th>\n",
       "      <td>Maria</td>\n",
       "      <td>New York</td>\n",
       "      <td>1997</td>\n",
       "      <td>7.0</td>\n",
       "      <td>f</td>\n",
       "    </tr>\n",
       "  </tbody>\n",
       "</table>\n",
       "</div>"
      ],
      "text/plain": [
       "          Name           City  Year  Grade Gender\n",
       "1      Changed        Changed  2000   10.0      m\n",
       "2        Sveta           Kiev  1999    4.0      f\n",
       "3         Alex          Minsk  1954    NaN      m\n",
       "4  ChangedIvan  St.Petersburg  2005    6.0      m\n",
       "5         Kate         London  2001    NaN      f\n",
       "6        Maria       New York  1997    7.0      f"
      ]
     },
     "execution_count": 81,
     "metadata": {},
     "output_type": "execute_result"
    }
   ],
   "source": [
    "df.drop(df.index[df.index==10], axis = 0, inplace = True) #Удаление по индексу строки\n",
    "df"
   ]
  },
  {
   "cell_type": "code",
   "execution_count": 82,
   "metadata": {
    "collapsed": false
   },
   "outputs": [
    {
     "data": {
      "text/html": [
       "<div>\n",
       "<table border=\"1\" class=\"dataframe\">\n",
       "  <thead>\n",
       "    <tr style=\"text-align: right;\">\n",
       "      <th></th>\n",
       "      <th>Name</th>\n",
       "      <th>City</th>\n",
       "      <th>Year</th>\n",
       "      <th>Grade</th>\n",
       "      <th>Gender</th>\n",
       "    </tr>\n",
       "  </thead>\n",
       "  <tbody>\n",
       "    <tr>\n",
       "      <th>2</th>\n",
       "      <td>Sveta</td>\n",
       "      <td>Kiev</td>\n",
       "      <td>1999</td>\n",
       "      <td>4.0</td>\n",
       "      <td>f</td>\n",
       "    </tr>\n",
       "    <tr>\n",
       "      <th>3</th>\n",
       "      <td>Alex</td>\n",
       "      <td>Minsk</td>\n",
       "      <td>1954</td>\n",
       "      <td>NaN</td>\n",
       "      <td>m</td>\n",
       "    </tr>\n",
       "    <tr>\n",
       "      <th>4</th>\n",
       "      <td>ChangedIvan</td>\n",
       "      <td>St.Petersburg</td>\n",
       "      <td>2005</td>\n",
       "      <td>6.0</td>\n",
       "      <td>m</td>\n",
       "    </tr>\n",
       "    <tr>\n",
       "      <th>5</th>\n",
       "      <td>Kate</td>\n",
       "      <td>London</td>\n",
       "      <td>2001</td>\n",
       "      <td>NaN</td>\n",
       "      <td>f</td>\n",
       "    </tr>\n",
       "    <tr>\n",
       "      <th>6</th>\n",
       "      <td>Maria</td>\n",
       "      <td>New York</td>\n",
       "      <td>1997</td>\n",
       "      <td>7.0</td>\n",
       "      <td>f</td>\n",
       "    </tr>\n",
       "  </tbody>\n",
       "</table>\n",
       "</div>"
      ],
      "text/plain": [
       "          Name           City  Year  Grade Gender\n",
       "2        Sveta           Kiev  1999    4.0      f\n",
       "3         Alex          Minsk  1954    NaN      m\n",
       "4  ChangedIvan  St.Petersburg  2005    6.0      m\n",
       "5         Kate         London  2001    NaN      f\n",
       "6        Maria       New York  1997    7.0      f"
      ]
     },
     "execution_count": 82,
     "metadata": {},
     "output_type": "execute_result"
    }
   ],
   "source": [
    "df2 = df.drop(df.index[df.index==1], axis = 0, inplace = False)\n",
    "df2"
   ]
  },
  {
   "cell_type": "code",
   "execution_count": 83,
   "metadata": {
    "collapsed": false
   },
   "outputs": [
    {
     "data": {
      "text/html": [
       "<div>\n",
       "<table border=\"1\" class=\"dataframe\">\n",
       "  <thead>\n",
       "    <tr style=\"text-align: right;\">\n",
       "      <th></th>\n",
       "      <th>Name</th>\n",
       "      <th>City</th>\n",
       "      <th>Year</th>\n",
       "      <th>Grade</th>\n",
       "      <th>Gender</th>\n",
       "    </tr>\n",
       "  </thead>\n",
       "  <tbody>\n",
       "    <tr>\n",
       "      <th>1</th>\n",
       "      <td>Changed</td>\n",
       "      <td>Changed</td>\n",
       "      <td>2000</td>\n",
       "      <td>10.0</td>\n",
       "      <td>m</td>\n",
       "    </tr>\n",
       "    <tr>\n",
       "      <th>2</th>\n",
       "      <td>Sveta</td>\n",
       "      <td>Kiev</td>\n",
       "      <td>1999</td>\n",
       "      <td>4.0</td>\n",
       "      <td>f</td>\n",
       "    </tr>\n",
       "    <tr>\n",
       "      <th>3</th>\n",
       "      <td>Alex</td>\n",
       "      <td>Minsk</td>\n",
       "      <td>1954</td>\n",
       "      <td>NaN</td>\n",
       "      <td>m</td>\n",
       "    </tr>\n",
       "    <tr>\n",
       "      <th>4</th>\n",
       "      <td>ChangedIvan</td>\n",
       "      <td>St.Petersburg</td>\n",
       "      <td>2005</td>\n",
       "      <td>6.0</td>\n",
       "      <td>m</td>\n",
       "    </tr>\n",
       "    <tr>\n",
       "      <th>5</th>\n",
       "      <td>Kate</td>\n",
       "      <td>London</td>\n",
       "      <td>2001</td>\n",
       "      <td>NaN</td>\n",
       "      <td>f</td>\n",
       "    </tr>\n",
       "    <tr>\n",
       "      <th>6</th>\n",
       "      <td>Maria</td>\n",
       "      <td>New York</td>\n",
       "      <td>1997</td>\n",
       "      <td>7.0</td>\n",
       "      <td>f</td>\n",
       "    </tr>\n",
       "  </tbody>\n",
       "</table>\n",
       "</div>"
      ],
      "text/plain": [
       "          Name           City  Year  Grade Gender\n",
       "1      Changed        Changed  2000   10.0      m\n",
       "2        Sveta           Kiev  1999    4.0      f\n",
       "3         Alex          Minsk  1954    NaN      m\n",
       "4  ChangedIvan  St.Petersburg  2005    6.0      m\n",
       "5         Kate         London  2001    NaN      f\n",
       "6        Maria       New York  1997    7.0      f"
      ]
     },
     "execution_count": 83,
     "metadata": {},
     "output_type": "execute_result"
    }
   ],
   "source": [
    "df"
   ]
  },
  {
   "cell_type": "markdown",
   "metadata": {},
   "source": [
    "<p>Удаление всех строк, в которых есть неопределенное значение (NaN)</p>"
   ]
  },
  {
   "cell_type": "code",
   "execution_count": 84,
   "metadata": {
    "collapsed": false
   },
   "outputs": [
    {
     "data": {
      "text/html": [
       "<div>\n",
       "<table border=\"1\" class=\"dataframe\">\n",
       "  <thead>\n",
       "    <tr style=\"text-align: right;\">\n",
       "      <th></th>\n",
       "      <th>Name</th>\n",
       "      <th>City</th>\n",
       "      <th>Year</th>\n",
       "      <th>Grade</th>\n",
       "      <th>Gender</th>\n",
       "    </tr>\n",
       "  </thead>\n",
       "  <tbody>\n",
       "    <tr>\n",
       "      <th>1</th>\n",
       "      <td>Changed</td>\n",
       "      <td>Changed</td>\n",
       "      <td>2000</td>\n",
       "      <td>10.0</td>\n",
       "      <td>m</td>\n",
       "    </tr>\n",
       "    <tr>\n",
       "      <th>2</th>\n",
       "      <td>Sveta</td>\n",
       "      <td>Kiev</td>\n",
       "      <td>1999</td>\n",
       "      <td>4.0</td>\n",
       "      <td>f</td>\n",
       "    </tr>\n",
       "    <tr>\n",
       "      <th>4</th>\n",
       "      <td>ChangedIvan</td>\n",
       "      <td>St.Petersburg</td>\n",
       "      <td>2005</td>\n",
       "      <td>6.0</td>\n",
       "      <td>m</td>\n",
       "    </tr>\n",
       "    <tr>\n",
       "      <th>6</th>\n",
       "      <td>Maria</td>\n",
       "      <td>New York</td>\n",
       "      <td>1997</td>\n",
       "      <td>7.0</td>\n",
       "      <td>f</td>\n",
       "    </tr>\n",
       "  </tbody>\n",
       "</table>\n",
       "</div>"
      ],
      "text/plain": [
       "          Name           City  Year  Grade Gender\n",
       "1      Changed        Changed  2000   10.0      m\n",
       "2        Sveta           Kiev  1999    4.0      f\n",
       "4  ChangedIvan  St.Petersburg  2005    6.0      m\n",
       "6        Maria       New York  1997    7.0      f"
      ]
     },
     "execution_count": 84,
     "metadata": {},
     "output_type": "execute_result"
    }
   ],
   "source": [
    "df.dropna() #Возвращает новый DataFrame"
   ]
  },
  {
   "cell_type": "markdown",
   "metadata": {},
   "source": [
    "<a name = \"3c\"></a>\n",
    "<div style=\"padding-top:10px;\">\n",
    "    <div style=\"display: inline-block; font-style:italic; font-weight:bold; font-size:12pt\">c. Значения ячеек</div>\n",
    "    <div style=\"display: inline-block; float:right; width:20%; text-align:center; border:1px solid lightgrey\">\n",
    "        <div style=\"display: inline-block; text-align:center; width:50%; background-color:whitesmoke;\"><a href=\"#3b\">Назад</a></div><div style=\"display: inline-block; text-align:center; width:50%;\"><a href=\"#3d\">Далее</a></div>\n",
    "    </div>\n",
    "</div>"
   ]
  },
  {
   "cell_type": "markdown",
   "metadata": {},
   "source": [
    "<p>Обращение по <b>индексу</b> строки</p>"
   ]
  },
  {
   "cell_type": "code",
   "execution_count": 85,
   "metadata": {
    "collapsed": false
   },
   "outputs": [
    {
     "data": {
      "text/plain": [
       "'Kiev'"
      ]
     },
     "execution_count": 85,
     "metadata": {},
     "output_type": "execute_result"
    }
   ],
   "source": [
    "df.ix[2, 1]"
   ]
  },
  {
   "cell_type": "code",
   "execution_count": 86,
   "metadata": {
    "collapsed": false
   },
   "outputs": [
    {
     "data": {
      "text/plain": [
       "'Kiev'"
      ]
     },
     "execution_count": 86,
     "metadata": {},
     "output_type": "execute_result"
    }
   ],
   "source": [
    "df.ix[2, \"City\"]"
   ]
  },
  {
   "cell_type": "code",
   "execution_count": 87,
   "metadata": {
    "collapsed": false
   },
   "outputs": [
    {
     "data": {
      "text/plain": [
       "'Kiev'"
      ]
     },
     "execution_count": 87,
     "metadata": {},
     "output_type": "execute_result"
    }
   ],
   "source": [
    "df.loc[2, \"City\"]"
   ]
  },
  {
   "cell_type": "markdown",
   "metadata": {},
   "source": [
    "<p>Обращение по <b>позиции</b> (номеру) строки</p>"
   ]
  },
  {
   "cell_type": "code",
   "execution_count": 88,
   "metadata": {
    "collapsed": false
   },
   "outputs": [
    {
     "data": {
      "text/plain": [
       "'Minsk'"
      ]
     },
     "execution_count": 88,
     "metadata": {},
     "output_type": "execute_result"
    }
   ],
   "source": [
    "df.iloc[2, 1]"
   ]
  },
  {
   "cell_type": "markdown",
   "metadata": {},
   "source": [
    "<p>Пример использования с циклом <i>for</i></p>"
   ]
  },
  {
   "cell_type": "code",
   "execution_count": 89,
   "metadata": {
    "collapsed": false
   },
   "outputs": [
    {
     "data": {
      "text/html": [
       "<div>\n",
       "<table border=\"1\" class=\"dataframe\">\n",
       "  <thead>\n",
       "    <tr style=\"text-align: right;\">\n",
       "      <th></th>\n",
       "      <th>Name</th>\n",
       "      <th>City</th>\n",
       "      <th>Year</th>\n",
       "      <th>Grade</th>\n",
       "      <th>Gender</th>\n",
       "    </tr>\n",
       "  </thead>\n",
       "  <tbody>\n",
       "    <tr>\n",
       "      <th>1</th>\n",
       "      <td>Changed</td>\n",
       "      <td>Changed</td>\n",
       "      <td>2000</td>\n",
       "      <td>20.0</td>\n",
       "      <td>m</td>\n",
       "    </tr>\n",
       "    <tr>\n",
       "      <th>2</th>\n",
       "      <td>Sveta</td>\n",
       "      <td>Kiev</td>\n",
       "      <td>1999</td>\n",
       "      <td>14.0</td>\n",
       "      <td>f</td>\n",
       "    </tr>\n",
       "    <tr>\n",
       "      <th>3</th>\n",
       "      <td>Alex</td>\n",
       "      <td>Minsk</td>\n",
       "      <td>1954</td>\n",
       "      <td>NaN</td>\n",
       "      <td>m</td>\n",
       "    </tr>\n",
       "    <tr>\n",
       "      <th>4</th>\n",
       "      <td>ChangedIvan</td>\n",
       "      <td>St.Petersburg</td>\n",
       "      <td>2005</td>\n",
       "      <td>16.0</td>\n",
       "      <td>m</td>\n",
       "    </tr>\n",
       "    <tr>\n",
       "      <th>5</th>\n",
       "      <td>Kate</td>\n",
       "      <td>London</td>\n",
       "      <td>2001</td>\n",
       "      <td>NaN</td>\n",
       "      <td>f</td>\n",
       "    </tr>\n",
       "    <tr>\n",
       "      <th>6</th>\n",
       "      <td>Maria</td>\n",
       "      <td>New York</td>\n",
       "      <td>1997</td>\n",
       "      <td>17.0</td>\n",
       "      <td>f</td>\n",
       "    </tr>\n",
       "  </tbody>\n",
       "</table>\n",
       "</div>"
      ],
      "text/plain": [
       "          Name           City  Year  Grade Gender\n",
       "1      Changed        Changed  2000   20.0      m\n",
       "2        Sveta           Kiev  1999   14.0      f\n",
       "3         Alex          Minsk  1954    NaN      m\n",
       "4  ChangedIvan  St.Petersburg  2005   16.0      m\n",
       "5         Kate         London  2001    NaN      f\n",
       "6        Maria       New York  1997   17.0      f"
      ]
     },
     "execution_count": 89,
     "metadata": {},
     "output_type": "execute_result"
    }
   ],
   "source": [
    "#Изменение значений в столбце Grade на +10\n",
    "for i in range(len(df)):\n",
    "    df.iloc[i, 3] += 10\n",
    "    \n",
    "df"
   ]
  },
  {
   "cell_type": "markdown",
   "metadata": {},
   "source": [
    "<p>Срезы по строкам</p>"
   ]
  },
  {
   "cell_type": "code",
   "execution_count": 90,
   "metadata": {
    "collapsed": false
   },
   "outputs": [
    {
     "data": {
      "text/plain": [
       "1          Changed\n",
       "2             Kiev\n",
       "3            Minsk\n",
       "4    St.Petersburg\n",
       "5           London\n",
       "6         New York\n",
       "Name: City, dtype: object"
      ]
     },
     "execution_count": 90,
     "metadata": {},
     "output_type": "execute_result"
    }
   ],
   "source": [
    "df.loc[:,\"City\"]"
   ]
  },
  {
   "cell_type": "code",
   "execution_count": 91,
   "metadata": {
    "collapsed": false
   },
   "outputs": [
    {
     "data": {
      "text/plain": [
       "2             Kiev\n",
       "3            Minsk\n",
       "4    St.Petersburg\n",
       "Name: City, dtype: object"
      ]
     },
     "execution_count": 91,
     "metadata": {},
     "output_type": "execute_result"
    }
   ],
   "source": [
    "df.iloc[1:4, 1]"
   ]
  },
  {
   "cell_type": "markdown",
   "metadata": {},
   "source": [
    "<p>Срезы по строкам и столбцам</p>"
   ]
  },
  {
   "cell_type": "code",
   "execution_count": 92,
   "metadata": {
    "collapsed": false
   },
   "outputs": [
    {
     "data": {
      "text/html": [
       "<div>\n",
       "<table border=\"1\" class=\"dataframe\">\n",
       "  <thead>\n",
       "    <tr style=\"text-align: right;\">\n",
       "      <th></th>\n",
       "      <th>Name</th>\n",
       "      <th>City</th>\n",
       "      <th>Year</th>\n",
       "    </tr>\n",
       "  </thead>\n",
       "  <tbody>\n",
       "    <tr>\n",
       "      <th>1</th>\n",
       "      <td>Changed</td>\n",
       "      <td>Changed</td>\n",
       "      <td>2000</td>\n",
       "    </tr>\n",
       "    <tr>\n",
       "      <th>2</th>\n",
       "      <td>Sveta</td>\n",
       "      <td>Kiev</td>\n",
       "      <td>1999</td>\n",
       "    </tr>\n",
       "    <tr>\n",
       "      <th>3</th>\n",
       "      <td>Alex</td>\n",
       "      <td>Minsk</td>\n",
       "      <td>1954</td>\n",
       "    </tr>\n",
       "    <tr>\n",
       "      <th>4</th>\n",
       "      <td>ChangedIvan</td>\n",
       "      <td>St.Petersburg</td>\n",
       "      <td>2005</td>\n",
       "    </tr>\n",
       "  </tbody>\n",
       "</table>\n",
       "</div>"
      ],
      "text/plain": [
       "          Name           City  Year\n",
       "1      Changed        Changed  2000\n",
       "2        Sveta           Kiev  1999\n",
       "3         Alex          Minsk  1954\n",
       "4  ChangedIvan  St.Petersburg  2005"
      ]
     },
     "execution_count": 92,
     "metadata": {},
     "output_type": "execute_result"
    }
   ],
   "source": [
    "df.loc[1:4,\"Name\":\"Year\"]"
   ]
  },
  {
   "cell_type": "code",
   "execution_count": 93,
   "metadata": {
    "collapsed": false
   },
   "outputs": [
    {
     "data": {
      "text/html": [
       "<div>\n",
       "<table border=\"1\" class=\"dataframe\">\n",
       "  <thead>\n",
       "    <tr style=\"text-align: right;\">\n",
       "      <th></th>\n",
       "      <th>Name</th>\n",
       "      <th>City</th>\n",
       "      <th>Year</th>\n",
       "      <th>Grade</th>\n",
       "      <th>Gender</th>\n",
       "    </tr>\n",
       "  </thead>\n",
       "  <tbody>\n",
       "    <tr>\n",
       "      <th>1</th>\n",
       "      <td>Changed</td>\n",
       "      <td>Changed</td>\n",
       "      <td>2000</td>\n",
       "      <td>20.0</td>\n",
       "      <td>m</td>\n",
       "    </tr>\n",
       "    <tr>\n",
       "      <th>2</th>\n",
       "      <td>Sveta</td>\n",
       "      <td>Kiev</td>\n",
       "      <td>1999</td>\n",
       "      <td>14.0</td>\n",
       "      <td>f</td>\n",
       "    </tr>\n",
       "    <tr>\n",
       "      <th>3</th>\n",
       "      <td>Alex</td>\n",
       "      <td>Minsk</td>\n",
       "      <td>1954</td>\n",
       "      <td>NaN</td>\n",
       "      <td>m</td>\n",
       "    </tr>\n",
       "    <tr>\n",
       "      <th>4</th>\n",
       "      <td>ChangedIvan</td>\n",
       "      <td>St.Petersburg</td>\n",
       "      <td>2005</td>\n",
       "      <td>16.0</td>\n",
       "      <td>m</td>\n",
       "    </tr>\n",
       "    <tr>\n",
       "      <th>5</th>\n",
       "      <td>Kate</td>\n",
       "      <td>London</td>\n",
       "      <td>2001</td>\n",
       "      <td>NaN</td>\n",
       "      <td>f</td>\n",
       "    </tr>\n",
       "    <tr>\n",
       "      <th>6</th>\n",
       "      <td>Maria</td>\n",
       "      <td>New York</td>\n",
       "      <td>1997</td>\n",
       "      <td>17.0</td>\n",
       "      <td>f</td>\n",
       "    </tr>\n",
       "  </tbody>\n",
       "</table>\n",
       "</div>"
      ],
      "text/plain": [
       "          Name           City  Year  Grade Gender\n",
       "1      Changed        Changed  2000   20.0      m\n",
       "2        Sveta           Kiev  1999   14.0      f\n",
       "3         Alex          Minsk  1954    NaN      m\n",
       "4  ChangedIvan  St.Petersburg  2005   16.0      m\n",
       "5         Kate         London  2001    NaN      f\n",
       "6        Maria       New York  1997   17.0      f"
      ]
     },
     "execution_count": 93,
     "metadata": {},
     "output_type": "execute_result"
    }
   ],
   "source": [
    "df"
   ]
  },
  {
   "cell_type": "markdown",
   "metadata": {},
   "source": [
    "<p>Изменение значения ячейки. Если нет указанного индекса в <span style=\"font-weight:bold; color:green\">DataFrame</span>'е, то добавляется новая строка</p>"
   ]
  },
  {
   "cell_type": "code",
   "execution_count": 94,
   "metadata": {
    "collapsed": false
   },
   "outputs": [
    {
     "data": {
      "text/html": [
       "<div>\n",
       "<table border=\"1\" class=\"dataframe\">\n",
       "  <thead>\n",
       "    <tr style=\"text-align: right;\">\n",
       "      <th></th>\n",
       "      <th>Name</th>\n",
       "      <th>City</th>\n",
       "      <th>Year</th>\n",
       "      <th>Grade</th>\n",
       "      <th>Gender</th>\n",
       "    </tr>\n",
       "  </thead>\n",
       "  <tbody>\n",
       "    <tr>\n",
       "      <th>1</th>\n",
       "      <td>Changed</td>\n",
       "      <td>Changed</td>\n",
       "      <td>2000</td>\n",
       "      <td>20.0</td>\n",
       "      <td>m</td>\n",
       "    </tr>\n",
       "    <tr>\n",
       "      <th>2</th>\n",
       "      <td>NewName</td>\n",
       "      <td>Kiev</td>\n",
       "      <td>1999</td>\n",
       "      <td>14.0</td>\n",
       "      <td>f</td>\n",
       "    </tr>\n",
       "    <tr>\n",
       "      <th>3</th>\n",
       "      <td>Alex</td>\n",
       "      <td>Minsk</td>\n",
       "      <td>1954</td>\n",
       "      <td>NaN</td>\n",
       "      <td>m</td>\n",
       "    </tr>\n",
       "    <tr>\n",
       "      <th>4</th>\n",
       "      <td>ChangedIvan</td>\n",
       "      <td>St.Petersburg</td>\n",
       "      <td>2005</td>\n",
       "      <td>16.0</td>\n",
       "      <td>m</td>\n",
       "    </tr>\n",
       "    <tr>\n",
       "      <th>5</th>\n",
       "      <td>Kate</td>\n",
       "      <td>London</td>\n",
       "      <td>2001</td>\n",
       "      <td>NaN</td>\n",
       "      <td>f</td>\n",
       "    </tr>\n",
       "    <tr>\n",
       "      <th>6</th>\n",
       "      <td>Maria</td>\n",
       "      <td>New York</td>\n",
       "      <td>1997</td>\n",
       "      <td>17.0</td>\n",
       "      <td>f</td>\n",
       "    </tr>\n",
       "  </tbody>\n",
       "</table>\n",
       "</div>"
      ],
      "text/plain": [
       "          Name           City  Year  Grade Gender\n",
       "1      Changed        Changed  2000   20.0      m\n",
       "2      NewName           Kiev  1999   14.0      f\n",
       "3         Alex          Minsk  1954    NaN      m\n",
       "4  ChangedIvan  St.Petersburg  2005   16.0      m\n",
       "5         Kate         London  2001    NaN      f\n",
       "6        Maria       New York  1997   17.0      f"
      ]
     },
     "execution_count": 94,
     "metadata": {},
     "output_type": "execute_result"
    }
   ],
   "source": [
    "df.set_value(2, \"Name\", \"NewName\")"
   ]
  },
  {
   "cell_type": "code",
   "execution_count": 95,
   "metadata": {
    "collapsed": false
   },
   "outputs": [
    {
     "data": {
      "text/html": [
       "<div>\n",
       "<table border=\"1\" class=\"dataframe\">\n",
       "  <thead>\n",
       "    <tr style=\"text-align: right;\">\n",
       "      <th></th>\n",
       "      <th>Name</th>\n",
       "      <th>City</th>\n",
       "      <th>Year</th>\n",
       "      <th>Grade</th>\n",
       "      <th>Gender</th>\n",
       "    </tr>\n",
       "  </thead>\n",
       "  <tbody>\n",
       "    <tr>\n",
       "      <th>1</th>\n",
       "      <td>Changed</td>\n",
       "      <td>Changed</td>\n",
       "      <td>2000.0</td>\n",
       "      <td>20.0</td>\n",
       "      <td>m</td>\n",
       "    </tr>\n",
       "    <tr>\n",
       "      <th>2</th>\n",
       "      <td>NewName</td>\n",
       "      <td>Kiev</td>\n",
       "      <td>1999.0</td>\n",
       "      <td>14.0</td>\n",
       "      <td>f</td>\n",
       "    </tr>\n",
       "    <tr>\n",
       "      <th>3</th>\n",
       "      <td>Alex</td>\n",
       "      <td>Minsk</td>\n",
       "      <td>1954.0</td>\n",
       "      <td>NaN</td>\n",
       "      <td>m</td>\n",
       "    </tr>\n",
       "    <tr>\n",
       "      <th>4</th>\n",
       "      <td>ChangedIvan</td>\n",
       "      <td>St.Petersburg</td>\n",
       "      <td>2005.0</td>\n",
       "      <td>16.0</td>\n",
       "      <td>m</td>\n",
       "    </tr>\n",
       "    <tr>\n",
       "      <th>5</th>\n",
       "      <td>Kate</td>\n",
       "      <td>London</td>\n",
       "      <td>2001.0</td>\n",
       "      <td>NaN</td>\n",
       "      <td>f</td>\n",
       "    </tr>\n",
       "    <tr>\n",
       "      <th>6</th>\n",
       "      <td>Maria</td>\n",
       "      <td>New York</td>\n",
       "      <td>1997.0</td>\n",
       "      <td>17.0</td>\n",
       "      <td>f</td>\n",
       "    </tr>\n",
       "    <tr>\n",
       "      <th>7</th>\n",
       "      <td>NewName</td>\n",
       "      <td>NaN</td>\n",
       "      <td>NaN</td>\n",
       "      <td>NaN</td>\n",
       "      <td>NaN</td>\n",
       "    </tr>\n",
       "  </tbody>\n",
       "</table>\n",
       "</div>"
      ],
      "text/plain": [
       "          Name           City    Year  Grade Gender\n",
       "1      Changed        Changed  2000.0   20.0      m\n",
       "2      NewName           Kiev  1999.0   14.0      f\n",
       "3         Alex          Minsk  1954.0    NaN      m\n",
       "4  ChangedIvan  St.Petersburg  2005.0   16.0      m\n",
       "5         Kate         London  2001.0    NaN      f\n",
       "6        Maria       New York  1997.0   17.0      f\n",
       "7      NewName            NaN     NaN    NaN    NaN"
      ]
     },
     "execution_count": 95,
     "metadata": {},
     "output_type": "execute_result"
    }
   ],
   "source": [
    "df.set_value(7, \"Name\", \"NewName\")"
   ]
  },
  {
   "cell_type": "code",
   "execution_count": 96,
   "metadata": {
    "collapsed": false
   },
   "outputs": [
    {
     "data": {
      "text/html": [
       "<div>\n",
       "<table border=\"1\" class=\"dataframe\">\n",
       "  <thead>\n",
       "    <tr style=\"text-align: right;\">\n",
       "      <th></th>\n",
       "      <th>Name</th>\n",
       "      <th>City</th>\n",
       "      <th>Year</th>\n",
       "      <th>Grade</th>\n",
       "      <th>Gender</th>\n",
       "    </tr>\n",
       "  </thead>\n",
       "  <tbody>\n",
       "    <tr>\n",
       "      <th>1</th>\n",
       "      <td>Changed</td>\n",
       "      <td>Changed</td>\n",
       "      <td>2000.0</td>\n",
       "      <td>20.0</td>\n",
       "      <td>m</td>\n",
       "    </tr>\n",
       "    <tr>\n",
       "      <th>2</th>\n",
       "      <td>NewName</td>\n",
       "      <td>Kiev</td>\n",
       "      <td>1999.0</td>\n",
       "      <td>14.0</td>\n",
       "      <td>f</td>\n",
       "    </tr>\n",
       "    <tr>\n",
       "      <th>3</th>\n",
       "      <td>Alex</td>\n",
       "      <td>Minsk</td>\n",
       "      <td>1954.0</td>\n",
       "      <td>NaN</td>\n",
       "      <td>m</td>\n",
       "    </tr>\n",
       "    <tr>\n",
       "      <th>4</th>\n",
       "      <td>ChangedIvan</td>\n",
       "      <td>St.Petersburg</td>\n",
       "      <td>2005.0</td>\n",
       "      <td>16.0</td>\n",
       "      <td>m</td>\n",
       "    </tr>\n",
       "    <tr>\n",
       "      <th>5</th>\n",
       "      <td>Kate</td>\n",
       "      <td>London</td>\n",
       "      <td>2001.0</td>\n",
       "      <td>NaN</td>\n",
       "      <td>f</td>\n",
       "    </tr>\n",
       "    <tr>\n",
       "      <th>6</th>\n",
       "      <td>Maria</td>\n",
       "      <td>New York</td>\n",
       "      <td>1997.0</td>\n",
       "      <td>17.0</td>\n",
       "      <td>f</td>\n",
       "    </tr>\n",
       "  </tbody>\n",
       "</table>\n",
       "</div>"
      ],
      "text/plain": [
       "          Name           City    Year  Grade Gender\n",
       "1      Changed        Changed  2000.0   20.0      m\n",
       "2      NewName           Kiev  1999.0   14.0      f\n",
       "3         Alex          Minsk  1954.0    NaN      m\n",
       "4  ChangedIvan  St.Petersburg  2005.0   16.0      m\n",
       "5         Kate         London  2001.0    NaN      f\n",
       "6        Maria       New York  1997.0   17.0      f"
      ]
     },
     "execution_count": 96,
     "metadata": {},
     "output_type": "execute_result"
    }
   ],
   "source": [
    "df.drop(df.index[df.index==7], axis = 0, inplace = True) #Удаление по индексу строки\n",
    "df"
   ]
  },
  {
   "cell_type": "markdown",
   "metadata": {},
   "source": [
    "<a name = \"3d\"></a>\n",
    "<div style=\"padding-top:10px;\">\n",
    "    <div style=\"display: inline-block; font-style:italic; font-weight:bold; font-size:12pt\">d. Группировка</div>\n",
    "    <div style=\"display: inline-block; float:right; width:20%; text-align:center; border:1px solid lightgrey\">\n",
    "        <div style=\"display: inline-block; text-align:center; width:50%; background-color:whitesmoke;\"><a href=\"#3c\">Назад</a></div><div style=\"display: inline-block; text-align:center; width:50%;\"><a href=\"#3e\">Далее</a></div>\n",
    "    </div>\n",
    "</div>"
   ]
  },
  {
   "cell_type": "code",
   "execution_count": 97,
   "metadata": {
    "collapsed": false
   },
   "outputs": [
    {
     "data": {
      "text/html": [
       "<div>\n",
       "<table border=\"1\" class=\"dataframe\">\n",
       "  <thead>\n",
       "    <tr style=\"text-align: right;\">\n",
       "      <th></th>\n",
       "      <th>Name</th>\n",
       "      <th>City</th>\n",
       "      <th>Year</th>\n",
       "      <th>Grade</th>\n",
       "      <th>Gender</th>\n",
       "      <th>Salary</th>\n",
       "      <th>Marriage</th>\n",
       "    </tr>\n",
       "  </thead>\n",
       "  <tbody>\n",
       "    <tr>\n",
       "      <th>1</th>\n",
       "      <td>Changed</td>\n",
       "      <td>Changed</td>\n",
       "      <td>2000.0</td>\n",
       "      <td>20.0</td>\n",
       "      <td>m</td>\n",
       "      <td>10</td>\n",
       "      <td>True</td>\n",
       "    </tr>\n",
       "    <tr>\n",
       "      <th>2</th>\n",
       "      <td>NewName</td>\n",
       "      <td>Kiev</td>\n",
       "      <td>1999.0</td>\n",
       "      <td>14.0</td>\n",
       "      <td>f</td>\n",
       "      <td>40</td>\n",
       "      <td>False</td>\n",
       "    </tr>\n",
       "    <tr>\n",
       "      <th>3</th>\n",
       "      <td>Alex</td>\n",
       "      <td>Minsk</td>\n",
       "      <td>1954.0</td>\n",
       "      <td>NaN</td>\n",
       "      <td>m</td>\n",
       "      <td>50</td>\n",
       "      <td>True</td>\n",
       "    </tr>\n",
       "    <tr>\n",
       "      <th>4</th>\n",
       "      <td>ChangedIvan</td>\n",
       "      <td>St.Petersburg</td>\n",
       "      <td>2005.0</td>\n",
       "      <td>16.0</td>\n",
       "      <td>m</td>\n",
       "      <td>30</td>\n",
       "      <td>True</td>\n",
       "    </tr>\n",
       "    <tr>\n",
       "      <th>5</th>\n",
       "      <td>Kate</td>\n",
       "      <td>London</td>\n",
       "      <td>2001.0</td>\n",
       "      <td>NaN</td>\n",
       "      <td>f</td>\n",
       "      <td>70</td>\n",
       "      <td>True</td>\n",
       "    </tr>\n",
       "    <tr>\n",
       "      <th>6</th>\n",
       "      <td>Maria</td>\n",
       "      <td>New York</td>\n",
       "      <td>1997.0</td>\n",
       "      <td>17.0</td>\n",
       "      <td>f</td>\n",
       "      <td>49</td>\n",
       "      <td>False</td>\n",
       "    </tr>\n",
       "  </tbody>\n",
       "</table>\n",
       "</div>"
      ],
      "text/plain": [
       "          Name           City    Year  Grade Gender  Salary Marriage\n",
       "1      Changed        Changed  2000.0   20.0      m      10     True\n",
       "2      NewName           Kiev  1999.0   14.0      f      40    False\n",
       "3         Alex          Minsk  1954.0    NaN      m      50     True\n",
       "4  ChangedIvan  St.Petersburg  2005.0   16.0      m      30     True\n",
       "5         Kate         London  2001.0    NaN      f      70     True\n",
       "6        Maria       New York  1997.0   17.0      f      49    False"
      ]
     },
     "execution_count": 97,
     "metadata": {},
     "output_type": "execute_result"
    }
   ],
   "source": [
    "lSalary = [10, 40, 50, 30, 70, 49]\n",
    "lMarrStatus = [True, False, True, True, True, False]\n",
    "dfGroup = df.copy()\n",
    "dfGroup[\"Salary\"] = lSalary\n",
    "dfGroup[\"Marriage\"] = lMarrStatus\n",
    "dfGroup"
   ]
  },
  {
   "cell_type": "markdown",
   "metadata": {},
   "source": [
    "<p>Итеративный объект с группами по значению столбца</p>"
   ]
  },
  {
   "cell_type": "code",
   "execution_count": 98,
   "metadata": {
    "collapsed": false
   },
   "outputs": [
    {
     "data": {
      "text/plain": [
       "<pandas.core.groupby.DataFrameGroupBy object at 0x7f11126fecf8>"
      ]
     },
     "execution_count": 98,
     "metadata": {},
     "output_type": "execute_result"
    }
   ],
   "source": [
    "gb = dfGroup.groupby(\"Gender\")\n",
    "gb"
   ]
  },
  {
   "cell_type": "markdown",
   "metadata": {},
   "source": [
    "<p>Использование цикла <i>for</i> для доступа к группам</p>"
   ]
  },
  {
   "cell_type": "code",
   "execution_count": 99,
   "metadata": {
    "collapsed": false
   },
   "outputs": [
    {
     "name": "stdout",
     "output_type": "stream",
     "text": [
      "f\n",
      "      Name      City    Year  Grade Gender  Salary Marriage\n",
      "2  NewName      Kiev  1999.0   14.0      f      40    False\n",
      "5     Kate    London  2001.0    NaN      f      70     True\n",
      "6    Maria  New York  1997.0   17.0      f      49    False\n",
      "m\n",
      "          Name           City    Year  Grade Gender  Salary Marriage\n",
      "1      Changed        Changed  2000.0   20.0      m      10     True\n",
      "3         Alex          Minsk  1954.0    NaN      m      50     True\n",
      "4  ChangedIvan  St.Petersburg  2005.0   16.0      m      30     True\n"
     ]
    }
   ],
   "source": [
    "for i, grDF in gb:\n",
    "    print(i)\n",
    "    print(grDF)"
   ]
  },
  {
   "cell_type": "markdown",
   "metadata": {},
   "source": [
    "<p>Количество строк в каждой группе</p>"
   ]
  },
  {
   "cell_type": "code",
   "execution_count": 100,
   "metadata": {
    "collapsed": false
   },
   "outputs": [
    {
     "data": {
      "text/plain": [
       "Gender\n",
       "f    3\n",
       "m    3\n",
       "dtype: int64"
      ]
     },
     "execution_count": 100,
     "metadata": {},
     "output_type": "execute_result"
    }
   ],
   "source": [
    "gb.size()"
   ]
  },
  {
   "cell_type": "markdown",
   "metadata": {},
   "source": [
    "<p>Группировка по нескольким столбцам</p>"
   ]
  },
  {
   "cell_type": "code",
   "execution_count": 101,
   "metadata": {
    "collapsed": false
   },
   "outputs": [
    {
     "data": {
      "text/plain": [
       "<pandas.core.groupby.DataFrameGroupBy object at 0x7f111268f710>"
      ]
     },
     "execution_count": 101,
     "metadata": {},
     "output_type": "execute_result"
    }
   ],
   "source": [
    "gb2 = dfGroup.groupby([\"Gender\",\"Marriage\"])\n",
    "gb2"
   ]
  },
  {
   "cell_type": "code",
   "execution_count": 102,
   "metadata": {
    "collapsed": false
   },
   "outputs": [
    {
     "name": "stdout",
     "output_type": "stream",
     "text": [
      "('f', False)\n",
      "      Name      City    Year  Grade Gender  Salary Marriage\n",
      "2  NewName      Kiev  1999.0   14.0      f      40    False\n",
      "6    Maria  New York  1997.0   17.0      f      49    False\n",
      "('f', True)\n",
      "   Name    City    Year  Grade Gender  Salary Marriage\n",
      "5  Kate  London  2001.0    NaN      f      70     True\n",
      "('m', True)\n",
      "          Name           City    Year  Grade Gender  Salary Marriage\n",
      "1      Changed        Changed  2000.0   20.0      m      10     True\n",
      "3         Alex          Minsk  1954.0    NaN      m      50     True\n",
      "4  ChangedIvan  St.Petersburg  2005.0   16.0      m      30     True\n"
     ]
    }
   ],
   "source": [
    "for i, grDF in gb2:\n",
    "    print(i)\n",
    "    print(grDF)"
   ]
  },
  {
   "cell_type": "markdown",
   "metadata": {},
   "source": [
    "<p>Получение <span style=\"font-weight:bold; color:green\">DataFrame</span>'а группы по значению</p>"
   ]
  },
  {
   "cell_type": "code",
   "execution_count": 103,
   "metadata": {
    "collapsed": false
   },
   "outputs": [
    {
     "data": {
      "text/html": [
       "<div>\n",
       "<table border=\"1\" class=\"dataframe\">\n",
       "  <thead>\n",
       "    <tr style=\"text-align: right;\">\n",
       "      <th></th>\n",
       "      <th>Name</th>\n",
       "      <th>City</th>\n",
       "      <th>Year</th>\n",
       "      <th>Grade</th>\n",
       "      <th>Gender</th>\n",
       "      <th>Salary</th>\n",
       "      <th>Marriage</th>\n",
       "    </tr>\n",
       "  </thead>\n",
       "  <tbody>\n",
       "    <tr>\n",
       "      <th>2</th>\n",
       "      <td>NewName</td>\n",
       "      <td>Kiev</td>\n",
       "      <td>1999.0</td>\n",
       "      <td>14.0</td>\n",
       "      <td>f</td>\n",
       "      <td>40</td>\n",
       "      <td>False</td>\n",
       "    </tr>\n",
       "    <tr>\n",
       "      <th>5</th>\n",
       "      <td>Kate</td>\n",
       "      <td>London</td>\n",
       "      <td>2001.0</td>\n",
       "      <td>NaN</td>\n",
       "      <td>f</td>\n",
       "      <td>70</td>\n",
       "      <td>True</td>\n",
       "    </tr>\n",
       "    <tr>\n",
       "      <th>6</th>\n",
       "      <td>Maria</td>\n",
       "      <td>New York</td>\n",
       "      <td>1997.0</td>\n",
       "      <td>17.0</td>\n",
       "      <td>f</td>\n",
       "      <td>49</td>\n",
       "      <td>False</td>\n",
       "    </tr>\n",
       "  </tbody>\n",
       "</table>\n",
       "</div>"
      ],
      "text/plain": [
       "      Name      City    Year  Grade Gender  Salary Marriage\n",
       "2  NewName      Kiev  1999.0   14.0      f      40    False\n",
       "5     Kate    London  2001.0    NaN      f      70     True\n",
       "6    Maria  New York  1997.0   17.0      f      49    False"
      ]
     },
     "execution_count": 103,
     "metadata": {},
     "output_type": "execute_result"
    }
   ],
   "source": [
    "df2 = gb.get_group(\"f\")\n",
    "df2"
   ]
  },
  {
   "cell_type": "code",
   "execution_count": 104,
   "metadata": {
    "collapsed": false
   },
   "outputs": [
    {
     "data": {
      "text/html": [
       "<div>\n",
       "<table border=\"1\" class=\"dataframe\">\n",
       "  <thead>\n",
       "    <tr style=\"text-align: right;\">\n",
       "      <th></th>\n",
       "      <th>Name</th>\n",
       "      <th>City</th>\n",
       "      <th>Year</th>\n",
       "      <th>Grade</th>\n",
       "      <th>Gender</th>\n",
       "      <th>Salary</th>\n",
       "      <th>Marriage</th>\n",
       "    </tr>\n",
       "  </thead>\n",
       "  <tbody>\n",
       "    <tr>\n",
       "      <th>2</th>\n",
       "      <td>NewName</td>\n",
       "      <td>Kiev</td>\n",
       "      <td>1999.0</td>\n",
       "      <td>14.0</td>\n",
       "      <td>f</td>\n",
       "      <td>40</td>\n",
       "      <td>False</td>\n",
       "    </tr>\n",
       "    <tr>\n",
       "      <th>6</th>\n",
       "      <td>Maria</td>\n",
       "      <td>New York</td>\n",
       "      <td>1997.0</td>\n",
       "      <td>17.0</td>\n",
       "      <td>f</td>\n",
       "      <td>49</td>\n",
       "      <td>False</td>\n",
       "    </tr>\n",
       "  </tbody>\n",
       "</table>\n",
       "</div>"
      ],
      "text/plain": [
       "      Name      City    Year  Grade Gender  Salary Marriage\n",
       "2  NewName      Kiev  1999.0   14.0      f      40    False\n",
       "6    Maria  New York  1997.0   17.0      f      49    False"
      ]
     },
     "execution_count": 104,
     "metadata": {},
     "output_type": "execute_result"
    }
   ],
   "source": [
    "gb2.get_group(('f', False))"
   ]
  },
  {
   "cell_type": "markdown",
   "metadata": {},
   "source": [
    "<p>Фильтр для групп</p>"
   ]
  },
  {
   "cell_type": "code",
   "execution_count": 105,
   "metadata": {
    "collapsed": false
   },
   "outputs": [
    {
     "data": {
      "text/html": [
       "<div>\n",
       "<table border=\"1\" class=\"dataframe\">\n",
       "  <thead>\n",
       "    <tr style=\"text-align: right;\">\n",
       "      <th></th>\n",
       "      <th>Name</th>\n",
       "      <th>City</th>\n",
       "      <th>Year</th>\n",
       "      <th>Grade</th>\n",
       "      <th>Gender</th>\n",
       "      <th>Salary</th>\n",
       "      <th>Marriage</th>\n",
       "    </tr>\n",
       "  </thead>\n",
       "  <tbody>\n",
       "    <tr>\n",
       "      <th>1</th>\n",
       "      <td>Changed</td>\n",
       "      <td>Changed</td>\n",
       "      <td>2000.0</td>\n",
       "      <td>20.0</td>\n",
       "      <td>m</td>\n",
       "      <td>10</td>\n",
       "      <td>True</td>\n",
       "    </tr>\n",
       "    <tr>\n",
       "      <th>3</th>\n",
       "      <td>Alex</td>\n",
       "      <td>Minsk</td>\n",
       "      <td>1954.0</td>\n",
       "      <td>NaN</td>\n",
       "      <td>m</td>\n",
       "      <td>50</td>\n",
       "      <td>True</td>\n",
       "    </tr>\n",
       "    <tr>\n",
       "      <th>4</th>\n",
       "      <td>ChangedIvan</td>\n",
       "      <td>St.Petersburg</td>\n",
       "      <td>2005.0</td>\n",
       "      <td>16.0</td>\n",
       "      <td>m</td>\n",
       "      <td>30</td>\n",
       "      <td>True</td>\n",
       "    </tr>\n",
       "  </tbody>\n",
       "</table>\n",
       "</div>"
      ],
      "text/plain": [
       "          Name           City    Year  Grade Gender  Salary Marriage\n",
       "1      Changed        Changed  2000.0   20.0      m      10     True\n",
       "3         Alex          Minsk  1954.0    NaN      m      50     True\n",
       "4  ChangedIvan  St.Petersburg  2005.0   16.0      m      30     True"
      ]
     },
     "execution_count": 105,
     "metadata": {},
     "output_type": "execute_result"
    }
   ],
   "source": [
    "dfGroup.groupby(\"Gender\").filter(lambda group: group.Grade.sum() > 35) #Возвращает DataFrame с группами, в которых сумма Grade > 10"
   ]
  },
  {
   "cell_type": "markdown",
   "metadata": {},
   "source": [
    "<p>Агрегирование в группах</p>"
   ]
  },
  {
   "cell_type": "code",
   "execution_count": 106,
   "metadata": {
    "collapsed": false
   },
   "outputs": [
    {
     "data": {
      "text/html": [
       "<div>\n",
       "<table border=\"1\" class=\"dataframe\">\n",
       "  <thead>\n",
       "    <tr style=\"text-align: right;\">\n",
       "      <th></th>\n",
       "      <th>Gender</th>\n",
       "      <th>Grade</th>\n",
       "      <th>Salary</th>\n",
       "    </tr>\n",
       "  </thead>\n",
       "  <tbody>\n",
       "    <tr>\n",
       "      <th>1</th>\n",
       "      <td>m</td>\n",
       "      <td>20.0</td>\n",
       "      <td>10</td>\n",
       "    </tr>\n",
       "    <tr>\n",
       "      <th>2</th>\n",
       "      <td>f</td>\n",
       "      <td>14.0</td>\n",
       "      <td>40</td>\n",
       "    </tr>\n",
       "    <tr>\n",
       "      <th>3</th>\n",
       "      <td>m</td>\n",
       "      <td>NaN</td>\n",
       "      <td>50</td>\n",
       "    </tr>\n",
       "    <tr>\n",
       "      <th>4</th>\n",
       "      <td>m</td>\n",
       "      <td>16.0</td>\n",
       "      <td>30</td>\n",
       "    </tr>\n",
       "    <tr>\n",
       "      <th>5</th>\n",
       "      <td>f</td>\n",
       "      <td>NaN</td>\n",
       "      <td>70</td>\n",
       "    </tr>\n",
       "    <tr>\n",
       "      <th>6</th>\n",
       "      <td>f</td>\n",
       "      <td>17.0</td>\n",
       "      <td>49</td>\n",
       "    </tr>\n",
       "  </tbody>\n",
       "</table>\n",
       "</div>"
      ],
      "text/plain": [
       "  Gender  Grade  Salary\n",
       "1      m   20.0      10\n",
       "2      f   14.0      40\n",
       "3      m    NaN      50\n",
       "4      m   16.0      30\n",
       "5      f    NaN      70\n",
       "6      f   17.0      49"
      ]
     },
     "execution_count": 106,
     "metadata": {},
     "output_type": "execute_result"
    }
   ],
   "source": [
    "df2 = dfGroup[[\"Gender\", \"Grade\", \"Salary\"]]\n",
    "df2"
   ]
  },
  {
   "cell_type": "code",
   "execution_count": 107,
   "metadata": {
    "collapsed": false
   },
   "outputs": [
    {
     "data": {
      "text/html": [
       "<div>\n",
       "<table border=\"1\" class=\"dataframe\">\n",
       "  <thead>\n",
       "    <tr style=\"text-align: right;\">\n",
       "      <th></th>\n",
       "      <th>Grade</th>\n",
       "      <th>Salary</th>\n",
       "    </tr>\n",
       "    <tr>\n",
       "      <th>Gender</th>\n",
       "      <th></th>\n",
       "      <th></th>\n",
       "    </tr>\n",
       "  </thead>\n",
       "  <tbody>\n",
       "    <tr>\n",
       "      <th>f</th>\n",
       "      <td>31.0</td>\n",
       "      <td>159</td>\n",
       "    </tr>\n",
       "    <tr>\n",
       "      <th>m</th>\n",
       "      <td>36.0</td>\n",
       "      <td>90</td>\n",
       "    </tr>\n",
       "  </tbody>\n",
       "</table>\n",
       "</div>"
      ],
      "text/plain": [
       "        Grade  Salary\n",
       "Gender               \n",
       "f        31.0     159\n",
       "m        36.0      90"
      ]
     },
     "execution_count": 107,
     "metadata": {},
     "output_type": "execute_result"
    }
   ],
   "source": [
    "df2 = dfGroup[[\"Gender\", \"Grade\", \"Salary\"]]\n",
    "df2.groupby(\"Gender\").aggregate(lambda group: group.sum())"
   ]
  },
  {
   "cell_type": "markdown",
   "metadata": {},
   "source": [
    "<p>Трансформация выполняется для элементов отдельных столбцов каждой группу</p>"
   ]
  },
  {
   "cell_type": "code",
   "execution_count": 108,
   "metadata": {
    "collapsed": false
   },
   "outputs": [
    {
     "data": {
      "text/plain": [
       "array([-1.,  0.,  1.])"
      ]
     },
     "execution_count": 108,
     "metadata": {},
     "output_type": "execute_result"
    }
   ],
   "source": [
    "v = np.array([1,2,3])\n",
    "v - v.mean()"
   ]
  },
  {
   "cell_type": "code",
   "execution_count": 109,
   "metadata": {
    "collapsed": false
   },
   "outputs": [
    {
     "data": {
      "text/html": [
       "<div>\n",
       "<table border=\"1\" class=\"dataframe\">\n",
       "  <thead>\n",
       "    <tr style=\"text-align: right;\">\n",
       "      <th></th>\n",
       "      <th>Grade</th>\n",
       "      <th>Salary</th>\n",
       "    </tr>\n",
       "  </thead>\n",
       "  <tbody>\n",
       "    <tr>\n",
       "      <th>1</th>\n",
       "      <td>2.0</td>\n",
       "      <td>-20.0</td>\n",
       "    </tr>\n",
       "    <tr>\n",
       "      <th>2</th>\n",
       "      <td>-1.5</td>\n",
       "      <td>-13.0</td>\n",
       "    </tr>\n",
       "    <tr>\n",
       "      <th>3</th>\n",
       "      <td>NaN</td>\n",
       "      <td>20.0</td>\n",
       "    </tr>\n",
       "    <tr>\n",
       "      <th>4</th>\n",
       "      <td>-2.0</td>\n",
       "      <td>0.0</td>\n",
       "    </tr>\n",
       "    <tr>\n",
       "      <th>5</th>\n",
       "      <td>NaN</td>\n",
       "      <td>17.0</td>\n",
       "    </tr>\n",
       "    <tr>\n",
       "      <th>6</th>\n",
       "      <td>1.5</td>\n",
       "      <td>-4.0</td>\n",
       "    </tr>\n",
       "  </tbody>\n",
       "</table>\n",
       "</div>"
      ],
      "text/plain": [
       "   Grade  Salary\n",
       "1    2.0   -20.0\n",
       "2   -1.5   -13.0\n",
       "3    NaN    20.0\n",
       "4   -2.0     0.0\n",
       "5    NaN    17.0\n",
       "6    1.5    -4.0"
      ]
     },
     "execution_count": 109,
     "metadata": {},
     "output_type": "execute_result"
    }
   ],
   "source": [
    "#Значение элемента минус среднее значение в столбце группы\n",
    "#[1,2,3]-2 = [-1,0,1]\n",
    "df2.groupby(\"Gender\").transform(lambda x: x - x.mean())"
   ]
  },
  {
   "cell_type": "markdown",
   "metadata": {},
   "source": [
    "<p>Группировка данных по диапазонам значений</p>"
   ]
  },
  {
   "cell_type": "code",
   "execution_count": 110,
   "metadata": {
    "collapsed": false
   },
   "outputs": [
    {
     "data": {
      "text/plain": [
       "1     (0, 30]\n",
       "2    (30, 50]\n",
       "3    (30, 50]\n",
       "4     (0, 30]\n",
       "5    (50, 80]\n",
       "6    (30, 50]\n",
       "Name: Salary, dtype: category\n",
       "Categories (3, object): [(0, 30] < (30, 50] < (50, 80]]"
      ]
     },
     "execution_count": 110,
     "metadata": {},
     "output_type": "execute_result"
    }
   ],
   "source": [
    "cSal = pnd.cut(dfGroup.Salary, bins = [0, 30, 50, 80])\n",
    "cSal"
   ]
  },
  {
   "cell_type": "code",
   "execution_count": 111,
   "metadata": {
    "collapsed": false
   },
   "outputs": [
    {
     "data": {
      "text/html": [
       "<div>\n",
       "<table border=\"1\" class=\"dataframe\">\n",
       "  <thead>\n",
       "    <tr style=\"text-align: right;\">\n",
       "      <th></th>\n",
       "      <th>Name</th>\n",
       "      <th>City</th>\n",
       "      <th>Year</th>\n",
       "      <th>Grade</th>\n",
       "      <th>Gender</th>\n",
       "      <th>Salary</th>\n",
       "      <th>Marriage</th>\n",
       "    </tr>\n",
       "  </thead>\n",
       "  <tbody>\n",
       "    <tr>\n",
       "      <th>2</th>\n",
       "      <td>NewName</td>\n",
       "      <td>Kiev</td>\n",
       "      <td>1999.0</td>\n",
       "      <td>14.0</td>\n",
       "      <td>f</td>\n",
       "      <td>40</td>\n",
       "      <td>False</td>\n",
       "    </tr>\n",
       "    <tr>\n",
       "      <th>3</th>\n",
       "      <td>Alex</td>\n",
       "      <td>Minsk</td>\n",
       "      <td>1954.0</td>\n",
       "      <td>NaN</td>\n",
       "      <td>m</td>\n",
       "      <td>50</td>\n",
       "      <td>True</td>\n",
       "    </tr>\n",
       "    <tr>\n",
       "      <th>6</th>\n",
       "      <td>Maria</td>\n",
       "      <td>New York</td>\n",
       "      <td>1997.0</td>\n",
       "      <td>17.0</td>\n",
       "      <td>f</td>\n",
       "      <td>49</td>\n",
       "      <td>False</td>\n",
       "    </tr>\n",
       "  </tbody>\n",
       "</table>\n",
       "</div>"
      ],
      "text/plain": [
       "      Name      City    Year  Grade Gender  Salary Marriage\n",
       "2  NewName      Kiev  1999.0   14.0      f      40    False\n",
       "3     Alex     Minsk  1954.0    NaN      m      50     True\n",
       "6    Maria  New York  1997.0   17.0      f      49    False"
      ]
     },
     "execution_count": 111,
     "metadata": {},
     "output_type": "execute_result"
    }
   ],
   "source": [
    "gr3 = dfGroup.groupby(cSal)\n",
    "gr3.get_group(\"(30, 50]\")"
   ]
  },
  {
   "cell_type": "code",
   "execution_count": 112,
   "metadata": {
    "collapsed": false
   },
   "outputs": [
    {
     "data": {
      "text/plain": [
       "1       bad\n",
       "2    medium\n",
       "3    medium\n",
       "4       bad\n",
       "5      good\n",
       "6    medium\n",
       "Name: Salary, dtype: category\n",
       "Categories (3, object): [bad < medium < good]"
      ]
     },
     "execution_count": 112,
     "metadata": {},
     "output_type": "execute_result"
    }
   ],
   "source": [
    "cSal2 = pnd.cut(dfGroup.Salary, bins = [0, 30, 50, 80], labels=[\"bad\",\"medium\",\"good\"])\n",
    "cSal2"
   ]
  },
  {
   "cell_type": "code",
   "execution_count": 113,
   "metadata": {
    "collapsed": false
   },
   "outputs": [
    {
     "data": {
      "text/html": [
       "<div>\n",
       "<table border=\"1\" class=\"dataframe\">\n",
       "  <thead>\n",
       "    <tr style=\"text-align: right;\">\n",
       "      <th></th>\n",
       "      <th>Name</th>\n",
       "      <th>City</th>\n",
       "      <th>Year</th>\n",
       "      <th>Grade</th>\n",
       "      <th>Gender</th>\n",
       "      <th>Salary</th>\n",
       "      <th>Marriage</th>\n",
       "    </tr>\n",
       "  </thead>\n",
       "  <tbody>\n",
       "    <tr>\n",
       "      <th>2</th>\n",
       "      <td>NewName</td>\n",
       "      <td>Kiev</td>\n",
       "      <td>1999.0</td>\n",
       "      <td>14.0</td>\n",
       "      <td>f</td>\n",
       "      <td>40</td>\n",
       "      <td>False</td>\n",
       "    </tr>\n",
       "    <tr>\n",
       "      <th>3</th>\n",
       "      <td>Alex</td>\n",
       "      <td>Minsk</td>\n",
       "      <td>1954.0</td>\n",
       "      <td>NaN</td>\n",
       "      <td>m</td>\n",
       "      <td>50</td>\n",
       "      <td>True</td>\n",
       "    </tr>\n",
       "    <tr>\n",
       "      <th>6</th>\n",
       "      <td>Maria</td>\n",
       "      <td>New York</td>\n",
       "      <td>1997.0</td>\n",
       "      <td>17.0</td>\n",
       "      <td>f</td>\n",
       "      <td>49</td>\n",
       "      <td>False</td>\n",
       "    </tr>\n",
       "  </tbody>\n",
       "</table>\n",
       "</div>"
      ],
      "text/plain": [
       "      Name      City    Year  Grade Gender  Salary Marriage\n",
       "2  NewName      Kiev  1999.0   14.0      f      40    False\n",
       "3     Alex     Minsk  1954.0    NaN      m      50     True\n",
       "6    Maria  New York  1997.0   17.0      f      49    False"
      ]
     },
     "execution_count": 113,
     "metadata": {},
     "output_type": "execute_result"
    }
   ],
   "source": [
    "gr3 = dfGroup.groupby(cSal2)\n",
    "gr3.get_group(\"medium\")"
   ]
  },
  {
   "cell_type": "code",
   "execution_count": 114,
   "metadata": {
    "collapsed": false
   },
   "outputs": [
    {
     "data": {
      "text/plain": [
       "1     (0, 10]\n",
       "2    (30, 40]\n",
       "3    (40, 50]\n",
       "4    (20, 30]\n",
       "5    (60, 70]\n",
       "6    (40, 50]\n",
       "Name: Salary, dtype: category\n",
       "Categories (9, object): [(0, 10] < (10, 20] < (20, 30] < (30, 40] ... (50, 60] < (60, 70] < (70, 80] < (80, 90]]"
      ]
     },
     "execution_count": 114,
     "metadata": {},
     "output_type": "execute_result"
    }
   ],
   "source": [
    "cSal3 = pnd.cut(dfGroup.Salary, np.arange(0, 100, 10))\n",
    "cSal3"
   ]
  },
  {
   "cell_type": "code",
   "execution_count": 115,
   "metadata": {
    "collapsed": false
   },
   "outputs": [
    {
     "data": {
      "text/plain": [
       "1       bad\n",
       "2    medium\n",
       "3    medium\n",
       "4       bad\n",
       "5      good\n",
       "6    medium\n",
       "Name: Salary, dtype: category\n",
       "Categories (3, object): [bad < medium < good]"
      ]
     },
     "execution_count": 115,
     "metadata": {},
     "output_type": "execute_result"
    }
   ],
   "source": [
    "cSal4 = pnd.cut(dfGroup.Salary, 3, labels=[\"bad\",\"medium\",\"good\"])\n",
    "cSal4"
   ]
  },
  {
   "cell_type": "markdown",
   "metadata": {},
   "source": [
    "<a name = \"3e\"></a>\n",
    "<div style=\"padding-top:10px;\">\n",
    "    <div style=\"display: inline-block; font-style:italic; font-weight:bold; font-size:12pt\">e. Сортировка</div>\n",
    "    <div style=\"display: inline-block; float:right; width:20%; text-align:center; border:1px solid lightgrey\">\n",
    "        <div style=\"display: inline-block; text-align:center; width:50%; background-color:whitesmoke;\"><a href=\"#3d\">Назад</a></div><div style=\"display: inline-block; text-align:center; width:50%;\"><a href=\"#3f\">Далее</a></div>\n",
    "    </div>\n",
    "</div>"
   ]
  },
  {
   "cell_type": "markdown",
   "metadata": {},
   "source": [
    "<p>Сортировка по одному столбцу</p>"
   ]
  },
  {
   "cell_type": "code",
   "execution_count": 116,
   "metadata": {
    "collapsed": false
   },
   "outputs": [
    {
     "name": "stderr",
     "output_type": "stream",
     "text": [
      "/home/kirill/anaconda3/lib/python3.5/site-packages/ipykernel/__main__.py:1: FutureWarning: sort(columns=....) is deprecated, use sort_values(by=.....)\n",
      "  if __name__ == '__main__':\n"
     ]
    },
    {
     "data": {
      "text/html": [
       "<div>\n",
       "<table border=\"1\" class=\"dataframe\">\n",
       "  <thead>\n",
       "    <tr style=\"text-align: right;\">\n",
       "      <th></th>\n",
       "      <th>Name</th>\n",
       "      <th>City</th>\n",
       "      <th>Year</th>\n",
       "      <th>Grade</th>\n",
       "      <th>Gender</th>\n",
       "    </tr>\n",
       "  </thead>\n",
       "  <tbody>\n",
       "    <tr>\n",
       "      <th>3</th>\n",
       "      <td>Alex</td>\n",
       "      <td>Minsk</td>\n",
       "      <td>1954.0</td>\n",
       "      <td>NaN</td>\n",
       "      <td>m</td>\n",
       "    </tr>\n",
       "    <tr>\n",
       "      <th>6</th>\n",
       "      <td>Maria</td>\n",
       "      <td>New York</td>\n",
       "      <td>1997.0</td>\n",
       "      <td>17.0</td>\n",
       "      <td>f</td>\n",
       "    </tr>\n",
       "    <tr>\n",
       "      <th>2</th>\n",
       "      <td>NewName</td>\n",
       "      <td>Kiev</td>\n",
       "      <td>1999.0</td>\n",
       "      <td>14.0</td>\n",
       "      <td>f</td>\n",
       "    </tr>\n",
       "    <tr>\n",
       "      <th>1</th>\n",
       "      <td>Changed</td>\n",
       "      <td>Changed</td>\n",
       "      <td>2000.0</td>\n",
       "      <td>20.0</td>\n",
       "      <td>m</td>\n",
       "    </tr>\n",
       "    <tr>\n",
       "      <th>5</th>\n",
       "      <td>Kate</td>\n",
       "      <td>London</td>\n",
       "      <td>2001.0</td>\n",
       "      <td>NaN</td>\n",
       "      <td>f</td>\n",
       "    </tr>\n",
       "    <tr>\n",
       "      <th>4</th>\n",
       "      <td>ChangedIvan</td>\n",
       "      <td>St.Petersburg</td>\n",
       "      <td>2005.0</td>\n",
       "      <td>16.0</td>\n",
       "      <td>m</td>\n",
       "    </tr>\n",
       "  </tbody>\n",
       "</table>\n",
       "</div>"
      ],
      "text/plain": [
       "          Name           City    Year  Grade Gender\n",
       "3         Alex          Minsk  1954.0    NaN      m\n",
       "6        Maria       New York  1997.0   17.0      f\n",
       "2      NewName           Kiev  1999.0   14.0      f\n",
       "1      Changed        Changed  2000.0   20.0      m\n",
       "5         Kate         London  2001.0    NaN      f\n",
       "4  ChangedIvan  St.Petersburg  2005.0   16.0      m"
      ]
     },
     "execution_count": 116,
     "metadata": {},
     "output_type": "execute_result"
    }
   ],
   "source": [
    "df.sort(\"Year\", ascending = 1) #по возрастанию"
   ]
  },
  {
   "cell_type": "code",
   "execution_count": 117,
   "metadata": {
    "collapsed": false
   },
   "outputs": [
    {
     "name": "stderr",
     "output_type": "stream",
     "text": [
      "/home/kirill/anaconda3/lib/python3.5/site-packages/ipykernel/__main__.py:1: FutureWarning: sort(columns=....) is deprecated, use sort_values(by=.....)\n",
      "  if __name__ == '__main__':\n"
     ]
    },
    {
     "data": {
      "text/html": [
       "<div>\n",
       "<table border=\"1\" class=\"dataframe\">\n",
       "  <thead>\n",
       "    <tr style=\"text-align: right;\">\n",
       "      <th></th>\n",
       "      <th>Name</th>\n",
       "      <th>City</th>\n",
       "      <th>Year</th>\n",
       "      <th>Grade</th>\n",
       "      <th>Gender</th>\n",
       "    </tr>\n",
       "  </thead>\n",
       "  <tbody>\n",
       "    <tr>\n",
       "      <th>4</th>\n",
       "      <td>ChangedIvan</td>\n",
       "      <td>St.Petersburg</td>\n",
       "      <td>2005.0</td>\n",
       "      <td>16.0</td>\n",
       "      <td>m</td>\n",
       "    </tr>\n",
       "    <tr>\n",
       "      <th>5</th>\n",
       "      <td>Kate</td>\n",
       "      <td>London</td>\n",
       "      <td>2001.0</td>\n",
       "      <td>NaN</td>\n",
       "      <td>f</td>\n",
       "    </tr>\n",
       "    <tr>\n",
       "      <th>1</th>\n",
       "      <td>Changed</td>\n",
       "      <td>Changed</td>\n",
       "      <td>2000.0</td>\n",
       "      <td>20.0</td>\n",
       "      <td>m</td>\n",
       "    </tr>\n",
       "    <tr>\n",
       "      <th>2</th>\n",
       "      <td>NewName</td>\n",
       "      <td>Kiev</td>\n",
       "      <td>1999.0</td>\n",
       "      <td>14.0</td>\n",
       "      <td>f</td>\n",
       "    </tr>\n",
       "    <tr>\n",
       "      <th>6</th>\n",
       "      <td>Maria</td>\n",
       "      <td>New York</td>\n",
       "      <td>1997.0</td>\n",
       "      <td>17.0</td>\n",
       "      <td>f</td>\n",
       "    </tr>\n",
       "    <tr>\n",
       "      <th>3</th>\n",
       "      <td>Alex</td>\n",
       "      <td>Minsk</td>\n",
       "      <td>1954.0</td>\n",
       "      <td>NaN</td>\n",
       "      <td>m</td>\n",
       "    </tr>\n",
       "  </tbody>\n",
       "</table>\n",
       "</div>"
      ],
      "text/plain": [
       "          Name           City    Year  Grade Gender\n",
       "4  ChangedIvan  St.Petersburg  2005.0   16.0      m\n",
       "5         Kate         London  2001.0    NaN      f\n",
       "1      Changed        Changed  2000.0   20.0      m\n",
       "2      NewName           Kiev  1999.0   14.0      f\n",
       "6        Maria       New York  1997.0   17.0      f\n",
       "3         Alex          Minsk  1954.0    NaN      m"
      ]
     },
     "execution_count": 117,
     "metadata": {},
     "output_type": "execute_result"
    }
   ],
   "source": [
    "df.sort(\"Year\", ascending = 0) #по убыванию"
   ]
  },
  {
   "cell_type": "markdown",
   "metadata": {},
   "source": [
    "<p>Сортировка по нескольким столбцам</p>"
   ]
  },
  {
   "cell_type": "code",
   "execution_count": 118,
   "metadata": {
    "collapsed": false
   },
   "outputs": [
    {
     "name": "stderr",
     "output_type": "stream",
     "text": [
      "/home/kirill/anaconda3/lib/python3.5/site-packages/ipykernel/__main__.py:1: FutureWarning: sort(columns=....) is deprecated, use sort_values(by=.....)\n",
      "  if __name__ == '__main__':\n"
     ]
    },
    {
     "data": {
      "text/html": [
       "<div>\n",
       "<table border=\"1\" class=\"dataframe\">\n",
       "  <thead>\n",
       "    <tr style=\"text-align: right;\">\n",
       "      <th></th>\n",
       "      <th>Name</th>\n",
       "      <th>City</th>\n",
       "      <th>Year</th>\n",
       "      <th>Grade</th>\n",
       "      <th>Gender</th>\n",
       "    </tr>\n",
       "  </thead>\n",
       "  <tbody>\n",
       "    <tr>\n",
       "      <th>5</th>\n",
       "      <td>Kate</td>\n",
       "      <td>London</td>\n",
       "      <td>2001.0</td>\n",
       "      <td>NaN</td>\n",
       "      <td>f</td>\n",
       "    </tr>\n",
       "    <tr>\n",
       "      <th>2</th>\n",
       "      <td>NewName</td>\n",
       "      <td>Kiev</td>\n",
       "      <td>1999.0</td>\n",
       "      <td>14.0</td>\n",
       "      <td>f</td>\n",
       "    </tr>\n",
       "    <tr>\n",
       "      <th>6</th>\n",
       "      <td>Maria</td>\n",
       "      <td>New York</td>\n",
       "      <td>1997.0</td>\n",
       "      <td>17.0</td>\n",
       "      <td>f</td>\n",
       "    </tr>\n",
       "    <tr>\n",
       "      <th>4</th>\n",
       "      <td>ChangedIvan</td>\n",
       "      <td>St.Petersburg</td>\n",
       "      <td>2005.0</td>\n",
       "      <td>16.0</td>\n",
       "      <td>m</td>\n",
       "    </tr>\n",
       "    <tr>\n",
       "      <th>1</th>\n",
       "      <td>Changed</td>\n",
       "      <td>Changed</td>\n",
       "      <td>2000.0</td>\n",
       "      <td>20.0</td>\n",
       "      <td>m</td>\n",
       "    </tr>\n",
       "    <tr>\n",
       "      <th>3</th>\n",
       "      <td>Alex</td>\n",
       "      <td>Minsk</td>\n",
       "      <td>1954.0</td>\n",
       "      <td>NaN</td>\n",
       "      <td>m</td>\n",
       "    </tr>\n",
       "  </tbody>\n",
       "</table>\n",
       "</div>"
      ],
      "text/plain": [
       "          Name           City    Year  Grade Gender\n",
       "5         Kate         London  2001.0    NaN      f\n",
       "2      NewName           Kiev  1999.0   14.0      f\n",
       "6        Maria       New York  1997.0   17.0      f\n",
       "4  ChangedIvan  St.Petersburg  2005.0   16.0      m\n",
       "1      Changed        Changed  2000.0   20.0      m\n",
       "3         Alex          Minsk  1954.0    NaN      m"
      ]
     },
     "execution_count": 118,
     "metadata": {},
     "output_type": "execute_result"
    }
   ],
   "source": [
    "df.sort([\"Gender\", \"Year\"], ascending = [1, 0])"
   ]
  },
  {
   "cell_type": "markdown",
   "metadata": {},
   "source": [
    "<a name = \"3f\"></a>\n",
    "<div style=\"padding-top:10px;\">\n",
    "    <div style=\"display: inline-block; font-style:italic; font-weight:bold; font-size:12pt\">f. Сложные индексы</div>\n",
    "    <div style=\"display: inline-block; float:right; width:20%; text-align:center; border:1px solid lightgrey\">\n",
    "        <div style=\"display: inline-block; text-align:center; width:50%; background-color:whitesmoke;\"><a href=\"#3e\">Назад</a></div><div style=\"display: inline-block; text-align:center; width:50%;\"><a href=\"#3g\">Далее</a></div>\n",
    "    </div>\n",
    "</div>"
   ]
  },
  {
   "cell_type": "code",
   "execution_count": 119,
   "metadata": {
    "collapsed": false
   },
   "outputs": [
    {
     "data": {
      "text/plain": [
       "array([[77,  1, 96],\n",
       "       [94, 43, 57],\n",
       "       [13,  9, 63],\n",
       "       [84, 92, 11]])"
      ]
     },
     "execution_count": 119,
     "metadata": {},
     "output_type": "execute_result"
    }
   ],
   "source": [
    "mDataMI =  np.random.randint(low=0, high=101, size=(4,3))\n",
    "mDataMI"
   ]
  },
  {
   "cell_type": "code",
   "execution_count": 120,
   "metadata": {
    "collapsed": false
   },
   "outputs": [
    {
     "data": {
      "text/html": [
       "<div>\n",
       "<table border=\"1\" class=\"dataframe\">\n",
       "  <thead>\n",
       "    <tr style=\"text-align: right;\">\n",
       "      <th></th>\n",
       "      <th></th>\n",
       "      <th>TV</th>\n",
       "      <th>Smartphone</th>\n",
       "      <th>Pendrive</th>\n",
       "    </tr>\n",
       "  </thead>\n",
       "  <tbody>\n",
       "    <tr>\n",
       "      <th rowspan=\"2\" valign=\"top\">Week1</th>\n",
       "      <th>Working Days</th>\n",
       "      <td>77</td>\n",
       "      <td>1</td>\n",
       "      <td>96</td>\n",
       "    </tr>\n",
       "    <tr>\n",
       "      <th>Weekend</th>\n",
       "      <td>94</td>\n",
       "      <td>43</td>\n",
       "      <td>57</td>\n",
       "    </tr>\n",
       "    <tr>\n",
       "      <th rowspan=\"2\" valign=\"top\">Week2</th>\n",
       "      <th>Working Days</th>\n",
       "      <td>13</td>\n",
       "      <td>9</td>\n",
       "      <td>63</td>\n",
       "    </tr>\n",
       "    <tr>\n",
       "      <th>Weekend</th>\n",
       "      <td>84</td>\n",
       "      <td>92</td>\n",
       "      <td>11</td>\n",
       "    </tr>\n",
       "  </tbody>\n",
       "</table>\n",
       "</div>"
      ],
      "text/plain": [
       "                    TV  Smartphone  Pendrive\n",
       "Week1 Working Days  77           1        96\n",
       "      Weekend       94          43        57\n",
       "Week2 Working Days  13           9        63\n",
       "      Weekend       84          92        11"
      ]
     },
     "execution_count": 120,
     "metadata": {},
     "output_type": "execute_result"
    }
   ],
   "source": [
    "index2 = [\"Working Days\", \"Weekend\", \"Working Days\", \"Weekend\"] #Второй индекс\n",
    "index1 = [\"Week1\", \"Week1\", \"Week2\", \"Week2\"] #Первый индекс\n",
    "\n",
    "dfMI = pnd.DataFrame(data = mDataMI, columns = [\"TV\", \"Smartphone\", \"Pendrive\"], index = [index1, index2])\n",
    "dfMI"
   ]
  },
  {
   "cell_type": "markdown",
   "metadata": {},
   "source": [
    "<p>Доступ к данный по индексам</p>"
   ]
  },
  {
   "cell_type": "code",
   "execution_count": 121,
   "metadata": {
    "collapsed": false
   },
   "outputs": [
    {
     "data": {
      "text/html": [
       "<div>\n",
       "<table border=\"1\" class=\"dataframe\">\n",
       "  <thead>\n",
       "    <tr style=\"text-align: right;\">\n",
       "      <th></th>\n",
       "      <th>TV</th>\n",
       "      <th>Smartphone</th>\n",
       "      <th>Pendrive</th>\n",
       "    </tr>\n",
       "  </thead>\n",
       "  <tbody>\n",
       "    <tr>\n",
       "      <th>Working Days</th>\n",
       "      <td>77</td>\n",
       "      <td>1</td>\n",
       "      <td>96</td>\n",
       "    </tr>\n",
       "    <tr>\n",
       "      <th>Weekend</th>\n",
       "      <td>94</td>\n",
       "      <td>43</td>\n",
       "      <td>57</td>\n",
       "    </tr>\n",
       "  </tbody>\n",
       "</table>\n",
       "</div>"
      ],
      "text/plain": [
       "              TV  Smartphone  Pendrive\n",
       "Working Days  77           1        96\n",
       "Weekend       94          43        57"
      ]
     },
     "execution_count": 121,
     "metadata": {},
     "output_type": "execute_result"
    }
   ],
   "source": [
    "dfMI.loc[\"Week1\"]"
   ]
  },
  {
   "cell_type": "code",
   "execution_count": 122,
   "metadata": {
    "collapsed": false
   },
   "outputs": [
    {
     "data": {
      "text/plain": [
       "TV            94\n",
       "Smartphone    43\n",
       "Pendrive      57\n",
       "Name: (Week1, Weekend), dtype: int64"
      ]
     },
     "execution_count": 122,
     "metadata": {},
     "output_type": "execute_result"
    }
   ],
   "source": [
    "dfMI.loc[(\"Week1\", \"Weekend\")]"
   ]
  },
  {
   "cell_type": "markdown",
   "metadata": {},
   "source": [
    "<p>Пример с суммой</p>"
   ]
  },
  {
   "cell_type": "code",
   "execution_count": 123,
   "metadata": {
    "collapsed": false
   },
   "outputs": [
    {
     "data": {
      "text/plain": [
       "TV            268\n",
       "Smartphone    145\n",
       "Pendrive      227\n",
       "dtype: int64"
      ]
     },
     "execution_count": 123,
     "metadata": {},
     "output_type": "execute_result"
    }
   ],
   "source": [
    "dfMI.sum() #Сумма по столбцам для всех индексов"
   ]
  },
  {
   "cell_type": "code",
   "execution_count": 124,
   "metadata": {
    "collapsed": false
   },
   "outputs": [
    {
     "data": {
      "text/plain": [
       "TV            171\n",
       "Smartphone     44\n",
       "Pendrive      153\n",
       "dtype: int64"
      ]
     },
     "execution_count": 124,
     "metadata": {},
     "output_type": "execute_result"
    }
   ],
   "source": [
    "dfMI.loc[\"Week1\"].sum() #Сумма по столбцам для Week1"
   ]
  },
  {
   "cell_type": "code",
   "execution_count": 125,
   "metadata": {
    "collapsed": false
   },
   "outputs": [
    {
     "data": {
      "text/plain": [
       "TV            178\n",
       "Smartphone    135\n",
       "Pendrive       68\n",
       "dtype: int64"
      ]
     },
     "execution_count": 125,
     "metadata": {},
     "output_type": "execute_result"
    }
   ],
   "source": [
    "dfMI.loc[[(\"Week1\", \"Weekend\"),(\"Week2\", \"Weekend\")]].sum() #Сумма по столбцам за Weekend для Week1 и Week2"
   ]
  },
  {
   "cell_type": "markdown",
   "metadata": {},
   "source": [
    "<a name = \"3g\"></a>\n",
    "<div style=\"padding-top:10px;\">\n",
    "    <div style=\"display: inline-block; font-style:italic; font-weight:bold; font-size:12pt\">g. Объединение DataFrame'ов</div>\n",
    "    <div style=\"display: inline-block; float:right; width:20%; text-align:center; border:1px solid lightgrey\">\n",
    "        <div style=\"display: inline-block; text-align:center; width:50%; background-color:whitesmoke;\"><a href=\"#3f\">Назад</a></div><div style=\"display: inline-block; text-align:center; width:50%;\"><a href=\"#3h\">Далее</a></div>\n",
    "    </div>\n",
    "</div>"
   ]
  },
  {
   "cell_type": "markdown",
   "metadata": {},
   "source": [
    "<p>Слияние таблиц</p>"
   ]
  },
  {
   "cell_type": "markdown",
   "metadata": {},
   "source": [
    "<p><b>Метод <i>append()</i></b> - объединение строк таблиц</p>"
   ]
  },
  {
   "cell_type": "code",
   "execution_count": 126,
   "metadata": {
    "collapsed": false
   },
   "outputs": [
    {
     "data": {
      "text/html": [
       "<div>\n",
       "<table border=\"1\" class=\"dataframe\">\n",
       "  <thead>\n",
       "    <tr style=\"text-align: right;\">\n",
       "      <th></th>\n",
       "      <th>Name</th>\n",
       "      <th>City</th>\n",
       "      <th>Year</th>\n",
       "      <th>Grade</th>\n",
       "      <th>Gender</th>\n",
       "    </tr>\n",
       "  </thead>\n",
       "  <tbody>\n",
       "    <tr>\n",
       "      <th>0</th>\n",
       "      <td>Dima</td>\n",
       "      <td>Moscow</td>\n",
       "      <td>1988</td>\n",
       "      <td>4.0</td>\n",
       "      <td>m</td>\n",
       "    </tr>\n",
       "    <tr>\n",
       "      <th>1</th>\n",
       "      <td>Sveta</td>\n",
       "      <td>Kiev</td>\n",
       "      <td>1999</td>\n",
       "      <td>4.0</td>\n",
       "      <td>f</td>\n",
       "    </tr>\n",
       "    <tr>\n",
       "      <th>2</th>\n",
       "      <td>Alex</td>\n",
       "      <td>Minsk</td>\n",
       "      <td>1954</td>\n",
       "      <td>NaN</td>\n",
       "      <td>m</td>\n",
       "    </tr>\n",
       "    <tr>\n",
       "      <th>3</th>\n",
       "      <td>Ivan</td>\n",
       "      <td>St.Petersburg</td>\n",
       "      <td>2005</td>\n",
       "      <td>6.0</td>\n",
       "      <td>m</td>\n",
       "    </tr>\n",
       "    <tr>\n",
       "      <th>4</th>\n",
       "      <td>Kate</td>\n",
       "      <td>London</td>\n",
       "      <td>2001</td>\n",
       "      <td>NaN</td>\n",
       "      <td>f</td>\n",
       "    </tr>\n",
       "    <tr>\n",
       "      <th>5</th>\n",
       "      <td>Maria</td>\n",
       "      <td>New York</td>\n",
       "      <td>1997</td>\n",
       "      <td>7.0</td>\n",
       "      <td>f</td>\n",
       "    </tr>\n",
       "  </tbody>\n",
       "</table>\n",
       "</div>"
      ],
      "text/plain": [
       "    Name           City  Year  Grade Gender\n",
       "0   Dima         Moscow  1988    4.0      m\n",
       "1  Sveta           Kiev  1999    4.0      f\n",
       "2   Alex          Minsk  1954    NaN      m\n",
       "3   Ivan  St.Petersburg  2005    6.0      m\n",
       "4   Kate         London  2001    NaN      f\n",
       "5  Maria       New York  1997    7.0      f"
      ]
     },
     "execution_count": 126,
     "metadata": {},
     "output_type": "execute_result"
    }
   ],
   "source": [
    "#Загрузка начальной версии df\n",
    "df = pnd.DataFrame(data = rows, columns = [\"Name\", \"City\", \"Year\", \"Grade\", \"Gender\"])\n",
    "df"
   ]
  },
  {
   "cell_type": "markdown",
   "metadata": {},
   "source": [
    "<p>Использование списка словарей</p>"
   ]
  },
  {
   "cell_type": "code",
   "execution_count": 127,
   "metadata": {
    "collapsed": false
   },
   "outputs": [
    {
     "data": {
      "text/plain": [
       "[{'City': 'Bryansk', 'Grade': 8, 'Name': 'Petr', 'Year': 1990},\n",
       " {'City': 'Tehran', 'Name': 'Ann'}]"
      ]
     },
     "execution_count": 127,
     "metadata": {},
     "output_type": "execute_result"
    }
   ],
   "source": [
    "dictNew = [{\"Name\":\"Petr\", \"City\":\"Bryansk\", \"Year\":1990, \"Grade\":8}, {\"Name\":\"Ann\", \"City\":\"Tehran\"}]\n",
    "dictNew"
   ]
  },
  {
   "cell_type": "code",
   "execution_count": 128,
   "metadata": {
    "collapsed": false
   },
   "outputs": [
    {
     "data": {
      "text/html": [
       "<div>\n",
       "<table border=\"1\" class=\"dataframe\">\n",
       "  <thead>\n",
       "    <tr style=\"text-align: right;\">\n",
       "      <th></th>\n",
       "      <th>Name</th>\n",
       "      <th>City</th>\n",
       "      <th>Year</th>\n",
       "      <th>Grade</th>\n",
       "      <th>Gender</th>\n",
       "    </tr>\n",
       "  </thead>\n",
       "  <tbody>\n",
       "    <tr>\n",
       "      <th>0</th>\n",
       "      <td>Dima</td>\n",
       "      <td>Moscow</td>\n",
       "      <td>1988.0</td>\n",
       "      <td>4.0</td>\n",
       "      <td>m</td>\n",
       "    </tr>\n",
       "    <tr>\n",
       "      <th>1</th>\n",
       "      <td>Sveta</td>\n",
       "      <td>Kiev</td>\n",
       "      <td>1999.0</td>\n",
       "      <td>4.0</td>\n",
       "      <td>f</td>\n",
       "    </tr>\n",
       "    <tr>\n",
       "      <th>2</th>\n",
       "      <td>Alex</td>\n",
       "      <td>Minsk</td>\n",
       "      <td>1954.0</td>\n",
       "      <td>NaN</td>\n",
       "      <td>m</td>\n",
       "    </tr>\n",
       "    <tr>\n",
       "      <th>3</th>\n",
       "      <td>Ivan</td>\n",
       "      <td>St.Petersburg</td>\n",
       "      <td>2005.0</td>\n",
       "      <td>6.0</td>\n",
       "      <td>m</td>\n",
       "    </tr>\n",
       "    <tr>\n",
       "      <th>4</th>\n",
       "      <td>Kate</td>\n",
       "      <td>London</td>\n",
       "      <td>2001.0</td>\n",
       "      <td>NaN</td>\n",
       "      <td>f</td>\n",
       "    </tr>\n",
       "    <tr>\n",
       "      <th>5</th>\n",
       "      <td>Maria</td>\n",
       "      <td>New York</td>\n",
       "      <td>1997.0</td>\n",
       "      <td>7.0</td>\n",
       "      <td>f</td>\n",
       "    </tr>\n",
       "    <tr>\n",
       "      <th>6</th>\n",
       "      <td>Petr</td>\n",
       "      <td>Bryansk</td>\n",
       "      <td>1990.0</td>\n",
       "      <td>8.0</td>\n",
       "      <td>NaN</td>\n",
       "    </tr>\n",
       "    <tr>\n",
       "      <th>7</th>\n",
       "      <td>Ann</td>\n",
       "      <td>Tehran</td>\n",
       "      <td>NaN</td>\n",
       "      <td>NaN</td>\n",
       "      <td>NaN</td>\n",
       "    </tr>\n",
       "  </tbody>\n",
       "</table>\n",
       "</div>"
      ],
      "text/plain": [
       "    Name           City    Year  Grade Gender\n",
       "0   Dima         Moscow  1988.0    4.0      m\n",
       "1  Sveta           Kiev  1999.0    4.0      f\n",
       "2   Alex          Minsk  1954.0    NaN      m\n",
       "3   Ivan  St.Petersburg  2005.0    6.0      m\n",
       "4   Kate         London  2001.0    NaN      f\n",
       "5  Maria       New York  1997.0    7.0      f\n",
       "6   Petr        Bryansk  1990.0    8.0    NaN\n",
       "7    Ann         Tehran     NaN    NaN    NaN"
      ]
     },
     "execution_count": 128,
     "metadata": {},
     "output_type": "execute_result"
    }
   ],
   "source": [
    "df2 = df.append(dictNew, ignore_index = True) #ignore_index = True - в новом DataFrame будет стандартная индексация от 0.\n",
    "df2"
   ]
  },
  {
   "cell_type": "markdown",
   "metadata": {},
   "source": [
    "<p>Последовательность</p>"
   ]
  },
  {
   "cell_type": "code",
   "execution_count": 129,
   "metadata": {
    "collapsed": false
   },
   "outputs": [],
   "source": [
    "s1 = pnd.Series(data = [\"Petr\", \"Bryansk\", 1978, 5, \"m\"], index=[\"Name\",\"City\",\"Year\",\"Grade\",\"Gender\"])\n",
    "s2 = pnd.Series(data = [\"Ann\", \"Tehran\", 1997, 7, \"f\"], index=[\"Name\",\"City\",\"Year\",\"Grade\",\"Gender\"])"
   ]
  },
  {
   "cell_type": "code",
   "execution_count": 130,
   "metadata": {
    "collapsed": false
   },
   "outputs": [
    {
     "data": {
      "text/html": [
       "<div>\n",
       "<table border=\"1\" class=\"dataframe\">\n",
       "  <thead>\n",
       "    <tr style=\"text-align: right;\">\n",
       "      <th></th>\n",
       "      <th>Name</th>\n",
       "      <th>City</th>\n",
       "      <th>Year</th>\n",
       "      <th>Grade</th>\n",
       "      <th>Gender</th>\n",
       "    </tr>\n",
       "  </thead>\n",
       "  <tbody>\n",
       "    <tr>\n",
       "      <th>0</th>\n",
       "      <td>Dima</td>\n",
       "      <td>Moscow</td>\n",
       "      <td>1988</td>\n",
       "      <td>4.0</td>\n",
       "      <td>m</td>\n",
       "    </tr>\n",
       "    <tr>\n",
       "      <th>1</th>\n",
       "      <td>Sveta</td>\n",
       "      <td>Kiev</td>\n",
       "      <td>1999</td>\n",
       "      <td>4.0</td>\n",
       "      <td>f</td>\n",
       "    </tr>\n",
       "    <tr>\n",
       "      <th>2</th>\n",
       "      <td>Alex</td>\n",
       "      <td>Minsk</td>\n",
       "      <td>1954</td>\n",
       "      <td>NaN</td>\n",
       "      <td>m</td>\n",
       "    </tr>\n",
       "    <tr>\n",
       "      <th>3</th>\n",
       "      <td>Ivan</td>\n",
       "      <td>St.Petersburg</td>\n",
       "      <td>2005</td>\n",
       "      <td>6.0</td>\n",
       "      <td>m</td>\n",
       "    </tr>\n",
       "    <tr>\n",
       "      <th>4</th>\n",
       "      <td>Kate</td>\n",
       "      <td>London</td>\n",
       "      <td>2001</td>\n",
       "      <td>NaN</td>\n",
       "      <td>f</td>\n",
       "    </tr>\n",
       "    <tr>\n",
       "      <th>5</th>\n",
       "      <td>Maria</td>\n",
       "      <td>New York</td>\n",
       "      <td>1997</td>\n",
       "      <td>7.0</td>\n",
       "      <td>f</td>\n",
       "    </tr>\n",
       "    <tr>\n",
       "      <th>6</th>\n",
       "      <td>Petr</td>\n",
       "      <td>Bryansk</td>\n",
       "      <td>1978</td>\n",
       "      <td>5.0</td>\n",
       "      <td>m</td>\n",
       "    </tr>\n",
       "    <tr>\n",
       "      <th>7</th>\n",
       "      <td>Ann</td>\n",
       "      <td>Tehran</td>\n",
       "      <td>1997</td>\n",
       "      <td>7.0</td>\n",
       "      <td>f</td>\n",
       "    </tr>\n",
       "  </tbody>\n",
       "</table>\n",
       "</div>"
      ],
      "text/plain": [
       "    Name           City  Year  Grade Gender\n",
       "0   Dima         Moscow  1988    4.0      m\n",
       "1  Sveta           Kiev  1999    4.0      f\n",
       "2   Alex          Minsk  1954    NaN      m\n",
       "3   Ivan  St.Petersburg  2005    6.0      m\n",
       "4   Kate         London  2001    NaN      f\n",
       "5  Maria       New York  1997    7.0      f\n",
       "6   Petr        Bryansk  1978    5.0      m\n",
       "7    Ann         Tehran  1997    7.0      f"
      ]
     },
     "execution_count": 130,
     "metadata": {},
     "output_type": "execute_result"
    }
   ],
   "source": [
    "df2 = df.append([s1,s2], ignore_index = True)\n",
    "df2"
   ]
  },
  {
   "cell_type": "markdown",
   "metadata": {},
   "source": [
    "<p><b>Функция <i>concat()</i></b></p>"
   ]
  },
  {
   "cell_type": "markdown",
   "metadata": {},
   "source": [
    "<p>Объединение строк</p>"
   ]
  },
  {
   "cell_type": "code",
   "execution_count": 131,
   "metadata": {
    "collapsed": false
   },
   "outputs": [
    {
     "data": {
      "text/plain": [
       "[['Petr', 'Bryansk', 1978, 5, 'm'], ['Ann', 'Tehran', 1997, 7, 'f']]"
      ]
     },
     "execution_count": 131,
     "metadata": {},
     "output_type": "execute_result"
    }
   ],
   "source": [
    "mNewRows = [[\"Petr\", \"Bryansk\", 1978, 5, \"m\"], [\"Ann\", \"Tehran\", 1997, 7, \"f\"]]\n",
    "mNewRows"
   ]
  },
  {
   "cell_type": "code",
   "execution_count": 132,
   "metadata": {
    "collapsed": false
   },
   "outputs": [
    {
     "data": {
      "text/html": [
       "<div>\n",
       "<table border=\"1\" class=\"dataframe\">\n",
       "  <thead>\n",
       "    <tr style=\"text-align: right;\">\n",
       "      <th></th>\n",
       "      <th>Name</th>\n",
       "      <th>City</th>\n",
       "      <th>Year</th>\n",
       "      <th>Grade</th>\n",
       "      <th>Gender</th>\n",
       "    </tr>\n",
       "  </thead>\n",
       "  <tbody>\n",
       "    <tr>\n",
       "      <th>0</th>\n",
       "      <td>Petr</td>\n",
       "      <td>Bryansk</td>\n",
       "      <td>1978</td>\n",
       "      <td>5</td>\n",
       "      <td>m</td>\n",
       "    </tr>\n",
       "    <tr>\n",
       "      <th>1</th>\n",
       "      <td>Ann</td>\n",
       "      <td>Tehran</td>\n",
       "      <td>1997</td>\n",
       "      <td>7</td>\n",
       "      <td>f</td>\n",
       "    </tr>\n",
       "  </tbody>\n",
       "</table>\n",
       "</div>"
      ],
      "text/plain": [
       "   Name     City  Year  Grade Gender\n",
       "0  Petr  Bryansk  1978      5      m\n",
       "1   Ann   Tehran  1997      7      f"
      ]
     },
     "execution_count": 132,
     "metadata": {},
     "output_type": "execute_result"
    }
   ],
   "source": [
    "df2 = pnd.DataFrame(data=mNewRows, columns=[\"Name\",\"City\",\"Year\",\"Grade\",\"Gender\"])\n",
    "df2"
   ]
  },
  {
   "cell_type": "code",
   "execution_count": 133,
   "metadata": {
    "collapsed": false
   },
   "outputs": [
    {
     "data": {
      "text/html": [
       "<div>\n",
       "<table border=\"1\" class=\"dataframe\">\n",
       "  <thead>\n",
       "    <tr style=\"text-align: right;\">\n",
       "      <th></th>\n",
       "      <th>Name</th>\n",
       "      <th>City</th>\n",
       "      <th>Year</th>\n",
       "      <th>Grade</th>\n",
       "      <th>Gender</th>\n",
       "    </tr>\n",
       "  </thead>\n",
       "  <tbody>\n",
       "    <tr>\n",
       "      <th>0</th>\n",
       "      <td>Dima</td>\n",
       "      <td>Moscow</td>\n",
       "      <td>1988</td>\n",
       "      <td>4.0</td>\n",
       "      <td>m</td>\n",
       "    </tr>\n",
       "    <tr>\n",
       "      <th>1</th>\n",
       "      <td>Sveta</td>\n",
       "      <td>Kiev</td>\n",
       "      <td>1999</td>\n",
       "      <td>4.0</td>\n",
       "      <td>f</td>\n",
       "    </tr>\n",
       "    <tr>\n",
       "      <th>2</th>\n",
       "      <td>Alex</td>\n",
       "      <td>Minsk</td>\n",
       "      <td>1954</td>\n",
       "      <td>NaN</td>\n",
       "      <td>m</td>\n",
       "    </tr>\n",
       "    <tr>\n",
       "      <th>3</th>\n",
       "      <td>Ivan</td>\n",
       "      <td>St.Petersburg</td>\n",
       "      <td>2005</td>\n",
       "      <td>6.0</td>\n",
       "      <td>m</td>\n",
       "    </tr>\n",
       "    <tr>\n",
       "      <th>4</th>\n",
       "      <td>Kate</td>\n",
       "      <td>London</td>\n",
       "      <td>2001</td>\n",
       "      <td>NaN</td>\n",
       "      <td>f</td>\n",
       "    </tr>\n",
       "    <tr>\n",
       "      <th>5</th>\n",
       "      <td>Maria</td>\n",
       "      <td>New York</td>\n",
       "      <td>1997</td>\n",
       "      <td>7.0</td>\n",
       "      <td>f</td>\n",
       "    </tr>\n",
       "    <tr>\n",
       "      <th>0</th>\n",
       "      <td>Petr</td>\n",
       "      <td>Bryansk</td>\n",
       "      <td>1978</td>\n",
       "      <td>5.0</td>\n",
       "      <td>m</td>\n",
       "    </tr>\n",
       "    <tr>\n",
       "      <th>1</th>\n",
       "      <td>Ann</td>\n",
       "      <td>Tehran</td>\n",
       "      <td>1997</td>\n",
       "      <td>7.0</td>\n",
       "      <td>f</td>\n",
       "    </tr>\n",
       "  </tbody>\n",
       "</table>\n",
       "</div>"
      ],
      "text/plain": [
       "    Name           City  Year  Grade Gender\n",
       "0   Dima         Moscow  1988    4.0      m\n",
       "1  Sveta           Kiev  1999    4.0      f\n",
       "2   Alex          Minsk  1954    NaN      m\n",
       "3   Ivan  St.Petersburg  2005    6.0      m\n",
       "4   Kate         London  2001    NaN      f\n",
       "5  Maria       New York  1997    7.0      f\n",
       "0   Petr        Bryansk  1978    5.0      m\n",
       "1    Ann         Tehran  1997    7.0      f"
      ]
     },
     "execution_count": 133,
     "metadata": {},
     "output_type": "execute_result"
    }
   ],
   "source": [
    "df3 = pnd.concat([df, df2], ignore_index = False) #ignore_index = False - в новом DataFrame индексы остаются прежними\n",
    "df3"
   ]
  },
  {
   "cell_type": "code",
   "execution_count": 134,
   "metadata": {
    "collapsed": false
   },
   "outputs": [
    {
     "data": {
      "text/html": [
       "<div>\n",
       "<table border=\"1\" class=\"dataframe\">\n",
       "  <thead>\n",
       "    <tr style=\"text-align: right;\">\n",
       "      <th></th>\n",
       "      <th>Name</th>\n",
       "      <th>City</th>\n",
       "      <th>Year</th>\n",
       "      <th>Grade</th>\n",
       "      <th>Gender</th>\n",
       "    </tr>\n",
       "  </thead>\n",
       "  <tbody>\n",
       "    <tr>\n",
       "      <th>1</th>\n",
       "      <td>Sveta</td>\n",
       "      <td>Kiev</td>\n",
       "      <td>1999</td>\n",
       "      <td>4.0</td>\n",
       "      <td>f</td>\n",
       "    </tr>\n",
       "    <tr>\n",
       "      <th>1</th>\n",
       "      <td>Ann</td>\n",
       "      <td>Tehran</td>\n",
       "      <td>1997</td>\n",
       "      <td>7.0</td>\n",
       "      <td>f</td>\n",
       "    </tr>\n",
       "  </tbody>\n",
       "</table>\n",
       "</div>"
      ],
      "text/plain": [
       "    Name    City  Year  Grade Gender\n",
       "1  Sveta    Kiev  1999    4.0      f\n",
       "1    Ann  Tehran  1997    7.0      f"
      ]
     },
     "execution_count": 134,
     "metadata": {},
     "output_type": "execute_result"
    }
   ],
   "source": [
    "df3.ix[1]"
   ]
  },
  {
   "cell_type": "code",
   "execution_count": 135,
   "metadata": {
    "collapsed": false
   },
   "outputs": [
    {
     "data": {
      "text/html": [
       "<div>\n",
       "<table border=\"1\" class=\"dataframe\">\n",
       "  <thead>\n",
       "    <tr style=\"text-align: right;\">\n",
       "      <th></th>\n",
       "      <th>Name</th>\n",
       "      <th>City</th>\n",
       "      <th>Year</th>\n",
       "      <th>Grade</th>\n",
       "      <th>Gender</th>\n",
       "    </tr>\n",
       "  </thead>\n",
       "  <tbody>\n",
       "    <tr>\n",
       "      <th>0</th>\n",
       "      <td>Dima</td>\n",
       "      <td>Moscow</td>\n",
       "      <td>1988</td>\n",
       "      <td>4.0</td>\n",
       "      <td>m</td>\n",
       "    </tr>\n",
       "    <tr>\n",
       "      <th>1</th>\n",
       "      <td>Sveta</td>\n",
       "      <td>Kiev</td>\n",
       "      <td>1999</td>\n",
       "      <td>4.0</td>\n",
       "      <td>f</td>\n",
       "    </tr>\n",
       "    <tr>\n",
       "      <th>2</th>\n",
       "      <td>Alex</td>\n",
       "      <td>Minsk</td>\n",
       "      <td>1954</td>\n",
       "      <td>NaN</td>\n",
       "      <td>m</td>\n",
       "    </tr>\n",
       "    <tr>\n",
       "      <th>3</th>\n",
       "      <td>Ivan</td>\n",
       "      <td>St.Petersburg</td>\n",
       "      <td>2005</td>\n",
       "      <td>6.0</td>\n",
       "      <td>m</td>\n",
       "    </tr>\n",
       "    <tr>\n",
       "      <th>4</th>\n",
       "      <td>Kate</td>\n",
       "      <td>London</td>\n",
       "      <td>2001</td>\n",
       "      <td>NaN</td>\n",
       "      <td>f</td>\n",
       "    </tr>\n",
       "    <tr>\n",
       "      <th>5</th>\n",
       "      <td>Maria</td>\n",
       "      <td>New York</td>\n",
       "      <td>1997</td>\n",
       "      <td>7.0</td>\n",
       "      <td>f</td>\n",
       "    </tr>\n",
       "    <tr>\n",
       "      <th>6</th>\n",
       "      <td>Petr</td>\n",
       "      <td>Bryansk</td>\n",
       "      <td>1978</td>\n",
       "      <td>5.0</td>\n",
       "      <td>m</td>\n",
       "    </tr>\n",
       "    <tr>\n",
       "      <th>7</th>\n",
       "      <td>Ann</td>\n",
       "      <td>Tehran</td>\n",
       "      <td>1997</td>\n",
       "      <td>7.0</td>\n",
       "      <td>f</td>\n",
       "    </tr>\n",
       "  </tbody>\n",
       "</table>\n",
       "</div>"
      ],
      "text/plain": [
       "    Name           City  Year  Grade Gender\n",
       "0   Dima         Moscow  1988    4.0      m\n",
       "1  Sveta           Kiev  1999    4.0      f\n",
       "2   Alex          Minsk  1954    NaN      m\n",
       "3   Ivan  St.Petersburg  2005    6.0      m\n",
       "4   Kate         London  2001    NaN      f\n",
       "5  Maria       New York  1997    7.0      f\n",
       "6   Petr        Bryansk  1978    5.0      m\n",
       "7    Ann         Tehran  1997    7.0      f"
      ]
     },
     "execution_count": 135,
     "metadata": {},
     "output_type": "execute_result"
    }
   ],
   "source": [
    "df3 = pnd.concat([df, df2], ignore_index = True) #ignore_index = True - в новом DataFrame будет стандартная индексация от 0.\n",
    "df3"
   ]
  },
  {
   "cell_type": "markdown",
   "metadata": {},
   "source": [
    "<p>Добавление ключа/индекса</p>"
   ]
  },
  {
   "cell_type": "code",
   "execution_count": 136,
   "metadata": {
    "collapsed": false
   },
   "outputs": [
    {
     "data": {
      "text/html": [
       "<div>\n",
       "<table border=\"1\" class=\"dataframe\">\n",
       "  <thead>\n",
       "    <tr style=\"text-align: right;\">\n",
       "      <th></th>\n",
       "      <th></th>\n",
       "      <th>Name</th>\n",
       "      <th>City</th>\n",
       "      <th>Year</th>\n",
       "      <th>Grade</th>\n",
       "      <th>Gender</th>\n",
       "    </tr>\n",
       "  </thead>\n",
       "  <tbody>\n",
       "    <tr>\n",
       "      <th rowspan=\"6\" valign=\"top\">Table1</th>\n",
       "      <th>0</th>\n",
       "      <td>Dima</td>\n",
       "      <td>Moscow</td>\n",
       "      <td>1988</td>\n",
       "      <td>4.0</td>\n",
       "      <td>m</td>\n",
       "    </tr>\n",
       "    <tr>\n",
       "      <th>1</th>\n",
       "      <td>Sveta</td>\n",
       "      <td>Kiev</td>\n",
       "      <td>1999</td>\n",
       "      <td>4.0</td>\n",
       "      <td>f</td>\n",
       "    </tr>\n",
       "    <tr>\n",
       "      <th>2</th>\n",
       "      <td>Alex</td>\n",
       "      <td>Minsk</td>\n",
       "      <td>1954</td>\n",
       "      <td>NaN</td>\n",
       "      <td>m</td>\n",
       "    </tr>\n",
       "    <tr>\n",
       "      <th>3</th>\n",
       "      <td>Ivan</td>\n",
       "      <td>St.Petersburg</td>\n",
       "      <td>2005</td>\n",
       "      <td>6.0</td>\n",
       "      <td>m</td>\n",
       "    </tr>\n",
       "    <tr>\n",
       "      <th>4</th>\n",
       "      <td>Kate</td>\n",
       "      <td>London</td>\n",
       "      <td>2001</td>\n",
       "      <td>NaN</td>\n",
       "      <td>f</td>\n",
       "    </tr>\n",
       "    <tr>\n",
       "      <th>5</th>\n",
       "      <td>Maria</td>\n",
       "      <td>New York</td>\n",
       "      <td>1997</td>\n",
       "      <td>7.0</td>\n",
       "      <td>f</td>\n",
       "    </tr>\n",
       "    <tr>\n",
       "      <th rowspan=\"2\" valign=\"top\">Table2</th>\n",
       "      <th>0</th>\n",
       "      <td>Petr</td>\n",
       "      <td>Bryansk</td>\n",
       "      <td>1978</td>\n",
       "      <td>5.0</td>\n",
       "      <td>m</td>\n",
       "    </tr>\n",
       "    <tr>\n",
       "      <th>1</th>\n",
       "      <td>Ann</td>\n",
       "      <td>Tehran</td>\n",
       "      <td>1997</td>\n",
       "      <td>7.0</td>\n",
       "      <td>f</td>\n",
       "    </tr>\n",
       "  </tbody>\n",
       "</table>\n",
       "</div>"
      ],
      "text/plain": [
       "           Name           City  Year  Grade Gender\n",
       "Table1 0   Dima         Moscow  1988    4.0      m\n",
       "       1  Sveta           Kiev  1999    4.0      f\n",
       "       2   Alex          Minsk  1954    NaN      m\n",
       "       3   Ivan  St.Petersburg  2005    6.0      m\n",
       "       4   Kate         London  2001    NaN      f\n",
       "       5  Maria       New York  1997    7.0      f\n",
       "Table2 0   Petr        Bryansk  1978    5.0      m\n",
       "       1    Ann         Tehran  1997    7.0      f"
      ]
     },
     "execution_count": 136,
     "metadata": {},
     "output_type": "execute_result"
    }
   ],
   "source": [
    "df3 = pnd.concat([df, df2], keys = [\"Table1\", \"Table2\"])\n",
    "df3"
   ]
  },
  {
   "cell_type": "code",
   "execution_count": 137,
   "metadata": {
    "collapsed": false
   },
   "outputs": [
    {
     "data": {
      "text/html": [
       "<div>\n",
       "<table border=\"1\" class=\"dataframe\">\n",
       "  <thead>\n",
       "    <tr style=\"text-align: right;\">\n",
       "      <th></th>\n",
       "      <th>Name</th>\n",
       "      <th>City</th>\n",
       "      <th>Year</th>\n",
       "      <th>Grade</th>\n",
       "      <th>Gender</th>\n",
       "    </tr>\n",
       "  </thead>\n",
       "  <tbody>\n",
       "    <tr>\n",
       "      <th>0</th>\n",
       "      <td>Dima</td>\n",
       "      <td>Moscow</td>\n",
       "      <td>1988</td>\n",
       "      <td>4.0</td>\n",
       "      <td>m</td>\n",
       "    </tr>\n",
       "    <tr>\n",
       "      <th>1</th>\n",
       "      <td>Sveta</td>\n",
       "      <td>Kiev</td>\n",
       "      <td>1999</td>\n",
       "      <td>4.0</td>\n",
       "      <td>f</td>\n",
       "    </tr>\n",
       "    <tr>\n",
       "      <th>2</th>\n",
       "      <td>Alex</td>\n",
       "      <td>Minsk</td>\n",
       "      <td>1954</td>\n",
       "      <td>NaN</td>\n",
       "      <td>m</td>\n",
       "    </tr>\n",
       "    <tr>\n",
       "      <th>3</th>\n",
       "      <td>Ivan</td>\n",
       "      <td>St.Petersburg</td>\n",
       "      <td>2005</td>\n",
       "      <td>6.0</td>\n",
       "      <td>m</td>\n",
       "    </tr>\n",
       "    <tr>\n",
       "      <th>4</th>\n",
       "      <td>Kate</td>\n",
       "      <td>London</td>\n",
       "      <td>2001</td>\n",
       "      <td>NaN</td>\n",
       "      <td>f</td>\n",
       "    </tr>\n",
       "    <tr>\n",
       "      <th>5</th>\n",
       "      <td>Maria</td>\n",
       "      <td>New York</td>\n",
       "      <td>1997</td>\n",
       "      <td>7.0</td>\n",
       "      <td>f</td>\n",
       "    </tr>\n",
       "  </tbody>\n",
       "</table>\n",
       "</div>"
      ],
      "text/plain": [
       "    Name           City  Year  Grade Gender\n",
       "0   Dima         Moscow  1988    4.0      m\n",
       "1  Sveta           Kiev  1999    4.0      f\n",
       "2   Alex          Minsk  1954    NaN      m\n",
       "3   Ivan  St.Petersburg  2005    6.0      m\n",
       "4   Kate         London  2001    NaN      f\n",
       "5  Maria       New York  1997    7.0      f"
      ]
     },
     "execution_count": 137,
     "metadata": {},
     "output_type": "execute_result"
    }
   ],
   "source": [
    "df3.loc[\"Table1\"]"
   ]
  },
  {
   "cell_type": "code",
   "execution_count": 138,
   "metadata": {
    "collapsed": false
   },
   "outputs": [
    {
     "data": {
      "text/plain": [
       "Name      Sveta\n",
       "City       Kiev\n",
       "Year       1999\n",
       "Grade         4\n",
       "Gender        f\n",
       "Name: (Table1, 1), dtype: object"
      ]
     },
     "execution_count": 138,
     "metadata": {},
     "output_type": "execute_result"
    }
   ],
   "source": [
    "df3.loc[(\"Table1\", 1)]"
   ]
  },
  {
   "cell_type": "markdown",
   "metadata": {},
   "source": [
    "<p>Слияние таблиц по столбцам</p>"
   ]
  },
  {
   "cell_type": "code",
   "execution_count": 139,
   "metadata": {
    "collapsed": false
   },
   "outputs": [
    {
     "data": {
      "text/html": [
       "<div>\n",
       "<table border=\"1\" class=\"dataframe\">\n",
       "  <thead>\n",
       "    <tr style=\"text-align: right;\">\n",
       "      <th></th>\n",
       "      <th>Name</th>\n",
       "      <th>City</th>\n",
       "      <th>Year</th>\n",
       "      <th>Grade</th>\n",
       "      <th>Gender</th>\n",
       "    </tr>\n",
       "  </thead>\n",
       "  <tbody>\n",
       "    <tr>\n",
       "      <th>0</th>\n",
       "      <td>Dima</td>\n",
       "      <td>Moscow</td>\n",
       "      <td>1988</td>\n",
       "      <td>4.0</td>\n",
       "      <td>m</td>\n",
       "    </tr>\n",
       "    <tr>\n",
       "      <th>1</th>\n",
       "      <td>Sveta</td>\n",
       "      <td>Kiev</td>\n",
       "      <td>1999</td>\n",
       "      <td>4.0</td>\n",
       "      <td>f</td>\n",
       "    </tr>\n",
       "    <tr>\n",
       "      <th>2</th>\n",
       "      <td>Alex</td>\n",
       "      <td>Minsk</td>\n",
       "      <td>1954</td>\n",
       "      <td>NaN</td>\n",
       "      <td>m</td>\n",
       "    </tr>\n",
       "    <tr>\n",
       "      <th>3</th>\n",
       "      <td>Ivan</td>\n",
       "      <td>St.Petersburg</td>\n",
       "      <td>2005</td>\n",
       "      <td>6.0</td>\n",
       "      <td>m</td>\n",
       "    </tr>\n",
       "    <tr>\n",
       "      <th>4</th>\n",
       "      <td>Kate</td>\n",
       "      <td>London</td>\n",
       "      <td>2001</td>\n",
       "      <td>NaN</td>\n",
       "      <td>f</td>\n",
       "    </tr>\n",
       "    <tr>\n",
       "      <th>5</th>\n",
       "      <td>Maria</td>\n",
       "      <td>New York</td>\n",
       "      <td>1997</td>\n",
       "      <td>7.0</td>\n",
       "      <td>f</td>\n",
       "    </tr>\n",
       "  </tbody>\n",
       "</table>\n",
       "</div>"
      ],
      "text/plain": [
       "    Name           City  Year  Grade Gender\n",
       "0   Dima         Moscow  1988    4.0      m\n",
       "1  Sveta           Kiev  1999    4.0      f\n",
       "2   Alex          Minsk  1954    NaN      m\n",
       "3   Ivan  St.Petersburg  2005    6.0      m\n",
       "4   Kate         London  2001    NaN      f\n",
       "5  Maria       New York  1997    7.0      f"
      ]
     },
     "execution_count": 139,
     "metadata": {},
     "output_type": "execute_result"
    }
   ],
   "source": [
    "df"
   ]
  },
  {
   "cell_type": "code",
   "execution_count": 140,
   "metadata": {
    "collapsed": false
   },
   "outputs": [
    {
     "data": {
      "text/html": [
       "<div>\n",
       "<table border=\"1\" class=\"dataframe\">\n",
       "  <thead>\n",
       "    <tr style=\"text-align: right;\">\n",
       "      <th></th>\n",
       "      <th>Marriage_status</th>\n",
       "      <th>Salary</th>\n",
       "    </tr>\n",
       "  </thead>\n",
       "  <tbody>\n",
       "    <tr>\n",
       "      <th>0</th>\n",
       "      <td>True</td>\n",
       "      <td>12</td>\n",
       "    </tr>\n",
       "    <tr>\n",
       "      <th>1</th>\n",
       "      <td>False</td>\n",
       "      <td>40</td>\n",
       "    </tr>\n",
       "    <tr>\n",
       "      <th>2</th>\n",
       "      <td>True</td>\n",
       "      <td>53</td>\n",
       "    </tr>\n",
       "    <tr>\n",
       "      <th>3</th>\n",
       "      <td>False</td>\n",
       "      <td>25</td>\n",
       "    </tr>\n",
       "  </tbody>\n",
       "</table>\n",
       "</div>"
      ],
      "text/plain": [
       "  Marriage_status  Salary\n",
       "0            True      12\n",
       "1           False      40\n",
       "2            True      53\n",
       "3           False      25"
      ]
     },
     "execution_count": 140,
     "metadata": {},
     "output_type": "execute_result"
    }
   ],
   "source": [
    "dictNew = {\"Marriage_status\":[True, False, True, False],\n",
    "        \"Salary\":[12, 40, 53, 25]}\n",
    "\n",
    "dfRight1 = pnd.DataFrame(data = dictNew)\n",
    "dfRight1"
   ]
  },
  {
   "cell_type": "markdown",
   "metadata": {},
   "source": [
    "<p>Внешнее соединение (<b>outer join</b>) таблиц по индексу</p>"
   ]
  },
  {
   "cell_type": "code",
   "execution_count": 141,
   "metadata": {
    "collapsed": false
   },
   "outputs": [
    {
     "data": {
      "text/html": [
       "<div>\n",
       "<table border=\"1\" class=\"dataframe\">\n",
       "  <thead>\n",
       "    <tr style=\"text-align: right;\">\n",
       "      <th></th>\n",
       "      <th>Name</th>\n",
       "      <th>City</th>\n",
       "      <th>Year</th>\n",
       "      <th>Grade</th>\n",
       "      <th>Gender</th>\n",
       "      <th>Marriage_status</th>\n",
       "      <th>Salary</th>\n",
       "    </tr>\n",
       "  </thead>\n",
       "  <tbody>\n",
       "    <tr>\n",
       "      <th>0</th>\n",
       "      <td>Dima</td>\n",
       "      <td>Moscow</td>\n",
       "      <td>1988</td>\n",
       "      <td>4.0</td>\n",
       "      <td>m</td>\n",
       "      <td>True</td>\n",
       "      <td>12.0</td>\n",
       "    </tr>\n",
       "    <tr>\n",
       "      <th>1</th>\n",
       "      <td>Sveta</td>\n",
       "      <td>Kiev</td>\n",
       "      <td>1999</td>\n",
       "      <td>4.0</td>\n",
       "      <td>f</td>\n",
       "      <td>False</td>\n",
       "      <td>40.0</td>\n",
       "    </tr>\n",
       "    <tr>\n",
       "      <th>2</th>\n",
       "      <td>Alex</td>\n",
       "      <td>Minsk</td>\n",
       "      <td>1954</td>\n",
       "      <td>NaN</td>\n",
       "      <td>m</td>\n",
       "      <td>True</td>\n",
       "      <td>53.0</td>\n",
       "    </tr>\n",
       "    <tr>\n",
       "      <th>3</th>\n",
       "      <td>Ivan</td>\n",
       "      <td>St.Petersburg</td>\n",
       "      <td>2005</td>\n",
       "      <td>6.0</td>\n",
       "      <td>m</td>\n",
       "      <td>False</td>\n",
       "      <td>25.0</td>\n",
       "    </tr>\n",
       "    <tr>\n",
       "      <th>4</th>\n",
       "      <td>Kate</td>\n",
       "      <td>London</td>\n",
       "      <td>2001</td>\n",
       "      <td>NaN</td>\n",
       "      <td>f</td>\n",
       "      <td>NaN</td>\n",
       "      <td>NaN</td>\n",
       "    </tr>\n",
       "    <tr>\n",
       "      <th>5</th>\n",
       "      <td>Maria</td>\n",
       "      <td>New York</td>\n",
       "      <td>1997</td>\n",
       "      <td>7.0</td>\n",
       "      <td>f</td>\n",
       "      <td>NaN</td>\n",
       "      <td>NaN</td>\n",
       "    </tr>\n",
       "  </tbody>\n",
       "</table>\n",
       "</div>"
      ],
      "text/plain": [
       "    Name           City  Year  Grade Gender Marriage_status  Salary\n",
       "0   Dima         Moscow  1988    4.0      m            True    12.0\n",
       "1  Sveta           Kiev  1999    4.0      f           False    40.0\n",
       "2   Alex          Minsk  1954    NaN      m            True    53.0\n",
       "3   Ivan  St.Petersburg  2005    6.0      m           False    25.0\n",
       "4   Kate         London  2001    NaN      f             NaN     NaN\n",
       "5  Maria       New York  1997    7.0      f             NaN     NaN"
      ]
     },
     "execution_count": 141,
     "metadata": {},
     "output_type": "execute_result"
    }
   ],
   "source": [
    "df3 = pnd.concat([df,dfRight1], axis = 1, join = \"outer\") #axis = 1 указывает на то, что будет объединение столбцов\n",
    "df3"
   ]
  },
  {
   "cell_type": "markdown",
   "metadata": {},
   "source": [
    "<p>Внутреннее соединение (<b>inner join</b>) таблиц по индексу</p>"
   ]
  },
  {
   "cell_type": "code",
   "execution_count": 142,
   "metadata": {
    "collapsed": false
   },
   "outputs": [
    {
     "data": {
      "text/html": [
       "<div>\n",
       "<table border=\"1\" class=\"dataframe\">\n",
       "  <thead>\n",
       "    <tr style=\"text-align: right;\">\n",
       "      <th></th>\n",
       "      <th>Name</th>\n",
       "      <th>City</th>\n",
       "      <th>Year</th>\n",
       "      <th>Grade</th>\n",
       "      <th>Gender</th>\n",
       "      <th>Marriage_status</th>\n",
       "      <th>Salary</th>\n",
       "    </tr>\n",
       "  </thead>\n",
       "  <tbody>\n",
       "    <tr>\n",
       "      <th>0</th>\n",
       "      <td>Dima</td>\n",
       "      <td>Moscow</td>\n",
       "      <td>1988</td>\n",
       "      <td>4.0</td>\n",
       "      <td>m</td>\n",
       "      <td>True</td>\n",
       "      <td>12</td>\n",
       "    </tr>\n",
       "    <tr>\n",
       "      <th>1</th>\n",
       "      <td>Sveta</td>\n",
       "      <td>Kiev</td>\n",
       "      <td>1999</td>\n",
       "      <td>4.0</td>\n",
       "      <td>f</td>\n",
       "      <td>False</td>\n",
       "      <td>40</td>\n",
       "    </tr>\n",
       "    <tr>\n",
       "      <th>2</th>\n",
       "      <td>Alex</td>\n",
       "      <td>Minsk</td>\n",
       "      <td>1954</td>\n",
       "      <td>NaN</td>\n",
       "      <td>m</td>\n",
       "      <td>True</td>\n",
       "      <td>53</td>\n",
       "    </tr>\n",
       "    <tr>\n",
       "      <th>3</th>\n",
       "      <td>Ivan</td>\n",
       "      <td>St.Petersburg</td>\n",
       "      <td>2005</td>\n",
       "      <td>6.0</td>\n",
       "      <td>m</td>\n",
       "      <td>False</td>\n",
       "      <td>25</td>\n",
       "    </tr>\n",
       "  </tbody>\n",
       "</table>\n",
       "</div>"
      ],
      "text/plain": [
       "    Name           City  Year  Grade Gender Marriage_status  Salary\n",
       "0   Dima         Moscow  1988    4.0      m            True      12\n",
       "1  Sveta           Kiev  1999    4.0      f           False      40\n",
       "2   Alex          Minsk  1954    NaN      m            True      53\n",
       "3   Ivan  St.Petersburg  2005    6.0      m           False      25"
      ]
     },
     "execution_count": 142,
     "metadata": {},
     "output_type": "execute_result"
    }
   ],
   "source": [
    "df3 = pnd.concat([df,dfRight1], axis = 1, join = \"inner\") #join = \"inner\" - объединяет столбцы по совпадающим индексам строк\n",
    "df3"
   ]
  },
  {
   "cell_type": "markdown",
   "metadata": {},
   "source": [
    "<p><b>Функция <i>merge()</i></b></p>"
   ]
  },
  {
   "cell_type": "markdown",
   "metadata": {},
   "source": [
    "<p>Внешнее соединение (<b>outer join</b>) таблиц по индексу</p>"
   ]
  },
  {
   "cell_type": "code",
   "execution_count": 143,
   "metadata": {
    "collapsed": false
   },
   "outputs": [
    {
     "data": {
      "text/html": [
       "<div>\n",
       "<table border=\"1\" class=\"dataframe\">\n",
       "  <thead>\n",
       "    <tr style=\"text-align: right;\">\n",
       "      <th></th>\n",
       "      <th>Name</th>\n",
       "      <th>City</th>\n",
       "      <th>Year</th>\n",
       "      <th>Grade</th>\n",
       "      <th>Gender</th>\n",
       "      <th>Marriage_status</th>\n",
       "      <th>Salary</th>\n",
       "    </tr>\n",
       "  </thead>\n",
       "  <tbody>\n",
       "    <tr>\n",
       "      <th>0</th>\n",
       "      <td>Dima</td>\n",
       "      <td>Moscow</td>\n",
       "      <td>1988</td>\n",
       "      <td>4.0</td>\n",
       "      <td>m</td>\n",
       "      <td>True</td>\n",
       "      <td>12.0</td>\n",
       "    </tr>\n",
       "    <tr>\n",
       "      <th>1</th>\n",
       "      <td>Sveta</td>\n",
       "      <td>Kiev</td>\n",
       "      <td>1999</td>\n",
       "      <td>4.0</td>\n",
       "      <td>f</td>\n",
       "      <td>False</td>\n",
       "      <td>40.0</td>\n",
       "    </tr>\n",
       "    <tr>\n",
       "      <th>2</th>\n",
       "      <td>Alex</td>\n",
       "      <td>Minsk</td>\n",
       "      <td>1954</td>\n",
       "      <td>NaN</td>\n",
       "      <td>m</td>\n",
       "      <td>True</td>\n",
       "      <td>53.0</td>\n",
       "    </tr>\n",
       "    <tr>\n",
       "      <th>3</th>\n",
       "      <td>Ivan</td>\n",
       "      <td>St.Petersburg</td>\n",
       "      <td>2005</td>\n",
       "      <td>6.0</td>\n",
       "      <td>m</td>\n",
       "      <td>False</td>\n",
       "      <td>25.0</td>\n",
       "    </tr>\n",
       "    <tr>\n",
       "      <th>4</th>\n",
       "      <td>Kate</td>\n",
       "      <td>London</td>\n",
       "      <td>2001</td>\n",
       "      <td>NaN</td>\n",
       "      <td>f</td>\n",
       "      <td>NaN</td>\n",
       "      <td>NaN</td>\n",
       "    </tr>\n",
       "    <tr>\n",
       "      <th>5</th>\n",
       "      <td>Maria</td>\n",
       "      <td>New York</td>\n",
       "      <td>1997</td>\n",
       "      <td>7.0</td>\n",
       "      <td>f</td>\n",
       "      <td>NaN</td>\n",
       "      <td>NaN</td>\n",
       "    </tr>\n",
       "  </tbody>\n",
       "</table>\n",
       "</div>"
      ],
      "text/plain": [
       "    Name           City  Year  Grade Gender Marriage_status  Salary\n",
       "0   Dima         Moscow  1988    4.0      m            True    12.0\n",
       "1  Sveta           Kiev  1999    4.0      f           False    40.0\n",
       "2   Alex          Minsk  1954    NaN      m            True    53.0\n",
       "3   Ivan  St.Petersburg  2005    6.0      m           False    25.0\n",
       "4   Kate         London  2001    NaN      f             NaN     NaN\n",
       "5  Maria       New York  1997    7.0      f             NaN     NaN"
      ]
     },
     "execution_count": 143,
     "metadata": {},
     "output_type": "execute_result"
    }
   ],
   "source": [
    "df3 = pnd.merge(df, dfRight1, left_index=True, right_index=True, how = \"outer\")\n",
    "df3"
   ]
  },
  {
   "cell_type": "markdown",
   "metadata": {},
   "source": [
    "<p>Внешнее соединение (<b>outer join</b>) таблиц по значениям в столбцах</p>"
   ]
  },
  {
   "cell_type": "code",
   "execution_count": 144,
   "metadata": {
    "collapsed": false
   },
   "outputs": [
    {
     "data": {
      "text/html": [
       "<div>\n",
       "<table border=\"1\" class=\"dataframe\">\n",
       "  <thead>\n",
       "    <tr style=\"text-align: right;\">\n",
       "      <th></th>\n",
       "      <th>Device</th>\n",
       "      <th>Name</th>\n",
       "    </tr>\n",
       "  </thead>\n",
       "  <tbody>\n",
       "    <tr>\n",
       "      <th>0</th>\n",
       "      <td>TV</td>\n",
       "      <td>Sveta</td>\n",
       "    </tr>\n",
       "    <tr>\n",
       "      <th>1</th>\n",
       "      <td>Smartphone</td>\n",
       "      <td>Sveta</td>\n",
       "    </tr>\n",
       "    <tr>\n",
       "      <th>2</th>\n",
       "      <td>TV</td>\n",
       "      <td>Alex</td>\n",
       "    </tr>\n",
       "    <tr>\n",
       "      <th>3</th>\n",
       "      <td>Pendrive</td>\n",
       "      <td>Alex</td>\n",
       "    </tr>\n",
       "    <tr>\n",
       "      <th>4</th>\n",
       "      <td>TV</td>\n",
       "      <td>Kate</td>\n",
       "    </tr>\n",
       "    <tr>\n",
       "      <th>5</th>\n",
       "      <td>TV</td>\n",
       "      <td>Vlad</td>\n",
       "    </tr>\n",
       "    <tr>\n",
       "      <th>6</th>\n",
       "      <td>PC</td>\n",
       "      <td>Alice</td>\n",
       "    </tr>\n",
       "  </tbody>\n",
       "</table>\n",
       "</div>"
      ],
      "text/plain": [
       "       Device   Name\n",
       "0          TV  Sveta\n",
       "1  Smartphone  Sveta\n",
       "2          TV   Alex\n",
       "3    Pendrive   Alex\n",
       "4          TV   Kate\n",
       "5          TV   Vlad\n",
       "6          PC  Alice"
      ]
     },
     "execution_count": 144,
     "metadata": {},
     "output_type": "execute_result"
    }
   ],
   "source": [
    "dictNew2 = {\"Name\":[\"Sveta\", \"Sveta\", \"Alex\", \"Alex\", \"Kate\", \"Vlad\", \"Alice\"],\n",
    "            \"Device\":[\"TV\", \"Smartphone\", \"TV\", \"Pendrive\", \"TV\", \"TV\", \"PC\"]}\n",
    "\n",
    "dfRight2 = pnd.DataFrame(data = dictNew2)\n",
    "dfRight2"
   ]
  },
  {
   "cell_type": "code",
   "execution_count": 145,
   "metadata": {
    "collapsed": false
   },
   "outputs": [
    {
     "data": {
      "text/html": [
       "<div>\n",
       "<table border=\"1\" class=\"dataframe\">\n",
       "  <thead>\n",
       "    <tr style=\"text-align: right;\">\n",
       "      <th></th>\n",
       "      <th>Name</th>\n",
       "      <th>City</th>\n",
       "      <th>Year</th>\n",
       "      <th>Grade</th>\n",
       "      <th>Gender</th>\n",
       "      <th>Device</th>\n",
       "    </tr>\n",
       "  </thead>\n",
       "  <tbody>\n",
       "    <tr>\n",
       "      <th>0</th>\n",
       "      <td>Dima</td>\n",
       "      <td>Moscow</td>\n",
       "      <td>1988.0</td>\n",
       "      <td>4.0</td>\n",
       "      <td>m</td>\n",
       "      <td>NaN</td>\n",
       "    </tr>\n",
       "    <tr>\n",
       "      <th>1</th>\n",
       "      <td>Sveta</td>\n",
       "      <td>Kiev</td>\n",
       "      <td>1999.0</td>\n",
       "      <td>4.0</td>\n",
       "      <td>f</td>\n",
       "      <td>TV</td>\n",
       "    </tr>\n",
       "    <tr>\n",
       "      <th>2</th>\n",
       "      <td>Sveta</td>\n",
       "      <td>Kiev</td>\n",
       "      <td>1999.0</td>\n",
       "      <td>4.0</td>\n",
       "      <td>f</td>\n",
       "      <td>Smartphone</td>\n",
       "    </tr>\n",
       "    <tr>\n",
       "      <th>3</th>\n",
       "      <td>Alex</td>\n",
       "      <td>Minsk</td>\n",
       "      <td>1954.0</td>\n",
       "      <td>NaN</td>\n",
       "      <td>m</td>\n",
       "      <td>TV</td>\n",
       "    </tr>\n",
       "    <tr>\n",
       "      <th>4</th>\n",
       "      <td>Alex</td>\n",
       "      <td>Minsk</td>\n",
       "      <td>1954.0</td>\n",
       "      <td>NaN</td>\n",
       "      <td>m</td>\n",
       "      <td>Pendrive</td>\n",
       "    </tr>\n",
       "    <tr>\n",
       "      <th>5</th>\n",
       "      <td>Ivan</td>\n",
       "      <td>St.Petersburg</td>\n",
       "      <td>2005.0</td>\n",
       "      <td>6.0</td>\n",
       "      <td>m</td>\n",
       "      <td>NaN</td>\n",
       "    </tr>\n",
       "    <tr>\n",
       "      <th>6</th>\n",
       "      <td>Kate</td>\n",
       "      <td>London</td>\n",
       "      <td>2001.0</td>\n",
       "      <td>NaN</td>\n",
       "      <td>f</td>\n",
       "      <td>TV</td>\n",
       "    </tr>\n",
       "    <tr>\n",
       "      <th>7</th>\n",
       "      <td>Maria</td>\n",
       "      <td>New York</td>\n",
       "      <td>1997.0</td>\n",
       "      <td>7.0</td>\n",
       "      <td>f</td>\n",
       "      <td>NaN</td>\n",
       "    </tr>\n",
       "    <tr>\n",
       "      <th>8</th>\n",
       "      <td>Vlad</td>\n",
       "      <td>NaN</td>\n",
       "      <td>NaN</td>\n",
       "      <td>NaN</td>\n",
       "      <td>NaN</td>\n",
       "      <td>TV</td>\n",
       "    </tr>\n",
       "    <tr>\n",
       "      <th>9</th>\n",
       "      <td>Alice</td>\n",
       "      <td>NaN</td>\n",
       "      <td>NaN</td>\n",
       "      <td>NaN</td>\n",
       "      <td>NaN</td>\n",
       "      <td>PC</td>\n",
       "    </tr>\n",
       "  </tbody>\n",
       "</table>\n",
       "</div>"
      ],
      "text/plain": [
       "    Name           City    Year  Grade Gender      Device\n",
       "0   Dima         Moscow  1988.0    4.0      m         NaN\n",
       "1  Sveta           Kiev  1999.0    4.0      f          TV\n",
       "2  Sveta           Kiev  1999.0    4.0      f  Smartphone\n",
       "3   Alex          Minsk  1954.0    NaN      m          TV\n",
       "4   Alex          Minsk  1954.0    NaN      m    Pendrive\n",
       "5   Ivan  St.Petersburg  2005.0    6.0      m         NaN\n",
       "6   Kate         London  2001.0    NaN      f          TV\n",
       "7  Maria       New York  1997.0    7.0      f         NaN\n",
       "8   Vlad            NaN     NaN    NaN    NaN          TV\n",
       "9  Alice            NaN     NaN    NaN    NaN          PC"
      ]
     },
     "execution_count": 145,
     "metadata": {},
     "output_type": "execute_result"
    }
   ],
   "source": [
    "df3 = pnd.merge(df, dfRight2, on = [\"Name\"], how = \"outer\")\n",
    "df3"
   ]
  },
  {
   "cell_type": "markdown",
   "metadata": {},
   "source": [
    "<p>Внешнее соединение (<b>outer join</b>) таблиц по значениям столбцов одной таблицы и индексам другой</p>"
   ]
  },
  {
   "cell_type": "code",
   "execution_count": 146,
   "metadata": {
    "collapsed": false
   },
   "outputs": [
    {
     "data": {
      "text/html": [
       "<div>\n",
       "<table border=\"1\" class=\"dataframe\">\n",
       "  <thead>\n",
       "    <tr style=\"text-align: right;\">\n",
       "      <th></th>\n",
       "      <th>Device</th>\n",
       "      <th>key</th>\n",
       "    </tr>\n",
       "  </thead>\n",
       "  <tbody>\n",
       "    <tr>\n",
       "      <th>0</th>\n",
       "      <td>TV</td>\n",
       "      <td>2</td>\n",
       "    </tr>\n",
       "    <tr>\n",
       "      <th>1</th>\n",
       "      <td>Smartphone</td>\n",
       "      <td>2</td>\n",
       "    </tr>\n",
       "    <tr>\n",
       "      <th>2</th>\n",
       "      <td>TV</td>\n",
       "      <td>3</td>\n",
       "    </tr>\n",
       "    <tr>\n",
       "      <th>3</th>\n",
       "      <td>Pendrive</td>\n",
       "      <td>3</td>\n",
       "    </tr>\n",
       "    <tr>\n",
       "      <th>4</th>\n",
       "      <td>TV</td>\n",
       "      <td>4</td>\n",
       "    </tr>\n",
       "    <tr>\n",
       "      <th>5</th>\n",
       "      <td>TV</td>\n",
       "      <td>4</td>\n",
       "    </tr>\n",
       "    <tr>\n",
       "      <th>6</th>\n",
       "      <td>PC</td>\n",
       "      <td>10</td>\n",
       "    </tr>\n",
       "  </tbody>\n",
       "</table>\n",
       "</div>"
      ],
      "text/plain": [
       "       Device  key\n",
       "0          TV    2\n",
       "1  Smartphone    2\n",
       "2          TV    3\n",
       "3    Pendrive    3\n",
       "4          TV    4\n",
       "5          TV    4\n",
       "6          PC   10"
      ]
     },
     "execution_count": 146,
     "metadata": {},
     "output_type": "execute_result"
    }
   ],
   "source": [
    "dictNew3 = {\"key\":[2, 2, 3, 3, 4, 4, 10],\n",
    "            \"Device\":[\"TV\", \"Smartphone\", \"TV\", \"Pendrive\", \"TV\", \"TV\", \"PC\"]}\n",
    "\n",
    "dfLeft = pnd.DataFrame(data = dictNew3)\n",
    "dfLeft"
   ]
  },
  {
   "cell_type": "code",
   "execution_count": 147,
   "metadata": {
    "collapsed": false
   },
   "outputs": [
    {
     "data": {
      "text/html": [
       "<div>\n",
       "<table border=\"1\" class=\"dataframe\">\n",
       "  <thead>\n",
       "    <tr style=\"text-align: right;\">\n",
       "      <th></th>\n",
       "      <th>Device</th>\n",
       "      <th>key</th>\n",
       "      <th>Name</th>\n",
       "      <th>City</th>\n",
       "      <th>Year</th>\n",
       "      <th>Grade</th>\n",
       "      <th>Gender</th>\n",
       "    </tr>\n",
       "  </thead>\n",
       "  <tbody>\n",
       "    <tr>\n",
       "      <th>0</th>\n",
       "      <td>TV</td>\n",
       "      <td>2.0</td>\n",
       "      <td>Alex</td>\n",
       "      <td>Minsk</td>\n",
       "      <td>1954.0</td>\n",
       "      <td>NaN</td>\n",
       "      <td>m</td>\n",
       "    </tr>\n",
       "    <tr>\n",
       "      <th>1</th>\n",
       "      <td>Smartphone</td>\n",
       "      <td>2.0</td>\n",
       "      <td>Alex</td>\n",
       "      <td>Minsk</td>\n",
       "      <td>1954.0</td>\n",
       "      <td>NaN</td>\n",
       "      <td>m</td>\n",
       "    </tr>\n",
       "    <tr>\n",
       "      <th>2</th>\n",
       "      <td>TV</td>\n",
       "      <td>3.0</td>\n",
       "      <td>Ivan</td>\n",
       "      <td>St.Petersburg</td>\n",
       "      <td>2005.0</td>\n",
       "      <td>6.0</td>\n",
       "      <td>m</td>\n",
       "    </tr>\n",
       "    <tr>\n",
       "      <th>3</th>\n",
       "      <td>Pendrive</td>\n",
       "      <td>3.0</td>\n",
       "      <td>Ivan</td>\n",
       "      <td>St.Petersburg</td>\n",
       "      <td>2005.0</td>\n",
       "      <td>6.0</td>\n",
       "      <td>m</td>\n",
       "    </tr>\n",
       "    <tr>\n",
       "      <th>4</th>\n",
       "      <td>TV</td>\n",
       "      <td>4.0</td>\n",
       "      <td>Kate</td>\n",
       "      <td>London</td>\n",
       "      <td>2001.0</td>\n",
       "      <td>NaN</td>\n",
       "      <td>f</td>\n",
       "    </tr>\n",
       "    <tr>\n",
       "      <th>5</th>\n",
       "      <td>TV</td>\n",
       "      <td>4.0</td>\n",
       "      <td>Kate</td>\n",
       "      <td>London</td>\n",
       "      <td>2001.0</td>\n",
       "      <td>NaN</td>\n",
       "      <td>f</td>\n",
       "    </tr>\n",
       "    <tr>\n",
       "      <th>6</th>\n",
       "      <td>PC</td>\n",
       "      <td>10.0</td>\n",
       "      <td>NaN</td>\n",
       "      <td>NaN</td>\n",
       "      <td>NaN</td>\n",
       "      <td>NaN</td>\n",
       "      <td>NaN</td>\n",
       "    </tr>\n",
       "    <tr>\n",
       "      <th>6</th>\n",
       "      <td>NaN</td>\n",
       "      <td>0.0</td>\n",
       "      <td>Dima</td>\n",
       "      <td>Moscow</td>\n",
       "      <td>1988.0</td>\n",
       "      <td>4.0</td>\n",
       "      <td>m</td>\n",
       "    </tr>\n",
       "    <tr>\n",
       "      <th>6</th>\n",
       "      <td>NaN</td>\n",
       "      <td>1.0</td>\n",
       "      <td>Sveta</td>\n",
       "      <td>Kiev</td>\n",
       "      <td>1999.0</td>\n",
       "      <td>4.0</td>\n",
       "      <td>f</td>\n",
       "    </tr>\n",
       "    <tr>\n",
       "      <th>6</th>\n",
       "      <td>NaN</td>\n",
       "      <td>5.0</td>\n",
       "      <td>Maria</td>\n",
       "      <td>New York</td>\n",
       "      <td>1997.0</td>\n",
       "      <td>7.0</td>\n",
       "      <td>f</td>\n",
       "    </tr>\n",
       "  </tbody>\n",
       "</table>\n",
       "</div>"
      ],
      "text/plain": [
       "       Device   key   Name           City    Year  Grade Gender\n",
       "0          TV   2.0   Alex          Minsk  1954.0    NaN      m\n",
       "1  Smartphone   2.0   Alex          Minsk  1954.0    NaN      m\n",
       "2          TV   3.0   Ivan  St.Petersburg  2005.0    6.0      m\n",
       "3    Pendrive   3.0   Ivan  St.Petersburg  2005.0    6.0      m\n",
       "4          TV   4.0   Kate         London  2001.0    NaN      f\n",
       "5          TV   4.0   Kate         London  2001.0    NaN      f\n",
       "6          PC  10.0    NaN            NaN     NaN    NaN    NaN\n",
       "6         NaN   0.0   Dima         Moscow  1988.0    4.0      m\n",
       "6         NaN   1.0  Sveta           Kiev  1999.0    4.0      f\n",
       "6         NaN   5.0  Maria       New York  1997.0    7.0      f"
      ]
     },
     "execution_count": 147,
     "metadata": {},
     "output_type": "execute_result"
    }
   ],
   "source": [
    "df3 = pnd.merge(dfLeft, df, left_on=\"key\", right_index=True, how=\"outer\")\n",
    "df3"
   ]
  },
  {
   "cell_type": "markdown",
   "metadata": {},
   "source": [
    "<p>Левое внешнее соединение (<b>left outer join</b>) таблиц по индексу</p>"
   ]
  },
  {
   "cell_type": "code",
   "execution_count": 148,
   "metadata": {
    "collapsed": false
   },
   "outputs": [
    {
     "data": {
      "text/html": [
       "<div>\n",
       "<table border=\"1\" class=\"dataframe\">\n",
       "  <thead>\n",
       "    <tr style=\"text-align: right;\">\n",
       "      <th></th>\n",
       "      <th>Name</th>\n",
       "      <th>City</th>\n",
       "      <th>Year</th>\n",
       "      <th>Grade</th>\n",
       "      <th>Gender</th>\n",
       "      <th>Marriage_status</th>\n",
       "      <th>Salary</th>\n",
       "    </tr>\n",
       "  </thead>\n",
       "  <tbody>\n",
       "    <tr>\n",
       "      <th>0</th>\n",
       "      <td>Dima</td>\n",
       "      <td>Moscow</td>\n",
       "      <td>1988</td>\n",
       "      <td>4.0</td>\n",
       "      <td>m</td>\n",
       "      <td>True</td>\n",
       "      <td>12.0</td>\n",
       "    </tr>\n",
       "    <tr>\n",
       "      <th>1</th>\n",
       "      <td>Sveta</td>\n",
       "      <td>Kiev</td>\n",
       "      <td>1999</td>\n",
       "      <td>4.0</td>\n",
       "      <td>f</td>\n",
       "      <td>False</td>\n",
       "      <td>40.0</td>\n",
       "    </tr>\n",
       "    <tr>\n",
       "      <th>2</th>\n",
       "      <td>Alex</td>\n",
       "      <td>Minsk</td>\n",
       "      <td>1954</td>\n",
       "      <td>NaN</td>\n",
       "      <td>m</td>\n",
       "      <td>True</td>\n",
       "      <td>53.0</td>\n",
       "    </tr>\n",
       "    <tr>\n",
       "      <th>3</th>\n",
       "      <td>Ivan</td>\n",
       "      <td>St.Petersburg</td>\n",
       "      <td>2005</td>\n",
       "      <td>6.0</td>\n",
       "      <td>m</td>\n",
       "      <td>False</td>\n",
       "      <td>25.0</td>\n",
       "    </tr>\n",
       "    <tr>\n",
       "      <th>4</th>\n",
       "      <td>Kate</td>\n",
       "      <td>London</td>\n",
       "      <td>2001</td>\n",
       "      <td>NaN</td>\n",
       "      <td>f</td>\n",
       "      <td>NaN</td>\n",
       "      <td>NaN</td>\n",
       "    </tr>\n",
       "    <tr>\n",
       "      <th>5</th>\n",
       "      <td>Maria</td>\n",
       "      <td>New York</td>\n",
       "      <td>1997</td>\n",
       "      <td>7.0</td>\n",
       "      <td>f</td>\n",
       "      <td>NaN</td>\n",
       "      <td>NaN</td>\n",
       "    </tr>\n",
       "  </tbody>\n",
       "</table>\n",
       "</div>"
      ],
      "text/plain": [
       "    Name           City  Year  Grade Gender Marriage_status  Salary\n",
       "0   Dima         Moscow  1988    4.0      m            True    12.0\n",
       "1  Sveta           Kiev  1999    4.0      f           False    40.0\n",
       "2   Alex          Minsk  1954    NaN      m            True    53.0\n",
       "3   Ivan  St.Petersburg  2005    6.0      m           False    25.0\n",
       "4   Kate         London  2001    NaN      f             NaN     NaN\n",
       "5  Maria       New York  1997    7.0      f             NaN     NaN"
      ]
     },
     "execution_count": 148,
     "metadata": {},
     "output_type": "execute_result"
    }
   ],
   "source": [
    "df3 = pnd.merge(df, dfRight1, left_index=True, right_index=True, how=\"left\")\n",
    "df3"
   ]
  },
  {
   "cell_type": "markdown",
   "metadata": {},
   "source": [
    "<p>Левое внешнее соединение (<b>left outer join</b>) таблиц по значениям в столбцах</p>"
   ]
  },
  {
   "cell_type": "code",
   "execution_count": 149,
   "metadata": {
    "collapsed": false
   },
   "outputs": [
    {
     "data": {
      "text/html": [
       "<div>\n",
       "<table border=\"1\" class=\"dataframe\">\n",
       "  <thead>\n",
       "    <tr style=\"text-align: right;\">\n",
       "      <th></th>\n",
       "      <th>Name</th>\n",
       "      <th>City</th>\n",
       "      <th>Year</th>\n",
       "      <th>Grade</th>\n",
       "      <th>Gender</th>\n",
       "      <th>Device</th>\n",
       "    </tr>\n",
       "  </thead>\n",
       "  <tbody>\n",
       "    <tr>\n",
       "      <th>0</th>\n",
       "      <td>Dima</td>\n",
       "      <td>Moscow</td>\n",
       "      <td>1988</td>\n",
       "      <td>4.0</td>\n",
       "      <td>m</td>\n",
       "      <td>NaN</td>\n",
       "    </tr>\n",
       "    <tr>\n",
       "      <th>1</th>\n",
       "      <td>Sveta</td>\n",
       "      <td>Kiev</td>\n",
       "      <td>1999</td>\n",
       "      <td>4.0</td>\n",
       "      <td>f</td>\n",
       "      <td>TV</td>\n",
       "    </tr>\n",
       "    <tr>\n",
       "      <th>2</th>\n",
       "      <td>Sveta</td>\n",
       "      <td>Kiev</td>\n",
       "      <td>1999</td>\n",
       "      <td>4.0</td>\n",
       "      <td>f</td>\n",
       "      <td>Smartphone</td>\n",
       "    </tr>\n",
       "    <tr>\n",
       "      <th>3</th>\n",
       "      <td>Alex</td>\n",
       "      <td>Minsk</td>\n",
       "      <td>1954</td>\n",
       "      <td>NaN</td>\n",
       "      <td>m</td>\n",
       "      <td>TV</td>\n",
       "    </tr>\n",
       "    <tr>\n",
       "      <th>4</th>\n",
       "      <td>Alex</td>\n",
       "      <td>Minsk</td>\n",
       "      <td>1954</td>\n",
       "      <td>NaN</td>\n",
       "      <td>m</td>\n",
       "      <td>Pendrive</td>\n",
       "    </tr>\n",
       "    <tr>\n",
       "      <th>5</th>\n",
       "      <td>Ivan</td>\n",
       "      <td>St.Petersburg</td>\n",
       "      <td>2005</td>\n",
       "      <td>6.0</td>\n",
       "      <td>m</td>\n",
       "      <td>NaN</td>\n",
       "    </tr>\n",
       "    <tr>\n",
       "      <th>6</th>\n",
       "      <td>Kate</td>\n",
       "      <td>London</td>\n",
       "      <td>2001</td>\n",
       "      <td>NaN</td>\n",
       "      <td>f</td>\n",
       "      <td>TV</td>\n",
       "    </tr>\n",
       "    <tr>\n",
       "      <th>7</th>\n",
       "      <td>Maria</td>\n",
       "      <td>New York</td>\n",
       "      <td>1997</td>\n",
       "      <td>7.0</td>\n",
       "      <td>f</td>\n",
       "      <td>NaN</td>\n",
       "    </tr>\n",
       "  </tbody>\n",
       "</table>\n",
       "</div>"
      ],
      "text/plain": [
       "    Name           City  Year  Grade Gender      Device\n",
       "0   Dima         Moscow  1988    4.0      m         NaN\n",
       "1  Sveta           Kiev  1999    4.0      f          TV\n",
       "2  Sveta           Kiev  1999    4.0      f  Smartphone\n",
       "3   Alex          Minsk  1954    NaN      m          TV\n",
       "4   Alex          Minsk  1954    NaN      m    Pendrive\n",
       "5   Ivan  St.Petersburg  2005    6.0      m         NaN\n",
       "6   Kate         London  2001    NaN      f          TV\n",
       "7  Maria       New York  1997    7.0      f         NaN"
      ]
     },
     "execution_count": 149,
     "metadata": {},
     "output_type": "execute_result"
    }
   ],
   "source": [
    "df3 = pnd.merge(df, dfRight2, on=[\"Name\"], how=\"left\")\n",
    "df3"
   ]
  },
  {
   "cell_type": "markdown",
   "metadata": {},
   "source": [
    "<p>Внешнее левое соединение (<b>left outer join</b>) таблиц по значениям столбцов одной таблицы и индексам другой</p>"
   ]
  },
  {
   "cell_type": "code",
   "execution_count": 150,
   "metadata": {
    "collapsed": false
   },
   "outputs": [
    {
     "data": {
      "text/html": [
       "<div>\n",
       "<table border=\"1\" class=\"dataframe\">\n",
       "  <thead>\n",
       "    <tr style=\"text-align: right;\">\n",
       "      <th></th>\n",
       "      <th>Device</th>\n",
       "      <th>key</th>\n",
       "      <th>Name</th>\n",
       "      <th>City</th>\n",
       "      <th>Year</th>\n",
       "      <th>Grade</th>\n",
       "      <th>Gender</th>\n",
       "    </tr>\n",
       "  </thead>\n",
       "  <tbody>\n",
       "    <tr>\n",
       "      <th>0</th>\n",
       "      <td>TV</td>\n",
       "      <td>2</td>\n",
       "      <td>Alex</td>\n",
       "      <td>Minsk</td>\n",
       "      <td>1954.0</td>\n",
       "      <td>NaN</td>\n",
       "      <td>m</td>\n",
       "    </tr>\n",
       "    <tr>\n",
       "      <th>1</th>\n",
       "      <td>Smartphone</td>\n",
       "      <td>2</td>\n",
       "      <td>Alex</td>\n",
       "      <td>Minsk</td>\n",
       "      <td>1954.0</td>\n",
       "      <td>NaN</td>\n",
       "      <td>m</td>\n",
       "    </tr>\n",
       "    <tr>\n",
       "      <th>2</th>\n",
       "      <td>TV</td>\n",
       "      <td>3</td>\n",
       "      <td>Ivan</td>\n",
       "      <td>St.Petersburg</td>\n",
       "      <td>2005.0</td>\n",
       "      <td>6.0</td>\n",
       "      <td>m</td>\n",
       "    </tr>\n",
       "    <tr>\n",
       "      <th>3</th>\n",
       "      <td>Pendrive</td>\n",
       "      <td>3</td>\n",
       "      <td>Ivan</td>\n",
       "      <td>St.Petersburg</td>\n",
       "      <td>2005.0</td>\n",
       "      <td>6.0</td>\n",
       "      <td>m</td>\n",
       "    </tr>\n",
       "    <tr>\n",
       "      <th>4</th>\n",
       "      <td>TV</td>\n",
       "      <td>4</td>\n",
       "      <td>Kate</td>\n",
       "      <td>London</td>\n",
       "      <td>2001.0</td>\n",
       "      <td>NaN</td>\n",
       "      <td>f</td>\n",
       "    </tr>\n",
       "    <tr>\n",
       "      <th>5</th>\n",
       "      <td>TV</td>\n",
       "      <td>4</td>\n",
       "      <td>Kate</td>\n",
       "      <td>London</td>\n",
       "      <td>2001.0</td>\n",
       "      <td>NaN</td>\n",
       "      <td>f</td>\n",
       "    </tr>\n",
       "    <tr>\n",
       "      <th>6</th>\n",
       "      <td>PC</td>\n",
       "      <td>10</td>\n",
       "      <td>NaN</td>\n",
       "      <td>NaN</td>\n",
       "      <td>NaN</td>\n",
       "      <td>NaN</td>\n",
       "      <td>NaN</td>\n",
       "    </tr>\n",
       "  </tbody>\n",
       "</table>\n",
       "</div>"
      ],
      "text/plain": [
       "       Device  key  Name           City    Year  Grade Gender\n",
       "0          TV    2  Alex          Minsk  1954.0    NaN      m\n",
       "1  Smartphone    2  Alex          Minsk  1954.0    NaN      m\n",
       "2          TV    3  Ivan  St.Petersburg  2005.0    6.0      m\n",
       "3    Pendrive    3  Ivan  St.Petersburg  2005.0    6.0      m\n",
       "4          TV    4  Kate         London  2001.0    NaN      f\n",
       "5          TV    4  Kate         London  2001.0    NaN      f\n",
       "6          PC   10   NaN            NaN     NaN    NaN    NaN"
      ]
     },
     "execution_count": 150,
     "metadata": {},
     "output_type": "execute_result"
    }
   ],
   "source": [
    "df3 = pnd.merge(dfLeft, df, left_on=\"key\", right_index=True, how=\"left\")\n",
    "df3"
   ]
  },
  {
   "cell_type": "markdown",
   "metadata": {},
   "source": [
    "<p>Правое внешнее соединение (<b>right outer join</b>) таблиц по индексу</p>"
   ]
  },
  {
   "cell_type": "code",
   "execution_count": 151,
   "metadata": {
    "collapsed": false
   },
   "outputs": [
    {
     "data": {
      "text/html": [
       "<div>\n",
       "<table border=\"1\" class=\"dataframe\">\n",
       "  <thead>\n",
       "    <tr style=\"text-align: right;\">\n",
       "      <th></th>\n",
       "      <th>Name</th>\n",
       "      <th>City</th>\n",
       "      <th>Year</th>\n",
       "      <th>Grade</th>\n",
       "      <th>Gender</th>\n",
       "      <th>Marriage_status</th>\n",
       "      <th>Salary</th>\n",
       "    </tr>\n",
       "  </thead>\n",
       "  <tbody>\n",
       "    <tr>\n",
       "      <th>0</th>\n",
       "      <td>Dima</td>\n",
       "      <td>Moscow</td>\n",
       "      <td>1988</td>\n",
       "      <td>4.0</td>\n",
       "      <td>m</td>\n",
       "      <td>True</td>\n",
       "      <td>12</td>\n",
       "    </tr>\n",
       "    <tr>\n",
       "      <th>1</th>\n",
       "      <td>Sveta</td>\n",
       "      <td>Kiev</td>\n",
       "      <td>1999</td>\n",
       "      <td>4.0</td>\n",
       "      <td>f</td>\n",
       "      <td>False</td>\n",
       "      <td>40</td>\n",
       "    </tr>\n",
       "    <tr>\n",
       "      <th>2</th>\n",
       "      <td>Alex</td>\n",
       "      <td>Minsk</td>\n",
       "      <td>1954</td>\n",
       "      <td>NaN</td>\n",
       "      <td>m</td>\n",
       "      <td>True</td>\n",
       "      <td>53</td>\n",
       "    </tr>\n",
       "    <tr>\n",
       "      <th>3</th>\n",
       "      <td>Ivan</td>\n",
       "      <td>St.Petersburg</td>\n",
       "      <td>2005</td>\n",
       "      <td>6.0</td>\n",
       "      <td>m</td>\n",
       "      <td>False</td>\n",
       "      <td>25</td>\n",
       "    </tr>\n",
       "  </tbody>\n",
       "</table>\n",
       "</div>"
      ],
      "text/plain": [
       "    Name           City  Year  Grade Gender Marriage_status  Salary\n",
       "0   Dima         Moscow  1988    4.0      m            True      12\n",
       "1  Sveta           Kiev  1999    4.0      f           False      40\n",
       "2   Alex          Minsk  1954    NaN      m            True      53\n",
       "3   Ivan  St.Petersburg  2005    6.0      m           False      25"
      ]
     },
     "execution_count": 151,
     "metadata": {},
     "output_type": "execute_result"
    }
   ],
   "source": [
    "df3 = pnd.merge(df, dfRight1, left_index=True, right_index=True, how = \"right\")\n",
    "df3"
   ]
  },
  {
   "cell_type": "markdown",
   "metadata": {},
   "source": [
    "<p>Правое внешнее соединение (<b>right outer join</b>) таблиц по значениям в столбцах</p>"
   ]
  },
  {
   "cell_type": "code",
   "execution_count": 152,
   "metadata": {
    "collapsed": false
   },
   "outputs": [
    {
     "data": {
      "text/html": [
       "<div>\n",
       "<table border=\"1\" class=\"dataframe\">\n",
       "  <thead>\n",
       "    <tr style=\"text-align: right;\">\n",
       "      <th></th>\n",
       "      <th>Name</th>\n",
       "      <th>City</th>\n",
       "      <th>Year</th>\n",
       "      <th>Grade</th>\n",
       "      <th>Gender</th>\n",
       "      <th>Device</th>\n",
       "    </tr>\n",
       "  </thead>\n",
       "  <tbody>\n",
       "    <tr>\n",
       "      <th>0</th>\n",
       "      <td>Sveta</td>\n",
       "      <td>Kiev</td>\n",
       "      <td>1999.0</td>\n",
       "      <td>4.0</td>\n",
       "      <td>f</td>\n",
       "      <td>TV</td>\n",
       "    </tr>\n",
       "    <tr>\n",
       "      <th>1</th>\n",
       "      <td>Sveta</td>\n",
       "      <td>Kiev</td>\n",
       "      <td>1999.0</td>\n",
       "      <td>4.0</td>\n",
       "      <td>f</td>\n",
       "      <td>Smartphone</td>\n",
       "    </tr>\n",
       "    <tr>\n",
       "      <th>2</th>\n",
       "      <td>Alex</td>\n",
       "      <td>Minsk</td>\n",
       "      <td>1954.0</td>\n",
       "      <td>NaN</td>\n",
       "      <td>m</td>\n",
       "      <td>TV</td>\n",
       "    </tr>\n",
       "    <tr>\n",
       "      <th>3</th>\n",
       "      <td>Alex</td>\n",
       "      <td>Minsk</td>\n",
       "      <td>1954.0</td>\n",
       "      <td>NaN</td>\n",
       "      <td>m</td>\n",
       "      <td>Pendrive</td>\n",
       "    </tr>\n",
       "    <tr>\n",
       "      <th>4</th>\n",
       "      <td>Kate</td>\n",
       "      <td>London</td>\n",
       "      <td>2001.0</td>\n",
       "      <td>NaN</td>\n",
       "      <td>f</td>\n",
       "      <td>TV</td>\n",
       "    </tr>\n",
       "    <tr>\n",
       "      <th>5</th>\n",
       "      <td>Vlad</td>\n",
       "      <td>NaN</td>\n",
       "      <td>NaN</td>\n",
       "      <td>NaN</td>\n",
       "      <td>NaN</td>\n",
       "      <td>TV</td>\n",
       "    </tr>\n",
       "    <tr>\n",
       "      <th>6</th>\n",
       "      <td>Alice</td>\n",
       "      <td>NaN</td>\n",
       "      <td>NaN</td>\n",
       "      <td>NaN</td>\n",
       "      <td>NaN</td>\n",
       "      <td>PC</td>\n",
       "    </tr>\n",
       "  </tbody>\n",
       "</table>\n",
       "</div>"
      ],
      "text/plain": [
       "    Name    City    Year  Grade Gender      Device\n",
       "0  Sveta    Kiev  1999.0    4.0      f          TV\n",
       "1  Sveta    Kiev  1999.0    4.0      f  Smartphone\n",
       "2   Alex   Minsk  1954.0    NaN      m          TV\n",
       "3   Alex   Minsk  1954.0    NaN      m    Pendrive\n",
       "4   Kate  London  2001.0    NaN      f          TV\n",
       "5   Vlad     NaN     NaN    NaN    NaN          TV\n",
       "6  Alice     NaN     NaN    NaN    NaN          PC"
      ]
     },
     "execution_count": 152,
     "metadata": {},
     "output_type": "execute_result"
    }
   ],
   "source": [
    "df3 = pnd.merge(df, dfRight2, on = [\"Name\"], how = \"right\")\n",
    "df3"
   ]
  },
  {
   "cell_type": "code",
   "execution_count": 153,
   "metadata": {
    "collapsed": false
   },
   "outputs": [
    {
     "data": {
      "text/html": [
       "<div>\n",
       "<table border=\"1\" class=\"dataframe\">\n",
       "  <thead>\n",
       "    <tr style=\"text-align: right;\">\n",
       "      <th></th>\n",
       "      <th>Name</th>\n",
       "      <th>City</th>\n",
       "      <th>Year</th>\n",
       "      <th>Grade</th>\n",
       "      <th>Gender</th>\n",
       "      <th>Device</th>\n",
       "    </tr>\n",
       "  </thead>\n",
       "  <tbody>\n",
       "    <tr>\n",
       "      <th>0</th>\n",
       "      <td>Sveta</td>\n",
       "      <td>Kiev</td>\n",
       "      <td>1999.0</td>\n",
       "      <td>4.0</td>\n",
       "      <td>f</td>\n",
       "      <td>TV</td>\n",
       "    </tr>\n",
       "    <tr>\n",
       "      <th>1</th>\n",
       "      <td>Sveta</td>\n",
       "      <td>Kiev</td>\n",
       "      <td>1999.0</td>\n",
       "      <td>4.0</td>\n",
       "      <td>f</td>\n",
       "      <td>Smartphone</td>\n",
       "    </tr>\n",
       "    <tr>\n",
       "      <th>2</th>\n",
       "      <td>Alex</td>\n",
       "      <td>Minsk</td>\n",
       "      <td>1954.0</td>\n",
       "      <td>NaN</td>\n",
       "      <td>m</td>\n",
       "      <td>TV</td>\n",
       "    </tr>\n",
       "    <tr>\n",
       "      <th>3</th>\n",
       "      <td>Alex</td>\n",
       "      <td>Minsk</td>\n",
       "      <td>1954.0</td>\n",
       "      <td>NaN</td>\n",
       "      <td>m</td>\n",
       "      <td>Pendrive</td>\n",
       "    </tr>\n",
       "    <tr>\n",
       "      <th>4</th>\n",
       "      <td>Kate</td>\n",
       "      <td>London</td>\n",
       "      <td>2001.0</td>\n",
       "      <td>NaN</td>\n",
       "      <td>f</td>\n",
       "      <td>TV</td>\n",
       "    </tr>\n",
       "    <tr>\n",
       "      <th>5</th>\n",
       "      <td>Vlad</td>\n",
       "      <td>NaN</td>\n",
       "      <td>NaN</td>\n",
       "      <td>NaN</td>\n",
       "      <td>NaN</td>\n",
       "      <td>TV</td>\n",
       "    </tr>\n",
       "    <tr>\n",
       "      <th>6</th>\n",
       "      <td>Alice</td>\n",
       "      <td>NaN</td>\n",
       "      <td>NaN</td>\n",
       "      <td>NaN</td>\n",
       "      <td>NaN</td>\n",
       "      <td>PC</td>\n",
       "    </tr>\n",
       "  </tbody>\n",
       "</table>\n",
       "</div>"
      ],
      "text/plain": [
       "    Name    City    Year  Grade Gender      Device\n",
       "0  Sveta    Kiev  1999.0    4.0      f          TV\n",
       "1  Sveta    Kiev  1999.0    4.0      f  Smartphone\n",
       "2   Alex   Minsk  1954.0    NaN      m          TV\n",
       "3   Alex   Minsk  1954.0    NaN      m    Pendrive\n",
       "4   Kate  London  2001.0    NaN      f          TV\n",
       "5   Vlad     NaN     NaN    NaN    NaN          TV\n",
       "6  Alice     NaN     NaN    NaN    NaN          PC"
      ]
     },
     "execution_count": 153,
     "metadata": {},
     "output_type": "execute_result"
    }
   ],
   "source": [
    "df3 = pnd.merge(df, dfRight2, on = [\"Name\"], how = \"right\")\n",
    "df3"
   ]
  },
  {
   "cell_type": "markdown",
   "metadata": {},
   "source": [
    "<p>Внешнее правое соединение (<b>right outer join</b>) таблиц по значениям столбцов одной таблицы и индексам другой</p>"
   ]
  },
  {
   "cell_type": "code",
   "execution_count": 154,
   "metadata": {
    "collapsed": false
   },
   "outputs": [
    {
     "data": {
      "text/html": [
       "<div>\n",
       "<table border=\"1\" class=\"dataframe\">\n",
       "  <thead>\n",
       "    <tr style=\"text-align: right;\">\n",
       "      <th></th>\n",
       "      <th>Device</th>\n",
       "      <th>key</th>\n",
       "      <th>Name</th>\n",
       "      <th>City</th>\n",
       "      <th>Year</th>\n",
       "      <th>Grade</th>\n",
       "      <th>Gender</th>\n",
       "    </tr>\n",
       "  </thead>\n",
       "  <tbody>\n",
       "    <tr>\n",
       "      <th>0</th>\n",
       "      <td>TV</td>\n",
       "      <td>2.0</td>\n",
       "      <td>Alex</td>\n",
       "      <td>Minsk</td>\n",
       "      <td>1954</td>\n",
       "      <td>NaN</td>\n",
       "      <td>m</td>\n",
       "    </tr>\n",
       "    <tr>\n",
       "      <th>1</th>\n",
       "      <td>Smartphone</td>\n",
       "      <td>2.0</td>\n",
       "      <td>Alex</td>\n",
       "      <td>Minsk</td>\n",
       "      <td>1954</td>\n",
       "      <td>NaN</td>\n",
       "      <td>m</td>\n",
       "    </tr>\n",
       "    <tr>\n",
       "      <th>2</th>\n",
       "      <td>TV</td>\n",
       "      <td>3.0</td>\n",
       "      <td>Ivan</td>\n",
       "      <td>St.Petersburg</td>\n",
       "      <td>2005</td>\n",
       "      <td>6.0</td>\n",
       "      <td>m</td>\n",
       "    </tr>\n",
       "    <tr>\n",
       "      <th>3</th>\n",
       "      <td>Pendrive</td>\n",
       "      <td>3.0</td>\n",
       "      <td>Ivan</td>\n",
       "      <td>St.Petersburg</td>\n",
       "      <td>2005</td>\n",
       "      <td>6.0</td>\n",
       "      <td>m</td>\n",
       "    </tr>\n",
       "    <tr>\n",
       "      <th>4</th>\n",
       "      <td>TV</td>\n",
       "      <td>4.0</td>\n",
       "      <td>Kate</td>\n",
       "      <td>London</td>\n",
       "      <td>2001</td>\n",
       "      <td>NaN</td>\n",
       "      <td>f</td>\n",
       "    </tr>\n",
       "    <tr>\n",
       "      <th>5</th>\n",
       "      <td>TV</td>\n",
       "      <td>4.0</td>\n",
       "      <td>Kate</td>\n",
       "      <td>London</td>\n",
       "      <td>2001</td>\n",
       "      <td>NaN</td>\n",
       "      <td>f</td>\n",
       "    </tr>\n",
       "    <tr>\n",
       "      <th>6</th>\n",
       "      <td>NaN</td>\n",
       "      <td>0.0</td>\n",
       "      <td>Dima</td>\n",
       "      <td>Moscow</td>\n",
       "      <td>1988</td>\n",
       "      <td>4.0</td>\n",
       "      <td>m</td>\n",
       "    </tr>\n",
       "    <tr>\n",
       "      <th>6</th>\n",
       "      <td>NaN</td>\n",
       "      <td>1.0</td>\n",
       "      <td>Sveta</td>\n",
       "      <td>Kiev</td>\n",
       "      <td>1999</td>\n",
       "      <td>4.0</td>\n",
       "      <td>f</td>\n",
       "    </tr>\n",
       "    <tr>\n",
       "      <th>6</th>\n",
       "      <td>NaN</td>\n",
       "      <td>5.0</td>\n",
       "      <td>Maria</td>\n",
       "      <td>New York</td>\n",
       "      <td>1997</td>\n",
       "      <td>7.0</td>\n",
       "      <td>f</td>\n",
       "    </tr>\n",
       "  </tbody>\n",
       "</table>\n",
       "</div>"
      ],
      "text/plain": [
       "       Device  key   Name           City  Year  Grade Gender\n",
       "0          TV  2.0   Alex          Minsk  1954    NaN      m\n",
       "1  Smartphone  2.0   Alex          Minsk  1954    NaN      m\n",
       "2          TV  3.0   Ivan  St.Petersburg  2005    6.0      m\n",
       "3    Pendrive  3.0   Ivan  St.Petersburg  2005    6.0      m\n",
       "4          TV  4.0   Kate         London  2001    NaN      f\n",
       "5          TV  4.0   Kate         London  2001    NaN      f\n",
       "6         NaN  0.0   Dima         Moscow  1988    4.0      m\n",
       "6         NaN  1.0  Sveta           Kiev  1999    4.0      f\n",
       "6         NaN  5.0  Maria       New York  1997    7.0      f"
      ]
     },
     "execution_count": 154,
     "metadata": {},
     "output_type": "execute_result"
    }
   ],
   "source": [
    "df3 = pnd.merge(dfLeft, df, left_on=\"key\", right_index=True, how=\"right\")\n",
    "df3"
   ]
  },
  {
   "cell_type": "markdown",
   "metadata": {},
   "source": [
    "<p>Внутреннее соединение (<b>inner join</b>) таблиц по индексу</p>"
   ]
  },
  {
   "cell_type": "code",
   "execution_count": 155,
   "metadata": {
    "collapsed": false
   },
   "outputs": [
    {
     "data": {
      "text/html": [
       "<div>\n",
       "<table border=\"1\" class=\"dataframe\">\n",
       "  <thead>\n",
       "    <tr style=\"text-align: right;\">\n",
       "      <th></th>\n",
       "      <th>Name</th>\n",
       "      <th>City</th>\n",
       "      <th>Year</th>\n",
       "      <th>Grade</th>\n",
       "      <th>Gender</th>\n",
       "      <th>Marriage_status</th>\n",
       "      <th>Salary</th>\n",
       "    </tr>\n",
       "  </thead>\n",
       "  <tbody>\n",
       "    <tr>\n",
       "      <th>0</th>\n",
       "      <td>Dima</td>\n",
       "      <td>Moscow</td>\n",
       "      <td>1988</td>\n",
       "      <td>4.0</td>\n",
       "      <td>m</td>\n",
       "      <td>True</td>\n",
       "      <td>12</td>\n",
       "    </tr>\n",
       "    <tr>\n",
       "      <th>1</th>\n",
       "      <td>Sveta</td>\n",
       "      <td>Kiev</td>\n",
       "      <td>1999</td>\n",
       "      <td>4.0</td>\n",
       "      <td>f</td>\n",
       "      <td>False</td>\n",
       "      <td>40</td>\n",
       "    </tr>\n",
       "    <tr>\n",
       "      <th>2</th>\n",
       "      <td>Alex</td>\n",
       "      <td>Minsk</td>\n",
       "      <td>1954</td>\n",
       "      <td>NaN</td>\n",
       "      <td>m</td>\n",
       "      <td>True</td>\n",
       "      <td>53</td>\n",
       "    </tr>\n",
       "    <tr>\n",
       "      <th>3</th>\n",
       "      <td>Ivan</td>\n",
       "      <td>St.Petersburg</td>\n",
       "      <td>2005</td>\n",
       "      <td>6.0</td>\n",
       "      <td>m</td>\n",
       "      <td>False</td>\n",
       "      <td>25</td>\n",
       "    </tr>\n",
       "  </tbody>\n",
       "</table>\n",
       "</div>"
      ],
      "text/plain": [
       "    Name           City  Year  Grade Gender Marriage_status  Salary\n",
       "0   Dima         Moscow  1988    4.0      m            True      12\n",
       "1  Sveta           Kiev  1999    4.0      f           False      40\n",
       "2   Alex          Minsk  1954    NaN      m            True      53\n",
       "3   Ivan  St.Petersburg  2005    6.0      m           False      25"
      ]
     },
     "execution_count": 155,
     "metadata": {},
     "output_type": "execute_result"
    }
   ],
   "source": [
    "df3 = pnd.merge(df, dfRight1, left_index=True, right_index=True, how = \"inner\")\n",
    "df3"
   ]
  },
  {
   "cell_type": "markdown",
   "metadata": {},
   "source": [
    "<p>Внутреннее соединение (<b>inner join</b>) таблиц по значениям в столбцах</p>"
   ]
  },
  {
   "cell_type": "code",
   "execution_count": 156,
   "metadata": {
    "collapsed": false
   },
   "outputs": [
    {
     "data": {
      "text/html": [
       "<div>\n",
       "<table border=\"1\" class=\"dataframe\">\n",
       "  <thead>\n",
       "    <tr style=\"text-align: right;\">\n",
       "      <th></th>\n",
       "      <th>Name</th>\n",
       "      <th>City</th>\n",
       "      <th>Year</th>\n",
       "      <th>Grade</th>\n",
       "      <th>Gender</th>\n",
       "      <th>Device</th>\n",
       "    </tr>\n",
       "  </thead>\n",
       "  <tbody>\n",
       "    <tr>\n",
       "      <th>0</th>\n",
       "      <td>Sveta</td>\n",
       "      <td>Kiev</td>\n",
       "      <td>1999</td>\n",
       "      <td>4.0</td>\n",
       "      <td>f</td>\n",
       "      <td>TV</td>\n",
       "    </tr>\n",
       "    <tr>\n",
       "      <th>1</th>\n",
       "      <td>Sveta</td>\n",
       "      <td>Kiev</td>\n",
       "      <td>1999</td>\n",
       "      <td>4.0</td>\n",
       "      <td>f</td>\n",
       "      <td>Smartphone</td>\n",
       "    </tr>\n",
       "    <tr>\n",
       "      <th>2</th>\n",
       "      <td>Alex</td>\n",
       "      <td>Minsk</td>\n",
       "      <td>1954</td>\n",
       "      <td>NaN</td>\n",
       "      <td>m</td>\n",
       "      <td>TV</td>\n",
       "    </tr>\n",
       "    <tr>\n",
       "      <th>3</th>\n",
       "      <td>Alex</td>\n",
       "      <td>Minsk</td>\n",
       "      <td>1954</td>\n",
       "      <td>NaN</td>\n",
       "      <td>m</td>\n",
       "      <td>Pendrive</td>\n",
       "    </tr>\n",
       "    <tr>\n",
       "      <th>4</th>\n",
       "      <td>Kate</td>\n",
       "      <td>London</td>\n",
       "      <td>2001</td>\n",
       "      <td>NaN</td>\n",
       "      <td>f</td>\n",
       "      <td>TV</td>\n",
       "    </tr>\n",
       "  </tbody>\n",
       "</table>\n",
       "</div>"
      ],
      "text/plain": [
       "    Name    City  Year  Grade Gender      Device\n",
       "0  Sveta    Kiev  1999    4.0      f          TV\n",
       "1  Sveta    Kiev  1999    4.0      f  Smartphone\n",
       "2   Alex   Minsk  1954    NaN      m          TV\n",
       "3   Alex   Minsk  1954    NaN      m    Pendrive\n",
       "4   Kate  London  2001    NaN      f          TV"
      ]
     },
     "execution_count": 156,
     "metadata": {},
     "output_type": "execute_result"
    }
   ],
   "source": [
    "df3 = pnd.merge(df, dfRight2, on = [\"Name\"], how = \"inner\")\n",
    "df3"
   ]
  },
  {
   "cell_type": "markdown",
   "metadata": {},
   "source": [
    "<p>Внутреннее соединение (<b>inner join</b>) таблиц по значениям столбцов одной таблицы и индексам другой</p>"
   ]
  },
  {
   "cell_type": "code",
   "execution_count": 157,
   "metadata": {
    "collapsed": false
   },
   "outputs": [
    {
     "data": {
      "text/html": [
       "<div>\n",
       "<table border=\"1\" class=\"dataframe\">\n",
       "  <thead>\n",
       "    <tr style=\"text-align: right;\">\n",
       "      <th></th>\n",
       "      <th>Device</th>\n",
       "      <th>key</th>\n",
       "      <th>Name</th>\n",
       "      <th>City</th>\n",
       "      <th>Year</th>\n",
       "      <th>Grade</th>\n",
       "      <th>Gender</th>\n",
       "    </tr>\n",
       "  </thead>\n",
       "  <tbody>\n",
       "    <tr>\n",
       "      <th>0</th>\n",
       "      <td>TV</td>\n",
       "      <td>2</td>\n",
       "      <td>Alex</td>\n",
       "      <td>Minsk</td>\n",
       "      <td>1954</td>\n",
       "      <td>NaN</td>\n",
       "      <td>m</td>\n",
       "    </tr>\n",
       "    <tr>\n",
       "      <th>1</th>\n",
       "      <td>Smartphone</td>\n",
       "      <td>2</td>\n",
       "      <td>Alex</td>\n",
       "      <td>Minsk</td>\n",
       "      <td>1954</td>\n",
       "      <td>NaN</td>\n",
       "      <td>m</td>\n",
       "    </tr>\n",
       "    <tr>\n",
       "      <th>2</th>\n",
       "      <td>TV</td>\n",
       "      <td>3</td>\n",
       "      <td>Ivan</td>\n",
       "      <td>St.Petersburg</td>\n",
       "      <td>2005</td>\n",
       "      <td>6.0</td>\n",
       "      <td>m</td>\n",
       "    </tr>\n",
       "    <tr>\n",
       "      <th>3</th>\n",
       "      <td>Pendrive</td>\n",
       "      <td>3</td>\n",
       "      <td>Ivan</td>\n",
       "      <td>St.Petersburg</td>\n",
       "      <td>2005</td>\n",
       "      <td>6.0</td>\n",
       "      <td>m</td>\n",
       "    </tr>\n",
       "    <tr>\n",
       "      <th>4</th>\n",
       "      <td>TV</td>\n",
       "      <td>4</td>\n",
       "      <td>Kate</td>\n",
       "      <td>London</td>\n",
       "      <td>2001</td>\n",
       "      <td>NaN</td>\n",
       "      <td>f</td>\n",
       "    </tr>\n",
       "    <tr>\n",
       "      <th>5</th>\n",
       "      <td>TV</td>\n",
       "      <td>4</td>\n",
       "      <td>Kate</td>\n",
       "      <td>London</td>\n",
       "      <td>2001</td>\n",
       "      <td>NaN</td>\n",
       "      <td>f</td>\n",
       "    </tr>\n",
       "  </tbody>\n",
       "</table>\n",
       "</div>"
      ],
      "text/plain": [
       "       Device  key  Name           City  Year  Grade Gender\n",
       "0          TV    2  Alex          Minsk  1954    NaN      m\n",
       "1  Smartphone    2  Alex          Minsk  1954    NaN      m\n",
       "2          TV    3  Ivan  St.Petersburg  2005    6.0      m\n",
       "3    Pendrive    3  Ivan  St.Petersburg  2005    6.0      m\n",
       "4          TV    4  Kate         London  2001    NaN      f\n",
       "5          TV    4  Kate         London  2001    NaN      f"
      ]
     },
     "execution_count": 157,
     "metadata": {},
     "output_type": "execute_result"
    }
   ],
   "source": [
    "df3 = pnd.merge(dfLeft, df, left_on=\"key\", right_index=True, how=\"inner\")\n",
    "df3"
   ]
  },
  {
   "cell_type": "markdown",
   "metadata": {},
   "source": [
    "<p><b>Метод <i>join()</i></b></p>"
   ]
  },
  {
   "cell_type": "markdown",
   "metadata": {},
   "source": [
    "<p>Внешнее соединение (<b>outer join</b>) таблиц по индексу</p>"
   ]
  },
  {
   "cell_type": "code",
   "execution_count": 158,
   "metadata": {
    "collapsed": false
   },
   "outputs": [
    {
     "data": {
      "text/html": [
       "<div>\n",
       "<table border=\"1\" class=\"dataframe\">\n",
       "  <thead>\n",
       "    <tr style=\"text-align: right;\">\n",
       "      <th></th>\n",
       "      <th>Name</th>\n",
       "      <th>City</th>\n",
       "      <th>Year</th>\n",
       "      <th>Grade</th>\n",
       "      <th>Gender</th>\n",
       "    </tr>\n",
       "  </thead>\n",
       "  <tbody>\n",
       "    <tr>\n",
       "      <th>0</th>\n",
       "      <td>Dima</td>\n",
       "      <td>Moscow</td>\n",
       "      <td>1988</td>\n",
       "      <td>4.0</td>\n",
       "      <td>m</td>\n",
       "    </tr>\n",
       "    <tr>\n",
       "      <th>1</th>\n",
       "      <td>Sveta</td>\n",
       "      <td>Kiev</td>\n",
       "      <td>1999</td>\n",
       "      <td>4.0</td>\n",
       "      <td>f</td>\n",
       "    </tr>\n",
       "    <tr>\n",
       "      <th>2</th>\n",
       "      <td>Alex</td>\n",
       "      <td>Minsk</td>\n",
       "      <td>1954</td>\n",
       "      <td>NaN</td>\n",
       "      <td>m</td>\n",
       "    </tr>\n",
       "    <tr>\n",
       "      <th>3</th>\n",
       "      <td>Ivan</td>\n",
       "      <td>St.Petersburg</td>\n",
       "      <td>2005</td>\n",
       "      <td>6.0</td>\n",
       "      <td>m</td>\n",
       "    </tr>\n",
       "    <tr>\n",
       "      <th>4</th>\n",
       "      <td>Kate</td>\n",
       "      <td>London</td>\n",
       "      <td>2001</td>\n",
       "      <td>NaN</td>\n",
       "      <td>f</td>\n",
       "    </tr>\n",
       "    <tr>\n",
       "      <th>5</th>\n",
       "      <td>Maria</td>\n",
       "      <td>New York</td>\n",
       "      <td>1997</td>\n",
       "      <td>7.0</td>\n",
       "      <td>f</td>\n",
       "    </tr>\n",
       "  </tbody>\n",
       "</table>\n",
       "</div>"
      ],
      "text/plain": [
       "    Name           City  Year  Grade Gender\n",
       "0   Dima         Moscow  1988    4.0      m\n",
       "1  Sveta           Kiev  1999    4.0      f\n",
       "2   Alex          Minsk  1954    NaN      m\n",
       "3   Ivan  St.Petersburg  2005    6.0      m\n",
       "4   Kate         London  2001    NaN      f\n",
       "5  Maria       New York  1997    7.0      f"
      ]
     },
     "execution_count": 158,
     "metadata": {},
     "output_type": "execute_result"
    }
   ],
   "source": [
    "df"
   ]
  },
  {
   "cell_type": "code",
   "execution_count": 159,
   "metadata": {
    "collapsed": false
   },
   "outputs": [
    {
     "data": {
      "text/html": [
       "<div>\n",
       "<table border=\"1\" class=\"dataframe\">\n",
       "  <thead>\n",
       "    <tr style=\"text-align: right;\">\n",
       "      <th></th>\n",
       "      <th>Name</th>\n",
       "      <th>City</th>\n",
       "      <th>Year</th>\n",
       "      <th>Grade</th>\n",
       "      <th>Gender</th>\n",
       "    </tr>\n",
       "  </thead>\n",
       "  <tbody>\n",
       "    <tr>\n",
       "      <th>0</th>\n",
       "      <td>Petr</td>\n",
       "      <td>Bryansk</td>\n",
       "      <td>1978</td>\n",
       "      <td>5</td>\n",
       "      <td>m</td>\n",
       "    </tr>\n",
       "    <tr>\n",
       "      <th>1</th>\n",
       "      <td>Ann</td>\n",
       "      <td>Tehran</td>\n",
       "      <td>1997</td>\n",
       "      <td>7</td>\n",
       "      <td>f</td>\n",
       "    </tr>\n",
       "  </tbody>\n",
       "</table>\n",
       "</div>"
      ],
      "text/plain": [
       "   Name     City  Year  Grade Gender\n",
       "0  Petr  Bryansk  1978      5      m\n",
       "1   Ann   Tehran  1997      7      f"
      ]
     },
     "execution_count": 159,
     "metadata": {},
     "output_type": "execute_result"
    }
   ],
   "source": [
    "df2"
   ]
  },
  {
   "cell_type": "code",
   "execution_count": 160,
   "metadata": {
    "collapsed": false
   },
   "outputs": [
    {
     "data": {
      "text/html": [
       "<div>\n",
       "<table border=\"1\" class=\"dataframe\">\n",
       "  <thead>\n",
       "    <tr style=\"text-align: right;\">\n",
       "      <th></th>\n",
       "      <th>Name</th>\n",
       "      <th>City</th>\n",
       "      <th>Year</th>\n",
       "      <th>Grade</th>\n",
       "      <th>Gender</th>\n",
       "      <th>Marriage_status</th>\n",
       "      <th>Salary</th>\n",
       "    </tr>\n",
       "  </thead>\n",
       "  <tbody>\n",
       "    <tr>\n",
       "      <th>0</th>\n",
       "      <td>Dima</td>\n",
       "      <td>Moscow</td>\n",
       "      <td>1988</td>\n",
       "      <td>4.0</td>\n",
       "      <td>m</td>\n",
       "      <td>True</td>\n",
       "      <td>12.0</td>\n",
       "    </tr>\n",
       "    <tr>\n",
       "      <th>1</th>\n",
       "      <td>Sveta</td>\n",
       "      <td>Kiev</td>\n",
       "      <td>1999</td>\n",
       "      <td>4.0</td>\n",
       "      <td>f</td>\n",
       "      <td>False</td>\n",
       "      <td>40.0</td>\n",
       "    </tr>\n",
       "    <tr>\n",
       "      <th>2</th>\n",
       "      <td>Alex</td>\n",
       "      <td>Minsk</td>\n",
       "      <td>1954</td>\n",
       "      <td>NaN</td>\n",
       "      <td>m</td>\n",
       "      <td>True</td>\n",
       "      <td>53.0</td>\n",
       "    </tr>\n",
       "    <tr>\n",
       "      <th>3</th>\n",
       "      <td>Ivan</td>\n",
       "      <td>St.Petersburg</td>\n",
       "      <td>2005</td>\n",
       "      <td>6.0</td>\n",
       "      <td>m</td>\n",
       "      <td>False</td>\n",
       "      <td>25.0</td>\n",
       "    </tr>\n",
       "    <tr>\n",
       "      <th>4</th>\n",
       "      <td>Kate</td>\n",
       "      <td>London</td>\n",
       "      <td>2001</td>\n",
       "      <td>NaN</td>\n",
       "      <td>f</td>\n",
       "      <td>NaN</td>\n",
       "      <td>NaN</td>\n",
       "    </tr>\n",
       "    <tr>\n",
       "      <th>5</th>\n",
       "      <td>Maria</td>\n",
       "      <td>New York</td>\n",
       "      <td>1997</td>\n",
       "      <td>7.0</td>\n",
       "      <td>f</td>\n",
       "      <td>NaN</td>\n",
       "      <td>NaN</td>\n",
       "    </tr>\n",
       "  </tbody>\n",
       "</table>\n",
       "</div>"
      ],
      "text/plain": [
       "    Name           City  Year  Grade Gender Marriage_status  Salary\n",
       "0   Dima         Moscow  1988    4.0      m            True    12.0\n",
       "1  Sveta           Kiev  1999    4.0      f           False    40.0\n",
       "2   Alex          Minsk  1954    NaN      m            True    53.0\n",
       "3   Ivan  St.Petersburg  2005    6.0      m           False    25.0\n",
       "4   Kate         London  2001    NaN      f             NaN     NaN\n",
       "5  Maria       New York  1997    7.0      f             NaN     NaN"
      ]
     },
     "execution_count": 160,
     "metadata": {},
     "output_type": "execute_result"
    }
   ],
   "source": [
    "df3 = df.join(dfRight1, how = \"outer\")\n",
    "df3"
   ]
  },
  {
   "cell_type": "markdown",
   "metadata": {},
   "source": [
    "<p>Внешнее соединение (<b>outer join</b>) таблиц по значениям столбцов одной таблицы и индексам другой</p>"
   ]
  },
  {
   "cell_type": "code",
   "execution_count": 161,
   "metadata": {
    "collapsed": false
   },
   "outputs": [
    {
     "data": {
      "text/html": [
       "<div>\n",
       "<table border=\"1\" class=\"dataframe\">\n",
       "  <thead>\n",
       "    <tr style=\"text-align: right;\">\n",
       "      <th></th>\n",
       "      <th>Device</th>\n",
       "      <th>key</th>\n",
       "    </tr>\n",
       "  </thead>\n",
       "  <tbody>\n",
       "    <tr>\n",
       "      <th>0</th>\n",
       "      <td>TV</td>\n",
       "      <td>2</td>\n",
       "    </tr>\n",
       "    <tr>\n",
       "      <th>1</th>\n",
       "      <td>Smartphone</td>\n",
       "      <td>2</td>\n",
       "    </tr>\n",
       "    <tr>\n",
       "      <th>2</th>\n",
       "      <td>TV</td>\n",
       "      <td>3</td>\n",
       "    </tr>\n",
       "    <tr>\n",
       "      <th>3</th>\n",
       "      <td>Pendrive</td>\n",
       "      <td>3</td>\n",
       "    </tr>\n",
       "    <tr>\n",
       "      <th>4</th>\n",
       "      <td>TV</td>\n",
       "      <td>4</td>\n",
       "    </tr>\n",
       "    <tr>\n",
       "      <th>5</th>\n",
       "      <td>TV</td>\n",
       "      <td>4</td>\n",
       "    </tr>\n",
       "    <tr>\n",
       "      <th>6</th>\n",
       "      <td>PC</td>\n",
       "      <td>10</td>\n",
       "    </tr>\n",
       "  </tbody>\n",
       "</table>\n",
       "</div>"
      ],
      "text/plain": [
       "       Device  key\n",
       "0          TV    2\n",
       "1  Smartphone    2\n",
       "2          TV    3\n",
       "3    Pendrive    3\n",
       "4          TV    4\n",
       "5          TV    4\n",
       "6          PC   10"
      ]
     },
     "execution_count": 161,
     "metadata": {},
     "output_type": "execute_result"
    }
   ],
   "source": [
    "dictNew3 = {\"key\":[2, 2, 3, 3, 4, 4, 10],\n",
    "            \"Device\":[\"TV\", \"Smartphone\", \"TV\", \"Pendrive\", \"TV\", \"TV\", \"PC\"]}\n",
    "\n",
    "dfLeft = pnd.DataFrame(data = dictNew3)\n",
    "dfLeft"
   ]
  },
  {
   "cell_type": "code",
   "execution_count": 162,
   "metadata": {
    "collapsed": false
   },
   "outputs": [
    {
     "data": {
      "text/html": [
       "<div>\n",
       "<table border=\"1\" class=\"dataframe\">\n",
       "  <thead>\n",
       "    <tr style=\"text-align: right;\">\n",
       "      <th></th>\n",
       "      <th>Device</th>\n",
       "      <th>key</th>\n",
       "      <th>Name</th>\n",
       "      <th>City</th>\n",
       "      <th>Year</th>\n",
       "      <th>Grade</th>\n",
       "      <th>Gender</th>\n",
       "    </tr>\n",
       "  </thead>\n",
       "  <tbody>\n",
       "    <tr>\n",
       "      <th>0</th>\n",
       "      <td>TV</td>\n",
       "      <td>2.0</td>\n",
       "      <td>Alex</td>\n",
       "      <td>Minsk</td>\n",
       "      <td>1954.0</td>\n",
       "      <td>NaN</td>\n",
       "      <td>m</td>\n",
       "    </tr>\n",
       "    <tr>\n",
       "      <th>1</th>\n",
       "      <td>Smartphone</td>\n",
       "      <td>2.0</td>\n",
       "      <td>Alex</td>\n",
       "      <td>Minsk</td>\n",
       "      <td>1954.0</td>\n",
       "      <td>NaN</td>\n",
       "      <td>m</td>\n",
       "    </tr>\n",
       "    <tr>\n",
       "      <th>2</th>\n",
       "      <td>TV</td>\n",
       "      <td>3.0</td>\n",
       "      <td>Ivan</td>\n",
       "      <td>St.Petersburg</td>\n",
       "      <td>2005.0</td>\n",
       "      <td>6.0</td>\n",
       "      <td>m</td>\n",
       "    </tr>\n",
       "    <tr>\n",
       "      <th>3</th>\n",
       "      <td>Pendrive</td>\n",
       "      <td>3.0</td>\n",
       "      <td>Ivan</td>\n",
       "      <td>St.Petersburg</td>\n",
       "      <td>2005.0</td>\n",
       "      <td>6.0</td>\n",
       "      <td>m</td>\n",
       "    </tr>\n",
       "    <tr>\n",
       "      <th>4</th>\n",
       "      <td>TV</td>\n",
       "      <td>4.0</td>\n",
       "      <td>Kate</td>\n",
       "      <td>London</td>\n",
       "      <td>2001.0</td>\n",
       "      <td>NaN</td>\n",
       "      <td>f</td>\n",
       "    </tr>\n",
       "    <tr>\n",
       "      <th>5</th>\n",
       "      <td>TV</td>\n",
       "      <td>4.0</td>\n",
       "      <td>Kate</td>\n",
       "      <td>London</td>\n",
       "      <td>2001.0</td>\n",
       "      <td>NaN</td>\n",
       "      <td>f</td>\n",
       "    </tr>\n",
       "    <tr>\n",
       "      <th>6</th>\n",
       "      <td>PC</td>\n",
       "      <td>10.0</td>\n",
       "      <td>NaN</td>\n",
       "      <td>NaN</td>\n",
       "      <td>NaN</td>\n",
       "      <td>NaN</td>\n",
       "      <td>NaN</td>\n",
       "    </tr>\n",
       "    <tr>\n",
       "      <th>6</th>\n",
       "      <td>NaN</td>\n",
       "      <td>0.0</td>\n",
       "      <td>Dima</td>\n",
       "      <td>Moscow</td>\n",
       "      <td>1988.0</td>\n",
       "      <td>4.0</td>\n",
       "      <td>m</td>\n",
       "    </tr>\n",
       "    <tr>\n",
       "      <th>6</th>\n",
       "      <td>NaN</td>\n",
       "      <td>1.0</td>\n",
       "      <td>Sveta</td>\n",
       "      <td>Kiev</td>\n",
       "      <td>1999.0</td>\n",
       "      <td>4.0</td>\n",
       "      <td>f</td>\n",
       "    </tr>\n",
       "    <tr>\n",
       "      <th>6</th>\n",
       "      <td>NaN</td>\n",
       "      <td>5.0</td>\n",
       "      <td>Maria</td>\n",
       "      <td>New York</td>\n",
       "      <td>1997.0</td>\n",
       "      <td>7.0</td>\n",
       "      <td>f</td>\n",
       "    </tr>\n",
       "  </tbody>\n",
       "</table>\n",
       "</div>"
      ],
      "text/plain": [
       "       Device   key   Name           City    Year  Grade Gender\n",
       "0          TV   2.0   Alex          Minsk  1954.0    NaN      m\n",
       "1  Smartphone   2.0   Alex          Minsk  1954.0    NaN      m\n",
       "2          TV   3.0   Ivan  St.Petersburg  2005.0    6.0      m\n",
       "3    Pendrive   3.0   Ivan  St.Petersburg  2005.0    6.0      m\n",
       "4          TV   4.0   Kate         London  2001.0    NaN      f\n",
       "5          TV   4.0   Kate         London  2001.0    NaN      f\n",
       "6          PC  10.0    NaN            NaN     NaN    NaN    NaN\n",
       "6         NaN   0.0   Dima         Moscow  1988.0    4.0      m\n",
       "6         NaN   1.0  Sveta           Kiev  1999.0    4.0      f\n",
       "6         NaN   5.0  Maria       New York  1997.0    7.0      f"
      ]
     },
     "execution_count": 162,
     "metadata": {},
     "output_type": "execute_result"
    }
   ],
   "source": [
    "df3 = dfLeft.join(df, on = \"key\", how = \"outer\")\n",
    "df3"
   ]
  },
  {
   "cell_type": "markdown",
   "metadata": {},
   "source": [
    "<p>Левое внешнее соединение (<b>left outer join</b>) таблиц по индексу</p>"
   ]
  },
  {
   "cell_type": "code",
   "execution_count": 163,
   "metadata": {
    "collapsed": false
   },
   "outputs": [
    {
     "data": {
      "text/html": [
       "<div>\n",
       "<table border=\"1\" class=\"dataframe\">\n",
       "  <thead>\n",
       "    <tr style=\"text-align: right;\">\n",
       "      <th></th>\n",
       "      <th>Name</th>\n",
       "      <th>City</th>\n",
       "      <th>Year</th>\n",
       "      <th>Grade</th>\n",
       "      <th>Gender</th>\n",
       "      <th>Marriage_status</th>\n",
       "      <th>Salary</th>\n",
       "    </tr>\n",
       "  </thead>\n",
       "  <tbody>\n",
       "    <tr>\n",
       "      <th>0</th>\n",
       "      <td>Dima</td>\n",
       "      <td>Moscow</td>\n",
       "      <td>1988</td>\n",
       "      <td>4.0</td>\n",
       "      <td>m</td>\n",
       "      <td>True</td>\n",
       "      <td>12.0</td>\n",
       "    </tr>\n",
       "    <tr>\n",
       "      <th>1</th>\n",
       "      <td>Sveta</td>\n",
       "      <td>Kiev</td>\n",
       "      <td>1999</td>\n",
       "      <td>4.0</td>\n",
       "      <td>f</td>\n",
       "      <td>False</td>\n",
       "      <td>40.0</td>\n",
       "    </tr>\n",
       "    <tr>\n",
       "      <th>2</th>\n",
       "      <td>Alex</td>\n",
       "      <td>Minsk</td>\n",
       "      <td>1954</td>\n",
       "      <td>NaN</td>\n",
       "      <td>m</td>\n",
       "      <td>True</td>\n",
       "      <td>53.0</td>\n",
       "    </tr>\n",
       "    <tr>\n",
       "      <th>3</th>\n",
       "      <td>Ivan</td>\n",
       "      <td>St.Petersburg</td>\n",
       "      <td>2005</td>\n",
       "      <td>6.0</td>\n",
       "      <td>m</td>\n",
       "      <td>False</td>\n",
       "      <td>25.0</td>\n",
       "    </tr>\n",
       "    <tr>\n",
       "      <th>4</th>\n",
       "      <td>Kate</td>\n",
       "      <td>London</td>\n",
       "      <td>2001</td>\n",
       "      <td>NaN</td>\n",
       "      <td>f</td>\n",
       "      <td>NaN</td>\n",
       "      <td>NaN</td>\n",
       "    </tr>\n",
       "    <tr>\n",
       "      <th>5</th>\n",
       "      <td>Maria</td>\n",
       "      <td>New York</td>\n",
       "      <td>1997</td>\n",
       "      <td>7.0</td>\n",
       "      <td>f</td>\n",
       "      <td>NaN</td>\n",
       "      <td>NaN</td>\n",
       "    </tr>\n",
       "  </tbody>\n",
       "</table>\n",
       "</div>"
      ],
      "text/plain": [
       "    Name           City  Year  Grade Gender Marriage_status  Salary\n",
       "0   Dima         Moscow  1988    4.0      m            True    12.0\n",
       "1  Sveta           Kiev  1999    4.0      f           False    40.0\n",
       "2   Alex          Minsk  1954    NaN      m            True    53.0\n",
       "3   Ivan  St.Petersburg  2005    6.0      m           False    25.0\n",
       "4   Kate         London  2001    NaN      f             NaN     NaN\n",
       "5  Maria       New York  1997    7.0      f             NaN     NaN"
      ]
     },
     "execution_count": 163,
     "metadata": {},
     "output_type": "execute_result"
    }
   ],
   "source": [
    "df3 = df.join(dfRight1, how = \"left\")\n",
    "df3"
   ]
  },
  {
   "cell_type": "markdown",
   "metadata": {},
   "source": [
    "<p>Внешнее левое соединение (<b>left outer join</b>) таблиц по значениям столбцов одной таблицы и индексам другой</p>"
   ]
  },
  {
   "cell_type": "code",
   "execution_count": 164,
   "metadata": {
    "collapsed": false
   },
   "outputs": [
    {
     "data": {
      "text/html": [
       "<div>\n",
       "<table border=\"1\" class=\"dataframe\">\n",
       "  <thead>\n",
       "    <tr style=\"text-align: right;\">\n",
       "      <th></th>\n",
       "      <th>Device</th>\n",
       "      <th>key</th>\n",
       "      <th>Name</th>\n",
       "      <th>City</th>\n",
       "      <th>Year</th>\n",
       "      <th>Grade</th>\n",
       "      <th>Gender</th>\n",
       "    </tr>\n",
       "  </thead>\n",
       "  <tbody>\n",
       "    <tr>\n",
       "      <th>0</th>\n",
       "      <td>TV</td>\n",
       "      <td>2</td>\n",
       "      <td>Alex</td>\n",
       "      <td>Minsk</td>\n",
       "      <td>1954.0</td>\n",
       "      <td>NaN</td>\n",
       "      <td>m</td>\n",
       "    </tr>\n",
       "    <tr>\n",
       "      <th>1</th>\n",
       "      <td>Smartphone</td>\n",
       "      <td>2</td>\n",
       "      <td>Alex</td>\n",
       "      <td>Minsk</td>\n",
       "      <td>1954.0</td>\n",
       "      <td>NaN</td>\n",
       "      <td>m</td>\n",
       "    </tr>\n",
       "    <tr>\n",
       "      <th>2</th>\n",
       "      <td>TV</td>\n",
       "      <td>3</td>\n",
       "      <td>Ivan</td>\n",
       "      <td>St.Petersburg</td>\n",
       "      <td>2005.0</td>\n",
       "      <td>6.0</td>\n",
       "      <td>m</td>\n",
       "    </tr>\n",
       "    <tr>\n",
       "      <th>3</th>\n",
       "      <td>Pendrive</td>\n",
       "      <td>3</td>\n",
       "      <td>Ivan</td>\n",
       "      <td>St.Petersburg</td>\n",
       "      <td>2005.0</td>\n",
       "      <td>6.0</td>\n",
       "      <td>m</td>\n",
       "    </tr>\n",
       "    <tr>\n",
       "      <th>4</th>\n",
       "      <td>TV</td>\n",
       "      <td>4</td>\n",
       "      <td>Kate</td>\n",
       "      <td>London</td>\n",
       "      <td>2001.0</td>\n",
       "      <td>NaN</td>\n",
       "      <td>f</td>\n",
       "    </tr>\n",
       "    <tr>\n",
       "      <th>5</th>\n",
       "      <td>TV</td>\n",
       "      <td>4</td>\n",
       "      <td>Kate</td>\n",
       "      <td>London</td>\n",
       "      <td>2001.0</td>\n",
       "      <td>NaN</td>\n",
       "      <td>f</td>\n",
       "    </tr>\n",
       "    <tr>\n",
       "      <th>6</th>\n",
       "      <td>PC</td>\n",
       "      <td>10</td>\n",
       "      <td>NaN</td>\n",
       "      <td>NaN</td>\n",
       "      <td>NaN</td>\n",
       "      <td>NaN</td>\n",
       "      <td>NaN</td>\n",
       "    </tr>\n",
       "  </tbody>\n",
       "</table>\n",
       "</div>"
      ],
      "text/plain": [
       "       Device  key  Name           City    Year  Grade Gender\n",
       "0          TV    2  Alex          Minsk  1954.0    NaN      m\n",
       "1  Smartphone    2  Alex          Minsk  1954.0    NaN      m\n",
       "2          TV    3  Ivan  St.Petersburg  2005.0    6.0      m\n",
       "3    Pendrive    3  Ivan  St.Petersburg  2005.0    6.0      m\n",
       "4          TV    4  Kate         London  2001.0    NaN      f\n",
       "5          TV    4  Kate         London  2001.0    NaN      f\n",
       "6          PC   10   NaN            NaN     NaN    NaN    NaN"
      ]
     },
     "execution_count": 164,
     "metadata": {},
     "output_type": "execute_result"
    }
   ],
   "source": [
    "df3 = dfLeft.join(df, on = \"key\", how = \"left\")\n",
    "df3"
   ]
  },
  {
   "cell_type": "markdown",
   "metadata": {},
   "source": [
    "<p>Правое внешнее соединение (<b>right outer join</b>) таблиц по индексу</p>"
   ]
  },
  {
   "cell_type": "code",
   "execution_count": 165,
   "metadata": {
    "collapsed": false
   },
   "outputs": [
    {
     "data": {
      "text/html": [
       "<div>\n",
       "<table border=\"1\" class=\"dataframe\">\n",
       "  <thead>\n",
       "    <tr style=\"text-align: right;\">\n",
       "      <th></th>\n",
       "      <th>Name</th>\n",
       "      <th>City</th>\n",
       "      <th>Year</th>\n",
       "      <th>Grade</th>\n",
       "      <th>Gender</th>\n",
       "      <th>Marriage_status</th>\n",
       "      <th>Salary</th>\n",
       "    </tr>\n",
       "  </thead>\n",
       "  <tbody>\n",
       "    <tr>\n",
       "      <th>0</th>\n",
       "      <td>Dima</td>\n",
       "      <td>Moscow</td>\n",
       "      <td>1988</td>\n",
       "      <td>4.0</td>\n",
       "      <td>m</td>\n",
       "      <td>True</td>\n",
       "      <td>12</td>\n",
       "    </tr>\n",
       "    <tr>\n",
       "      <th>1</th>\n",
       "      <td>Sveta</td>\n",
       "      <td>Kiev</td>\n",
       "      <td>1999</td>\n",
       "      <td>4.0</td>\n",
       "      <td>f</td>\n",
       "      <td>False</td>\n",
       "      <td>40</td>\n",
       "    </tr>\n",
       "    <tr>\n",
       "      <th>2</th>\n",
       "      <td>Alex</td>\n",
       "      <td>Minsk</td>\n",
       "      <td>1954</td>\n",
       "      <td>NaN</td>\n",
       "      <td>m</td>\n",
       "      <td>True</td>\n",
       "      <td>53</td>\n",
       "    </tr>\n",
       "    <tr>\n",
       "      <th>3</th>\n",
       "      <td>Ivan</td>\n",
       "      <td>St.Petersburg</td>\n",
       "      <td>2005</td>\n",
       "      <td>6.0</td>\n",
       "      <td>m</td>\n",
       "      <td>False</td>\n",
       "      <td>25</td>\n",
       "    </tr>\n",
       "  </tbody>\n",
       "</table>\n",
       "</div>"
      ],
      "text/plain": [
       "    Name           City  Year  Grade Gender Marriage_status  Salary\n",
       "0   Dima         Moscow  1988    4.0      m            True      12\n",
       "1  Sveta           Kiev  1999    4.0      f           False      40\n",
       "2   Alex          Minsk  1954    NaN      m            True      53\n",
       "3   Ivan  St.Petersburg  2005    6.0      m           False      25"
      ]
     },
     "execution_count": 165,
     "metadata": {},
     "output_type": "execute_result"
    }
   ],
   "source": [
    "df3 = df.join(dfRight1, how = \"right\")\n",
    "df3"
   ]
  },
  {
   "cell_type": "markdown",
   "metadata": {},
   "source": [
    "<p>Внешнее правое соединение (<b>right outer join</b>) таблиц по значениям столбцов одной таблицы и индексам другой</p>"
   ]
  },
  {
   "cell_type": "code",
   "execution_count": 166,
   "metadata": {
    "collapsed": false
   },
   "outputs": [
    {
     "data": {
      "text/html": [
       "<div>\n",
       "<table border=\"1\" class=\"dataframe\">\n",
       "  <thead>\n",
       "    <tr style=\"text-align: right;\">\n",
       "      <th></th>\n",
       "      <th>Device</th>\n",
       "      <th>key</th>\n",
       "      <th>Name</th>\n",
       "      <th>City</th>\n",
       "      <th>Year</th>\n",
       "      <th>Grade</th>\n",
       "      <th>Gender</th>\n",
       "    </tr>\n",
       "  </thead>\n",
       "  <tbody>\n",
       "    <tr>\n",
       "      <th>0</th>\n",
       "      <td>TV</td>\n",
       "      <td>2.0</td>\n",
       "      <td>Alex</td>\n",
       "      <td>Minsk</td>\n",
       "      <td>1954</td>\n",
       "      <td>NaN</td>\n",
       "      <td>m</td>\n",
       "    </tr>\n",
       "    <tr>\n",
       "      <th>1</th>\n",
       "      <td>Smartphone</td>\n",
       "      <td>2.0</td>\n",
       "      <td>Alex</td>\n",
       "      <td>Minsk</td>\n",
       "      <td>1954</td>\n",
       "      <td>NaN</td>\n",
       "      <td>m</td>\n",
       "    </tr>\n",
       "    <tr>\n",
       "      <th>2</th>\n",
       "      <td>TV</td>\n",
       "      <td>3.0</td>\n",
       "      <td>Ivan</td>\n",
       "      <td>St.Petersburg</td>\n",
       "      <td>2005</td>\n",
       "      <td>6.0</td>\n",
       "      <td>m</td>\n",
       "    </tr>\n",
       "    <tr>\n",
       "      <th>3</th>\n",
       "      <td>Pendrive</td>\n",
       "      <td>3.0</td>\n",
       "      <td>Ivan</td>\n",
       "      <td>St.Petersburg</td>\n",
       "      <td>2005</td>\n",
       "      <td>6.0</td>\n",
       "      <td>m</td>\n",
       "    </tr>\n",
       "    <tr>\n",
       "      <th>4</th>\n",
       "      <td>TV</td>\n",
       "      <td>4.0</td>\n",
       "      <td>Kate</td>\n",
       "      <td>London</td>\n",
       "      <td>2001</td>\n",
       "      <td>NaN</td>\n",
       "      <td>f</td>\n",
       "    </tr>\n",
       "    <tr>\n",
       "      <th>5</th>\n",
       "      <td>TV</td>\n",
       "      <td>4.0</td>\n",
       "      <td>Kate</td>\n",
       "      <td>London</td>\n",
       "      <td>2001</td>\n",
       "      <td>NaN</td>\n",
       "      <td>f</td>\n",
       "    </tr>\n",
       "    <tr>\n",
       "      <th>6</th>\n",
       "      <td>NaN</td>\n",
       "      <td>0.0</td>\n",
       "      <td>Dima</td>\n",
       "      <td>Moscow</td>\n",
       "      <td>1988</td>\n",
       "      <td>4.0</td>\n",
       "      <td>m</td>\n",
       "    </tr>\n",
       "    <tr>\n",
       "      <th>6</th>\n",
       "      <td>NaN</td>\n",
       "      <td>1.0</td>\n",
       "      <td>Sveta</td>\n",
       "      <td>Kiev</td>\n",
       "      <td>1999</td>\n",
       "      <td>4.0</td>\n",
       "      <td>f</td>\n",
       "    </tr>\n",
       "    <tr>\n",
       "      <th>6</th>\n",
       "      <td>NaN</td>\n",
       "      <td>5.0</td>\n",
       "      <td>Maria</td>\n",
       "      <td>New York</td>\n",
       "      <td>1997</td>\n",
       "      <td>7.0</td>\n",
       "      <td>f</td>\n",
       "    </tr>\n",
       "  </tbody>\n",
       "</table>\n",
       "</div>"
      ],
      "text/plain": [
       "       Device  key   Name           City  Year  Grade Gender\n",
       "0          TV  2.0   Alex          Minsk  1954    NaN      m\n",
       "1  Smartphone  2.0   Alex          Minsk  1954    NaN      m\n",
       "2          TV  3.0   Ivan  St.Petersburg  2005    6.0      m\n",
       "3    Pendrive  3.0   Ivan  St.Petersburg  2005    6.0      m\n",
       "4          TV  4.0   Kate         London  2001    NaN      f\n",
       "5          TV  4.0   Kate         London  2001    NaN      f\n",
       "6         NaN  0.0   Dima         Moscow  1988    4.0      m\n",
       "6         NaN  1.0  Sveta           Kiev  1999    4.0      f\n",
       "6         NaN  5.0  Maria       New York  1997    7.0      f"
      ]
     },
     "execution_count": 166,
     "metadata": {},
     "output_type": "execute_result"
    }
   ],
   "source": [
    "df3 = dfLeft.join(df, on = \"key\", how = \"right\")\n",
    "df3"
   ]
  },
  {
   "cell_type": "markdown",
   "metadata": {},
   "source": [
    "<p>Внутреннее соединение (<b>inner join</b>) таблиц по индексу</p>"
   ]
  },
  {
   "cell_type": "code",
   "execution_count": 167,
   "metadata": {
    "collapsed": false
   },
   "outputs": [
    {
     "data": {
      "text/html": [
       "<div>\n",
       "<table border=\"1\" class=\"dataframe\">\n",
       "  <thead>\n",
       "    <tr style=\"text-align: right;\">\n",
       "      <th></th>\n",
       "      <th>Name</th>\n",
       "      <th>City</th>\n",
       "      <th>Year</th>\n",
       "      <th>Grade</th>\n",
       "      <th>Gender</th>\n",
       "      <th>Marriage_status</th>\n",
       "      <th>Salary</th>\n",
       "    </tr>\n",
       "  </thead>\n",
       "  <tbody>\n",
       "    <tr>\n",
       "      <th>0</th>\n",
       "      <td>Dima</td>\n",
       "      <td>Moscow</td>\n",
       "      <td>1988</td>\n",
       "      <td>4.0</td>\n",
       "      <td>m</td>\n",
       "      <td>True</td>\n",
       "      <td>12</td>\n",
       "    </tr>\n",
       "    <tr>\n",
       "      <th>1</th>\n",
       "      <td>Sveta</td>\n",
       "      <td>Kiev</td>\n",
       "      <td>1999</td>\n",
       "      <td>4.0</td>\n",
       "      <td>f</td>\n",
       "      <td>False</td>\n",
       "      <td>40</td>\n",
       "    </tr>\n",
       "    <tr>\n",
       "      <th>2</th>\n",
       "      <td>Alex</td>\n",
       "      <td>Minsk</td>\n",
       "      <td>1954</td>\n",
       "      <td>NaN</td>\n",
       "      <td>m</td>\n",
       "      <td>True</td>\n",
       "      <td>53</td>\n",
       "    </tr>\n",
       "    <tr>\n",
       "      <th>3</th>\n",
       "      <td>Ivan</td>\n",
       "      <td>St.Petersburg</td>\n",
       "      <td>2005</td>\n",
       "      <td>6.0</td>\n",
       "      <td>m</td>\n",
       "      <td>False</td>\n",
       "      <td>25</td>\n",
       "    </tr>\n",
       "  </tbody>\n",
       "</table>\n",
       "</div>"
      ],
      "text/plain": [
       "    Name           City  Year  Grade Gender Marriage_status  Salary\n",
       "0   Dima         Moscow  1988    4.0      m            True      12\n",
       "1  Sveta           Kiev  1999    4.0      f           False      40\n",
       "2   Alex          Minsk  1954    NaN      m            True      53\n",
       "3   Ivan  St.Petersburg  2005    6.0      m           False      25"
      ]
     },
     "execution_count": 167,
     "metadata": {},
     "output_type": "execute_result"
    }
   ],
   "source": [
    "df3 = df.join(dfRight1, how = \"inner\")\n",
    "df3"
   ]
  },
  {
   "cell_type": "markdown",
   "metadata": {},
   "source": [
    "<p>Внутреннее соединение (<b>inner join</b>) таблиц по значениям столбцов одной таблицы и индексам другой</p>"
   ]
  },
  {
   "cell_type": "code",
   "execution_count": 168,
   "metadata": {
    "collapsed": false
   },
   "outputs": [
    {
     "data": {
      "text/html": [
       "<div>\n",
       "<table border=\"1\" class=\"dataframe\">\n",
       "  <thead>\n",
       "    <tr style=\"text-align: right;\">\n",
       "      <th></th>\n",
       "      <th>Device</th>\n",
       "      <th>key</th>\n",
       "      <th>Name</th>\n",
       "      <th>City</th>\n",
       "      <th>Year</th>\n",
       "      <th>Grade</th>\n",
       "      <th>Gender</th>\n",
       "    </tr>\n",
       "  </thead>\n",
       "  <tbody>\n",
       "    <tr>\n",
       "      <th>0</th>\n",
       "      <td>TV</td>\n",
       "      <td>2</td>\n",
       "      <td>Alex</td>\n",
       "      <td>Minsk</td>\n",
       "      <td>1954</td>\n",
       "      <td>NaN</td>\n",
       "      <td>m</td>\n",
       "    </tr>\n",
       "    <tr>\n",
       "      <th>1</th>\n",
       "      <td>Smartphone</td>\n",
       "      <td>2</td>\n",
       "      <td>Alex</td>\n",
       "      <td>Minsk</td>\n",
       "      <td>1954</td>\n",
       "      <td>NaN</td>\n",
       "      <td>m</td>\n",
       "    </tr>\n",
       "    <tr>\n",
       "      <th>2</th>\n",
       "      <td>TV</td>\n",
       "      <td>3</td>\n",
       "      <td>Ivan</td>\n",
       "      <td>St.Petersburg</td>\n",
       "      <td>2005</td>\n",
       "      <td>6.0</td>\n",
       "      <td>m</td>\n",
       "    </tr>\n",
       "    <tr>\n",
       "      <th>3</th>\n",
       "      <td>Pendrive</td>\n",
       "      <td>3</td>\n",
       "      <td>Ivan</td>\n",
       "      <td>St.Petersburg</td>\n",
       "      <td>2005</td>\n",
       "      <td>6.0</td>\n",
       "      <td>m</td>\n",
       "    </tr>\n",
       "    <tr>\n",
       "      <th>4</th>\n",
       "      <td>TV</td>\n",
       "      <td>4</td>\n",
       "      <td>Kate</td>\n",
       "      <td>London</td>\n",
       "      <td>2001</td>\n",
       "      <td>NaN</td>\n",
       "      <td>f</td>\n",
       "    </tr>\n",
       "    <tr>\n",
       "      <th>5</th>\n",
       "      <td>TV</td>\n",
       "      <td>4</td>\n",
       "      <td>Kate</td>\n",
       "      <td>London</td>\n",
       "      <td>2001</td>\n",
       "      <td>NaN</td>\n",
       "      <td>f</td>\n",
       "    </tr>\n",
       "  </tbody>\n",
       "</table>\n",
       "</div>"
      ],
      "text/plain": [
       "       Device  key  Name           City  Year  Grade Gender\n",
       "0          TV    2  Alex          Minsk  1954    NaN      m\n",
       "1  Smartphone    2  Alex          Minsk  1954    NaN      m\n",
       "2          TV    3  Ivan  St.Petersburg  2005    6.0      m\n",
       "3    Pendrive    3  Ivan  St.Petersburg  2005    6.0      m\n",
       "4          TV    4  Kate         London  2001    NaN      f\n",
       "5          TV    4  Kate         London  2001    NaN      f"
      ]
     },
     "execution_count": 168,
     "metadata": {},
     "output_type": "execute_result"
    }
   ],
   "source": [
    "df3 = dfLeft.join(df, on = \"key\", how = \"inner\")\n",
    "df3"
   ]
  },
  {
   "cell_type": "markdown",
   "metadata": {},
   "source": [
    "<a name = \"3h\"></a>\n",
    "<div style=\"padding-top:10px;\">\n",
    "    <div style=\"display: inline-block; font-style:italic; font-weight:bold; font-size:12pt\">h. Методы <i>iterrows</i>, <i>map</i>, <i>apply</i>, <i>applymap</i></div>\n",
    "    <div style=\"display: inline-block; float:right; width:20%; text-align:center; border:1px solid lightgrey\">\n",
    "        <div style=\"display: inline-block; text-align:center; width:50%; background-color:whitesmoke;\"><a href=\"#3g\">Назад</a></div><div style=\"display: inline-block; text-align:center; width:50%;\"><a href=\"#4\">Далее</a></div>\n",
    "    </div>\n",
    "</div>"
   ]
  },
  {
   "cell_type": "markdown",
   "metadata": {},
   "source": [
    "<p>Использование итератора по строкам - метод <b>iterrows()</b></p>"
   ]
  },
  {
   "cell_type": "code",
   "execution_count": 169,
   "metadata": {
    "collapsed": false
   },
   "outputs": [
    {
     "name": "stdout",
     "output_type": "stream",
     "text": [
      "0\n",
      "Name        Dima\n",
      "City      Moscow\n",
      "Year        1988\n",
      "Grade          4\n",
      "Gender         m\n",
      "Name: 0, dtype: object\n",
      "1\n",
      "Name      Sveta\n",
      "City       Kiev\n",
      "Year       1999\n",
      "Grade         4\n",
      "Gender        f\n",
      "Name: 1, dtype: object\n",
      "2\n",
      "Name       Alex\n",
      "City      Minsk\n",
      "Year       1954\n",
      "Grade       NaN\n",
      "Gender        m\n",
      "Name: 2, dtype: object\n",
      "3\n",
      "Name               Ivan\n",
      "City      St.Petersburg\n",
      "Year               2005\n",
      "Grade                 6\n",
      "Gender                m\n",
      "Name: 3, dtype: object\n",
      "4\n",
      "Name        Kate\n",
      "City      London\n",
      "Year        2001\n",
      "Grade        NaN\n",
      "Gender         f\n",
      "Name: 4, dtype: object\n",
      "5\n",
      "Name         Maria\n",
      "City      New York\n",
      "Year          1997\n",
      "Grade            7\n",
      "Gender           f\n",
      "Name: 5, dtype: object\n"
     ]
    }
   ],
   "source": [
    "for i, row in df.iterrows():\n",
    "    print(i)\n",
    "    print(row)"
   ]
  },
  {
   "cell_type": "markdown",
   "metadata": {},
   "source": [
    "<p>Пример</p>"
   ]
  },
  {
   "cell_type": "code",
   "execution_count": 170,
   "metadata": {
    "collapsed": false
   },
   "outputs": [
    {
     "data": {
      "text/html": [
       "<div>\n",
       "<table border=\"1\" class=\"dataframe\">\n",
       "  <thead>\n",
       "    <tr style=\"text-align: right;\">\n",
       "      <th></th>\n",
       "      <th>Name</th>\n",
       "      <th>City</th>\n",
       "      <th>Year</th>\n",
       "      <th>Grade</th>\n",
       "      <th>Gender</th>\n",
       "    </tr>\n",
       "  </thead>\n",
       "  <tbody>\n",
       "    <tr>\n",
       "      <th>0</th>\n",
       "      <td>Dima</td>\n",
       "      <td>Moscow</td>\n",
       "      <td>1988.0</td>\n",
       "      <td>4.0</td>\n",
       "      <td>m</td>\n",
       "    </tr>\n",
       "    <tr>\n",
       "      <th>2</th>\n",
       "      <td>Alex</td>\n",
       "      <td>Minsk</td>\n",
       "      <td>1954.0</td>\n",
       "      <td>NaN</td>\n",
       "      <td>m</td>\n",
       "    </tr>\n",
       "  </tbody>\n",
       "</table>\n",
       "</div>"
      ],
      "text/plain": [
       "   Name    City    Year  Grade Gender\n",
       "0  Dima  Moscow  1988.0    4.0      m\n",
       "2  Alex   Minsk  1954.0    NaN      m"
      ]
     },
     "execution_count": 170,
     "metadata": {},
     "output_type": "execute_result"
    }
   ],
   "source": [
    "df2 = pnd.DataFrame(columns = df.columns) #Новый DataFrame со схемой (столбцами) df\n",
    "for i, row in df.iterrows():\n",
    "    #Если City есть Moscow или Minsk, строка row добавляется в df2\n",
    "    if row.City in [\"Moscow\", \"Minsk\"]:\n",
    "        df2.loc[i] = row\n",
    "        \n",
    "df2"
   ]
  },
  {
   "cell_type": "markdown",
   "metadata": {},
   "source": [
    "<p>Выбор/фильтрация строк посредством методов <b>apply()</b> и <b>map()</b></p>"
   ]
  },
  {
   "cell_type": "code",
   "execution_count": 171,
   "metadata": {
    "collapsed": false
   },
   "outputs": [
    {
     "data": {
      "text/html": [
       "<div>\n",
       "<table border=\"1\" class=\"dataframe\">\n",
       "  <thead>\n",
       "    <tr style=\"text-align: right;\">\n",
       "      <th></th>\n",
       "      <th>Name</th>\n",
       "      <th>City</th>\n",
       "      <th>Year</th>\n",
       "      <th>Grade</th>\n",
       "      <th>Gender</th>\n",
       "    </tr>\n",
       "  </thead>\n",
       "  <tbody>\n",
       "    <tr>\n",
       "      <th>0</th>\n",
       "      <td>Dima</td>\n",
       "      <td>Moscow</td>\n",
       "      <td>1988</td>\n",
       "      <td>4.0</td>\n",
       "      <td>m</td>\n",
       "    </tr>\n",
       "    <tr>\n",
       "      <th>2</th>\n",
       "      <td>Alex</td>\n",
       "      <td>Minsk</td>\n",
       "      <td>1954</td>\n",
       "      <td>NaN</td>\n",
       "      <td>m</td>\n",
       "    </tr>\n",
       "  </tbody>\n",
       "</table>\n",
       "</div>"
      ],
      "text/plain": [
       "   Name    City  Year  Grade Gender\n",
       "0  Dima  Moscow  1988    4.0      m\n",
       "2  Alex   Minsk  1954    NaN      m"
      ]
     },
     "execution_count": 171,
     "metadata": {},
     "output_type": "execute_result"
    }
   ],
   "source": [
    "df2 = df[df[\"City\"].apply(lambda c: c in [\"Moscow\", \"Minsk\"])]\n",
    "df2"
   ]
  },
  {
   "cell_type": "code",
   "execution_count": 172,
   "metadata": {
    "collapsed": false
   },
   "outputs": [
    {
     "data": {
      "text/html": [
       "<div>\n",
       "<table border=\"1\" class=\"dataframe\">\n",
       "  <thead>\n",
       "    <tr style=\"text-align: right;\">\n",
       "      <th></th>\n",
       "      <th>Name</th>\n",
       "      <th>City</th>\n",
       "      <th>Year</th>\n",
       "      <th>Grade</th>\n",
       "      <th>Gender</th>\n",
       "    </tr>\n",
       "  </thead>\n",
       "  <tbody>\n",
       "    <tr>\n",
       "      <th>0</th>\n",
       "      <td>Dima</td>\n",
       "      <td>Moscow</td>\n",
       "      <td>1988</td>\n",
       "      <td>4.0</td>\n",
       "      <td>m</td>\n",
       "    </tr>\n",
       "    <tr>\n",
       "      <th>2</th>\n",
       "      <td>Alex</td>\n",
       "      <td>Minsk</td>\n",
       "      <td>1954</td>\n",
       "      <td>NaN</td>\n",
       "      <td>m</td>\n",
       "    </tr>\n",
       "  </tbody>\n",
       "</table>\n",
       "</div>"
      ],
      "text/plain": [
       "   Name    City  Year  Grade Gender\n",
       "0  Dima  Moscow  1988    4.0      m\n",
       "2  Alex   Minsk  1954    NaN      m"
      ]
     },
     "execution_count": 172,
     "metadata": {},
     "output_type": "execute_result"
    }
   ],
   "source": [
    "#Через функцию (без lambda)\n",
    "def func(city):\n",
    "    if city in [\"Moscow\", \"Minsk\"]:\n",
    "        return True\n",
    "    return False\n",
    "\n",
    "df2 = df[df.City.apply(func)]\n",
    "df2"
   ]
  },
  {
   "cell_type": "code",
   "execution_count": 173,
   "metadata": {
    "collapsed": false
   },
   "outputs": [
    {
     "data": {
      "text/html": [
       "<div>\n",
       "<table border=\"1\" class=\"dataframe\">\n",
       "  <thead>\n",
       "    <tr style=\"text-align: right;\">\n",
       "      <th></th>\n",
       "      <th>Name</th>\n",
       "      <th>City</th>\n",
       "      <th>Year</th>\n",
       "      <th>Grade</th>\n",
       "      <th>Gender</th>\n",
       "    </tr>\n",
       "  </thead>\n",
       "  <tbody>\n",
       "    <tr>\n",
       "      <th>0</th>\n",
       "      <td>Dima</td>\n",
       "      <td>Moscow</td>\n",
       "      <td>1988</td>\n",
       "      <td>4.0</td>\n",
       "      <td>m</td>\n",
       "    </tr>\n",
       "    <tr>\n",
       "      <th>2</th>\n",
       "      <td>Alex</td>\n",
       "      <td>Minsk</td>\n",
       "      <td>1954</td>\n",
       "      <td>NaN</td>\n",
       "      <td>m</td>\n",
       "    </tr>\n",
       "  </tbody>\n",
       "</table>\n",
       "</div>"
      ],
      "text/plain": [
       "   Name    City  Year  Grade Gender\n",
       "0  Dima  Moscow  1988    4.0      m\n",
       "2  Alex   Minsk  1954    NaN      m"
      ]
     },
     "execution_count": 173,
     "metadata": {},
     "output_type": "execute_result"
    }
   ],
   "source": [
    "df2 = df[df[\"City\"].map(lambda c: c in [\"Moscow\", \"Minsk\"])]\n",
    "df2"
   ]
  },
  {
   "cell_type": "markdown",
   "metadata": {},
   "source": [
    "<p>Выбор строк без нулевых значений</p>"
   ]
  },
  {
   "cell_type": "code",
   "execution_count": 174,
   "metadata": {
    "collapsed": false
   },
   "outputs": [
    {
     "data": {
      "text/html": [
       "<div>\n",
       "<table border=\"1\" class=\"dataframe\">\n",
       "  <thead>\n",
       "    <tr style=\"text-align: right;\">\n",
       "      <th></th>\n",
       "      <th>Name</th>\n",
       "      <th>City</th>\n",
       "      <th>Year</th>\n",
       "      <th>Grade</th>\n",
       "      <th>Gender</th>\n",
       "    </tr>\n",
       "  </thead>\n",
       "  <tbody>\n",
       "    <tr>\n",
       "      <th>0</th>\n",
       "      <td>Dima</td>\n",
       "      <td>Moscow</td>\n",
       "      <td>1988</td>\n",
       "      <td>4.0</td>\n",
       "      <td>m</td>\n",
       "    </tr>\n",
       "    <tr>\n",
       "      <th>1</th>\n",
       "      <td>Sveta</td>\n",
       "      <td>Kiev</td>\n",
       "      <td>1999</td>\n",
       "      <td>4.0</td>\n",
       "      <td>f</td>\n",
       "    </tr>\n",
       "    <tr>\n",
       "      <th>3</th>\n",
       "      <td>Ivan</td>\n",
       "      <td>St.Petersburg</td>\n",
       "      <td>2005</td>\n",
       "      <td>6.0</td>\n",
       "      <td>m</td>\n",
       "    </tr>\n",
       "    <tr>\n",
       "      <th>5</th>\n",
       "      <td>Maria</td>\n",
       "      <td>New York</td>\n",
       "      <td>1997</td>\n",
       "      <td>7.0</td>\n",
       "      <td>f</td>\n",
       "    </tr>\n",
       "  </tbody>\n",
       "</table>\n",
       "</div>"
      ],
      "text/plain": [
       "    Name           City  Year  Grade Gender\n",
       "0   Dima         Moscow  1988    4.0      m\n",
       "1  Sveta           Kiev  1999    4.0      f\n",
       "3   Ivan  St.Petersburg  2005    6.0      m\n",
       "5  Maria       New York  1997    7.0      f"
      ]
     },
     "execution_count": 174,
     "metadata": {},
     "output_type": "execute_result"
    }
   ],
   "source": [
    "df[df.Grade.notnull()]"
   ]
  },
  {
   "cell_type": "code",
   "execution_count": 175,
   "metadata": {
    "collapsed": false
   },
   "outputs": [
    {
     "data": {
      "text/html": [
       "<div>\n",
       "<table border=\"1\" class=\"dataframe\">\n",
       "  <thead>\n",
       "    <tr style=\"text-align: right;\">\n",
       "      <th></th>\n",
       "      <th>Name</th>\n",
       "      <th>City</th>\n",
       "      <th>Year</th>\n",
       "      <th>Grade</th>\n",
       "      <th>Gender</th>\n",
       "    </tr>\n",
       "  </thead>\n",
       "  <tbody>\n",
       "    <tr>\n",
       "      <th>0</th>\n",
       "      <td>Dima</td>\n",
       "      <td>Moscow</td>\n",
       "      <td>1988</td>\n",
       "      <td>4.0</td>\n",
       "      <td>m</td>\n",
       "    </tr>\n",
       "    <tr>\n",
       "      <th>1</th>\n",
       "      <td>Sveta</td>\n",
       "      <td>Kiev</td>\n",
       "      <td>1999</td>\n",
       "      <td>4.0</td>\n",
       "      <td>f</td>\n",
       "    </tr>\n",
       "    <tr>\n",
       "      <th>3</th>\n",
       "      <td>Ivan</td>\n",
       "      <td>St.Petersburg</td>\n",
       "      <td>2005</td>\n",
       "      <td>6.0</td>\n",
       "      <td>m</td>\n",
       "    </tr>\n",
       "    <tr>\n",
       "      <th>5</th>\n",
       "      <td>Maria</td>\n",
       "      <td>New York</td>\n",
       "      <td>1997</td>\n",
       "      <td>7.0</td>\n",
       "      <td>f</td>\n",
       "    </tr>\n",
       "  </tbody>\n",
       "</table>\n",
       "</div>"
      ],
      "text/plain": [
       "    Name           City  Year  Grade Gender\n",
       "0   Dima         Moscow  1988    4.0      m\n",
       "1  Sveta           Kiev  1999    4.0      f\n",
       "3   Ivan  St.Petersburg  2005    6.0      m\n",
       "5  Maria       New York  1997    7.0      f"
      ]
     },
     "execution_count": 175,
     "metadata": {},
     "output_type": "execute_result"
    }
   ],
   "source": [
    "df[df.Grade.apply(lambda x: not np.isnan(x))]"
   ]
  },
  {
   "cell_type": "markdown",
   "metadata": {},
   "source": [
    "<p>Выбор строк с условием Year > 2000</p>"
   ]
  },
  {
   "cell_type": "code",
   "execution_count": 176,
   "metadata": {
    "collapsed": false
   },
   "outputs": [
    {
     "data": {
      "text/html": [
       "<div>\n",
       "<table border=\"1\" class=\"dataframe\">\n",
       "  <thead>\n",
       "    <tr style=\"text-align: right;\">\n",
       "      <th></th>\n",
       "      <th>Name</th>\n",
       "      <th>City</th>\n",
       "      <th>Year</th>\n",
       "      <th>Grade</th>\n",
       "      <th>Gender</th>\n",
       "    </tr>\n",
       "  </thead>\n",
       "  <tbody>\n",
       "    <tr>\n",
       "      <th>3</th>\n",
       "      <td>Ivan</td>\n",
       "      <td>St.Petersburg</td>\n",
       "      <td>2005</td>\n",
       "      <td>6.0</td>\n",
       "      <td>m</td>\n",
       "    </tr>\n",
       "    <tr>\n",
       "      <th>4</th>\n",
       "      <td>Kate</td>\n",
       "      <td>London</td>\n",
       "      <td>2001</td>\n",
       "      <td>NaN</td>\n",
       "      <td>f</td>\n",
       "    </tr>\n",
       "  </tbody>\n",
       "</table>\n",
       "</div>"
      ],
      "text/plain": [
       "   Name           City  Year  Grade Gender\n",
       "3  Ivan  St.Petersburg  2005    6.0      m\n",
       "4  Kate         London  2001    NaN      f"
      ]
     },
     "execution_count": 176,
     "metadata": {},
     "output_type": "execute_result"
    }
   ],
   "source": [
    "df[df[\"Year\"] >= 2000]"
   ]
  },
  {
   "cell_type": "code",
   "execution_count": 177,
   "metadata": {
    "collapsed": false
   },
   "outputs": [
    {
     "data": {
      "text/html": [
       "<div>\n",
       "<table border=\"1\" class=\"dataframe\">\n",
       "  <thead>\n",
       "    <tr style=\"text-align: right;\">\n",
       "      <th></th>\n",
       "      <th>Name</th>\n",
       "      <th>City</th>\n",
       "      <th>Year</th>\n",
       "      <th>Grade</th>\n",
       "      <th>Gender</th>\n",
       "    </tr>\n",
       "  </thead>\n",
       "  <tbody>\n",
       "    <tr>\n",
       "      <th>3</th>\n",
       "      <td>Ivan</td>\n",
       "      <td>St.Petersburg</td>\n",
       "      <td>2005</td>\n",
       "      <td>6.0</td>\n",
       "      <td>m</td>\n",
       "    </tr>\n",
       "    <tr>\n",
       "      <th>4</th>\n",
       "      <td>Kate</td>\n",
       "      <td>London</td>\n",
       "      <td>2001</td>\n",
       "      <td>NaN</td>\n",
       "      <td>f</td>\n",
       "    </tr>\n",
       "  </tbody>\n",
       "</table>\n",
       "</div>"
      ],
      "text/plain": [
       "   Name           City  Year  Grade Gender\n",
       "3  Ivan  St.Petersburg  2005    6.0      m\n",
       "4  Kate         London  2001    NaN      f"
      ]
     },
     "execution_count": 177,
     "metadata": {},
     "output_type": "execute_result"
    }
   ],
   "source": [
    "df[df[\"Year\"].apply(lambda year: year >= 2000)]"
   ]
  },
  {
   "cell_type": "markdown",
   "metadata": {},
   "source": [
    "<p>Применение метода <b>apply()</b> для вычислений</p>"
   ]
  },
  {
   "cell_type": "code",
   "execution_count": 178,
   "metadata": {
    "collapsed": false
   },
   "outputs": [
    {
     "data": {
      "text/plain": [
       "array([[24, 94, 85, 14, 20, 95, 16],\n",
       "       [ 5, 74,  7, 95, 91, 80,  3],\n",
       "       [65, 93,  6, 27, 75, 79, 65]])"
      ]
     },
     "execution_count": 178,
     "metadata": {},
     "output_type": "execute_result"
    }
   ],
   "source": [
    "mDataA =  np.random.randint(low=0, high=101, size=(3,7))\n",
    "mDataA"
   ]
  },
  {
   "cell_type": "code",
   "execution_count": 179,
   "metadata": {
    "collapsed": false
   },
   "outputs": [
    {
     "data": {
      "text/html": [
       "<div>\n",
       "<table border=\"1\" class=\"dataframe\">\n",
       "  <thead>\n",
       "    <tr style=\"text-align: right;\">\n",
       "      <th></th>\n",
       "      <th>Mon</th>\n",
       "      <th>Tue</th>\n",
       "      <th>Wed</th>\n",
       "      <th>Thu</th>\n",
       "      <th>Fri</th>\n",
       "      <th>Sat</th>\n",
       "      <th>Sun</th>\n",
       "    </tr>\n",
       "  </thead>\n",
       "  <tbody>\n",
       "    <tr>\n",
       "      <th>TV</th>\n",
       "      <td>24</td>\n",
       "      <td>94</td>\n",
       "      <td>85</td>\n",
       "      <td>14</td>\n",
       "      <td>20</td>\n",
       "      <td>95</td>\n",
       "      <td>16</td>\n",
       "    </tr>\n",
       "    <tr>\n",
       "      <th>Smartphone</th>\n",
       "      <td>5</td>\n",
       "      <td>74</td>\n",
       "      <td>7</td>\n",
       "      <td>95</td>\n",
       "      <td>91</td>\n",
       "      <td>80</td>\n",
       "      <td>3</td>\n",
       "    </tr>\n",
       "    <tr>\n",
       "      <th>Pendrive</th>\n",
       "      <td>65</td>\n",
       "      <td>93</td>\n",
       "      <td>6</td>\n",
       "      <td>27</td>\n",
       "      <td>75</td>\n",
       "      <td>79</td>\n",
       "      <td>65</td>\n",
       "    </tr>\n",
       "  </tbody>\n",
       "</table>\n",
       "</div>"
      ],
      "text/plain": [
       "            Mon  Tue  Wed  Thu  Fri  Sat  Sun\n",
       "TV           24   94   85   14   20   95   16\n",
       "Smartphone    5   74    7   95   91   80    3\n",
       "Pendrive     65   93    6   27   75   79   65"
      ]
     },
     "execution_count": 179,
     "metadata": {},
     "output_type": "execute_result"
    }
   ],
   "source": [
    "dfA = pnd.DataFrame(data = mDataA, columns = [\"Mon\", \"Tue\", \"Wed\", \"Thu\", \"Fri\", \"Sat\", \"Sun\"], index = [\"TV\", \"Smartphone\", \"Pendrive\"])\n",
    "dfA"
   ]
  },
  {
   "cell_type": "code",
   "execution_count": 180,
   "metadata": {
    "collapsed": false
   },
   "outputs": [
    {
     "data": {
      "text/plain": [
       "Mon     94\n",
       "Tue    261\n",
       "Wed     98\n",
       "Thu    136\n",
       "Fri    186\n",
       "Sat    254\n",
       "Sun     84\n",
       "dtype: int64"
      ]
     },
     "execution_count": 180,
     "metadata": {},
     "output_type": "execute_result"
    }
   ],
   "source": [
    "s_clmn_sum = dfA.apply(lambda clmn: clmn.sum(), axis = 0) #axis = 0 - выбор по столбцам\n",
    "s_clmn_sum"
   ]
  },
  {
   "cell_type": "code",
   "execution_count": 181,
   "metadata": {
    "collapsed": false
   },
   "outputs": [
    {
     "data": {
      "text/plain": [
       "pandas.core.series.Series"
      ]
     },
     "execution_count": 181,
     "metadata": {},
     "output_type": "execute_result"
    }
   ],
   "source": [
    "type(s_clmn_sum)"
   ]
  },
  {
   "cell_type": "code",
   "execution_count": 182,
   "metadata": {
    "collapsed": false
   },
   "outputs": [
    {
     "data": {
      "text/html": [
       "<div>\n",
       "<table border=\"1\" class=\"dataframe\">\n",
       "  <thead>\n",
       "    <tr style=\"text-align: right;\">\n",
       "      <th></th>\n",
       "      <th>TotalByDay</th>\n",
       "    </tr>\n",
       "  </thead>\n",
       "  <tbody>\n",
       "    <tr>\n",
       "      <th>Mon</th>\n",
       "      <td>94</td>\n",
       "    </tr>\n",
       "    <tr>\n",
       "      <th>Tue</th>\n",
       "      <td>261</td>\n",
       "    </tr>\n",
       "    <tr>\n",
       "      <th>Wed</th>\n",
       "      <td>98</td>\n",
       "    </tr>\n",
       "    <tr>\n",
       "      <th>Thu</th>\n",
       "      <td>136</td>\n",
       "    </tr>\n",
       "    <tr>\n",
       "      <th>Fri</th>\n",
       "      <td>186</td>\n",
       "    </tr>\n",
       "    <tr>\n",
       "      <th>Sat</th>\n",
       "      <td>254</td>\n",
       "    </tr>\n",
       "    <tr>\n",
       "      <th>Sun</th>\n",
       "      <td>84</td>\n",
       "    </tr>\n",
       "  </tbody>\n",
       "</table>\n",
       "</div>"
      ],
      "text/plain": [
       "     TotalByDay\n",
       "Mon          94\n",
       "Tue         261\n",
       "Wed          98\n",
       "Thu         136\n",
       "Fri         186\n",
       "Sat         254\n",
       "Sun          84"
      ]
     },
     "execution_count": 182,
     "metadata": {},
     "output_type": "execute_result"
    }
   ],
   "source": [
    "s_clmn_sum.name = \"TotalByDay\"\n",
    "pnd.DataFrame(s_clmn_sum)"
   ]
  },
  {
   "cell_type": "code",
   "execution_count": 183,
   "metadata": {
    "collapsed": false
   },
   "outputs": [
    {
     "data": {
      "text/plain": [
       "TV            348\n",
       "Smartphone    355\n",
       "Pendrive      410\n",
       "dtype: int64"
      ]
     },
     "execution_count": 183,
     "metadata": {},
     "output_type": "execute_result"
    }
   ],
   "source": [
    "s_row_sum = dfA.apply(lambda row: row.sum(), axis = 1) #axis = 1 - выбор по строкам\n",
    "s_row_sum"
   ]
  },
  {
   "cell_type": "code",
   "execution_count": 184,
   "metadata": {
    "collapsed": false
   },
   "outputs": [
    {
     "data": {
      "text/html": [
       "<div>\n",
       "<table border=\"1\" class=\"dataframe\">\n",
       "  <thead>\n",
       "    <tr style=\"text-align: right;\">\n",
       "      <th></th>\n",
       "      <th>TotalByDevice</th>\n",
       "    </tr>\n",
       "  </thead>\n",
       "  <tbody>\n",
       "    <tr>\n",
       "      <th>TV</th>\n",
       "      <td>348</td>\n",
       "    </tr>\n",
       "    <tr>\n",
       "      <th>Smartphone</th>\n",
       "      <td>355</td>\n",
       "    </tr>\n",
       "    <tr>\n",
       "      <th>Pendrive</th>\n",
       "      <td>410</td>\n",
       "    </tr>\n",
       "  </tbody>\n",
       "</table>\n",
       "</div>"
      ],
      "text/plain": [
       "            TotalByDevice\n",
       "TV                    348\n",
       "Smartphone            355\n",
       "Pendrive              410"
      ]
     },
     "execution_count": 184,
     "metadata": {},
     "output_type": "execute_result"
    }
   ],
   "source": [
    "s_row_sum.name = \"TotalByDevice\"\n",
    "pnd.DataFrame(s_row_sum)"
   ]
  },
  {
   "cell_type": "code",
   "execution_count": 185,
   "metadata": {
    "collapsed": false
   },
   "outputs": [
    {
     "data": {
      "text/html": [
       "<div>\n",
       "<table border=\"1\" class=\"dataframe\">\n",
       "  <thead>\n",
       "    <tr style=\"text-align: right;\">\n",
       "      <th></th>\n",
       "      <th>Mon</th>\n",
       "      <th>Tue</th>\n",
       "      <th>Wed</th>\n",
       "      <th>Thu</th>\n",
       "      <th>Fri</th>\n",
       "      <th>Sat</th>\n",
       "      <th>Sun</th>\n",
       "      <th>Working_Days</th>\n",
       "    </tr>\n",
       "  </thead>\n",
       "  <tbody>\n",
       "    <tr>\n",
       "      <th>TV</th>\n",
       "      <td>24</td>\n",
       "      <td>94</td>\n",
       "      <td>85</td>\n",
       "      <td>14</td>\n",
       "      <td>20</td>\n",
       "      <td>95</td>\n",
       "      <td>16</td>\n",
       "      <td>237</td>\n",
       "    </tr>\n",
       "    <tr>\n",
       "      <th>Smartphone</th>\n",
       "      <td>5</td>\n",
       "      <td>74</td>\n",
       "      <td>7</td>\n",
       "      <td>95</td>\n",
       "      <td>91</td>\n",
       "      <td>80</td>\n",
       "      <td>3</td>\n",
       "      <td>272</td>\n",
       "    </tr>\n",
       "    <tr>\n",
       "      <th>Pendrive</th>\n",
       "      <td>65</td>\n",
       "      <td>93</td>\n",
       "      <td>6</td>\n",
       "      <td>27</td>\n",
       "      <td>75</td>\n",
       "      <td>79</td>\n",
       "      <td>65</td>\n",
       "      <td>266</td>\n",
       "    </tr>\n",
       "  </tbody>\n",
       "</table>\n",
       "</div>"
      ],
      "text/plain": [
       "            Mon  Tue  Wed  Thu  Fri  Sat  Sun  Working_Days\n",
       "TV           24   94   85   14   20   95   16           237\n",
       "Smartphone    5   74    7   95   91   80    3           272\n",
       "Pendrive     65   93    6   27   75   79   65           266"
      ]
     },
     "execution_count": 185,
     "metadata": {},
     "output_type": "execute_result"
    }
   ],
   "source": [
    "dfA[\"Working_Days\"] = dfA.apply(lambda x: x[0:5].sum(), axis=1)\n",
    "dfA"
   ]
  },
  {
   "cell_type": "code",
   "execution_count": 186,
   "metadata": {
    "collapsed": false
   },
   "outputs": [
    {
     "data": {
      "text/html": [
       "<div>\n",
       "<table border=\"1\" class=\"dataframe\">\n",
       "  <thead>\n",
       "    <tr style=\"text-align: right;\">\n",
       "      <th></th>\n",
       "      <th>Mon</th>\n",
       "      <th>Tue</th>\n",
       "      <th>Wed</th>\n",
       "      <th>Thu</th>\n",
       "      <th>Fri</th>\n",
       "      <th>Sat</th>\n",
       "      <th>Sun</th>\n",
       "      <th>Working_Days</th>\n",
       "      <th>Weekend</th>\n",
       "    </tr>\n",
       "  </thead>\n",
       "  <tbody>\n",
       "    <tr>\n",
       "      <th>TV</th>\n",
       "      <td>24</td>\n",
       "      <td>94</td>\n",
       "      <td>85</td>\n",
       "      <td>14</td>\n",
       "      <td>20</td>\n",
       "      <td>95</td>\n",
       "      <td>16</td>\n",
       "      <td>237</td>\n",
       "      <td>348</td>\n",
       "    </tr>\n",
       "    <tr>\n",
       "      <th>Smartphone</th>\n",
       "      <td>5</td>\n",
       "      <td>74</td>\n",
       "      <td>7</td>\n",
       "      <td>95</td>\n",
       "      <td>91</td>\n",
       "      <td>80</td>\n",
       "      <td>3</td>\n",
       "      <td>272</td>\n",
       "      <td>355</td>\n",
       "    </tr>\n",
       "    <tr>\n",
       "      <th>Pendrive</th>\n",
       "      <td>65</td>\n",
       "      <td>93</td>\n",
       "      <td>6</td>\n",
       "      <td>27</td>\n",
       "      <td>75</td>\n",
       "      <td>79</td>\n",
       "      <td>65</td>\n",
       "      <td>266</td>\n",
       "      <td>410</td>\n",
       "    </tr>\n",
       "  </tbody>\n",
       "</table>\n",
       "</div>"
      ],
      "text/plain": [
       "            Mon  Tue  Wed  Thu  Fri  Sat  Sun  Working_Days  Weekend\n",
       "TV           24   94   85   14   20   95   16           237      348\n",
       "Smartphone    5   74    7   95   91   80    3           272      355\n",
       "Pendrive     65   93    6   27   75   79   65           266      410"
      ]
     },
     "execution_count": 186,
     "metadata": {},
     "output_type": "execute_result"
    }
   ],
   "source": [
    "dfA[\"Weekend\"] = dfA.apply(lambda x: x[5:8].sum(), axis=1)\n",
    "dfA"
   ]
  },
  {
   "cell_type": "code",
   "execution_count": 187,
   "metadata": {
    "collapsed": true
   },
   "outputs": [],
   "source": [
    "#Удаление столбцов Working_Days и Weekend\n",
    "dfA.drop([\"Working_Days\",\"Weekend\"], axis=1, inplace=True)"
   ]
  },
  {
   "cell_type": "markdown",
   "metadata": {},
   "source": [
    "<p>Нормализация значений по строке через <i>apply</i></p>"
   ]
  },
  {
   "cell_type": "code",
   "execution_count": 188,
   "metadata": {
    "collapsed": false
   },
   "outputs": [
    {
     "data": {
      "text/html": [
       "<div>\n",
       "<table border=\"1\" class=\"dataframe\">\n",
       "  <thead>\n",
       "    <tr style=\"text-align: right;\">\n",
       "      <th></th>\n",
       "      <th>Mon</th>\n",
       "      <th>Tue</th>\n",
       "      <th>Wed</th>\n",
       "      <th>Thu</th>\n",
       "      <th>Fri</th>\n",
       "      <th>Sat</th>\n",
       "      <th>Sun</th>\n",
       "    </tr>\n",
       "  </thead>\n",
       "  <tbody>\n",
       "    <tr>\n",
       "      <th>TV</th>\n",
       "      <td>0.068966</td>\n",
       "      <td>0.270115</td>\n",
       "      <td>0.244253</td>\n",
       "      <td>0.040230</td>\n",
       "      <td>0.057471</td>\n",
       "      <td>0.272989</td>\n",
       "      <td>0.045977</td>\n",
       "    </tr>\n",
       "    <tr>\n",
       "      <th>Smartphone</th>\n",
       "      <td>0.014085</td>\n",
       "      <td>0.208451</td>\n",
       "      <td>0.019718</td>\n",
       "      <td>0.267606</td>\n",
       "      <td>0.256338</td>\n",
       "      <td>0.225352</td>\n",
       "      <td>0.008451</td>\n",
       "    </tr>\n",
       "    <tr>\n",
       "      <th>Pendrive</th>\n",
       "      <td>0.158537</td>\n",
       "      <td>0.226829</td>\n",
       "      <td>0.014634</td>\n",
       "      <td>0.065854</td>\n",
       "      <td>0.182927</td>\n",
       "      <td>0.192683</td>\n",
       "      <td>0.158537</td>\n",
       "    </tr>\n",
       "  </tbody>\n",
       "</table>\n",
       "</div>"
      ],
      "text/plain": [
       "                 Mon       Tue       Wed       Thu       Fri       Sat  \\\n",
       "TV          0.068966  0.270115  0.244253  0.040230  0.057471  0.272989   \n",
       "Smartphone  0.014085  0.208451  0.019718  0.267606  0.256338  0.225352   \n",
       "Pendrive    0.158537  0.226829  0.014634  0.065854  0.182927  0.192683   \n",
       "\n",
       "                 Sun  \n",
       "TV          0.045977  \n",
       "Smartphone  0.008451  \n",
       "Pendrive    0.158537  "
      ]
     },
     "execution_count": 188,
     "metadata": {},
     "output_type": "execute_result"
    }
   ],
   "source": [
    "dfA.apply(lambda x: x/x.sum(), axis=1)"
   ]
  },
  {
   "cell_type": "markdown",
   "metadata": {},
   "source": [
    "<p>Нормализация через дополнительную функцию</p>"
   ]
  },
  {
   "cell_type": "code",
   "execution_count": 189,
   "metadata": {
    "collapsed": false
   },
   "outputs": [
    {
     "data": {
      "text/html": [
       "<div>\n",
       "<table border=\"1\" class=\"dataframe\">\n",
       "  <thead>\n",
       "    <tr style=\"text-align: right;\">\n",
       "      <th></th>\n",
       "      <th>Mon</th>\n",
       "      <th>Tue</th>\n",
       "      <th>Wed</th>\n",
       "      <th>Thu</th>\n",
       "      <th>Fri</th>\n",
       "      <th>Sat</th>\n",
       "      <th>Sun</th>\n",
       "    </tr>\n",
       "  </thead>\n",
       "  <tbody>\n",
       "    <tr>\n",
       "      <th>TV</th>\n",
       "      <td>0.068966</td>\n",
       "      <td>0.270115</td>\n",
       "      <td>0.244253</td>\n",
       "      <td>0.040230</td>\n",
       "      <td>0.057471</td>\n",
       "      <td>0.272989</td>\n",
       "      <td>0.045977</td>\n",
       "    </tr>\n",
       "    <tr>\n",
       "      <th>Smartphone</th>\n",
       "      <td>0.014085</td>\n",
       "      <td>0.208451</td>\n",
       "      <td>0.019718</td>\n",
       "      <td>0.267606</td>\n",
       "      <td>0.256338</td>\n",
       "      <td>0.225352</td>\n",
       "      <td>0.008451</td>\n",
       "    </tr>\n",
       "    <tr>\n",
       "      <th>Pendrive</th>\n",
       "      <td>0.158537</td>\n",
       "      <td>0.226829</td>\n",
       "      <td>0.014634</td>\n",
       "      <td>0.065854</td>\n",
       "      <td>0.182927</td>\n",
       "      <td>0.192683</td>\n",
       "      <td>0.158537</td>\n",
       "    </tr>\n",
       "  </tbody>\n",
       "</table>\n",
       "</div>"
      ],
      "text/plain": [
       "                 Mon       Tue       Wed       Thu       Fri       Sat  \\\n",
       "TV          0.068966  0.270115  0.244253  0.040230  0.057471  0.272989   \n",
       "Smartphone  0.014085  0.208451  0.019718  0.267606  0.256338  0.225352   \n",
       "Pendrive    0.158537  0.226829  0.014634  0.065854  0.182927  0.192683   \n",
       "\n",
       "                 Sun  \n",
       "TV          0.045977  \n",
       "Smartphone  0.008451  \n",
       "Pendrive    0.158537  "
      ]
     },
     "execution_count": 189,
     "metadata": {},
     "output_type": "execute_result"
    }
   ],
   "source": [
    "def norm(row):\n",
    "    s = row.sum()\n",
    "    return [el/s for el in row] #или return row/s\n",
    "\n",
    "dfA.apply(norm, axis=1)"
   ]
  },
  {
   "cell_type": "markdown",
   "metadata": {},
   "source": [
    "<p>Применение метода <b>applymap()</b></p>"
   ]
  },
  {
   "cell_type": "code",
   "execution_count": 190,
   "metadata": {
    "collapsed": false
   },
   "outputs": [
    {
     "data": {
      "text/html": [
       "<div>\n",
       "<table border=\"1\" class=\"dataframe\">\n",
       "  <thead>\n",
       "    <tr style=\"text-align: right;\">\n",
       "      <th></th>\n",
       "      <th>Mon</th>\n",
       "      <th>Tue</th>\n",
       "      <th>Wed</th>\n",
       "      <th>Thu</th>\n",
       "      <th>Fri</th>\n",
       "      <th>Sat</th>\n",
       "      <th>Sun</th>\n",
       "    </tr>\n",
       "  </thead>\n",
       "  <tbody>\n",
       "    <tr>\n",
       "      <th>TV</th>\n",
       "      <td>24</td>\n",
       "      <td>94</td>\n",
       "      <td>85</td>\n",
       "      <td>14</td>\n",
       "      <td>20</td>\n",
       "      <td>95</td>\n",
       "      <td>16</td>\n",
       "    </tr>\n",
       "    <tr>\n",
       "      <th>Smartphone</th>\n",
       "      <td>5</td>\n",
       "      <td>74</td>\n",
       "      <td>7</td>\n",
       "      <td>95</td>\n",
       "      <td>91</td>\n",
       "      <td>80</td>\n",
       "      <td>3</td>\n",
       "    </tr>\n",
       "    <tr>\n",
       "      <th>Pendrive</th>\n",
       "      <td>65</td>\n",
       "      <td>93</td>\n",
       "      <td>6</td>\n",
       "      <td>27</td>\n",
       "      <td>75</td>\n",
       "      <td>79</td>\n",
       "      <td>65</td>\n",
       "    </tr>\n",
       "  </tbody>\n",
       "</table>\n",
       "</div>"
      ],
      "text/plain": [
       "            Mon  Tue  Wed  Thu  Fri  Sat  Sun\n",
       "TV           24   94   85   14   20   95   16\n",
       "Smartphone    5   74    7   95   91   80    3\n",
       "Pendrive     65   93    6   27   75   79   65"
      ]
     },
     "execution_count": 190,
     "metadata": {},
     "output_type": "execute_result"
    }
   ],
   "source": [
    "dfA"
   ]
  },
  {
   "cell_type": "code",
   "execution_count": 191,
   "metadata": {
    "collapsed": false
   },
   "outputs": [
    {
     "data": {
      "text/html": [
       "<div>\n",
       "<table border=\"1\" class=\"dataframe\">\n",
       "  <thead>\n",
       "    <tr style=\"text-align: right;\">\n",
       "      <th></th>\n",
       "      <th>Mon</th>\n",
       "      <th>Tue</th>\n",
       "      <th>Wed</th>\n",
       "      <th>Thu</th>\n",
       "      <th>Fri</th>\n",
       "      <th>Sat</th>\n",
       "      <th>Sun</th>\n",
       "    </tr>\n",
       "  </thead>\n",
       "  <tbody>\n",
       "    <tr>\n",
       "      <th>TV</th>\n",
       "      <td>0.24</td>\n",
       "      <td>0.94</td>\n",
       "      <td>0.85</td>\n",
       "      <td>0.14</td>\n",
       "      <td>0.20</td>\n",
       "      <td>0.95</td>\n",
       "      <td>0.16</td>\n",
       "    </tr>\n",
       "    <tr>\n",
       "      <th>Smartphone</th>\n",
       "      <td>0.05</td>\n",
       "      <td>0.74</td>\n",
       "      <td>0.07</td>\n",
       "      <td>0.95</td>\n",
       "      <td>0.91</td>\n",
       "      <td>0.80</td>\n",
       "      <td>0.03</td>\n",
       "    </tr>\n",
       "    <tr>\n",
       "      <th>Pendrive</th>\n",
       "      <td>0.65</td>\n",
       "      <td>0.93</td>\n",
       "      <td>0.06</td>\n",
       "      <td>0.27</td>\n",
       "      <td>0.75</td>\n",
       "      <td>0.79</td>\n",
       "      <td>0.65</td>\n",
       "    </tr>\n",
       "  </tbody>\n",
       "</table>\n",
       "</div>"
      ],
      "text/plain": [
       "             Mon   Tue   Wed   Thu   Fri   Sat   Sun\n",
       "TV          0.24  0.94  0.85  0.14  0.20  0.95  0.16\n",
       "Smartphone  0.05  0.74  0.07  0.95  0.91  0.80  0.03\n",
       "Pendrive    0.65  0.93  0.06  0.27  0.75  0.79  0.65"
      ]
     },
     "execution_count": 191,
     "metadata": {},
     "output_type": "execute_result"
    }
   ],
   "source": [
    "df4 = dfA.applymap(lambda cell: cell/100)\n",
    "df4"
   ]
  },
  {
   "cell_type": "markdown",
   "metadata": {},
   "source": [
    "<p>Изменение значений с использованием цикла</p>"
   ]
  },
  {
   "cell_type": "code",
   "execution_count": 192,
   "metadata": {
    "collapsed": false
   },
   "outputs": [
    {
     "data": {
      "text/html": [
       "<div>\n",
       "<table border=\"1\" class=\"dataframe\">\n",
       "  <thead>\n",
       "    <tr style=\"text-align: right;\">\n",
       "      <th></th>\n",
       "      <th>Mon</th>\n",
       "      <th>Tue</th>\n",
       "      <th>Wed</th>\n",
       "      <th>Thu</th>\n",
       "      <th>Fri</th>\n",
       "      <th>Sat</th>\n",
       "      <th>Sun</th>\n",
       "    </tr>\n",
       "  </thead>\n",
       "  <tbody>\n",
       "    <tr>\n",
       "      <th>TV</th>\n",
       "      <td>0.24</td>\n",
       "      <td>0.94</td>\n",
       "      <td>0.85</td>\n",
       "      <td>0.14</td>\n",
       "      <td>0.20</td>\n",
       "      <td>0.95</td>\n",
       "      <td>0.16</td>\n",
       "    </tr>\n",
       "    <tr>\n",
       "      <th>Smartphone</th>\n",
       "      <td>0.05</td>\n",
       "      <td>0.74</td>\n",
       "      <td>0.07</td>\n",
       "      <td>0.95</td>\n",
       "      <td>0.91</td>\n",
       "      <td>0.80</td>\n",
       "      <td>0.03</td>\n",
       "    </tr>\n",
       "    <tr>\n",
       "      <th>Pendrive</th>\n",
       "      <td>0.65</td>\n",
       "      <td>0.93</td>\n",
       "      <td>0.06</td>\n",
       "      <td>0.27</td>\n",
       "      <td>0.75</td>\n",
       "      <td>0.79</td>\n",
       "      <td>0.65</td>\n",
       "    </tr>\n",
       "  </tbody>\n",
       "</table>\n",
       "</div>"
      ],
      "text/plain": [
       "             Mon   Tue   Wed   Thu   Fri   Sat   Sun\n",
       "TV          0.24  0.94  0.85  0.14  0.20  0.95  0.16\n",
       "Smartphone  0.05  0.74  0.07  0.95  0.91  0.80  0.03\n",
       "Pendrive    0.65  0.93  0.06  0.27  0.75  0.79  0.65"
      ]
     },
     "execution_count": 192,
     "metadata": {},
     "output_type": "execute_result"
    }
   ],
   "source": [
    "df2 = pnd.DataFrame()\n",
    "for clmn in dfA.columns:\n",
    "    df2[clmn] = dfA.ix[:,clmn]/100\n",
    "\n",
    "df2"
   ]
  },
  {
   "cell_type": "markdown",
   "metadata": {},
   "source": [
    "<a name=\"4\"></a>\n",
    "<div style=\"display:table; width:100%; padding-top:10px; padding-bottom:10px; border-bottom:1px solid lightgrey\">\n",
    "    <div style=\"display:table-row\">\n",
    "        <div style=\"display:table-cell; width:80%; font-size:14pt; font-weight:bold\">4. Математическая поддержка</div>\n",
    "    \t<div style=\"display:table-cell; width:20%; text-align:center; background-color:whitesmoke; border:1px solid lightgrey\"><a href=\"#0\">К содержанию</a></div>\n",
    "    </div>\n",
    "</div>"
   ]
  },
  {
   "cell_type": "markdown",
   "metadata": {},
   "source": [
    "<div>\n",
    "<p><b>Рассматриваемые вопросы:</b></p>\n",
    "<p style=\"line-height:20pt\">\n",
    "a) операции со столбцами: <i>с использованием матрицы, списков, словаря, последовательностей</i><br> \n",
    "b) специалные методы: <i>count</i>, <i>min</i>, <i>max</i>, <i>sum</i>, <i>mean</i>, <i>var</i>, <i>std</i>, <i>describe</i>, <i>corr</i>, <i>cov</i><br> \n",
    "</div>"
   ]
  },
  {
   "cell_type": "markdown",
   "metadata": {},
   "source": [
    "<a name = \"4a\"></a>\n",
    "<div style=\"padding-top:10px;\">\n",
    "    <div style=\"display: inline-block; font-style:italic; font-weight:bold; font-size:12pt\">a. Операции со столбцами</div>\n",
    "    <div style=\"display: inline-block; float:right; width:20%; text-align:center; border:1px solid lightgrey\">\n",
    "        <div style=\"display: inline-block; text-align:center; width:50%; background-color:whitesmoke;\"><a href=\"#4\">Назад</a></div><div style=\"display: inline-block; text-align:center; width:50%;\"><a href=\"#4b\">Далее</a></div>\n",
    "    </div>\n",
    "</div>"
   ]
  },
  {
   "cell_type": "code",
   "execution_count": 193,
   "metadata": {
    "collapsed": false
   },
   "outputs": [
    {
     "data": {
      "text/html": [
       "<div>\n",
       "<table border=\"1\" class=\"dataframe\">\n",
       "  <thead>\n",
       "    <tr style=\"text-align: right;\">\n",
       "      <th></th>\n",
       "      <th>Mon</th>\n",
       "      <th>Tue</th>\n",
       "      <th>Wed</th>\n",
       "      <th>Thu</th>\n",
       "      <th>Fri</th>\n",
       "      <th>Sat</th>\n",
       "      <th>Sun</th>\n",
       "    </tr>\n",
       "  </thead>\n",
       "  <tbody>\n",
       "    <tr>\n",
       "      <th>TV</th>\n",
       "      <td>24</td>\n",
       "      <td>94</td>\n",
       "      <td>85</td>\n",
       "      <td>14</td>\n",
       "      <td>20</td>\n",
       "      <td>95</td>\n",
       "      <td>16</td>\n",
       "    </tr>\n",
       "    <tr>\n",
       "      <th>Smartphone</th>\n",
       "      <td>5</td>\n",
       "      <td>74</td>\n",
       "      <td>7</td>\n",
       "      <td>95</td>\n",
       "      <td>91</td>\n",
       "      <td>80</td>\n",
       "      <td>3</td>\n",
       "    </tr>\n",
       "    <tr>\n",
       "      <th>Pendrive</th>\n",
       "      <td>65</td>\n",
       "      <td>93</td>\n",
       "      <td>6</td>\n",
       "      <td>27</td>\n",
       "      <td>75</td>\n",
       "      <td>79</td>\n",
       "      <td>65</td>\n",
       "    </tr>\n",
       "  </tbody>\n",
       "</table>\n",
       "</div>"
      ],
      "text/plain": [
       "            Mon  Tue  Wed  Thu  Fri  Sat  Sun\n",
       "TV           24   94   85   14   20   95   16\n",
       "Smartphone    5   74    7   95   91   80    3\n",
       "Pendrive     65   93    6   27   75   79   65"
      ]
     },
     "execution_count": 193,
     "metadata": {},
     "output_type": "execute_result"
    }
   ],
   "source": [
    "dfA"
   ]
  },
  {
   "cell_type": "code",
   "execution_count": 194,
   "metadata": {
    "collapsed": false
   },
   "outputs": [
    {
     "data": {
      "text/plain": [
       "TV            0.24\n",
       "Smartphone    0.05\n",
       "Pendrive      0.65\n",
       "Name: Mon, dtype: float64"
      ]
     },
     "execution_count": 194,
     "metadata": {},
     "output_type": "execute_result"
    }
   ],
   "source": [
    "s_nomValues = dfA.Mon / 100\n",
    "s_nomValues"
   ]
  },
  {
   "cell_type": "code",
   "execution_count": 195,
   "metadata": {
    "collapsed": false
   },
   "outputs": [
    {
     "data": {
      "text/html": [
       "<div>\n",
       "<table border=\"1\" class=\"dataframe\">\n",
       "  <thead>\n",
       "    <tr style=\"text-align: right;\">\n",
       "      <th></th>\n",
       "      <th>Mon</th>\n",
       "      <th>Tue</th>\n",
       "      <th>Wed</th>\n",
       "      <th>Thu</th>\n",
       "      <th>Fri</th>\n",
       "      <th>Sat</th>\n",
       "      <th>Sun</th>\n",
       "    </tr>\n",
       "  </thead>\n",
       "  <tbody>\n",
       "    <tr>\n",
       "      <th>TV</th>\n",
       "      <td>34</td>\n",
       "      <td>94</td>\n",
       "      <td>85</td>\n",
       "      <td>14</td>\n",
       "      <td>20</td>\n",
       "      <td>95</td>\n",
       "      <td>16</td>\n",
       "    </tr>\n",
       "    <tr>\n",
       "      <th>Smartphone</th>\n",
       "      <td>15</td>\n",
       "      <td>74</td>\n",
       "      <td>7</td>\n",
       "      <td>95</td>\n",
       "      <td>91</td>\n",
       "      <td>80</td>\n",
       "      <td>3</td>\n",
       "    </tr>\n",
       "    <tr>\n",
       "      <th>Pendrive</th>\n",
       "      <td>75</td>\n",
       "      <td>93</td>\n",
       "      <td>6</td>\n",
       "      <td>27</td>\n",
       "      <td>75</td>\n",
       "      <td>79</td>\n",
       "      <td>65</td>\n",
       "    </tr>\n",
       "  </tbody>\n",
       "</table>\n",
       "</div>"
      ],
      "text/plain": [
       "            Mon  Tue  Wed  Thu  Fri  Sat  Sun\n",
       "TV           34   94   85   14   20   95   16\n",
       "Smartphone   15   74    7   95   91   80    3\n",
       "Pendrive     75   93    6   27   75   79   65"
      ]
     },
     "execution_count": 195,
     "metadata": {},
     "output_type": "execute_result"
    }
   ],
   "source": [
    "dfA.Mon = dfA.Mon + 10\n",
    "dfA"
   ]
  },
  {
   "cell_type": "code",
   "execution_count": 196,
   "metadata": {
    "collapsed": false
   },
   "outputs": [
    {
     "data": {
      "text/plain": [
       "TV            128\n",
       "Smartphone     89\n",
       "Pendrive      168\n",
       "dtype: int64"
      ]
     },
     "execution_count": 196,
     "metadata": {},
     "output_type": "execute_result"
    }
   ],
   "source": [
    "s_sumMonTue = dfA[\"Mon\"] + dfA[\"Tue\"]\n",
    "s_sumMonTue"
   ]
  },
  {
   "cell_type": "code",
   "execution_count": 197,
   "metadata": {
    "collapsed": false
   },
   "outputs": [
    {
     "data": {
      "text/plain": [
       "TV            3196\n",
       "Smartphone    1110\n",
       "Pendrive      6975\n",
       "dtype: int64"
      ]
     },
     "execution_count": 197,
     "metadata": {},
     "output_type": "execute_result"
    }
   ],
   "source": [
    "s_multMonTue = dfA[\"Mon\"] * dfA[\"Tue\"]\n",
    "s_multMonTue"
   ]
  },
  {
   "cell_type": "markdown",
   "metadata": {},
   "source": [
    "<p>Пример вычисления суммы по всем столбцам с циклом <i>for</i></p>"
   ]
  },
  {
   "cell_type": "code",
   "execution_count": 198,
   "metadata": {
    "collapsed": false
   },
   "outputs": [
    {
     "data": {
      "text/plain": [
       "Index(['Mon', 'Tue', 'Wed', 'Thu', 'Fri', 'Sat', 'Sun'], dtype='object')"
      ]
     },
     "execution_count": 198,
     "metadata": {},
     "output_type": "execute_result"
    }
   ],
   "source": [
    "dfA.columns"
   ]
  },
  {
   "cell_type": "code",
   "execution_count": 199,
   "metadata": {
    "collapsed": false
   },
   "outputs": [
    {
     "data": {
      "text/html": [
       "<div>\n",
       "<table border=\"1\" class=\"dataframe\">\n",
       "  <thead>\n",
       "    <tr style=\"text-align: right;\">\n",
       "      <th></th>\n",
       "      <th>Mon</th>\n",
       "      <th>Tue</th>\n",
       "      <th>Wed</th>\n",
       "      <th>Thu</th>\n",
       "      <th>Fri</th>\n",
       "      <th>Sat</th>\n",
       "      <th>Sun</th>\n",
       "      <th>Total</th>\n",
       "    </tr>\n",
       "  </thead>\n",
       "  <tbody>\n",
       "    <tr>\n",
       "      <th>TV</th>\n",
       "      <td>34</td>\n",
       "      <td>94</td>\n",
       "      <td>85</td>\n",
       "      <td>14</td>\n",
       "      <td>20</td>\n",
       "      <td>95</td>\n",
       "      <td>16</td>\n",
       "      <td>358</td>\n",
       "    </tr>\n",
       "    <tr>\n",
       "      <th>Smartphone</th>\n",
       "      <td>15</td>\n",
       "      <td>74</td>\n",
       "      <td>7</td>\n",
       "      <td>95</td>\n",
       "      <td>91</td>\n",
       "      <td>80</td>\n",
       "      <td>3</td>\n",
       "      <td>365</td>\n",
       "    </tr>\n",
       "    <tr>\n",
       "      <th>Pendrive</th>\n",
       "      <td>75</td>\n",
       "      <td>93</td>\n",
       "      <td>6</td>\n",
       "      <td>27</td>\n",
       "      <td>75</td>\n",
       "      <td>79</td>\n",
       "      <td>65</td>\n",
       "      <td>420</td>\n",
       "    </tr>\n",
       "  </tbody>\n",
       "</table>\n",
       "</div>"
      ],
      "text/plain": [
       "            Mon  Tue  Wed  Thu  Fri  Sat  Sun  Total\n",
       "TV           34   94   85   14   20   95   16    358\n",
       "Smartphone   15   74    7   95   91   80    3    365\n",
       "Pendrive     75   93    6   27   75   79   65    420"
      ]
     },
     "execution_count": 199,
     "metadata": {},
     "output_type": "execute_result"
    }
   ],
   "source": [
    "dfA[\"Total\"] = dfA[dfA.columns[0]]\n",
    "for i in range(1, len(dfA.columns)-1):\n",
    "    dfA[\"Total\"] += dfA[dfA.columns[i]]\n",
    "\n",
    "dfA"
   ]
  },
  {
   "cell_type": "code",
   "execution_count": 200,
   "metadata": {
    "collapsed": false
   },
   "outputs": [
    {
     "data": {
      "text/html": [
       "<div>\n",
       "<table border=\"1\" class=\"dataframe\">\n",
       "  <thead>\n",
       "    <tr style=\"text-align: right;\">\n",
       "      <th></th>\n",
       "      <th>Mon</th>\n",
       "      <th>Tue</th>\n",
       "      <th>Wed</th>\n",
       "      <th>Thu</th>\n",
       "      <th>Fri</th>\n",
       "      <th>Sat</th>\n",
       "      <th>Sun</th>\n",
       "    </tr>\n",
       "  </thead>\n",
       "  <tbody>\n",
       "    <tr>\n",
       "      <th>TV</th>\n",
       "      <td>34</td>\n",
       "      <td>94</td>\n",
       "      <td>85</td>\n",
       "      <td>14</td>\n",
       "      <td>20</td>\n",
       "      <td>95</td>\n",
       "      <td>16</td>\n",
       "    </tr>\n",
       "    <tr>\n",
       "      <th>Smartphone</th>\n",
       "      <td>15</td>\n",
       "      <td>74</td>\n",
       "      <td>7</td>\n",
       "      <td>95</td>\n",
       "      <td>91</td>\n",
       "      <td>80</td>\n",
       "      <td>3</td>\n",
       "    </tr>\n",
       "    <tr>\n",
       "      <th>Pendrive</th>\n",
       "      <td>75</td>\n",
       "      <td>93</td>\n",
       "      <td>6</td>\n",
       "      <td>27</td>\n",
       "      <td>75</td>\n",
       "      <td>79</td>\n",
       "      <td>65</td>\n",
       "    </tr>\n",
       "  </tbody>\n",
       "</table>\n",
       "</div>"
      ],
      "text/plain": [
       "            Mon  Tue  Wed  Thu  Fri  Sat  Sun\n",
       "TV           34   94   85   14   20   95   16\n",
       "Smartphone   15   74    7   95   91   80    3\n",
       "Pendrive     75   93    6   27   75   79   65"
      ]
     },
     "execution_count": 200,
     "metadata": {},
     "output_type": "execute_result"
    }
   ],
   "source": [
    "#Удаление столбца Total\n",
    "dfA.drop([\"Total\"], axis=1, inplace=True)\n",
    "dfA"
   ]
  },
  {
   "cell_type": "markdown",
   "metadata": {},
   "source": [
    "<p>Пример вычисления суммы по всем столбцам с использованием <i>apply</i></p>"
   ]
  },
  {
   "cell_type": "code",
   "execution_count": 201,
   "metadata": {
    "collapsed": false
   },
   "outputs": [
    {
     "data": {
      "text/html": [
       "<div>\n",
       "<table border=\"1\" class=\"dataframe\">\n",
       "  <thead>\n",
       "    <tr style=\"text-align: right;\">\n",
       "      <th></th>\n",
       "      <th>Mon</th>\n",
       "      <th>Tue</th>\n",
       "      <th>Wed</th>\n",
       "      <th>Thu</th>\n",
       "      <th>Fri</th>\n",
       "      <th>Sat</th>\n",
       "      <th>Sun</th>\n",
       "      <th>Total</th>\n",
       "    </tr>\n",
       "  </thead>\n",
       "  <tbody>\n",
       "    <tr>\n",
       "      <th>TV</th>\n",
       "      <td>34</td>\n",
       "      <td>94</td>\n",
       "      <td>85</td>\n",
       "      <td>14</td>\n",
       "      <td>20</td>\n",
       "      <td>95</td>\n",
       "      <td>16</td>\n",
       "      <td>358</td>\n",
       "    </tr>\n",
       "    <tr>\n",
       "      <th>Smartphone</th>\n",
       "      <td>15</td>\n",
       "      <td>74</td>\n",
       "      <td>7</td>\n",
       "      <td>95</td>\n",
       "      <td>91</td>\n",
       "      <td>80</td>\n",
       "      <td>3</td>\n",
       "      <td>365</td>\n",
       "    </tr>\n",
       "    <tr>\n",
       "      <th>Pendrive</th>\n",
       "      <td>75</td>\n",
       "      <td>93</td>\n",
       "      <td>6</td>\n",
       "      <td>27</td>\n",
       "      <td>75</td>\n",
       "      <td>79</td>\n",
       "      <td>65</td>\n",
       "      <td>420</td>\n",
       "    </tr>\n",
       "  </tbody>\n",
       "</table>\n",
       "</div>"
      ],
      "text/plain": [
       "            Mon  Tue  Wed  Thu  Fri  Sat  Sun  Total\n",
       "TV           34   94   85   14   20   95   16    358\n",
       "Smartphone   15   74    7   95   91   80    3    365\n",
       "Pendrive     75   93    6   27   75   79   65    420"
      ]
     },
     "execution_count": 201,
     "metadata": {},
     "output_type": "execute_result"
    }
   ],
   "source": [
    "dfA[\"Total\"] = dfA.apply(lambda row: row.sum(), axis = 1)\n",
    "dfA"
   ]
  },
  {
   "cell_type": "code",
   "execution_count": 202,
   "metadata": {
    "collapsed": false
   },
   "outputs": [],
   "source": [
    "dfA.drop([\"Total\"], axis=1, inplace=True)"
   ]
  },
  {
   "cell_type": "markdown",
   "metadata": {},
   "source": [
    "<p>Пример вычисления суммы по всем столбцам с использованием <i>sum</i></p>"
   ]
  },
  {
   "cell_type": "code",
   "execution_count": 203,
   "metadata": {
    "collapsed": false
   },
   "outputs": [
    {
     "data": {
      "text/html": [
       "<div>\n",
       "<table border=\"1\" class=\"dataframe\">\n",
       "  <thead>\n",
       "    <tr style=\"text-align: right;\">\n",
       "      <th></th>\n",
       "      <th>Mon</th>\n",
       "      <th>Tue</th>\n",
       "      <th>Wed</th>\n",
       "      <th>Thu</th>\n",
       "      <th>Fri</th>\n",
       "      <th>Sat</th>\n",
       "      <th>Sun</th>\n",
       "      <th>Total</th>\n",
       "    </tr>\n",
       "  </thead>\n",
       "  <tbody>\n",
       "    <tr>\n",
       "      <th>TV</th>\n",
       "      <td>34</td>\n",
       "      <td>94</td>\n",
       "      <td>85</td>\n",
       "      <td>14</td>\n",
       "      <td>20</td>\n",
       "      <td>95</td>\n",
       "      <td>16</td>\n",
       "      <td>358</td>\n",
       "    </tr>\n",
       "    <tr>\n",
       "      <th>Smartphone</th>\n",
       "      <td>15</td>\n",
       "      <td>74</td>\n",
       "      <td>7</td>\n",
       "      <td>95</td>\n",
       "      <td>91</td>\n",
       "      <td>80</td>\n",
       "      <td>3</td>\n",
       "      <td>365</td>\n",
       "    </tr>\n",
       "    <tr>\n",
       "      <th>Pendrive</th>\n",
       "      <td>75</td>\n",
       "      <td>93</td>\n",
       "      <td>6</td>\n",
       "      <td>27</td>\n",
       "      <td>75</td>\n",
       "      <td>79</td>\n",
       "      <td>65</td>\n",
       "      <td>420</td>\n",
       "    </tr>\n",
       "  </tbody>\n",
       "</table>\n",
       "</div>"
      ],
      "text/plain": [
       "            Mon  Tue  Wed  Thu  Fri  Sat  Sun  Total\n",
       "TV           34   94   85   14   20   95   16    358\n",
       "Smartphone   15   74    7   95   91   80    3    365\n",
       "Pendrive     75   93    6   27   75   79   65    420"
      ]
     },
     "execution_count": 203,
     "metadata": {},
     "output_type": "execute_result"
    }
   ],
   "source": [
    "dfA[\"Total\"] = dfA.sum(axis=1)\n",
    "dfA"
   ]
  },
  {
   "cell_type": "code",
   "execution_count": 204,
   "metadata": {
    "collapsed": true
   },
   "outputs": [],
   "source": [
    "dfA.drop([\"Total\"], axis=1, inplace=True)"
   ]
  },
  {
   "cell_type": "markdown",
   "metadata": {},
   "source": [
    "<a name = \"4b\"></a>\n",
    "<div style=\"padding-top:10px;\">\n",
    "    <div style=\"display: inline-block; font-style:italic; font-weight:bold; font-size:12pt\">b. Специальные методы</div>\n",
    "    <div style=\"display: inline-block; float:right; width:20%; text-align:center; border:1px solid lightgrey\">\n",
    "        <div style=\"display: inline-block; text-align:center; width:50%; background-color:whitesmoke;\"><a href=\"#4a\">Назад</a></div><div style=\"display: inline-block; text-align:center; width:50%;\"><a href=\"#5\">Далее</a></div>\n",
    "    </div>\n",
    "</div>"
   ]
  },
  {
   "cell_type": "code",
   "execution_count": 205,
   "metadata": {
    "collapsed": false
   },
   "outputs": [
    {
     "data": {
      "text/plain": [
       "Mon    3\n",
       "Tue    3\n",
       "Wed    3\n",
       "Thu    3\n",
       "Fri    3\n",
       "Sat    3\n",
       "Sun    3\n",
       "dtype: int64"
      ]
     },
     "execution_count": 205,
     "metadata": {},
     "output_type": "execute_result"
    }
   ],
   "source": [
    "dfA.count(axis=0)"
   ]
  },
  {
   "cell_type": "code",
   "execution_count": 206,
   "metadata": {
    "collapsed": false
   },
   "outputs": [
    {
     "data": {
      "text/plain": [
       "TV            7\n",
       "Smartphone    7\n",
       "Pendrive      7\n",
       "dtype: int64"
      ]
     },
     "execution_count": 206,
     "metadata": {},
     "output_type": "execute_result"
    }
   ],
   "source": [
    "dfA.count(axis=1)"
   ]
  },
  {
   "cell_type": "code",
   "execution_count": 207,
   "metadata": {
    "collapsed": false
   },
   "outputs": [
    {
     "data": {
      "text/plain": [
       "Mon    15\n",
       "Tue    74\n",
       "Wed     6\n",
       "Thu    14\n",
       "Fri    20\n",
       "Sat    79\n",
       "Sun     3\n",
       "dtype: int64"
      ]
     },
     "execution_count": 207,
     "metadata": {},
     "output_type": "execute_result"
    }
   ],
   "source": [
    "dfA.min(axis=0)"
   ]
  },
  {
   "cell_type": "code",
   "execution_count": 208,
   "metadata": {
    "collapsed": false
   },
   "outputs": [
    {
     "data": {
      "text/plain": [
       "TV            14\n",
       "Smartphone     3\n",
       "Pendrive       6\n",
       "dtype: int64"
      ]
     },
     "execution_count": 208,
     "metadata": {},
     "output_type": "execute_result"
    }
   ],
   "source": [
    "dfA.min(axis=1)"
   ]
  },
  {
   "cell_type": "code",
   "execution_count": 209,
   "metadata": {
    "collapsed": false
   },
   "outputs": [
    {
     "data": {
      "text/plain": [
       "15"
      ]
     },
     "execution_count": 209,
     "metadata": {},
     "output_type": "execute_result"
    }
   ],
   "source": [
    "dfA[\"Mon\"].min()"
   ]
  },
  {
   "cell_type": "code",
   "execution_count": 210,
   "metadata": {
    "collapsed": false
   },
   "outputs": [
    {
     "data": {
      "text/plain": [
       "'Smartphone'"
      ]
     },
     "execution_count": 210,
     "metadata": {},
     "output_type": "execute_result"
    }
   ],
   "source": [
    "dfA[\"Mon\"].argmin()"
   ]
  },
  {
   "cell_type": "code",
   "execution_count": 211,
   "metadata": {
    "collapsed": false
   },
   "outputs": [
    {
     "data": {
      "text/plain": [
       "Mon    75\n",
       "Tue    94\n",
       "Wed    85\n",
       "Thu    95\n",
       "Fri    91\n",
       "Sat    95\n",
       "Sun    65\n",
       "dtype: int64"
      ]
     },
     "execution_count": 211,
     "metadata": {},
     "output_type": "execute_result"
    }
   ],
   "source": [
    "dfA.max(axis=0)"
   ]
  },
  {
   "cell_type": "code",
   "execution_count": 212,
   "metadata": {
    "collapsed": false
   },
   "outputs": [
    {
     "data": {
      "text/plain": [
       "TV            95\n",
       "Smartphone    95\n",
       "Pendrive      93\n",
       "dtype: int64"
      ]
     },
     "execution_count": 212,
     "metadata": {},
     "output_type": "execute_result"
    }
   ],
   "source": [
    "dfA.max(axis=1)"
   ]
  },
  {
   "cell_type": "code",
   "execution_count": 213,
   "metadata": {
    "collapsed": false
   },
   "outputs": [
    {
     "data": {
      "text/plain": [
       "'Pendrive'"
      ]
     },
     "execution_count": 213,
     "metadata": {},
     "output_type": "execute_result"
    }
   ],
   "source": [
    "dfA[\"Mon\"].argmax()"
   ]
  },
  {
   "cell_type": "code",
   "execution_count": 214,
   "metadata": {
    "collapsed": false
   },
   "outputs": [
    {
     "data": {
      "text/plain": [
       "Mon    124\n",
       "Tue    261\n",
       "Wed     98\n",
       "Thu    136\n",
       "Fri    186\n",
       "Sat    254\n",
       "Sun     84\n",
       "dtype: int64"
      ]
     },
     "execution_count": 214,
     "metadata": {},
     "output_type": "execute_result"
    }
   ],
   "source": [
    "dfA.sum(axis=0)"
   ]
  },
  {
   "cell_type": "code",
   "execution_count": 215,
   "metadata": {
    "collapsed": false
   },
   "outputs": [
    {
     "data": {
      "text/plain": [
       "TV            358\n",
       "Smartphone    365\n",
       "Pendrive      420\n",
       "dtype: int64"
      ]
     },
     "execution_count": 215,
     "metadata": {},
     "output_type": "execute_result"
    }
   ],
   "source": [
    "dfA.sum(axis=1)"
   ]
  },
  {
   "cell_type": "code",
   "execution_count": 216,
   "metadata": {
    "collapsed": false
   },
   "outputs": [
    {
     "data": {
      "text/plain": [
       "124"
      ]
     },
     "execution_count": 216,
     "metadata": {},
     "output_type": "execute_result"
    }
   ],
   "source": [
    "dfA[\"Mon\"].sum()"
   ]
  },
  {
   "cell_type": "code",
   "execution_count": 217,
   "metadata": {
    "collapsed": false
   },
   "outputs": [
    {
     "data": {
      "text/plain": [
       "Mon    41.333333\n",
       "Tue    87.000000\n",
       "Wed    32.666667\n",
       "Thu    45.333333\n",
       "Fri    62.000000\n",
       "Sat    84.666667\n",
       "Sun    28.000000\n",
       "dtype: float64"
      ]
     },
     "execution_count": 217,
     "metadata": {},
     "output_type": "execute_result"
    }
   ],
   "source": [
    "dfA.mean(axis=0)"
   ]
  },
  {
   "cell_type": "code",
   "execution_count": 218,
   "metadata": {
    "collapsed": false
   },
   "outputs": [
    {
     "data": {
      "text/plain": [
       "TV            51.142857\n",
       "Smartphone    52.142857\n",
       "Pendrive      60.000000\n",
       "dtype: float64"
      ]
     },
     "execution_count": 218,
     "metadata": {},
     "output_type": "execute_result"
    }
   ],
   "source": [
    "dfA.mean(axis=1)"
   ]
  },
  {
   "cell_type": "code",
   "execution_count": 219,
   "metadata": {
    "collapsed": false
   },
   "outputs": [
    {
     "data": {
      "text/plain": [
       "41.333333333333336"
      ]
     },
     "execution_count": 219,
     "metadata": {},
     "output_type": "execute_result"
    }
   ],
   "source": [
    "dfA[\"Mon\"].mean()"
   ]
  },
  {
   "cell_type": "code",
   "execution_count": 220,
   "metadata": {
    "collapsed": false
   },
   "outputs": [
    {
     "data": {
      "text/plain": [
       "Mon     940.333333\n",
       "Tue     127.000000\n",
       "Wed    2054.333333\n",
       "Thu    1892.333333\n",
       "Fri    1387.000000\n",
       "Sat      80.333333\n",
       "Sun    1069.000000\n",
       "dtype: float64"
      ]
     },
     "execution_count": 220,
     "metadata": {},
     "output_type": "execute_result"
    }
   ],
   "source": [
    "dfA.var(axis=0)"
   ]
  },
  {
   "cell_type": "code",
   "execution_count": 221,
   "metadata": {
    "collapsed": false
   },
   "outputs": [
    {
     "data": {
      "text/plain": [
       "TV            1464.142857\n",
       "Smartphone    1738.809524\n",
       "Pendrive       988.333333\n",
       "dtype: float64"
      ]
     },
     "execution_count": 221,
     "metadata": {},
     "output_type": "execute_result"
    }
   ],
   "source": [
    "dfA.var(axis=1)"
   ]
  },
  {
   "cell_type": "code",
   "execution_count": 222,
   "metadata": {
    "collapsed": false
   },
   "outputs": [
    {
     "data": {
      "text/plain": [
       "TV            38.264120\n",
       "Smartphone    41.699035\n",
       "Pendrive      31.437769\n",
       "dtype: float64"
      ]
     },
     "execution_count": 222,
     "metadata": {},
     "output_type": "execute_result"
    }
   ],
   "source": [
    "dfA.std(axis=1)"
   ]
  },
  {
   "cell_type": "code",
   "execution_count": 223,
   "metadata": {
    "collapsed": false
   },
   "outputs": [
    {
     "data": {
      "text/plain": [
       "30.6648550189518"
      ]
     },
     "execution_count": 223,
     "metadata": {},
     "output_type": "execute_result"
    }
   ],
   "source": [
    "dfA[\"Mon\"].std()"
   ]
  },
  {
   "cell_type": "code",
   "execution_count": 224,
   "metadata": {
    "collapsed": false
   },
   "outputs": [
    {
     "data": {
      "text/html": [
       "<div>\n",
       "<table border=\"1\" class=\"dataframe\">\n",
       "  <thead>\n",
       "    <tr style=\"text-align: right;\">\n",
       "      <th></th>\n",
       "      <th>Mon</th>\n",
       "      <th>Tue</th>\n",
       "      <th>Wed</th>\n",
       "      <th>Thu</th>\n",
       "      <th>Fri</th>\n",
       "      <th>Sat</th>\n",
       "      <th>Sun</th>\n",
       "    </tr>\n",
       "  </thead>\n",
       "  <tbody>\n",
       "    <tr>\n",
       "      <th>count</th>\n",
       "      <td>3.000000</td>\n",
       "      <td>3.000000</td>\n",
       "      <td>3.000000</td>\n",
       "      <td>3.000000</td>\n",
       "      <td>3.000000</td>\n",
       "      <td>3.000000</td>\n",
       "      <td>3.000000</td>\n",
       "    </tr>\n",
       "    <tr>\n",
       "      <th>mean</th>\n",
       "      <td>41.333333</td>\n",
       "      <td>87.000000</td>\n",
       "      <td>32.666667</td>\n",
       "      <td>45.333333</td>\n",
       "      <td>62.000000</td>\n",
       "      <td>84.666667</td>\n",
       "      <td>28.000000</td>\n",
       "    </tr>\n",
       "    <tr>\n",
       "      <th>std</th>\n",
       "      <td>30.664855</td>\n",
       "      <td>11.269428</td>\n",
       "      <td>45.324754</td>\n",
       "      <td>43.500958</td>\n",
       "      <td>37.242449</td>\n",
       "      <td>8.962886</td>\n",
       "      <td>32.695565</td>\n",
       "    </tr>\n",
       "    <tr>\n",
       "      <th>min</th>\n",
       "      <td>15.000000</td>\n",
       "      <td>74.000000</td>\n",
       "      <td>6.000000</td>\n",
       "      <td>14.000000</td>\n",
       "      <td>20.000000</td>\n",
       "      <td>79.000000</td>\n",
       "      <td>3.000000</td>\n",
       "    </tr>\n",
       "    <tr>\n",
       "      <th>25%</th>\n",
       "      <td>24.500000</td>\n",
       "      <td>83.500000</td>\n",
       "      <td>6.500000</td>\n",
       "      <td>20.500000</td>\n",
       "      <td>47.500000</td>\n",
       "      <td>79.500000</td>\n",
       "      <td>9.500000</td>\n",
       "    </tr>\n",
       "    <tr>\n",
       "      <th>50%</th>\n",
       "      <td>34.000000</td>\n",
       "      <td>93.000000</td>\n",
       "      <td>7.000000</td>\n",
       "      <td>27.000000</td>\n",
       "      <td>75.000000</td>\n",
       "      <td>80.000000</td>\n",
       "      <td>16.000000</td>\n",
       "    </tr>\n",
       "    <tr>\n",
       "      <th>75%</th>\n",
       "      <td>54.500000</td>\n",
       "      <td>93.500000</td>\n",
       "      <td>46.000000</td>\n",
       "      <td>61.000000</td>\n",
       "      <td>83.000000</td>\n",
       "      <td>87.500000</td>\n",
       "      <td>40.500000</td>\n",
       "    </tr>\n",
       "    <tr>\n",
       "      <th>max</th>\n",
       "      <td>75.000000</td>\n",
       "      <td>94.000000</td>\n",
       "      <td>85.000000</td>\n",
       "      <td>95.000000</td>\n",
       "      <td>91.000000</td>\n",
       "      <td>95.000000</td>\n",
       "      <td>65.000000</td>\n",
       "    </tr>\n",
       "  </tbody>\n",
       "</table>\n",
       "</div>"
      ],
      "text/plain": [
       "             Mon        Tue        Wed        Thu        Fri        Sat  \\\n",
       "count   3.000000   3.000000   3.000000   3.000000   3.000000   3.000000   \n",
       "mean   41.333333  87.000000  32.666667  45.333333  62.000000  84.666667   \n",
       "std    30.664855  11.269428  45.324754  43.500958  37.242449   8.962886   \n",
       "min    15.000000  74.000000   6.000000  14.000000  20.000000  79.000000   \n",
       "25%    24.500000  83.500000   6.500000  20.500000  47.500000  79.500000   \n",
       "50%    34.000000  93.000000   7.000000  27.000000  75.000000  80.000000   \n",
       "75%    54.500000  93.500000  46.000000  61.000000  83.000000  87.500000   \n",
       "max    75.000000  94.000000  85.000000  95.000000  91.000000  95.000000   \n",
       "\n",
       "             Sun  \n",
       "count   3.000000  \n",
       "mean   28.000000  \n",
       "std    32.695565  \n",
       "min     3.000000  \n",
       "25%     9.500000  \n",
       "50%    16.000000  \n",
       "75%    40.500000  \n",
       "max    65.000000  "
      ]
     },
     "execution_count": 224,
     "metadata": {},
     "output_type": "execute_result"
    }
   ],
   "source": [
    "dfA.describe()"
   ]
  },
  {
   "cell_type": "code",
   "execution_count": 225,
   "metadata": {
    "collapsed": false
   },
   "outputs": [
    {
     "data": {
      "text/plain": [
       "count     3.000000\n",
       "mean     41.333333\n",
       "std      30.664855\n",
       "min      15.000000\n",
       "25%      24.500000\n",
       "50%      34.000000\n",
       "75%      54.500000\n",
       "max      75.000000\n",
       "Name: Mon, dtype: float64"
      ]
     },
     "execution_count": 225,
     "metadata": {},
     "output_type": "execute_result"
    }
   ],
   "source": [
    "dfA[\"Mon\"].describe()"
   ]
  },
  {
   "cell_type": "code",
   "execution_count": 226,
   "metadata": {
    "collapsed": false
   },
   "outputs": [
    {
     "data": {
      "text/html": [
       "<div>\n",
       "<table border=\"1\" class=\"dataframe\">\n",
       "  <thead>\n",
       "    <tr style=\"text-align: right;\">\n",
       "      <th></th>\n",
       "      <th>Mon</th>\n",
       "      <th>Tue</th>\n",
       "      <th>Wed</th>\n",
       "      <th>Thu</th>\n",
       "      <th>Fri</th>\n",
       "      <th>Sat</th>\n",
       "      <th>Sun</th>\n",
       "    </tr>\n",
       "  </thead>\n",
       "  <tbody>\n",
       "    <tr>\n",
       "      <th>Mon</th>\n",
       "      <td>1.000000</td>\n",
       "      <td>0.713303</td>\n",
       "      <td>-0.217885</td>\n",
       "      <td>-0.635456</td>\n",
       "      <td>-0.007881</td>\n",
       "      <td>-0.261359</td>\n",
       "      <td>0.993412</td>\n",
       "    </tr>\n",
       "    <tr>\n",
       "      <th>Tue</th>\n",
       "      <td>0.713303</td>\n",
       "      <td>1.000000</td>\n",
       "      <td>0.528599</td>\n",
       "      <td>-0.994429</td>\n",
       "      <td>-0.706455</td>\n",
       "      <td>0.490067</td>\n",
       "      <td>0.628290</td>\n",
       "    </tr>\n",
       "    <tr>\n",
       "      <th>Wed</th>\n",
       "      <td>-0.217885</td>\n",
       "      <td>0.528599</td>\n",
       "      <td>1.000000</td>\n",
       "      <td>-0.615130</td>\n",
       "      <td>-0.974227</td>\n",
       "      <td>0.998997</td>\n",
       "      <td>-0.328291</td>\n",
       "    </tr>\n",
       "    <tr>\n",
       "      <th>Thu</th>\n",
       "      <td>-0.635456</td>\n",
       "      <td>-0.994429</td>\n",
       "      <td>-0.615130</td>\n",
       "      <td>1.000000</td>\n",
       "      <td>0.777121</td>\n",
       "      <td>-0.579217</td>\n",
       "      <td>-0.542787</td>\n",
       "    </tr>\n",
       "    <tr>\n",
       "      <th>Fri</th>\n",
       "      <td>-0.007881</td>\n",
       "      <td>-0.706455</td>\n",
       "      <td>-0.974227</td>\n",
       "      <td>0.777121</td>\n",
       "      <td>1.000000</td>\n",
       "      <td>-0.963152</td>\n",
       "      <td>0.106762</td>\n",
       "    </tr>\n",
       "    <tr>\n",
       "      <th>Sat</th>\n",
       "      <td>-0.261359</td>\n",
       "      <td>0.490067</td>\n",
       "      <td>0.998997</td>\n",
       "      <td>-0.579217</td>\n",
       "      <td>-0.963152</td>\n",
       "      <td>1.000000</td>\n",
       "      <td>-0.370248</td>\n",
       "    </tr>\n",
       "    <tr>\n",
       "      <th>Sun</th>\n",
       "      <td>0.993412</td>\n",
       "      <td>0.628290</td>\n",
       "      <td>-0.328291</td>\n",
       "      <td>-0.542787</td>\n",
       "      <td>0.106762</td>\n",
       "      <td>-0.370248</td>\n",
       "      <td>1.000000</td>\n",
       "    </tr>\n",
       "  </tbody>\n",
       "</table>\n",
       "</div>"
      ],
      "text/plain": [
       "          Mon       Tue       Wed       Thu       Fri       Sat       Sun\n",
       "Mon  1.000000  0.713303 -0.217885 -0.635456 -0.007881 -0.261359  0.993412\n",
       "Tue  0.713303  1.000000  0.528599 -0.994429 -0.706455  0.490067  0.628290\n",
       "Wed -0.217885  0.528599  1.000000 -0.615130 -0.974227  0.998997 -0.328291\n",
       "Thu -0.635456 -0.994429 -0.615130  1.000000  0.777121 -0.579217 -0.542787\n",
       "Fri -0.007881 -0.706455 -0.974227  0.777121  1.000000 -0.963152  0.106762\n",
       "Sat -0.261359  0.490067  0.998997 -0.579217 -0.963152  1.000000 -0.370248\n",
       "Sun  0.993412  0.628290 -0.328291 -0.542787  0.106762 -0.370248  1.000000"
      ]
     },
     "execution_count": 226,
     "metadata": {},
     "output_type": "execute_result"
    }
   ],
   "source": [
    "dfA.corr()"
   ]
  },
  {
   "cell_type": "code",
   "execution_count": 227,
   "metadata": {
    "collapsed": false
   },
   "outputs": [
    {
     "data": {
      "text/html": [
       "<div>\n",
       "<table border=\"1\" class=\"dataframe\">\n",
       "  <thead>\n",
       "    <tr style=\"text-align: right;\">\n",
       "      <th></th>\n",
       "      <th>Mon</th>\n",
       "      <th>Tue</th>\n",
       "      <th>Wed</th>\n",
       "      <th>Thu</th>\n",
       "      <th>Fri</th>\n",
       "      <th>Sat</th>\n",
       "      <th>Sun</th>\n",
       "    </tr>\n",
       "  </thead>\n",
       "  <tbody>\n",
       "    <tr>\n",
       "      <th>Mon</th>\n",
       "      <td>940.333333</td>\n",
       "      <td>246.5</td>\n",
       "      <td>-302.833333</td>\n",
       "      <td>-847.666667</td>\n",
       "      <td>-9.0</td>\n",
       "      <td>-71.833333</td>\n",
       "      <td>996.0</td>\n",
       "    </tr>\n",
       "    <tr>\n",
       "      <th>Tue</th>\n",
       "      <td>246.500000</td>\n",
       "      <td>127.0</td>\n",
       "      <td>270.000000</td>\n",
       "      <td>-487.500000</td>\n",
       "      <td>-296.5</td>\n",
       "      <td>49.500000</td>\n",
       "      <td>231.5</td>\n",
       "    </tr>\n",
       "    <tr>\n",
       "      <th>Wed</th>\n",
       "      <td>-302.833333</td>\n",
       "      <td>270.0</td>\n",
       "      <td>2054.333333</td>\n",
       "      <td>-1212.833333</td>\n",
       "      <td>-1644.5</td>\n",
       "      <td>405.833333</td>\n",
       "      <td>-486.5</td>\n",
       "    </tr>\n",
       "    <tr>\n",
       "      <th>Thu</th>\n",
       "      <td>-847.666667</td>\n",
       "      <td>-487.5</td>\n",
       "      <td>-1212.833333</td>\n",
       "      <td>1892.333333</td>\n",
       "      <td>1259.0</td>\n",
       "      <td>-225.833333</td>\n",
       "      <td>-772.0</td>\n",
       "    </tr>\n",
       "    <tr>\n",
       "      <th>Fri</th>\n",
       "      <td>-9.000000</td>\n",
       "      <td>-296.5</td>\n",
       "      <td>-1644.500000</td>\n",
       "      <td>1259.000000</td>\n",
       "      <td>1387.0</td>\n",
       "      <td>-321.500000</td>\n",
       "      <td>130.0</td>\n",
       "    </tr>\n",
       "    <tr>\n",
       "      <th>Sat</th>\n",
       "      <td>-71.833333</td>\n",
       "      <td>49.5</td>\n",
       "      <td>405.833333</td>\n",
       "      <td>-225.833333</td>\n",
       "      <td>-321.5</td>\n",
       "      <td>80.333333</td>\n",
       "      <td>-108.5</td>\n",
       "    </tr>\n",
       "    <tr>\n",
       "      <th>Sun</th>\n",
       "      <td>996.000000</td>\n",
       "      <td>231.5</td>\n",
       "      <td>-486.500000</td>\n",
       "      <td>-772.000000</td>\n",
       "      <td>130.0</td>\n",
       "      <td>-108.500000</td>\n",
       "      <td>1069.0</td>\n",
       "    </tr>\n",
       "  </tbody>\n",
       "</table>\n",
       "</div>"
      ],
      "text/plain": [
       "            Mon    Tue          Wed          Thu     Fri         Sat     Sun\n",
       "Mon  940.333333  246.5  -302.833333  -847.666667    -9.0  -71.833333   996.0\n",
       "Tue  246.500000  127.0   270.000000  -487.500000  -296.5   49.500000   231.5\n",
       "Wed -302.833333  270.0  2054.333333 -1212.833333 -1644.5  405.833333  -486.5\n",
       "Thu -847.666667 -487.5 -1212.833333  1892.333333  1259.0 -225.833333  -772.0\n",
       "Fri   -9.000000 -296.5 -1644.500000  1259.000000  1387.0 -321.500000   130.0\n",
       "Sat  -71.833333   49.5   405.833333  -225.833333  -321.5   80.333333  -108.5\n",
       "Sun  996.000000  231.5  -486.500000  -772.000000   130.0 -108.500000  1069.0"
      ]
     },
     "execution_count": 227,
     "metadata": {},
     "output_type": "execute_result"
    }
   ],
   "source": [
    "dfA.cov()"
   ]
  },
  {
   "cell_type": "markdown",
   "metadata": {},
   "source": [
    "<a name=\"5\"></a>\n",
    "<div style=\"display:table; width:100%; padding-top:10px; padding-bottom:10px; border-bottom:1px solid lightgrey\">\n",
    "    <div style=\"display:table-row\">\n",
    "        <div style=\"display:table-cell; width:80%; font-size:14pt; font-weight:bold\">5. Визуализация данных</div>\n",
    "    \t<div style=\"display:table-cell; width:20%; text-align:center; background-color:whitesmoke; border:1px solid lightgrey\"><a href=\"#0\">К содержанию</a></div>\n",
    "    </div>\n",
    "</div>"
   ]
  },
  {
   "cell_type": "markdown",
   "metadata": {},
   "source": [
    "<div>\n",
    "<p><b>Рассматриваемые вопросы:</b></p>\n",
    "<p style=\"line-height:20pt\">\n",
    "a) построение графиков (plot)</i><br> \n",
    "b) построение гистограмм<br> \n",
    "</p>\n",
    "</div>"
   ]
  },
  {
   "cell_type": "markdown",
   "metadata": {},
   "source": [
    "<a name = \"5a\"></a>\n",
    "<div style=\"padding-top:10px;\">\n",
    "    <div style=\"display: inline-block; font-style:italic; font-weight:bold; font-size:12pt\">a. График (plot)</div>\n",
    "    <div style=\"display: inline-block; float:right; width:20%; text-align:center; border:1px solid lightgrey\">\n",
    "        <div style=\"display: inline-block; text-align:center; width:50%; background-color:whitesmoke;\"><a href=\"#5\">Назад</a></div><div style=\"display: inline-block; text-align:center; width:50%;\"><a href=\"#5b\">Далее</a></div>\n",
    "    </div>\n",
    "</div>"
   ]
  },
  {
   "cell_type": "code",
   "execution_count": 228,
   "metadata": {
    "collapsed": false,
    "scrolled": true
   },
   "outputs": [
    {
     "data": {
      "text/plain": [
       "<matplotlib.axes._subplots.AxesSubplot at 0x7f110e29deb8>"
      ]
     },
     "execution_count": 228,
     "metadata": {},
     "output_type": "execute_result"
    },
    {
     "data": {
      "image/png": "[encoded data removed]",
      "text/plain": [
       "<matplotlib.figure.Figure at 0x7f11126165f8>"
      ]
     },
     "metadata": {},
     "output_type": "display_data"
    }
   ],
   "source": [
    "%matplotlib inline\n",
    "dfA.T.plot()"
   ]
  },
  {
   "cell_type": "code",
   "execution_count": 229,
   "metadata": {
    "collapsed": false
   },
   "outputs": [
    {
     "data": {
      "text/plain": [
       "<matplotlib.text.Text at 0x7f110e196198>"
      ]
     },
     "execution_count": 229,
     "metadata": {},
     "output_type": "execute_result"
    },
    {
     "data": {
      "image/png": "[encoded data removed]",
      "text/plain": [
       "<matplotlib.figure.Figure at 0x7f110e2501d0>"
      ]
     },
     "metadata": {},
     "output_type": "display_data"
    }
   ],
   "source": [
    "pl = dfA.loc[\"TV\",:].plot(title=\"TV\")\n",
    "pl.set_xlabel(\"Day of the Week\")\n",
    "pl.set_ylabel(\"Count\")"
   ]
  },
  {
   "cell_type": "markdown",
   "metadata": {},
   "source": [
    "<a name = \"5b\"></a>\n",
    "<div style=\"padding-top:10px;\">\n",
    "    <div style=\"display: inline-block; font-style:italic; font-weight:bold; font-size:12pt\">b. Гистограмма</div>\n",
    "    <div style=\"display: inline-block; float:right; width:20%; text-align:center; border:1px solid lightgrey\">\n",
    "        <div style=\"display: inline-block; text-align:center; width:50%; background-color:whitesmoke;\"><a href=\"#5a\">Назад</a></div><div style=\"display: inline-block; text-align:center; width:50%;\"><a href=\"#6\">Далее</a></div>\n",
    "    </div>\n",
    "</div>"
   ]
  },
  {
   "cell_type": "code",
   "execution_count": 230,
   "metadata": {
    "collapsed": false
   },
   "outputs": [
    {
     "data": {
      "text/plain": [
       "array([[<matplotlib.axes._subplots.AxesSubplot object at 0x7f110e19d588>,\n",
       "        <matplotlib.axes._subplots.AxesSubplot object at 0x7f110e133d68>,\n",
       "        <matplotlib.axes._subplots.AxesSubplot object at 0x7f110e103780>],\n",
       "       [<matplotlib.axes._subplots.AxesSubplot object at 0x7f110e0bdda0>,\n",
       "        <matplotlib.axes._subplots.AxesSubplot object at 0x7f110e011550>,\n",
       "        <matplotlib.axes._subplots.AxesSubplot object at 0x7f110e047be0>],\n",
       "       [<matplotlib.axes._subplots.AxesSubplot object at 0x7f110df90d30>,\n",
       "        <matplotlib.axes._subplots.AxesSubplot object at 0x7f110dfa8f60>,\n",
       "        <matplotlib.axes._subplots.AxesSubplot object at 0x7f110df1bb70>]], dtype=object)"
      ]
     },
     "execution_count": 230,
     "metadata": {},
     "output_type": "execute_result"
    },
    {
     "data": {
      "image/png": "[encoded data removed]",
      "text/plain": [
       "<matplotlib.figure.Figure at 0x7f110e1a8208>"
      ]
     },
     "metadata": {},
     "output_type": "display_data"
    }
   ],
   "source": [
    "dfA.hist(bins = 4)"
   ]
  },
  {
   "cell_type": "code",
   "execution_count": 231,
   "metadata": {
    "collapsed": false
   },
   "outputs": [
    {
     "data": {
      "text/plain": [
       "array([[<matplotlib.axes._subplots.AxesSubplot object at 0x7f110e00a5f8>,\n",
       "        <matplotlib.axes._subplots.AxesSubplot object at 0x7f110dd57390>],\n",
       "       [<matplotlib.axes._subplots.AxesSubplot object at 0x7f110dd20d68>,\n",
       "        <matplotlib.axes._subplots.AxesSubplot object at 0x7f110dcdc908>]], dtype=object)"
      ]
     },
     "execution_count": 231,
     "metadata": {},
     "output_type": "execute_result"
    },
    {
     "data": {
      "image/png": "[encoded data removed]",
      "text/plain": [
       "<matplotlib.figure.Figure at 0x7f110de3b1d0>"
      ]
     },
     "metadata": {},
     "output_type": "display_data"
    }
   ],
   "source": [
    "dfA.T.hist(bins = 4)"
   ]
  },
  {
   "cell_type": "markdown",
   "metadata": {},
   "source": [
    "<a name=\"6\"></a>\n",
    "<div style=\"display:table; width:100%; padding-top:10px; padding-bottom:10px; border-bottom:1px solid lightgrey\">\n",
    "    <div style=\"display:table-row\">\n",
    "        <div style=\"display:table-cell; width:80%; font-size:14pt; font-weight:bold\">6. Источники</div>\n",
    "    \t<div style=\"display:table-cell; width:20%; text-align:center; background-color:whitesmoke; border:1px solid lightgrey\"><a href=\"#0\">К содержанию</a></div>\n",
    "    </div>\n",
    "</div>"
   ]
  },
  {
   "cell_type": "markdown",
   "metadata": {},
   "source": [
    "<div><p>Документация</p>\n",
    "<a href=\"http://pandas.pydata.org/pandas-docs/stable/genindex.html\">Pandas 0.17.1 documentation. Index</a><br>\n",
    "\n",
    "<p>Разбор функциональных возможностей</p>\n",
    "<a href=\"http://pandas.pydata.org/pandas-docs/stable/dsintro.html\">Intro to Data Structures</a><br>\n",
    "<a href=\"http://pandas.pydata.org/pandas-docs/stable/indexing.html\">Indexing and Selecting Data</a><br>\n",
    "<a href=\"http://pandas.pydata.org/pandas-docs/stable/io.html\">IO Tools (Text, CSV, HDF5, ...)</a><br>\n",
    "<a href=\"http://pandas.pydata.org/pandas-docs/stable/groupby.html\">Group By: split-apply-combine</a><br>\n",
    "<a href=\"http://pandas.pydata.org/pandas-docs/stable/advanced.html\">MultiIndex / Advanced Indexing</a><br>\n",
    "<a href=\"http://pandas.pydata.org/pandas-docs/stable/merging.html\">Merge, join, and concatenate</a><br>\n",
    "<a href=\"http://pandas.pydata.org/pandas-docs/stable/merging.html\">Essential Basic Functionality</a><br>\n",
    "<a href=\"https://s3.amazonaws.com/quandl-static-content/Documents/Quandl+-+Pandas,+SciPy,+NumPy+Cheat+Sheet.pdf\">NumPy / SciPy / Pandas Cheat Sheet</a><br>\n",
    "<a href=\"http://www.swegler.com/becky/blog/2014/08/06/useful-pandas-snippets/\">Useful Pandas Snippets</a><br>\n",
    "<a href=\"http://chrisalbon.com/python/pandas_apply_operations_to_dataframes.html\">Applying Operations Over pandas Dataframes</a><br>\n",
    "<a href=\"http://nbviewer.jupyter.org/urls/bitbucket.org/hrojas/learn-pandas/raw/master/lessons/01%20-%20Lesson.ipynb\">Pandas. Lesson 1</a><br>\n",
    "<a href=\"http://chrisalbon.com/python/pandas_dropping_column_and_rows.html\">Dropping Rows And Columns In pandas Dataframe</a><br>\n",
    "<a href=\"http://chrisalbon.com/python/pandas_dataframe_descriptive_stats.html\">Descriptive Statistics For pandas Dataframe</a><br>\n",
    "\n",
    "<p>Примеры использования</p>\n",
    "<a href=\"http://synesthesiam.com/posts/an-introduction-to-pandas.html\">An Introduction to Pandas (weather analysis)</a><br>\n",
    "<a href=\"http://pbpython.com/excel-pandas-comp.html\">Common Excel Tasks Demonstrated in Pandas</a><br>\n",
    "<a href=\"http://wavedatalab.github.io/datawithpython/aggregate.html\">Using Pandas for Analyzing Data - Grouping and Aggregating</a><br>\n",
    "<a href=\"http://dataconomy.com/14-best-python-pandas-features/\">14 BEST PYTHON PANDAS FEATURES</a><br>\n",
    "<a href=\"http://www.randalolson.com/2012/08/06/statistical-analysis-made-easy-in-python/\">Statistical analysis made easy in Python with SciPy and pandas DataFrames</a><br>\n",
    "</div>"
   ]
  },
  {
   "cell_type": "code",
   "execution_count": null,
   "metadata": {
    "collapsed": true
   },
   "outputs": [],
   "source": []
  }
 ],
 "metadata": {
  "kernelspec": {
   "display_name": "Python [default]",
   "language": "python",
   "name": "python3"
  },
  "language_info": {
   "codemirror_mode": {
    "name": "ipython",
    "version": 3
   },
   "file_extension": ".py",
   "mimetype": "text/x-python",
   "name": "python",
   "nbconvert_exporter": "python",
   "pygments_lexer": "ipython3",
   "version": "3.5.2"
  }
 },
 "nbformat": 4,
 "nbformat_minor": 0
}
