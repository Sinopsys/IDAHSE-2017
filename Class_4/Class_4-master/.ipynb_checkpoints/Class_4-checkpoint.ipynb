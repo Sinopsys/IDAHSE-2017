{
 "cells": [
  {
   "cell_type": "markdown",
   "metadata": {},
   "source": [
    "<div style=\"font-size:18pt; padding-top:20px; text-align:center; line-height: 1.5;\">СЕМИНАР 4. <b>Оптимизация. Часть 1.</b> Метод наименьших квадратов, градиентный спуск и <span style=\"font-weight:bold; color:green\">NumPy/SciPy</span></div><hr>\n",
    "<div style=\"text-align:right;\">Папулин С.Ю. <span style=\"font-style: italic;font-weight: bold;\">(papulin_hse@mail.ru)</span></div>"
   ]
  },
  {
   "cell_type": "markdown",
   "metadata": {},
   "source": [
    "<a name=\"0\"></a>\n",
    "<div><span style=\"font-size:14pt; font-weight:bold\">Содержание</span>\n",
    "    <ol>\n",
    "        <li><a href=\"#1\">Постановка задачи</a></li>\n",
    "        <li><a href=\"#2\">Производная</a></li>\n",
    "        <li><a href=\"#3\">Метод наименьших квадратов</a>\n",
    "            <ol style = \"list-style-type:lower-alpha\">\n",
    "                <li><a href=\"#3a\">Матричная форма записи системы уравнений</a></li>\n",
    "                <li><a href=\"#3b\">Метод наименьших квадратов в задаче линейной регрессии</a></li>\n",
    "            </ol>\n",
    "        </li>\n",
    "        <li><a href=\"#4\">Градиентный спуск</a>\n",
    "            <ol style = \"list-style-type:lower-alpha\">\n",
    "                <li><a href=\"#4a\">Градиентный спуск</a></li>\n",
    "                <li><a href=\"#4b\">Градиентный спуск в задаче линейной регрессии</a></li>\n",
    "            </ol>\n",
    "        </li>\n",
    "    </ol>\n",
    "</div>"
   ]
  },
  {
   "cell_type": "markdown",
   "metadata": {},
   "source": [
    "<a name=\"1\"></a>\n",
    "<div style=\"display:table; width:100%; padding-top:10px; padding-bottom:10px; border-bottom:1px solid lightgrey\">\n",
    "    <div style=\"display:table-row\">\n",
    "        <div style=\"display:table-cell; width:80%; font-size:14pt; font-weight:bold\">1. Постановка задачи</div>\n",
    "    \t<div style=\"display:table-cell; width:20%; text-align:center; background-color:whitesmoke; border:1px solid lightgrey\"><a href=\"#0\">К содержанию</a></div>\n",
    "    </div>\n",
    "</div>"
   ]
  },
  {
   "cell_type": "code",
   "execution_count": null,
   "metadata": {
    "collapsed": true
   },
   "outputs": [],
   "source": [
    "import numpy as np\n",
    "import pandas as pnd\n",
    "import matplotlib.pyplot as plt\n",
    "from mpl_toolkits.mplot3d import Axes3D\n",
    "from matplotlib import cm\n",
    "%matplotlib inline"
   ]
  },
  {
   "cell_type": "markdown",
   "metadata": {},
   "source": [
    "<p>Создаем DataFrame с исходными данными</p>"
   ]
  },
  {
   "cell_type": "code",
   "execution_count": null,
   "metadata": {
    "collapsed": false
   },
   "outputs": [],
   "source": [
    "df1 = pnd.read_csv(\"SAT_GPA.csv\", sep=\" \")\n",
    "df1.head(5)"
   ]
  },
  {
   "cell_type": "code",
   "execution_count": null,
   "metadata": {
    "collapsed": true
   },
   "outputs": [],
   "source": [
    "sx = df1[\"high_GPA\"]\n",
    "sy = df1[\"univ_GPA\"]"
   ]
  },
  {
   "cell_type": "markdown",
   "metadata": {},
   "source": [
    "<p>Отображаем исходные данные</p>"
   ]
  },
  {
   "cell_type": "code",
   "execution_count": null,
   "metadata": {
    "collapsed": false
   },
   "outputs": [],
   "source": [
    "plt.figure(\"1\", figsize=[10, 6])\n",
    "\n",
    "ax = plt.subplot(1,1,1)\n",
    "\n",
    "plt.scatter(sx, sy)\n",
    "plt.xlabel(\"High_GPA\")\n",
    "plt.ylabel(\"Univ_GPA\")\n",
    "plt.axis([2, 4, 2, 4])\n",
    "plt.grid(True)\n",
    "ax.set_axisbelow(True) \n",
    "\n",
    "xA = df1.loc[36, \"high_GPA\"]\n",
    "yA = df1.loc[36, \"univ_GPA\"]\n",
    "xyA = \"$(\"+str(xA)+\",\"+str(yA)+\")$\"\n",
    "plt.annotate(xyA, xy=(xA, yA), xytext=(50, -100), xycoords='data', textcoords='offset points', \n",
    "             arrowprops=dict(arrowstyle=\"->\", connectionstyle=\"arc,angleA=0,armA=0,angleB=-90,armB=15,rad=7\"),)\n",
    "plt.show()"
   ]
  },
  {
   "cell_type": "code",
   "execution_count": null,
   "metadata": {
    "collapsed": false
   },
   "outputs": [],
   "source": [
    "slope_1 = 2.0; slope_2 = 0.7; slope_3 = 0.4\n",
    "intercept_1 = -3.0; intercept_2 = 1.1; intercept_3 = 2.0"
   ]
  },
  {
   "cell_type": "code",
   "execution_count": null,
   "metadata": {
    "collapsed": true
   },
   "outputs": [],
   "source": [
    "f_pred_1 = lambda x: slope_1 * x + intercept_1\n",
    "f_pred_2 = lambda x: slope_2 * x + intercept_2\n",
    "f_pred_3 = lambda x: slope_3 * x + intercept_3"
   ]
  },
  {
   "cell_type": "code",
   "execution_count": null,
   "metadata": {
    "collapsed": false
   },
   "outputs": [],
   "source": [
    "x_line = np.array([1.5, 4.5])\n",
    "\n",
    "plt.figure(\"2\", figsize=[10, 6])\n",
    "\n",
    "ax = plt.subplot(1,1,1)\n",
    "\n",
    "plt.scatter(sx, sy, label=\"(High_GPA-Univ_GPA)\")\n",
    "plt.plot(x_line, f_pred_1(x_line), \"-\", label=\"$0.9*x+0.3$\")\n",
    "plt.plot(x_line, f_pred_2(x_line), \"-\", label=\"$0.7*x+1.1$\")\n",
    "plt.plot(x_line, f_pred_3(x_line), \"-\", label=\"$0.4*x+2.0$\")\n",
    "\n",
    "plt.xlabel(\"High_GPA\")\n",
    "plt.ylabel(\"Univ_GPA\")\n",
    "\n",
    "plt.axis([2, 4, 2, 4])\n",
    "\n",
    "plt.grid(True)\n",
    "ax.set_axisbelow(True)\n",
    "\n",
    "plt.legend()\n",
    "\n",
    "xA = df1.loc[36, \"high_GPA\"]\n",
    "yA = df1.loc[36, \"univ_GPA\"]\n",
    "xyA = \"$(\"+str(xA)+\",\"+str(yA)+\")$\"\n",
    "plt.annotate(xyA, xy=(xA, yA), xytext=(50, -100), xycoords='data', textcoords='offset points', \n",
    "             arrowprops=dict(arrowstyle=\"->\", connectionstyle=\"arc,angleA=0,armA=0,angleB=-90,armB=15,rad=7\"),)\n",
    "plt.show()"
   ]
  },
  {
   "cell_type": "markdown",
   "metadata": {},
   "source": [
    "Какая функция лучше определяет зависимость между High_GPA и Univ_GPA?"
   ]
  },
  {
   "cell_type": "code",
   "execution_count": null,
   "metadata": {
    "collapsed": false
   },
   "outputs": [],
   "source": [
    "y_pred_1 = f_pred_1(sx)\n",
    "y_pred_2 = f_pred_2(sx)\n",
    "y_pred_3 = f_pred_3(sx)"
   ]
  },
  {
   "cell_type": "code",
   "execution_count": null,
   "metadata": {
    "collapsed": false
   },
   "outputs": [],
   "source": [
    "err_1 = ((y_pred_1 - sy)**2).sum()\n",
    "err_2 = ((y_pred_2 - sy)**2).sum()\n",
    "err_3 = ((y_pred_3 - sy)**2).sum()\n",
    "\n",
    "err_1, err_2, err_3"
   ]
  },
  {
   "cell_type": "markdown",
   "metadata": {},
   "source": [
    "$\\hat w_1, \\hat w_2 =\\operatorname*{arg\\,min}_{w_1, w_2} \n",
    "\\displaystyle\\sum_{i=1}^{N} ((w_2 x_i+w_1) - y_i)^2$"
   ]
  },
  {
   "cell_type": "markdown",
   "metadata": {},
   "source": [
    "<a name=\"2\"></a>\n",
    "<div style=\"display:table; width:100%; padding-top:10px; padding-bottom:10px; border-bottom:1px solid lightgrey\">\n",
    "    <div style=\"display:table-row\">\n",
    "        <div style=\"display:table-cell; width:80%; font-size:14pt; font-weight:bold\">2. Производная</div>\n",
    "    \t<div style=\"display:table-cell; width:20%; text-align:center; background-color:whitesmoke; border:1px solid lightgrey\"><a href=\"#0\">К содержанию</a></div>\n",
    "    </div>\n",
    "</div>"
   ]
  },
  {
   "cell_type": "code",
   "execution_count": null,
   "metadata": {
    "collapsed": true
   },
   "outputs": [],
   "source": [
    "from scipy.misc import derivative"
   ]
  },
  {
   "cell_type": "code",
   "execution_count": null,
   "metadata": {
    "collapsed": true
   },
   "outputs": [],
   "source": [
    "x0 = -4\n",
    "f = lambda x: x**2"
   ]
  },
  {
   "cell_type": "code",
   "execution_count": null,
   "metadata": {
    "collapsed": false
   },
   "outputs": [],
   "source": [
    "df_x0 = derivative(f, x0, n=1)\n",
    "df_x0"
   ]
  },
  {
   "cell_type": "code",
   "execution_count": null,
   "metadata": {
    "collapsed": false
   },
   "outputs": [],
   "source": [
    "ddf_x0 = derivative(f, x0, n=2)\n",
    "ddf_x0"
   ]
  },
  {
   "cell_type": "code",
   "execution_count": null,
   "metadata": {
    "collapsed": false
   },
   "outputs": [],
   "source": [
    "x_st = -4\n",
    "x_end = 5\n",
    "step = 1\n",
    "\n",
    "x = np.arange(x_st, x_end, step)\n",
    "x"
   ]
  },
  {
   "cell_type": "code",
   "execution_count": null,
   "metadata": {
    "collapsed": false
   },
   "outputs": [],
   "source": [
    "df = derivative(f, x, n=1)\n",
    "df"
   ]
  },
  {
   "cell_type": "code",
   "execution_count": null,
   "metadata": {
    "collapsed": false
   },
   "outputs": [],
   "source": [
    "ddf = derivative(f, x, n=2)\n",
    "ddf"
   ]
  },
  {
   "cell_type": "code",
   "execution_count": null,
   "metadata": {
    "collapsed": true
   },
   "outputs": [],
   "source": [
    "f_neg = lambda x: - x**2"
   ]
  },
  {
   "cell_type": "code",
   "execution_count": null,
   "metadata": {
    "collapsed": false
   },
   "outputs": [],
   "source": [
    "df_neg = derivative(f_neg, x, n=1)\n",
    "ddf_neg = derivative(f_neg, x, n=2)\n",
    "\n",
    "df_neg, ddf_neg"
   ]
  },
  {
   "cell_type": "code",
   "execution_count": null,
   "metadata": {
    "collapsed": false
   },
   "outputs": [],
   "source": [
    "plt.figure(\"4\", figsize=[15,6])\n",
    "\n",
    "ax1 = plt.subplot(1,2,1)\n",
    "\n",
    "plt.plot(x, f(x), \"-o\", label=\"$f(x)=x^2$\")\n",
    "plt.plot(x, df, \"-o\", label=\"$f'(x)$\")\n",
    "plt.plot(x, ddf, \"-o\", label=\"$f''(x)$\")\n",
    "\n",
    "plt.title(\"$f(x)=x^2$\")\n",
    "\n",
    "plt.xlabel(\"x\")\n",
    "plt.ylabel(\"y\")\n",
    "\n",
    "plt.grid(True)\n",
    "\n",
    "plt.legend()\n",
    "\n",
    "ax2 = plt.subplot(1,2,2)\n",
    "\n",
    "plt.plot(x, f_neg(x), \"-o\",  label=\"$f_{neg}(x)=-x^2$\")\n",
    "plt.plot(x, df_neg, \"-o\", label=\"$f'_{neg}(x)$\")\n",
    "plt.plot(x, ddf_neg, \"-o\", label=\"$f''_{neg}(x)$\")\n",
    "\n",
    "plt.title(\"$f(x)=-x^2$\")\n",
    "\n",
    "plt.xlabel(\"x\")\n",
    "plt.ylabel(\"y\")\n",
    "\n",
    "plt.grid(True)\n",
    "\n",
    "plt.legend()\n",
    "\n",
    "plt.show()"
   ]
  },
  {
   "cell_type": "code",
   "execution_count": null,
   "metadata": {
    "collapsed": true
   },
   "outputs": [],
   "source": [
    "x = np.arange(-10, 10, 0.1)\n",
    "f = lambda x: x**2 + 10 * np.sin(x)"
   ]
  },
  {
   "cell_type": "code",
   "execution_count": null,
   "metadata": {
    "collapsed": true
   },
   "outputs": [],
   "source": [
    "df = derivative(f, x, n=1)\n",
    "ddf = derivative(f, x, n=2)"
   ]
  },
  {
   "cell_type": "code",
   "execution_count": null,
   "metadata": {
    "collapsed": true
   },
   "outputs": [],
   "source": [
    "indx = np.where(np.logical_and(df >= -0.35, df <= 0.25))"
   ]
  },
  {
   "cell_type": "code",
   "execution_count": null,
   "metadata": {
    "collapsed": false
   },
   "outputs": [],
   "source": [
    "plt.figure(\"4\", figsize=[8,6])\n",
    "\n",
    "ax1 = plt.subplot(1,1,1)\n",
    "\n",
    "plt.plot(x, f(x), \"-\", label=\"$f(x)=x^2$\")\n",
    "plt.plot(x, df, \"-\", label=\"$f'(x)$\")\n",
    "plt.plot(x, ddf, \"-\", label=\"$f''(x)$\")\n",
    "\n",
    "plt.plot(x[indx], f(x[indx]), \"o\", color=\"darkblue\")\n",
    "\n",
    "plt.vlines(x[indx], ymin=-20, ymax=100, color=\"grey\", linestyle=\"dashed\", linewidth=1)\n",
    "\n",
    "plt.title(\"$f(x)=x^2$\")\n",
    "\n",
    "plt.xlabel(\"x\")\n",
    "plt.ylabel(\"y\")\n",
    "\n",
    "plt.grid(True)\n",
    "\n",
    "plt.legend()\n",
    "\n",
    "plt.show()"
   ]
  },
  {
   "cell_type": "markdown",
   "metadata": {},
   "source": [
    "<a name=\"3\"></a>\n",
    "<div style=\"display:table; width:100%; padding-top:10px; padding-bottom:10px; border-bottom:1px solid lightgrey\">\n",
    "    <div style=\"display:table-row\">\n",
    "        <div style=\"display:table-cell; width:80%; font-size:14pt; font-weight:bold\">3. Метод наименьших квадратов</div>\n",
    "    \t<div style=\"display:table-cell; width:20%; text-align:center; background-color:whitesmoke; border:1px solid lightgrey\"><a href=\"#0\">К содержанию</a></div>\n",
    "    </div>\n",
    "</div>"
   ]
  },
  {
   "cell_type": "markdown",
   "metadata": {},
   "source": [
    "<a name = \"3a\"></a>\n",
    "<div style = \"display:table; width:100%\">\n",
    "    <div style = \"display:table-row\">\n",
    "        <div style = \"display:table-cell; width:80%; font-style:italic; font-weight:bold; font-size:12pt\">\n",
    "            a. Матричная форма записи системы уравнений\n",
    "        </div>\n",
    "        <div style=\"display:table-cell; border:1px solid lightgrey; width:20%\">\n",
    "            <div style = \"display:table-cell; width:10%; text-align:center; background-color:whitesmoke;\">\n",
    "                <a href=\"#3\">Назад</a>\n",
    "            </div>\n",
    "            <div style = \"display:table-cell; width:10%; text-align:center;\">\n",
    "                <a href=\"#3b\">Далее</a>\n",
    "            </div>\n",
    "        </div>\n",
    "    </div>\n",
    "</div>"
   ]
  },
  {
   "cell_type": "code",
   "execution_count": null,
   "metadata": {
    "collapsed": true
   },
   "outputs": [],
   "source": []
  },
  {
   "cell_type": "markdown",
   "metadata": {},
   "source": [
    "<a name = \"3b\"></a>\n",
    "<div style = \"display:table; width:100%\">\n",
    "    <div style = \"display:table-row\">\n",
    "        <div style = \"display:table-cell; width:80%; font-style:italic; font-weight:bold; font-size:12pt\">\n",
    "            b. Метод наименьших квадратов\n",
    "        </div>\n",
    "        <div style=\"display:table-cell; border:1px solid lightgrey; width:20%\">\n",
    "            <div style = \"display:table-cell; width:10%; text-align:center; background-color:whitesmoke;\">\n",
    "                <a href=\"#3a\">Назад</a>\n",
    "            </div>\n",
    "            <div style = \"display:table-cell; width:10%; text-align:center;\">\n",
    "                <a href=\"#3c\">Далее</a>\n",
    "            </div>\n",
    "        </div>\n",
    "    </div>\n",
    "</div>"
   ]
  },
  {
   "cell_type": "code",
   "execution_count": null,
   "metadata": {
    "collapsed": true
   },
   "outputs": [],
   "source": []
  },
  {
   "cell_type": "markdown",
   "metadata": {},
   "source": [
    "<a name = \"3c\"></a>\n",
    "<div style = \"display:table; width:100%\">\n",
    "    <div style = \"display:table-row\">\n",
    "        <div style = \"display:table-cell; width:80%; font-style:italic; font-weight:bold; font-size:12pt\">\n",
    "            c. Метод наименьших квадратов в задаче линейной регрессии\n",
    "        </div>\n",
    "        <div style=\"display:table-cell; border:1px solid lightgrey; width:20%\">\n",
    "            <div style = \"display:table-cell; width:10%; text-align:center; background-color:whitesmoke;\">\n",
    "                <a href=\"#3b\">Назад</a>\n",
    "            </div>\n",
    "            <div style = \"display:table-cell; width:10%; text-align:center;\">\n",
    "                <a href=\"#4\">Далее</a>\n",
    "            </div>\n",
    "        </div>\n",
    "    </div>\n",
    "</div>"
   ]
  },
  {
   "cell_type": "code",
   "execution_count": null,
   "metadata": {
    "collapsed": false
   },
   "outputs": [],
   "source": [
    "X = np.asmatrix(np.c_[df1[\"high_GPA\"].values, np.ones(df1[\"high_GPA\"].size)])\n",
    "X[:5,:2]"
   ]
  },
  {
   "cell_type": "code",
   "execution_count": null,
   "metadata": {
    "collapsed": false
   },
   "outputs": [],
   "source": [
    "y = np.asmatrix(df1[\"univ_GPA\"].values.reshape(df1[\"univ_GPA\"].values.size, 1))\n",
    "y[:5]"
   ]
  },
  {
   "cell_type": "code",
   "execution_count": null,
   "metadata": {
    "collapsed": false
   },
   "outputs": [],
   "source": [
    "w = (X.T * X)**(-1) * X.T * y\n",
    "\n",
    "# Вариант 2\n",
    "# w = np.linalg.inv(X.T * X) * X.T * y\n",
    "w"
   ]
  },
  {
   "cell_type": "code",
   "execution_count": null,
   "metadata": {
    "collapsed": false
   },
   "outputs": [],
   "source": [
    "# NumPy linalg\n",
    "np.linalg.lstsq(X, y)"
   ]
  },
  {
   "cell_type": "code",
   "execution_count": null,
   "metadata": {
    "collapsed": false
   },
   "outputs": [],
   "source": [
    "w0 = w[1,0]\n",
    "w1 = w[0,0]"
   ]
  },
  {
   "cell_type": "code",
   "execution_count": null,
   "metadata": {
    "collapsed": false
   },
   "outputs": [],
   "source": [
    "f_pred_ols = lambda x: w1 * x + w0"
   ]
  },
  {
   "cell_type": "code",
   "execution_count": null,
   "metadata": {
    "collapsed": false
   },
   "outputs": [],
   "source": [
    "x_line = np.array([1.5, 4.5])\n",
    "\n",
    "plt.figure(\"3\", figsize=[10, 6])\n",
    "\n",
    "ax = plt.subplot(1,1,1)\n",
    "\n",
    "plt.scatter(sx, sy, label=\"(High_GPA-Univ_GPA)\")\n",
    "plt.plot(x_line, f_pred_1(x_line), \"-\", label=\"$f_1(x)=0.9*x+0.3$\")\n",
    "plt.plot(x_line, f_pred_2(x_line), \"-\", label=\"$f_2(x)=0.7*x+1.1$\")\n",
    "plt.plot(x_line, f_pred_3(x_line), \"-\", label=\"$f_3(x)=0.4*x+2.0$\")\n",
    "plt.plot(x_line, f_pred_ols(x_line), \"-\", linewidth=4, \n",
    "         label=\"$f_{OLS}(x)$\")\n",
    "\n",
    "plt.xlabel(\"High_GPA\")\n",
    "plt.ylabel(\"Univ_GPA\")\n",
    "\n",
    "plt.axis([2, 4, 2, 4])\n",
    "\n",
    "plt.grid(True)\n",
    "ax.set_axisbelow(True) \n",
    "\n",
    "plt.legend()\n",
    "\n",
    "plt.show()"
   ]
  },
  {
   "cell_type": "code",
   "execution_count": null,
   "metadata": {
    "collapsed": false
   },
   "outputs": [],
   "source": [
    "err_ols = ((f_pred_ols(sx) - sy)**2).sum()\n",
    "err_ols"
   ]
  },
  {
   "cell_type": "code",
   "execution_count": null,
   "metadata": {
    "collapsed": false
   },
   "outputs": [],
   "source": [
    "err_1, err_2, err_3, err_ols"
   ]
  },
  {
   "cell_type": "markdown",
   "metadata": {},
   "source": [
    "<a name=\"4\"></a>\n",
    "<div style=\"display:table; width:100%; padding-top:10px; padding-bottom:10px; border-bottom:1px solid lightgrey\">\n",
    "    <div style=\"display:table-row\">\n",
    "        <div style=\"display:table-cell; width:80%; font-size:14pt; font-weight:bold\">4. Градиентный спуск</div>\n",
    "    \t<div style=\"display:table-cell; width:20%; text-align:center; background-color:whitesmoke; border:1px solid lightgrey\"><a href=\"#0\">К содержанию</a></div>\n",
    "    </div>\n",
    "</div>"
   ]
  },
  {
   "cell_type": "markdown",
   "metadata": {},
   "source": [
    "<a name = \"4a\"></a>\n",
    "<div style = \"display:table; width:100%\">\n",
    "    <div style = \"display:table-row\">\n",
    "        <div style = \"display:table-cell; width:80%; font-style:italic; font-weight:bold; font-size:12pt\">\n",
    "            a. Градиентный спуск\n",
    "        </div>\n",
    "        <div style=\"display:table-cell; border:1px solid lightgrey; width:20%\">\n",
    "            <div style = \"display:table-cell; width:10%; text-align:center; background-color:whitesmoke;\">\n",
    "                <a href=\"#4\">Назад</a>\n",
    "            </div>\n",
    "            <div style = \"display:table-cell; width:10%; text-align:center;\">\n",
    "                <a href=\"#4b\">Далее</a>\n",
    "            </div>\n",
    "        </div>\n",
    "    </div>\n",
    "</div>"
   ]
  },
  {
   "cell_type": "markdown",
   "metadata": {},
   "source": [
    "$$ \\mathbf{x}^{(i+1)} = \\mathbf{x}^{(i)}-\\bigtriangledown f \\left( \\mathbf{x}\\right)$$"
   ]
  },
  {
   "cell_type": "markdown",
   "metadata": {},
   "source": [
    "<p>Функция с одной переменной</p>"
   ]
  },
  {
   "cell_type": "code",
   "execution_count": null,
   "metadata": {
    "collapsed": false
   },
   "outputs": [],
   "source": [
    "#Функция\n",
    "def f(x):\n",
    "    return x**2 + 10 * np.sin(x)\n",
    "\n",
    "#Производная\n",
    "def df(x):\n",
    "    return 2*x + 10 * np.cos(x)\n",
    "\n",
    "#Значения аргумента\n",
    "x = np.arange(-10, 10, 0.1)"
   ]
  },
  {
   "cell_type": "code",
   "execution_count": null,
   "metadata": {
    "collapsed": true
   },
   "outputs": [],
   "source": [
    "def plotFunc1D(x, f, df, strF):\n",
    "    plt.grid(True)\n",
    "    plt.plot(x, f(x))\n",
    "    plt.plot(x, df(x))\n",
    "    strF = \"$\" + strF + \"$\"\n",
    "    plt.title(strF)\n",
    "    plt.xlabel(\"x\")\n",
    "    plt.ylabel(\"f(x)\")\n",
    "    plt.legend((\"$f(x)$\", \"$f^{\\prime}(x)$\"), loc=\"lower right\")"
   ]
  },
  {
   "cell_type": "code",
   "execution_count": null,
   "metadata": {
    "collapsed": false
   },
   "outputs": [],
   "source": [
    "plotFunc1D(x, f, df, \"f(x) = x^2+10\\cos(x)\")\n",
    "plt.show()"
   ]
  },
  {
   "cell_type": "code",
   "execution_count": null,
   "metadata": {
    "collapsed": false
   },
   "outputs": [],
   "source": [
    "alpha = 0.05\n",
    "x_min = 8\n",
    "iterNum = 20\n",
    "\n",
    "plotFunc1D(x, f, df, \"f(x) = x^2+10\\cos(x)\")\n",
    "plt.plot(x_min, f(x_min), 'o', color = \"green\")\n",
    "\n",
    "for i in range(iterNum):\n",
    "    xy = (x_min, f(x_min))\n",
    "    \n",
    "    x_min = x_min - alpha * df(x_min)\n",
    "    \n",
    "    plt.plot(x_min, f(x_min), 'o', color = \"blue\")\n",
    "    plt.annotate(\"\", xy=xy, xytext=(x_min, f(x_min)), arrowprops=dict(arrowstyle=\"<-\", color=\"grey\",  linestyle =\"dashed\"))\n",
    "    \n",
    "plt.plot(x_min, f(x_min), 'o', color = \"red\")\n",
    "plt.annotate(\"\", xy=(8,f(8)), xytext=(x_min, f(x_min)), arrowprops=dict(arrowstyle=\"<-\", color=\"red\"))\n",
    "plt.show()"
   ]
  },
  {
   "cell_type": "markdown",
   "metadata": {},
   "source": [
    "<p>Исследование влияния коэффициента альфа</p>"
   ]
  },
  {
   "cell_type": "code",
   "execution_count": null,
   "metadata": {
    "collapsed": true
   },
   "outputs": [],
   "source": [
    "def plotInit(x, f, df, startX, alpha):\n",
    "    plt.plot(x, f(x))\n",
    "    plt.plot(x, df(x))\n",
    "    plt.grid(True)\n",
    "    strF = \"Alpha = \" + str(alpha) + \", Start Point: x = \" + str(startX)\n",
    "    plt.title(strF)\n",
    "    plt.xlabel(\"X\")\n",
    "    plt.ylabel(\"Y\")\n",
    "    plt.legend((\"$f(x)$\", \"$f^{\\prime}(x)$\"), loc=\"lower right\")\n",
    "    plt.plot(startX, f(startX), 'o', color = \"green\")   \n",
    "\n",
    "def plotEndState(x_min, f_min, startX, numI):\n",
    "    plt.plot(x_min, f_min, 'o', color = \"red\")\n",
    "    text = \"Number of iterations: \"+str(numI) + \"\\nx_min = \" + \\\n",
    "        str(np.around(x_min, decimals = 2)) +\", f_min = \" + str(np.around(f_min, decimals = 2))\n",
    "    plt.annotate(text, (0.15, 0.85), xytext=(0.15, 0.85), textcoords=\"axes fraction\", size=14)\n",
    "\n",
    "def plotStartEndPosition(x_curr, x_st, f_curr, f_st):\n",
    "    plt.annotate(\"\", xy=(x_st,f_st), xytext=(x_curr, f_curr), arrowprops=dict(arrowstyle=\"<-\", color=\"red\"))\n",
    "    \n",
    "def plotCurrentPoint(x_curr, x_prev, f_curr, f_prev):\n",
    "    if abs(x_curr - x_prev) > 0.001 and abs(f_curr - f_prev) > 0.001:\n",
    "        plt.annotate(\"\", xy=(x_prev, f_prev), xytext=(x_curr, f_curr), arrowprops=dict(arrowstyle=\"<-\", color=\"grey\",  \n",
    "                                                                                   linestyle =\"dashed\"))\n",
    "    plt.plot(x_curr, f_curr, 'o', color = \"blue\")"
   ]
  },
  {
   "cell_type": "code",
   "execution_count": null,
   "metadata": {
    "collapsed": true
   },
   "outputs": [],
   "source": [
    "def gradientDescent(alpha, f, df, iterNum, err, startX):\n",
    "    \n",
    "    x_min = startX\n",
    "    x_min_prev = startX\n",
    "    \n",
    "    f_prev = f(startX)\n",
    "    f_curr = 0\n",
    "    \n",
    "    i = 0\n",
    "    stop = False\n",
    "    \n",
    "    while i < iterNum and not stop:\n",
    "        \n",
    "        x_min = x_min - alpha * df(x_min)\n",
    "        f_curr = f(x_min)\n",
    "        \n",
    "        if abs(f_prev - f_curr) <= err:\n",
    "            stop = True\n",
    "        \n",
    "        plotCurrentPoint(x_min, x_min_prev, f_curr, f_prev)\n",
    "        \n",
    "        x_min_prev = x_min\n",
    "        f_prev = f_curr\n",
    "        \n",
    "        i += 1\n",
    "                     \n",
    "    return (x_min, f_curr, i)"
   ]
  },
  {
   "cell_type": "code",
   "execution_count": null,
   "metadata": {
    "collapsed": true
   },
   "outputs": [],
   "source": [
    "def plotGraphics(st_x, maxIter, err, f, df, x, alphas):\n",
    "    \n",
    "    numPlt = len(alphas)\n",
    "    numClmns = 2\n",
    "    numRows = np.ceil(numPlt / numClmns)\n",
    "\n",
    "    plt.figure(1, figsize=(numClmns*5, numRows*5))\n",
    "    \n",
    "    def plotOneGraphic(grNum, alpha):\n",
    "        plt.subplot(numRows, numClmns,grNum+1)\n",
    "        plotInit(x, f, df, st_x, alpha)\n",
    "        x_min, f_min, numI = gradientDescent(alpha, f, df, maxIter, err, st_x)\n",
    "        plotEndState(x_min, f_min, st_x, numI)\n",
    "        plotStartEndPosition(x_min, st_x, f_min, f(st_x))\n",
    "\n",
    "    \n",
    "    [plotOneGraphic(i, alphas[i]) for i in range(numPlt)] "
   ]
  },
  {
   "cell_type": "code",
   "execution_count": null,
   "metadata": {
    "collapsed": true
   },
   "outputs": [],
   "source": [
    "f = lambda x: x**2 + 10 * np.sin(x) #Функция\n",
    "df = lambda x: 2*x + 10 * np.cos(x) #Производная\n",
    "\n",
    "x = np.arange(-10, 10, 0.1) #Значения x c шагом 0.1"
   ]
  },
  {
   "cell_type": "code",
   "execution_count": null,
   "metadata": {
    "collapsed": false
   },
   "outputs": [],
   "source": [
    "st_x = -8 #начальная точка\n",
    "maxIter = 20 #максимальное количество итераций\n",
    "err = 1e-3 #минимальное изменение функции (ошибка)\n",
    "alphas = [0.02, 0.05, 0.1, 0.2, 0.4, 0.6] #список коэффициентов alpha\n",
    "\n",
    "plotGraphics(st_x, maxIter, err, f, df, x, alphas)"
   ]
  },
  {
   "cell_type": "code",
   "execution_count": null,
   "metadata": {
    "collapsed": false,
    "scrolled": true
   },
   "outputs": [],
   "source": [
    "st_x = 8 #начальная точка\n",
    "maxIter = 20 #максимальное количество итераций\n",
    "err = 1e-3 #минимальное изменение функции (ошибка)\n",
    "alphas = [0.02, 0.05, 0.1, 0.2, 0.4, 0.6] #список коэффициентов alpha\n",
    "\n",
    "\n",
    "plotGraphics(st_x, maxIter, err, f, df, x, alphas)"
   ]
  },
  {
   "cell_type": "markdown",
   "metadata": {},
   "source": [
    "<p>Функция с двумя переменными</p>"
   ]
  },
  {
   "cell_type": "code",
   "execution_count": null,
   "metadata": {
    "collapsed": false
   },
   "outputs": [],
   "source": [
    "f = lambda x, y: 2*x**2 + y**2 +x*y #Функция\n",
    "dfx = lambda x, y: 2*x + y #Производная по x\n",
    "dfy = lambda x, y: 2*y + x #Производная по y\n",
    "\n",
    "coord_x = np.arange(-4, 5, 0.1) #Значения x c шагом 1\n",
    "coord_y = np.arange(-4, 5, 0.1) #Значения x c шагом 1\n",
    "\n",
    "x, y = np.meshgrid(coord_x, coord_y)"
   ]
  },
  {
   "cell_type": "code",
   "execution_count": null,
   "metadata": {
    "collapsed": false
   },
   "outputs": [],
   "source": [
    "fig = plt.figure(1, figsize=(10, 10))\n",
    "\n",
    "ax0 = fig.add_subplot(2, 2, 1, projection='3d')\n",
    "ax0.plot_surface(x, y, f(x,y), rstride=1, cstride=1, cmap=cm.coolwarm,\n",
    "                       linewidth=0, antialiased=True)\n",
    "ax0.set_xlabel('x')\n",
    "ax0.set_ylabel('y')\n",
    "ax0.set_zlabel('f(x,y)')\n",
    "\n",
    "ax1 = plt.subplot(2,2,2)\n",
    "cf = ax1.contourf(x, y, f(x,y), 50, alpha=0.5, cmap=cm.coolwarm)\n",
    "plt.colorbar(cf)\n",
    "ax1.set_xlabel('x')\n",
    "ax1.set_ylabel('y')\n",
    "\n",
    "ax2 = plt.subplot(2,2,3)\n",
    "ax2.set_xlabel('x')\n",
    "ax2.set_ylabel('y')\n",
    "ax2.quiver(x[0::5, 0::5], y[0::5, 0::5], dfx(x[0::5, 0::5],y[0::5, 0::5]), dfy(x[0::5, 0::5],y[0::5, 0::5]), scale=100)\n",
    "\n",
    "ax3 = plt.subplot(2,2,4)\n",
    "ax3.set_xlabel('x')\n",
    "ax3.set_ylabel('y')\n",
    "ax3.contourf(x, y, f(x,y), 50, cmap=cm.coolwarm)\n",
    "ax3.quiver(x[0::5, 0::5], y[0::5, 0::5], dfx(x[0::5, 0::5],y[0::5, 0::5]), dfy(x[0::5, 0::5],y[0::5, 0::5]), scale=100)\n",
    "\n",
    "plt.show()"
   ]
  },
  {
   "cell_type": "code",
   "execution_count": null,
   "metadata": {
    "collapsed": true
   },
   "outputs": [],
   "source": [
    "def plotInit2D(x, y, f, startX, startY):\n",
    "    plt.contourf(x, y, f(x,y), 10, alpha=0.5, cmap=cm.coolwarm)\n",
    "    #plt.colorbar(cf)\n",
    "    plt.grid(True)\n",
    "    plt.plot(startX, startY, 'o', color = \"green\")   \n",
    "\n",
    "def plotEndState2D(x_min, y_min, f_min, alpha, startX, startY, numI):\n",
    "    plt.plot(x_min, y_min, 'o', color = \"red\")\n",
    "    plt.xlabel(\"X\")\n",
    "    plt.ylabel(\"Y\")\n",
    "    plt.title(\"Alpha = \" + str(alpha) + \", Start Point: x = \" + str(startX) + \", y = \" + str(startY) )\n",
    "    text = \"Number of iterations: \"+str(numI) + \"\\nx_min = \" + \\\n",
    "        str(np.around(x_min, decimals = 2)) +\", y_min = \" + str(np.around(y_min, decimals = 2)) +\"\\n\" + \\\n",
    "        \"f(x_min, y_min) = \" + str(np.around(f_min, decimals = 4))\n",
    "    plt.annotate(text, (0.15, 0.85), xytext=(0.15, 0.80), textcoords=\"axes fraction\", size=14)\n",
    "    \n",
    "def plotGraphics2D(st_x, st_y, maxIter, err, f, dfx, dfy, x, y, alphas, grType=0):\n",
    "    \n",
    "    numPlt = len(alphas)\n",
    "    numClmns = 2\n",
    "    numRows = np.ceil(numPlt / numClmns)\n",
    "\n",
    "    plt.figure(2, figsize=(numClmns*5, numRows*5))\n",
    "    \n",
    "    def plotOneGraphic(grNum, alpha):\n",
    "        plt.subplot(numRows, numClmns,grNum+1)\n",
    "        plotInit2D(x, y, f, st_x, st_y)\n",
    "        x_min, y_min, numI = 0, 0, 0\n",
    "        if grType == 1:\n",
    "            x_min, y_min, numI = stochasticGradientDescent2D(alpha, f, dfx, dfy, maxIter, err, st_x, st_y)\n",
    "        else:\n",
    "            x_min, y_min, numI = gradientDescent2D(alpha, f, dfx, dfy, maxIter, err, st_x, st_y)\n",
    "            \n",
    "        plotEndState2D(x_min, y_min, f(x_min, y_min), alpha, st_x, st_y, numI)\n",
    "        plotStartEndPosition(x_min, st_x, y_min, st_y)\n",
    "        return (x_min, y_min)\n",
    "\n",
    "    \n",
    "    return [plotOneGraphic(i, alphas[i]) for i in range(numPlt)]"
   ]
  },
  {
   "cell_type": "code",
   "execution_count": null,
   "metadata": {
    "collapsed": true
   },
   "outputs": [],
   "source": [
    "def gradientDescent2D(alpha, f, dfx, dfy, iterNum, err, startX, startY):\n",
    "    x_min = startX\n",
    "    x_min_prev = startX\n",
    "    \n",
    "    y_min = startY\n",
    "    y_min_prev = startY\n",
    "    \n",
    "    i = 0\n",
    "    stop = False\n",
    "    \n",
    "    while i < iterNum and not stop:\n",
    "        \n",
    "        x_min = x_min - alpha * dfx(x_min_prev, y_min_prev)\n",
    "        y_min = y_min - alpha * dfy(x_min_prev, y_min_prev)\n",
    "        \n",
    "        if abs(f(x_min, y_min) - f(x_min_prev, y_min_prev)) <= err:\n",
    "            stop = True\n",
    "\n",
    "        plotCurrentPoint(x_min, x_min_prev, y_min, y_min_prev)\n",
    "        #plt.plot(x_min, y_min, 'o', color = \"blue\")\n",
    "        \n",
    "        x_min_prev = x_min\n",
    "        y_min_prev = y_min\n",
    "\n",
    "        i += 1\n",
    "        \n",
    "    return (x_min, y_min, i)"
   ]
  },
  {
   "cell_type": "code",
   "execution_count": null,
   "metadata": {
    "collapsed": false
   },
   "outputs": [],
   "source": [
    "st_x = 3\n",
    "st_y = 0\n",
    "maxIter = 20\n",
    "err = 0.001\n",
    "alphas = [0.01, 0.05, 0.1, 0.2, 0.4, 0.6]\n",
    "\n",
    "plotGraphics2D(st_x, st_y, maxIter, err, f, dfx, dfy, x, y, alphas)"
   ]
  },
  {
   "cell_type": "code",
   "execution_count": null,
   "metadata": {
    "collapsed": false
   },
   "outputs": [],
   "source": [
    "st_x = -3\n",
    "st_y = -2\n",
    "maxIter = 20\n",
    "err = 0.001\n",
    "alphas = [0.01, 0.05, 0.1, 0.2, 0.4, 0.6]\n",
    "\n",
    "plotGraphics2D(st_x, st_y, maxIter, err, f, dfx, dfy, x, y, alphas)"
   ]
  },
  {
   "cell_type": "markdown",
   "metadata": {},
   "source": [
    "<a name = \"4b\"></a>\n",
    "<div style = \"display:table; width:100%\">\n",
    "    <div style = \"display:table-row\">\n",
    "        <div style = \"display:table-cell; width:80%; font-style:italic; font-weight:bold; font-size:12pt\">\n",
    "            b. Градиентный спуск в задаче линейной регрессии\n",
    "        </div>\n",
    "        <div style=\"display:table-cell; border:1px solid lightgrey; width:20%\">\n",
    "            <div style = \"display:table-cell; width:10%; text-align:center; background-color:whitesmoke;\">\n",
    "                <a href=\"#4b\">Назад</a>\n",
    "            </div>\n",
    "            <div style = \"display:table-cell; width:10%; text-align:center;\">\n",
    "                <a href=\"#5\">Далее</a>\n",
    "            </div>\n",
    "        </div>\n",
    "    </div>\n",
    "</div>"
   ]
  },
  {
   "cell_type": "code",
   "execution_count": null,
   "metadata": {
    "collapsed": true
   },
   "outputs": [],
   "source": [
    "sx = df1[\"high_GPA\"]\n",
    "sy = df1[\"univ_GPA\"]"
   ]
  },
  {
   "cell_type": "markdown",
   "metadata": {},
   "source": [
    "<p>Определяем исходную функцию потерь и её частные производные</p>"
   ]
  },
  {
   "cell_type": "code",
   "execution_count": null,
   "metadata": {
    "collapsed": false
   },
   "outputs": [],
   "source": [
    "# Количество элементов в выборке\n",
    "n = len(sx)\n",
    "\n",
    "# Функция потерь (ошибки)  \n",
    "err = lambda x, y, w0, w1: 1 / n * sum([(w1 * x[i] + w0 - y[i]) ** 2 for i in range(n)])\n",
    "\n",
    "# Частные производные от функции потерь\n",
    "derr_w0 = lambda x, y, w0, w1: 2 / n * sum([1 * (w1 * x[i] + w0 - y[i]) for i in range(n)])\n",
    "derr_w1 = lambda x, y, w0, w1: 2 / n * sum([x[i] * (w1 * x[i] + w0 - y[i]) for i in range(n)])"
   ]
  },
  {
   "cell_type": "markdown",
   "metadata": {},
   "source": [
    "<p>Задаем критерии поиска</p>"
   ]
  },
  {
   "cell_type": "code",
   "execution_count": null,
   "metadata": {
    "collapsed": true
   },
   "outputs": [],
   "source": [
    "# Критерии поиска\n",
    "iter_num = 200\n",
    "min_err = 0.0001\n",
    "\n",
    "# Параметр альфа\n",
    "alpha = 0.05"
   ]
  },
  {
   "cell_type": "markdown",
   "metadata": {},
   "source": [
    "<p>Выполняем градиентный спуск для поиска коэффициентов линейной регрессии</p>"
   ]
  },
  {
   "cell_type": "code",
   "execution_count": null,
   "metadata": {
    "collapsed": false
   },
   "outputs": [],
   "source": [
    "i = 0\n",
    "w0_gd = 0; w1_gd = 0\n",
    "w0_prev = 4; w1_prev = 4\n",
    "\n",
    "while i < iter_num:\n",
    "\n",
    "    w0_gd = w0_prev - alpha * derr_w0(sx, sy, w0_prev, w1_prev)\n",
    "    w1_gd = w1_prev - alpha * derr_w1(sx, sy, w0_prev, w1_prev)\n",
    "\n",
    "    if abs(err(sx, sy, w0_gd, w1_gd) - err(sx, sy, w0_prev, w1_prev)) <= min_err:\n",
    "        break\n",
    "\n",
    "    w0_prev = w0_gd\n",
    "    w1_prev = w1_gd\n",
    "\n",
    "    i += 1\n",
    "\n",
    "w0_gd, w1_gd, i"
   ]
  },
  {
   "cell_type": "markdown",
   "metadata": {},
   "source": [
    "<p>Задаем линию регрессии с учетом найденных коэффициентов</p>"
   ]
  },
  {
   "cell_type": "code",
   "execution_count": null,
   "metadata": {
    "collapsed": true
   },
   "outputs": [],
   "source": [
    "f_pred_gd = lambda x: w1_gd * x + w0_gd"
   ]
  },
  {
   "cell_type": "markdown",
   "metadata": {},
   "source": [
    "<p>Отображаем линию регрессии</p>"
   ]
  },
  {
   "cell_type": "code",
   "execution_count": null,
   "metadata": {
    "collapsed": false
   },
   "outputs": [],
   "source": [
    "x_line = np.array([1.5, 4.5])\n",
    "\n",
    "plt.figure(\"3\", figsize=[10, 6])\n",
    "\n",
    "ax = plt.subplot(1,1,1)\n",
    "\n",
    "plt.scatter(sx, sy, label=\"(High_GPA-Univ_GPA)\")\n",
    "plt.plot(x_line, f_pred_1(x_line), \"-\", label=\"$f_1(x)=0.9*x+0.3$\")\n",
    "plt.plot(x_line, f_pred_2(x_line), \"-\", label=\"$f_2(x)=0.7*x+1.1$\")\n",
    "plt.plot(x_line, f_pred_3(x_line), \"-\", label=\"$f_3(x)=0.4*x+2.0$\")\n",
    "plt.plot(x_line, f_pred_ols(x_line), \"-\", linewidth=4, \n",
    "         label=\"$f_{OLS}(x)$\")\n",
    "plt.plot(x_line, f_pred_gd(x_line), \"-\", linewidth=2, color=\"black\",\n",
    "         label=\"$f_{GD}(x)$\")\n",
    "\n",
    "plt.xlabel(\"High_GPA\")\n",
    "plt.ylabel(\"Univ_GPA\")\n",
    "\n",
    "plt.axis([2, 4, 2, 4])\n",
    "\n",
    "plt.grid(True)\n",
    "ax.set_axisbelow(True) \n",
    "\n",
    "plt.legend()\n",
    "\n",
    "plt.show()"
   ]
  },
  {
   "cell_type": "markdown",
   "metadata": {},
   "source": [
    "<p>Определяем ошибку при градиентном спуске</p>"
   ]
  },
  {
   "cell_type": "code",
   "execution_count": null,
   "metadata": {
    "collapsed": false
   },
   "outputs": [],
   "source": [
    "err_gd = ((f_pred_gd(sx) - sy)**2).sum()\n",
    "err_gd"
   ]
  },
  {
   "cell_type": "markdown",
   "metadata": {},
   "source": [
    "<p>Выводим все значения полученных ошибок</p>"
   ]
  },
  {
   "cell_type": "code",
   "execution_count": null,
   "metadata": {
    "collapsed": false
   },
   "outputs": [],
   "source": [
    "err_1, err_2, err_3, err_ols, err_gd"
   ]
  },
  {
   "cell_type": "markdown",
   "metadata": {},
   "source": [
    "<p>Построим контурные графики для функции потерь (ошибки)</p>"
   ]
  },
  {
   "cell_type": "code",
   "execution_count": null,
   "metadata": {
    "collapsed": true
   },
   "outputs": [],
   "source": [
    "coord_w0 = np.arange(-4, 5, 0.1) #Значения x c шагом 0.1\n",
    "coord_w1 = np.arange(-4, 5, 0.1) #Значения x c шагом 0.1\n",
    "\n",
    "W0, W1 = np.meshgrid(coord_w0, coord_w1)"
   ]
  },
  {
   "cell_type": "code",
   "execution_count": null,
   "metadata": {
    "collapsed": true
   },
   "outputs": [],
   "source": [
    "coord_w0_large = np.arange(-400, 500, 1)\n",
    "coord_w1_large = np.arange(-400, 500, 1)\n",
    "\n",
    "W0_large, W1_large = np.meshgrid(coord_w0_large, coord_w1_large)"
   ]
  },
  {
   "cell_type": "code",
   "execution_count": null,
   "metadata": {
    "collapsed": false
   },
   "outputs": [],
   "source": [
    "plt.figure(\"12\",figsize=[12, 4])\n",
    "\n",
    "plt.subplot(1,2,1)\n",
    "plt.contour(W0, W1, err(sx, sy, W0, W1), 20, cmap=cm.bwr, alpha=0.5)\n",
    "plt.grid(True)\n",
    "plt.colorbar()\n",
    "\n",
    "plt.subplot(1,2,2)\n",
    "plt.contour(W0_large, W1_large, err(sx, sy, W0_large, W1_large), 20, cmap=cm.bwr, alpha=0.5)\n",
    "plt.grid(True)\n",
    "plt.colorbar()\n",
    "\n",
    "plt.show()"
   ]
  },
  {
   "cell_type": "markdown",
   "metadata": {},
   "source": [
    "<p>Стандартизируем иcходные значения выборки</p>"
   ]
  },
  {
   "cell_type": "code",
   "execution_count": null,
   "metadata": {
    "collapsed": false
   },
   "outputs": [],
   "source": [
    "# По x\n",
    "sx_mean = sx.mean()\n",
    "sx_std = sx.std()\n",
    "\n",
    "sx_stand = sx.apply(lambda el: (el - sx_mean) / sx_std)\n",
    "sx_stand.head(5)"
   ]
  },
  {
   "cell_type": "code",
   "execution_count": null,
   "metadata": {
    "collapsed": false
   },
   "outputs": [],
   "source": [
    "# По y\n",
    "sy_mean = sy.mean()\n",
    "sy_std = sy.std()\n",
    "\n",
    "sy_stand = sy.apply(lambda el: (el - sy_mean) / sy_std)\n",
    "sy_stand.head(5)"
   ]
  },
  {
   "cell_type": "code",
   "execution_count": null,
   "metadata": {
    "collapsed": false
   },
   "outputs": [],
   "source": [
    "x_line = np.array([1.5, 4.5])\n",
    "\n",
    "plt.figure(\"3\", figsize=[12, 4])\n",
    "\n",
    "ax = plt.subplot(1,2,1)\n",
    "\n",
    "plt.scatter(sx, sy, label=\"(High_GPA-Univ_GPA)\")\n",
    "plt.title(\"Initial\")\n",
    "plt.xlabel(\"High_GPA\")\n",
    "plt.ylabel(\"Univ_GPA\")\n",
    "\n",
    "plt.axis([2, 4, 2, 4])\n",
    "\n",
    "plt.grid(True)\n",
    "ax.set_axisbelow(True) \n",
    "\n",
    "plt.legend()\n",
    "\n",
    "ax = plt.subplot(1,2,2)\n",
    "\n",
    "plt.scatter(sx_stand, sy_stand, label=\"(High_GPA-Univ_GPA)\")\n",
    "plt.title(\"Standardized\")\n",
    "plt.xlabel(\"High_GPA\")\n",
    "plt.ylabel(\"Univ_GPA\")\n",
    "\n",
    "plt.grid(True)\n",
    "ax.set_axisbelow(True) \n",
    "\n",
    "plt.legend()\n",
    "\n",
    "\n",
    "plt.show()"
   ]
  },
  {
   "cell_type": "code",
   "execution_count": null,
   "metadata": {
    "collapsed": false
   },
   "outputs": [],
   "source": [
    "plt.figure(\"12\", figsize=[12, 4])\n",
    "\n",
    "plt.subplot(1,2,1)\n",
    "plt.contour(W0, W1, err(sx, sy, W0, W1), 20, cmap=cm.bwr, alpha=0.5)\n",
    "plt.title(\"Initial\")\n",
    "plt.xlabel(\"w0\")\n",
    "plt.ylabel(\"w1\")\n",
    "plt.grid(True)\n",
    "plt.colorbar()\n",
    "\n",
    "plt.subplot(1,2,2)\n",
    "plt.contour(W0, W1, err(sx_stand, sy_stand, W0, W1), 20, cmap=cm.bwr, alpha=0.5)\n",
    "plt.title(\"Standardized\")\n",
    "plt.xlabel(\"w0\")\n",
    "plt.ylabel(\"w1\")\n",
    "plt.grid(True)\n",
    "plt.colorbar()\n",
    "\n",
    "plt.show()"
   ]
  },
  {
   "cell_type": "code",
   "execution_count": null,
   "metadata": {
    "collapsed": true
   },
   "outputs": [],
   "source": [
    "# Критерии поиска\n",
    "iter_num_stand = 100\n",
    "min_err_stand = 0.0001\n",
    "\n",
    "# Параметр альфа\n",
    "alpha_stand = 0.05"
   ]
  },
  {
   "cell_type": "code",
   "execution_count": null,
   "metadata": {
    "collapsed": false
   },
   "outputs": [],
   "source": [
    "i = 0\n",
    "w0_gd_stand = 0; w1_gd_stand = 0\n",
    "w0_prev = 4; w1_prev = 4\n",
    "\n",
    "while i < iter_num_stand:\n",
    "\n",
    "    w0_gd_stand = w0_prev - alpha_stand * derr_w0(sx_stand, sy_stand, w0_prev, w1_prev)\n",
    "    w1_gd_stand = w1_prev - alpha_stand * derr_w1(sx_stand, sy_stand, w0_prev, w1_prev)\n",
    "\n",
    "    if abs(err(sx_stand, sy_stand, w0_gd_stand, w1_gd_stand) - err(sx_stand, sy_stand, w0_prev, w1_prev)) <= min_err_stand:\n",
    "        break\n",
    "\n",
    "    w0_prev = w0_gd_stand\n",
    "    w1_prev = w1_gd_stand\n",
    "\n",
    "    i += 1\n",
    "\n",
    "w0_gd_stand, w1_gd_stand, i"
   ]
  },
  {
   "cell_type": "code",
   "execution_count": null,
   "metadata": {
    "collapsed": true
   },
   "outputs": [],
   "source": [
    "f_pred_gr_stand = lambda x: w1_gd_stand * x + w0_gd_stand"
   ]
  },
  {
   "cell_type": "code",
   "execution_count": null,
   "metadata": {
    "collapsed": false
   },
   "outputs": [],
   "source": [
    "x_line_stand = np.array([-2, 2])\n",
    "\n",
    "plt.figure(\"3\", figsize=[10, 6])\n",
    "\n",
    "ax = plt.subplot(1,1,1)\n",
    "\n",
    "plt.scatter(sx_stand, sy_stand, label=\"(High_GPA-Univ_GPA)\")\n",
    "plt.plot(x_line_stand, f_pred_gr_stand(x_line_stand), \"-\", linewidth=2, color=\"black\",\n",
    "         label=\"$f_{StndGD}(x)$\")\n",
    "\n",
    "plt.xlabel(\"High_GPA\")\n",
    "plt.ylabel(\"Univ_GPA\")\n",
    "\n",
    "plt.grid(True)\n",
    "ax.set_axisbelow(True) \n",
    "\n",
    "plt.legend()\n",
    "\n",
    "plt.show()"
   ]
  },
  {
   "cell_type": "code",
   "execution_count": null,
   "metadata": {
    "collapsed": true
   },
   "outputs": [],
   "source": [
    "f_pred_gr_stand_recover = lambda x: sy_std * (w1_gd_stand / sx_std * (x - sx_mean)) + sy_mean"
   ]
  },
  {
   "cell_type": "code",
   "execution_count": null,
   "metadata": {
    "collapsed": false
   },
   "outputs": [],
   "source": [
    "x_line = np.array([1.5, 4.5])\n",
    "\n",
    "plt.figure(\"3\", figsize=[10, 6])\n",
    "\n",
    "ax = plt.subplot(1,1,1)\n",
    "\n",
    "plt.scatter(sx, sy, label=\"(High_GPA-Univ_GPA)\")\n",
    "plt.plot(x_line, f_pred_1(x_line), \"-\", label=\"$f_1(x)=0.9*x+0.3$\")\n",
    "plt.plot(x_line, f_pred_2(x_line), \"-\", label=\"$f_2(x)=0.7*x+1.1$\")\n",
    "plt.plot(x_line, f_pred_3(x_line), \"-\", label=\"$f_3(x)=0.4*x+2.0$\")\n",
    "plt.plot(x_line, f_pred_ols(x_line), \"-\", linewidth=4, \n",
    "         label=\"$f_{OLS}(x)$\")\n",
    "plt.plot(x_line, f_pred_gd(x_line), \"-\", linewidth=2, color=\"black\",\n",
    "         label=\"$f_{GD}(x)$\")\n",
    "plt.plot(x_line, f_pred_gr_stand_recover(x_line), \"-\", linewidth=2, color=\"cyan\",\n",
    "         label=\"$f_{StdGD}(x)$\")\n",
    "\n",
    "plt.xlabel(\"High_GPA\")\n",
    "plt.ylabel(\"Univ_GPA\")\n",
    "\n",
    "plt.axis([2, 4, 2, 4])\n",
    "\n",
    "plt.grid(True)\n",
    "ax.set_axisbelow(True) \n",
    "\n",
    "plt.legend()\n",
    "\n",
    "plt.show()"
   ]
  },
  {
   "cell_type": "code",
   "execution_count": null,
   "metadata": {
    "collapsed": false
   },
   "outputs": [],
   "source": [
    "err_gr_stand = ((f_pred_gr_stand_recover(sx) - sy)**2).sum()\n",
    "err_gr_stand"
   ]
  },
  {
   "cell_type": "code",
   "execution_count": null,
   "metadata": {
    "collapsed": false
   },
   "outputs": [],
   "source": [
    "err_1, err_2, err_3, err_ols, err_gd, err_gr_stand"
   ]
  },
  {
   "cell_type": "markdown",
   "metadata": {},
   "source": [
    "<p>Грубая проверка перебором</p>"
   ]
  },
  {
   "cell_type": "code",
   "execution_count": null,
   "metadata": {
    "collapsed": false
   },
   "outputs": [],
   "source": [
    "f(W0, W1).min(), f_stand(W0, W1).min()"
   ]
  },
  {
   "cell_type": "code",
   "execution_count": null,
   "metadata": {
    "collapsed": false
   },
   "outputs": [],
   "source": [
    "inxd_ws = np.argwhere(f(W0, W1).min() == f(W0, W1))\n",
    "inxd_ws"
   ]
  },
  {
   "cell_type": "code",
   "execution_count": null,
   "metadata": {
    "collapsed": false
   },
   "outputs": [],
   "source": [
    "W0[inxd_ws[0,0], inxd_ws[0,1]], W1[inxd_ws[0,0], inxd_ws[0,1]]"
   ]
  },
  {
   "cell_type": "code",
   "execution_count": null,
   "metadata": {
    "collapsed": false
   },
   "outputs": [],
   "source": [
    "inxd_ws_stand = np.argwhere(f_stand(W0, W1).min() == f_stand(W0, W1))\n",
    "inxd_ws_stand"
   ]
  },
  {
   "cell_type": "code",
   "execution_count": null,
   "metadata": {
    "collapsed": false
   },
   "outputs": [],
   "source": [
    "W0[inxd_ws_stand[0,0], inxd_ws_stand[0,1]], W1[inxd_ws_stand[0,0], inxd_ws_stand[0,1]]"
   ]
  }
 ],
 "metadata": {
  "anaconda-cloud": {},
  "kernelspec": {
   "display_name": "Python [default]",
   "language": "python",
   "name": "python3"
  },
  "language_info": {
   "codemirror_mode": {
    "name": "ipython",
    "version": 3
   },
   "file_extension": ".py",
   "mimetype": "text/x-python",
   "name": "python",
   "nbconvert_exporter": "python",
   "pygments_lexer": "ipython3",
   "version": "3.5.2"
  }
 },
 "nbformat": 4,
 "nbformat_minor": 2
}
