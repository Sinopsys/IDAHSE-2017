{
 "cells": [
  {
   "cell_type": "markdown",
   "metadata": {},
   "source": [
    "<div style=\"font-size:18pt; padding-top:20px; text-align:center\">ЗАДАНИЕ 2. <b>Кросс-валидация, регуляризация и </b> <span style=\"font-weight:bold; color:green\">NumPy/SciPy/Sklearn</span></div><hr>\n",
    "<div style=\"text-align:right;\">Папулин С.Ю. <span style=\"font-style: italic;font-weight: bold;\">(papulin_hse@mail.ru)</span></div>"
   ]
  },
  {
   "cell_type": "markdown",
   "metadata": {},
   "source": [
    "<a name=\"0\"></a>\n",
    "<div><span style=\"font-size:14pt; font-weight:bold\">Содержание</span>\n",
    "    <ol>\n",
    "        <li><a href=\"#1\">Варианты</a></li>\n",
    "        <li><a href=\"#2\">Задание</a></li>\n",
    "    </ol>\n",
    "</div>"
   ]
  },
  {
   "cell_type": "markdown",
   "metadata": {},
   "source": [
    "<p>Подключение стилей оформления</p>"
   ]
  },
  {
   "cell_type": "code",
   "execution_count": 1,
   "metadata": {
    "collapsed": false
   },
   "outputs": [
    {
     "data": {
      "text/html": [
       "<link href=\"css/style.css\" rel=\"stylesheet\" type=\"text/css\">"
      ],
      "text/plain": [
       "<IPython.core.display.HTML object>"
      ]
     },
     "metadata": {},
     "output_type": "display_data"
    }
   ],
   "source": [
    "%%html\n",
    "<link href=\"css/style.css\" rel=\"stylesheet\" type=\"text/css\">"
   ]
  },
  {
   "cell_type": "markdown",
   "metadata": {},
   "source": [
    "<a name=\"1\"></a>\n",
    "<div style=\"display:table; width:100%; padding-top:10px; padding-bottom:10px; border-bottom:1px solid lightgrey\">\n",
    "    <div style=\"display:table-row\">\n",
    "        <div style=\"display:table-cell; width:80%; font-size:14pt; font-weight:bold\">1. Варианты</div>\n",
    "    \t<div style=\"display:table-cell; width:20%; text-align:center; background-color:whitesmoke; border:1px solid lightgrey\"><a href=\"#0\">К содержанию</a></div>\n",
    "    </div>\n",
    "</div>"
   ]
  },
  {
   "cell_type": "markdown",
   "metadata": {},
   "source": [
    "<p>Чтобы узнать свой вариант, введите Вашу фамилию в соответвующее поле ниже и запустите ячейку:</p>"
   ]
  },
  {
   "cell_type": "code",
   "execution_count": 2,
   "metadata": {
    "collapsed": false
   },
   "outputs": [
    {
     "name": "stdout",
     "output_type": "stream",
     "text": [
      "Ваш вариант -  2\n"
     ]
    }
   ],
   "source": [
    "surname = \"Куприянов\" #Ваша фамилия\n",
    "\n",
    "alp = 'абвгдеёжзийклмнопрстуфхцчшщъыьэюя'\n",
    "w = [4, 42, 21, 21, 34,  1, 44, 26, 18, 43, 38, 26, 18, 43, 3, 49, 45,\n",
    "        7, 42, 25,  4,  9, 36, 33, 31, 29,  5, 31,  4, 19, 24, 27, 33]\n",
    "d = dict(zip(alp, w))\n",
    "variant =  sum([d[el] for el in surname.lower()]) % 2 + 1\n",
    "print(\"Ваш вариант - \", variant)"
   ]
  },
  {
   "cell_type": "markdown",
   "metadata": {},
   "source": [
    "<div class=\"msg-block msg-warning\">\n",
    "  <p class=\"msg-text-warn\">Варианты могут не совпадать с предыдущими ДЗ</p>\n",
    "</div>"
   ]
  },
  {
   "cell_type": "markdown",
   "metadata": {},
   "source": [
    "<a name=\"2\"></a>\n",
    "<div style=\"display:table; width:100%; padding-top:10px; padding-bottom:10px; border-bottom:1px solid lightgrey\">\n",
    "    <div style=\"display:table-row\">\n",
    "        <div style=\"display:table-cell; width:80%; font-size:14pt; font-weight:bold\">2. Задание</div>\n",
    "    \t<div style=\"display:table-cell; width:20%; text-align:center; background-color:whitesmoke; border:1px solid lightgrey\"><a href=\"#0\">К содержанию</a></div>\n",
    "    </div>\n",
    "</div>"
   ]
  },
  {
   "cell_type": "markdown",
   "metadata": {},
   "source": [
    "<div class=\"msg-block msg-imp\">\n",
    "  <div class=\"msg-text-imp\">\n",
    "      <p>СРОК СДАЧИ: до <b>27 апреля 2017</b></p>\n",
    "      <p style=\"margin:0px\">ПОСЛЕ СРОКА: первая неделя <b>-25%</b>, вторая неделя и далее до конца модуля <b>-50%</b>\n",
    "      </p>\n",
    "  </div>\n",
    "</div>"
   ]
  },
  {
   "cell_type": "markdown",
   "metadata": {},
   "source": [
    "<p><b>Задача 1.</b> Регрессия + кросс-валидация</p>"
   ]
  },
  {
   "cell_type": "markdown",
   "metadata": {},
   "source": [
    "<p>Дано множество наблюдений (файл \"Reg_A5.csv\"), регрессор - линейная регрессия. Найти степень полинома с минимальной ошибкой на проверочном подможестве, определить среднеквадратическую ошибку на тестовом подмножестве? (Степень полинома от 1 до 25)</p>\n",
    "<p>\n",
    "Построить графики:<br>\n",
    "1) зависимости <b>среднеквадратической ошибки</b> от степени полинома для обучающего и проверочного подмножеств<br>\n",
    "2) зависимости <b>R-квадрата</b> от степени полинома для обучающего и проверочного подмножеств<br>\n",
    "3) функцию регрессии (наилучший случай) + исходные данные</p>"
   ]
  },
  {
   "cell_type": "code",
   "execution_count": 4,
   "metadata": {
    "collapsed": false
   },
   "outputs": [],
   "source": [
    "#0) Подключение библиотек\n",
    "import pandas as pd\n",
    "import matplotlib.pyplot as plt\n",
    "from sklearn import *\n",
    "import numpy as np\n",
    "from scipy import stats\n",
    "from sklearn.pipeline import Pipeline\n",
    "from sklearn.preprocessing import PolynomialFeatures\n",
    "from sklearn.linear_model import LinearRegression\n",
    "from sklearn.metrics import mean_squared_error\n",
    "from sklearn.metrics import r2_score\n",
    "\n",
    "%matplotlib inline\n",
    "\n",
    "from matplotlib.colors import ListedColormap\n",
    "clrMap = ListedColormap([\"blue\", \"red\", \"green\"])\n",
    "\n",
    "\n",
    "# отключим предупреждения Anaconda\n",
    "import warnings\n",
    "warnings.simplefilter('ignore')"
   ]
  },
  {
   "cell_type": "markdown",
   "metadata": {},
   "source": [
    "<p>1. Загрузка исходных данных</p>"
   ]
  },
  {
   "cell_type": "code",
   "execution_count": 5,
   "metadata": {
    "collapsed": false
   },
   "outputs": [
    {
     "data": {
      "image/png": "[encoded data removed]",
      "text/plain": [
       "<matplotlib.figure.Figure at 0x7fc119318550>"
      ]
     },
     "metadata": {},
     "output_type": "display_data"
    }
   ],
   "source": [
    "df = pd.read_csv(\"data/Reg_A5.csv\")\n",
    "\n",
    "x = df.X.values\n",
    "y = df.Y.values\n",
    "\n",
    "plt.title(\"Initial Data\")\n",
    "plt.xlabel(\"X\")\n",
    "plt.ylabel(\"Y\")\n",
    "plt.plot(x, y, \"o\")\n",
    "plt.grid(True)\n",
    "plt.show()"
   ]
  },
  {
   "cell_type": "markdown",
   "metadata": {},
   "source": [
    "<p>2. Формирование обучающего (train), проверочного (val) и тестового (test) подмножеств двумя способами</p>"
   ]
  },
  {
   "cell_type": "code",
   "execution_count": 6,
   "metadata": {
    "collapsed": false
   },
   "outputs": [
    {
     "name": "stdout",
     "output_type": "stream",
     "text": [
      "4 \n",
      "\n",
      "[[ 4.49012154]\n",
      " [ 1.7582632 ]\n",
      " [ 4.65457918]\n",
      " [ 1.69339566]\n",
      " [ 4.26966875]\n",
      " [ 4.22192897]\n",
      " [ 4.58887061]\n",
      " [ 1.68877323]\n",
      " [ 3.07350856]\n",
      " [ 4.24254591]\n",
      " [ 2.14746089]\n",
      " [ 1.28651444]\n",
      " [ 1.55141853]\n",
      " [ 0.45053367]\n",
      " [ 2.18059128]\n",
      " [ 1.31107831]\n",
      " [ 1.14391167]\n",
      " [ 2.98685824]\n",
      " [ 2.71732519]\n",
      " [ 1.49864936]\n",
      " [ 0.71085024]\n",
      " [ 3.00519477]\n",
      " [ 0.74266726]\n",
      " [ 3.60877659]\n",
      " [ 0.21548678]\n",
      " [ 2.81595342]\n",
      " [ 0.10582596]\n",
      " [ 0.18778838]\n",
      " [ 2.49253506]\n",
      " [ 4.88540363]\n",
      " [ 1.925568  ]\n",
      " [ 4.5141588 ]\n",
      " [ 1.52729959]\n",
      " [ 2.29362115]\n",
      " [ 0.04610551]\n",
      " [ 2.73793078]\n",
      " [ 4.29324508]\n",
      " [ 2.56096132]\n",
      " [ 0.18547207]\n",
      " [ 3.74401941]\n",
      " [ 2.94673856]\n",
      " [ 2.20916587]\n",
      " [ 4.02611598]\n",
      " [ 3.81620294]\n",
      " [ 3.91982143]\n",
      " [ 1.06593283]\n",
      " [ 3.57287892]\n",
      " [ 4.10608238]\n",
      " [ 0.23369614]\n",
      " [ 3.02788782]\n",
      " [ 3.16824117]\n",
      " [ 0.61254991]\n",
      " [ 3.90974559]\n",
      " [ 2.56561354]\n",
      " [ 3.42679909]\n",
      " [ 0.46720188]\n",
      " [ 4.06310481]\n",
      " [ 4.00034375]\n",
      " [ 1.96264622]\n",
      " [ 1.52286678]\n",
      " [ 3.7230162 ]\n",
      " [ 4.06658042]\n",
      " [ 2.08449204]\n",
      " [ 0.12216322]\n",
      " [ 3.22163308]\n",
      " [ 1.31701582]\n",
      " [ 4.28425151]\n",
      " [ 0.07430012]\n",
      " [ 0.92313419]\n",
      " [ 0.52309872]\n",
      " [ 3.36733463]\n",
      " [ 1.59136403]\n",
      " [ 0.24597579]\n",
      " [ 4.89409573]\n",
      " [ 0.12631973]\n",
      " [ 0.56992181]\n",
      " [ 2.29257103]\n",
      " [ 3.85660322]\n",
      " [ 1.69853922]\n",
      " [ 1.86014451]\n",
      " [ 3.00477104]\n",
      " [ 0.61167961]\n",
      " [ 1.50105306]\n",
      " [ 3.86915148]\n",
      " [ 0.82507949]\n",
      " [ 1.62755819]\n",
      " [ 0.12699891]\n",
      " [ 3.95878498]\n",
      " [ 3.37066808]\n",
      " [ 2.846357  ]\n",
      " [ 3.46945033]\n",
      " [ 4.39048321]\n",
      " [ 1.92015384]\n",
      " [ 2.71204258]\n",
      " [ 4.76321968]\n",
      " [ 0.28314101]\n",
      " [ 3.27863371]\n",
      " [ 0.99031432]\n",
      " [ 1.65359656]\n",
      " [ 4.32239597]\n",
      " [ 2.86514452]\n",
      " [ 0.56980154]\n",
      " [ 2.8077868 ]\n",
      " [ 1.46398988]\n",
      " [ 2.98918324]\n",
      " [ 4.70353519]\n",
      " [ 1.82682486]\n",
      " [ 0.34048637]\n",
      " [ 1.50350028]\n",
      " [ 2.99525899]\n",
      " [ 3.97154531]\n",
      " [ 1.78590879]\n",
      " [ 0.10375975]\n",
      " [ 4.13951588]\n",
      " [ 0.9947377 ]\n",
      " [ 1.13386672]\n",
      " [ 2.08754572]\n",
      " [ 1.45938034]\n",
      " [ 4.8740625 ]\n",
      " [ 4.22309431]\n",
      " [ 0.2344816 ]\n",
      " [ 1.90705767]\n",
      " [ 4.69257099]\n",
      " [ 3.22536063]\n",
      " [ 3.25198591]\n",
      " [ 2.265525  ]\n",
      " [ 0.83101074]\n",
      " [ 0.92433775]\n",
      " [ 1.96709556]\n",
      " [ 2.60823576]\n",
      " [ 0.92017411]\n",
      " [ 3.71337289]\n",
      " [ 3.19017541]\n",
      " [ 2.99468225]\n",
      " [ 2.14225369]\n",
      " [ 3.83280063]\n",
      " [ 0.88021067]\n",
      " [ 2.59898493]\n",
      " [ 2.06138039]\n",
      " [ 1.57463436]\n",
      " [ 0.29411184]\n",
      " [ 3.07868438]\n",
      " [ 3.13143574]\n",
      " [ 1.02975129]\n",
      " [ 2.78789094]\n",
      " [ 0.19979604]\n",
      " [ 1.21037938]\n",
      " [ 3.96636617]\n",
      " [ 1.60571016]\n",
      " [ 4.47854474]\n",
      " [ 0.44169907]\n",
      " [ 1.46915778]\n",
      " [ 1.8401334 ]\n",
      " [ 0.38542702]\n",
      " [ 0.89451404]\n",
      " [ 4.4196824 ]\n",
      " [ 3.01581488]]\n",
      "[[ 2.53489315]\n",
      " [ 0.99050329]\n",
      " [ 1.92057224]\n",
      " [ 0.73810096]\n",
      " [ 4.28415521]\n",
      " [ 4.20123658]\n",
      " [ 2.02689644]\n",
      " [ 1.59618044]\n",
      " [ 0.84036399]\n",
      " [ 4.93812737]\n",
      " [ 3.92433359]\n",
      " [ 2.66735442]\n",
      " [ 1.75606751]\n",
      " [ 1.28737712]\n",
      " [ 2.99127836]\n",
      " [ 1.98220939]\n",
      " [ 0.46730187]\n",
      " [ 1.5153128 ]\n",
      " [ 4.13061422]\n",
      " [ 4.09643498]\n",
      " [ 2.69073759]\n",
      " [ 2.67278974]\n",
      " [ 1.24306254]\n",
      " [ 0.25238835]\n",
      " [ 4.39233089]\n",
      " [ 0.30025103]\n",
      " [ 0.1534242 ]\n",
      " [ 0.79596867]\n",
      " [ 2.47524315]\n",
      " [ 3.22613873]\n",
      " [ 3.68191352]\n",
      " [ 4.38667621]\n",
      " [ 2.42010445]\n",
      " [ 2.89068215]\n",
      " [ 1.50435654]\n",
      " [ 3.91357409]\n",
      " [ 3.76248085]\n",
      " [ 1.37397566]\n",
      " [ 3.00525946]\n",
      " [ 4.76696673]\n",
      " [ 2.28152274]\n",
      " [ 1.09384675]\n",
      " [ 2.28348768]\n",
      " [ 3.59301405]\n",
      " [ 0.7557601 ]\n",
      " [ 0.07317438]\n",
      " [ 4.5432444 ]\n",
      " [ 4.01784174]\n",
      " [ 1.68907944]\n",
      " [ 0.96626866]\n",
      " [ 2.17006997]\n",
      " [ 2.78647703]\n",
      " [ 0.6508777 ]]\n",
      "[[ 4.49012154]\n",
      " [ 1.7582632 ]\n",
      " [ 1.69339566]\n",
      " [ 2.53489315]\n",
      " [ 0.99050329]\n",
      " [ 4.26966875]\n",
      " [ 1.92057224]\n",
      " [ 4.58887061]\n",
      " [ 3.07350856]\n",
      " [ 0.73810096]\n",
      " [ 4.24254591]\n",
      " [ 4.28415521]\n",
      " [ 4.20123658]\n",
      " [ 1.28651444]\n",
      " [ 2.02689644]\n",
      " [ 2.18059128]\n",
      " [ 1.59618044]\n",
      " [ 1.31107831]\n",
      " [ 2.98685824]\n",
      " [ 0.84036399]\n",
      " [ 1.49864936]\n",
      " [ 0.71085024]\n",
      " [ 0.74266726]\n",
      " [ 3.60877659]\n",
      " [ 4.93812737]\n",
      " [ 0.21548678]\n",
      " [ 2.81595342]\n",
      " [ 0.10582596]\n",
      " [ 3.92433359]\n",
      " [ 0.18778838]\n",
      " [ 2.49253506]\n",
      " [ 1.925568  ]\n",
      " [ 4.5141588 ]\n",
      " [ 2.66735442]\n",
      " [ 1.75606751]\n",
      " [ 0.04610551]\n",
      " [ 2.73793078]\n",
      " [ 4.29324508]\n",
      " [ 2.56096132]\n",
      " [ 1.28737712]\n",
      " [ 3.74401941]\n",
      " [ 2.99127836]\n",
      " [ 4.02611598]\n",
      " [ 3.81620294]\n",
      " [ 1.98220939]\n",
      " [ 0.23369614]\n",
      " [ 3.02788782]\n",
      " [ 0.46730187]\n",
      " [ 3.16824117]\n",
      " [ 0.61254991]\n",
      " [ 3.90974559]\n",
      " [ 2.56561354]\n",
      " [ 1.5153128 ]\n",
      " [ 3.42679909]\n",
      " [ 4.13061422]\n",
      " [ 4.09643498]\n",
      " [ 4.00034375]\n",
      " [ 1.96264622]\n",
      " [ 1.52286678]\n",
      " [ 2.69073759]\n",
      " [ 3.7230162 ]\n",
      " [ 4.06658042]\n",
      " [ 2.67278974]\n",
      " [ 2.08449204]\n",
      " [ 0.12216322]\n",
      " [ 1.24306254]\n",
      " [ 3.22163308]\n",
      " [ 1.31701582]\n",
      " [ 0.25238835]\n",
      " [ 0.07430012]\n",
      " [ 4.39233089]\n",
      " [ 0.92313419]\n",
      " [ 0.52309872]\n",
      " [ 3.36733463]\n",
      " [ 0.30025103]\n",
      " [ 0.24597579]\n",
      " [ 4.89409573]\n",
      " [ 0.12631973]\n",
      " [ 0.1534242 ]\n",
      " [ 0.56992181]\n",
      " [ 2.29257103]\n",
      " [ 0.79596867]\n",
      " [ 3.85660322]\n",
      " [ 2.47524315]\n",
      " [ 0.82507949]\n",
      " [ 1.62755819]\n",
      " [ 0.12699891]\n",
      " [ 3.22613873]\n",
      " [ 3.95878498]\n",
      " [ 3.68191352]\n",
      " [ 3.37066808]\n",
      " [ 2.846357  ]\n",
      " [ 3.46945033]\n",
      " [ 4.38667621]\n",
      " [ 4.39048321]\n",
      " [ 2.42010445]\n",
      " [ 2.89068215]\n",
      " [ 2.71204258]\n",
      " [ 4.76321968]\n",
      " [ 0.99031432]\n",
      " [ 1.65359656]\n",
      " [ 4.32239597]\n",
      " [ 1.50435654]\n",
      " [ 3.91357409]\n",
      " [ 3.76248085]\n",
      " [ 2.86514452]\n",
      " [ 1.37397566]\n",
      " [ 2.8077868 ]\n",
      " [ 3.00525946]\n",
      " [ 1.46398988]\n",
      " [ 4.76696673]\n",
      " [ 1.82682486]\n",
      " [ 0.34048637]\n",
      " [ 1.50350028]\n",
      " [ 2.28152274]\n",
      " [ 3.97154531]\n",
      " [ 1.09384675]\n",
      " [ 4.13951588]\n",
      " [ 2.28348768]\n",
      " [ 3.59301405]\n",
      " [ 1.13386672]\n",
      " [ 2.08754572]\n",
      " [ 1.45938034]\n",
      " [ 4.8740625 ]\n",
      " [ 4.22309431]\n",
      " [ 1.90705767]\n",
      " [ 0.7557601 ]\n",
      " [ 4.69257099]\n",
      " [ 3.25198591]\n",
      " [ 0.07317438]\n",
      " [ 2.265525  ]\n",
      " [ 0.83101074]\n",
      " [ 1.96709556]\n",
      " [ 2.60823576]\n",
      " [ 4.5432444 ]\n",
      " [ 0.92017411]\n",
      " [ 3.71337289]\n",
      " [ 3.19017541]\n",
      " [ 2.99468225]\n",
      " [ 2.14225369]\n",
      " [ 2.59898493]\n",
      " [ 4.01784174]\n",
      " [ 1.68907944]\n",
      " [ 0.96626866]\n",
      " [ 2.17006997]\n",
      " [ 2.78647703]\n",
      " [ 0.29411184]\n",
      " [ 3.07868438]\n",
      " [ 0.6508777 ]\n",
      " [ 3.13143574]\n",
      " [ 2.78789094]\n",
      " [ 1.21037938]\n",
      " [ 3.96636617]\n",
      " [ 4.47854474]\n",
      " [ 0.89451404]\n",
      " [ 4.4196824 ]\n",
      " [ 3.01581488]]\n",
      "[[ 4.65457918]\n",
      " [ 4.22192897]\n",
      " [ 1.68877323]\n",
      " [ 2.14746089]\n",
      " [ 1.55141853]\n",
      " [ 0.45053367]\n",
      " [ 1.14391167]\n",
      " [ 2.71732519]\n",
      " [ 3.00519477]\n",
      " [ 4.88540363]\n",
      " [ 1.52729959]\n",
      " [ 2.29362115]\n",
      " [ 0.18547207]\n",
      " [ 2.94673856]\n",
      " [ 2.20916587]\n",
      " [ 3.91982143]\n",
      " [ 1.06593283]\n",
      " [ 3.57287892]\n",
      " [ 4.10608238]\n",
      " [ 0.46720188]\n",
      " [ 4.06310481]\n",
      " [ 4.28425151]\n",
      " [ 1.59136403]\n",
      " [ 1.69853922]\n",
      " [ 1.86014451]\n",
      " [ 3.00477104]\n",
      " [ 0.61167961]\n",
      " [ 1.50105306]\n",
      " [ 3.86915148]\n",
      " [ 1.92015384]\n",
      " [ 0.28314101]\n",
      " [ 3.27863371]\n",
      " [ 0.56980154]\n",
      " [ 2.98918324]\n",
      " [ 4.70353519]\n",
      " [ 2.99525899]\n",
      " [ 1.78590879]\n",
      " [ 0.10375975]\n",
      " [ 0.9947377 ]\n",
      " [ 0.2344816 ]\n",
      " [ 3.22536063]\n",
      " [ 0.92433775]\n",
      " [ 3.83280063]\n",
      " [ 0.88021067]\n",
      " [ 2.06138039]\n",
      " [ 1.57463436]\n",
      " [ 1.02975129]\n",
      " [ 0.19979604]\n",
      " [ 1.60571016]\n",
      " [ 0.44169907]\n",
      " [ 1.46915778]\n",
      " [ 1.8401334 ]\n",
      " [ 0.38542702]]\n",
      "[[ 4.65457918]\n",
      " [ 2.53489315]\n",
      " [ 0.99050329]\n",
      " [ 1.92057224]\n",
      " [ 4.22192897]\n",
      " [ 4.58887061]\n",
      " [ 1.68877323]\n",
      " [ 0.73810096]\n",
      " [ 2.14746089]\n",
      " [ 4.28415521]\n",
      " [ 4.20123658]\n",
      " [ 2.02689644]\n",
      " [ 1.55141853]\n",
      " [ 0.45053367]\n",
      " [ 2.18059128]\n",
      " [ 1.59618044]\n",
      " [ 1.14391167]\n",
      " [ 2.98685824]\n",
      " [ 0.84036399]\n",
      " [ 2.71732519]\n",
      " [ 1.49864936]\n",
      " [ 0.71085024]\n",
      " [ 3.00519477]\n",
      " [ 0.74266726]\n",
      " [ 3.60877659]\n",
      " [ 4.93812737]\n",
      " [ 0.21548678]\n",
      " [ 0.10582596]\n",
      " [ 3.92433359]\n",
      " [ 2.49253506]\n",
      " [ 4.88540363]\n",
      " [ 1.52729959]\n",
      " [ 2.66735442]\n",
      " [ 1.75606751]\n",
      " [ 2.29362115]\n",
      " [ 0.04610551]\n",
      " [ 0.18547207]\n",
      " [ 1.28737712]\n",
      " [ 3.74401941]\n",
      " [ 2.94673856]\n",
      " [ 2.99127836]\n",
      " [ 2.20916587]\n",
      " [ 3.81620294]\n",
      " [ 3.91982143]\n",
      " [ 1.06593283]\n",
      " [ 3.57287892]\n",
      " [ 4.10608238]\n",
      " [ 1.98220939]\n",
      " [ 0.46730187]\n",
      " [ 3.16824117]\n",
      " [ 2.56561354]\n",
      " [ 1.5153128 ]\n",
      " [ 3.42679909]\n",
      " [ 0.46720188]\n",
      " [ 4.13061422]\n",
      " [ 4.09643498]\n",
      " [ 4.06310481]\n",
      " [ 4.00034375]\n",
      " [ 1.52286678]\n",
      " [ 2.69073759]\n",
      " [ 3.7230162 ]\n",
      " [ 4.06658042]\n",
      " [ 2.67278974]\n",
      " [ 1.24306254]\n",
      " [ 3.22163308]\n",
      " [ 1.31701582]\n",
      " [ 4.28425151]\n",
      " [ 0.25238835]\n",
      " [ 4.39233089]\n",
      " [ 0.30025103]\n",
      " [ 1.59136403]\n",
      " [ 4.89409573]\n",
      " [ 0.1534242 ]\n",
      " [ 2.29257103]\n",
      " [ 0.79596867]\n",
      " [ 1.69853922]\n",
      " [ 1.86014451]\n",
      " [ 2.47524315]\n",
      " [ 3.00477104]\n",
      " [ 0.61167961]\n",
      " [ 1.50105306]\n",
      " [ 3.86915148]\n",
      " [ 1.62755819]\n",
      " [ 0.12699891]\n",
      " [ 3.22613873]\n",
      " [ 3.95878498]\n",
      " [ 3.68191352]\n",
      " [ 4.38667621]\n",
      " [ 2.42010445]\n",
      " [ 2.89068215]\n",
      " [ 1.92015384]\n",
      " [ 2.71204258]\n",
      " [ 4.76321968]\n",
      " [ 0.28314101]\n",
      " [ 3.27863371]\n",
      " [ 4.32239597]\n",
      " [ 1.50435654]\n",
      " [ 3.91357409]\n",
      " [ 3.76248085]\n",
      " [ 1.37397566]\n",
      " [ 0.56980154]\n",
      " [ 2.8077868 ]\n",
      " [ 3.00525946]\n",
      " [ 1.46398988]\n",
      " [ 2.98918324]\n",
      " [ 4.70353519]\n",
      " [ 4.76696673]\n",
      " [ 0.34048637]\n",
      " [ 1.50350028]\n",
      " [ 2.28152274]\n",
      " [ 2.99525899]\n",
      " [ 3.97154531]\n",
      " [ 1.78590879]\n",
      " [ 0.10375975]\n",
      " [ 1.09384675]\n",
      " [ 2.28348768]\n",
      " [ 0.9947377 ]\n",
      " [ 3.59301405]\n",
      " [ 1.45938034]\n",
      " [ 4.22309431]\n",
      " [ 0.2344816 ]\n",
      " [ 1.90705767]\n",
      " [ 0.7557601 ]\n",
      " [ 4.69257099]\n",
      " [ 3.22536063]\n",
      " [ 0.07317438]\n",
      " [ 2.265525  ]\n",
      " [ 0.83101074]\n",
      " [ 0.92433775]\n",
      " [ 1.96709556]\n",
      " [ 2.60823576]\n",
      " [ 4.5432444 ]\n",
      " [ 0.92017411]\n",
      " [ 2.99468225]\n",
      " [ 3.83280063]\n",
      " [ 0.88021067]\n",
      " [ 2.59898493]\n",
      " [ 4.01784174]\n",
      " [ 2.06138039]\n",
      " [ 1.68907944]\n",
      " [ 0.96626866]\n",
      " [ 1.57463436]\n",
      " [ 2.17006997]\n",
      " [ 2.78647703]\n",
      " [ 0.29411184]\n",
      " [ 3.07868438]\n",
      " [ 0.6508777 ]\n",
      " [ 3.13143574]\n",
      " [ 1.02975129]\n",
      " [ 2.78789094]\n",
      " [ 0.19979604]\n",
      " [ 1.21037938]\n",
      " [ 1.60571016]\n",
      " [ 4.47854474]\n",
      " [ 0.44169907]\n",
      " [ 1.46915778]\n",
      " [ 1.8401334 ]\n",
      " [ 0.38542702]]\n",
      "[[ 4.49012154]\n",
      " [ 1.7582632 ]\n",
      " [ 1.69339566]\n",
      " [ 4.26966875]\n",
      " [ 3.07350856]\n",
      " [ 4.24254591]\n",
      " [ 1.28651444]\n",
      " [ 1.31107831]\n",
      " [ 2.81595342]\n",
      " [ 0.18778838]\n",
      " [ 1.925568  ]\n",
      " [ 4.5141588 ]\n",
      " [ 2.73793078]\n",
      " [ 4.29324508]\n",
      " [ 2.56096132]\n",
      " [ 4.02611598]\n",
      " [ 0.23369614]\n",
      " [ 3.02788782]\n",
      " [ 0.61254991]\n",
      " [ 3.90974559]\n",
      " [ 1.96264622]\n",
      " [ 2.08449204]\n",
      " [ 0.12216322]\n",
      " [ 0.07430012]\n",
      " [ 0.92313419]\n",
      " [ 0.52309872]\n",
      " [ 3.36733463]\n",
      " [ 0.24597579]\n",
      " [ 0.12631973]\n",
      " [ 0.56992181]\n",
      " [ 3.85660322]\n",
      " [ 0.82507949]\n",
      " [ 3.37066808]\n",
      " [ 2.846357  ]\n",
      " [ 3.46945033]\n",
      " [ 4.39048321]\n",
      " [ 0.99031432]\n",
      " [ 1.65359656]\n",
      " [ 2.86514452]\n",
      " [ 1.82682486]\n",
      " [ 4.13951588]\n",
      " [ 1.13386672]\n",
      " [ 2.08754572]\n",
      " [ 4.8740625 ]\n",
      " [ 3.25198591]\n",
      " [ 3.71337289]\n",
      " [ 3.19017541]\n",
      " [ 2.14225369]\n",
      " [ 3.96636617]\n",
      " [ 0.89451404]\n",
      " [ 4.4196824 ]\n",
      " [ 3.01581488]]\n",
      "[[ 4.49012154]\n",
      " [ 1.7582632 ]\n",
      " [ 4.65457918]\n",
      " [ 1.69339566]\n",
      " [ 2.53489315]\n",
      " [ 0.99050329]\n",
      " [ 4.26966875]\n",
      " [ 1.92057224]\n",
      " [ 4.22192897]\n",
      " [ 1.68877323]\n",
      " [ 3.07350856]\n",
      " [ 0.73810096]\n",
      " [ 4.24254591]\n",
      " [ 2.14746089]\n",
      " [ 4.28415521]\n",
      " [ 4.20123658]\n",
      " [ 1.28651444]\n",
      " [ 2.02689644]\n",
      " [ 1.55141853]\n",
      " [ 0.45053367]\n",
      " [ 1.59618044]\n",
      " [ 1.31107831]\n",
      " [ 1.14391167]\n",
      " [ 0.84036399]\n",
      " [ 2.71732519]\n",
      " [ 3.00519477]\n",
      " [ 4.93812737]\n",
      " [ 2.81595342]\n",
      " [ 3.92433359]\n",
      " [ 0.18778838]\n",
      " [ 4.88540363]\n",
      " [ 1.925568  ]\n",
      " [ 4.5141588 ]\n",
      " [ 1.52729959]\n",
      " [ 2.66735442]\n",
      " [ 1.75606751]\n",
      " [ 2.29362115]\n",
      " [ 2.73793078]\n",
      " [ 4.29324508]\n",
      " [ 2.56096132]\n",
      " [ 0.18547207]\n",
      " [ 1.28737712]\n",
      " [ 2.94673856]\n",
      " [ 2.99127836]\n",
      " [ 2.20916587]\n",
      " [ 4.02611598]\n",
      " [ 3.91982143]\n",
      " [ 1.06593283]\n",
      " [ 3.57287892]\n",
      " [ 4.10608238]\n",
      " [ 1.98220939]\n",
      " [ 0.23369614]\n",
      " [ 3.02788782]\n",
      " [ 0.46730187]\n",
      " [ 0.61254991]\n",
      " [ 3.90974559]\n",
      " [ 1.5153128 ]\n",
      " [ 0.46720188]\n",
      " [ 4.13061422]\n",
      " [ 4.09643498]\n",
      " [ 4.06310481]\n",
      " [ 1.96264622]\n",
      " [ 2.69073759]\n",
      " [ 2.67278974]\n",
      " [ 2.08449204]\n",
      " [ 0.12216322]\n",
      " [ 1.24306254]\n",
      " [ 4.28425151]\n",
      " [ 0.25238835]\n",
      " [ 0.07430012]\n",
      " [ 4.39233089]\n",
      " [ 0.92313419]\n",
      " [ 0.52309872]\n",
      " [ 3.36733463]\n",
      " [ 0.30025103]\n",
      " [ 1.59136403]\n",
      " [ 0.24597579]\n",
      " [ 0.12631973]\n",
      " [ 0.1534242 ]\n",
      " [ 0.56992181]\n",
      " [ 0.79596867]\n",
      " [ 3.85660322]\n",
      " [ 1.69853922]\n",
      " [ 1.86014451]\n",
      " [ 2.47524315]\n",
      " [ 3.00477104]\n",
      " [ 0.61167961]\n",
      " [ 1.50105306]\n",
      " [ 3.86915148]\n",
      " [ 0.82507949]\n",
      " [ 3.22613873]\n",
      " [ 3.68191352]\n",
      " [ 3.37066808]\n",
      " [ 2.846357  ]\n",
      " [ 3.46945033]\n",
      " [ 4.38667621]\n",
      " [ 4.39048321]\n",
      " [ 2.42010445]\n",
      " [ 2.89068215]\n",
      " [ 1.92015384]\n",
      " [ 0.28314101]\n",
      " [ 3.27863371]\n",
      " [ 0.99031432]\n",
      " [ 1.65359656]\n",
      " [ 1.50435654]\n",
      " [ 3.91357409]\n",
      " [ 3.76248085]\n",
      " [ 2.86514452]\n",
      " [ 1.37397566]\n",
      " [ 0.56980154]\n",
      " [ 3.00525946]\n",
      " [ 2.98918324]\n",
      " [ 4.70353519]\n",
      " [ 4.76696673]\n",
      " [ 1.82682486]\n",
      " [ 2.28152274]\n",
      " [ 2.99525899]\n",
      " [ 1.78590879]\n",
      " [ 0.10375975]\n",
      " [ 1.09384675]\n",
      " [ 4.13951588]\n",
      " [ 2.28348768]\n",
      " [ 0.9947377 ]\n",
      " [ 3.59301405]\n",
      " [ 1.13386672]\n",
      " [ 2.08754572]\n",
      " [ 4.8740625 ]\n",
      " [ 0.2344816 ]\n",
      " [ 0.7557601 ]\n",
      " [ 3.22536063]\n",
      " [ 3.25198591]\n",
      " [ 0.07317438]\n",
      " [ 0.92433775]\n",
      " [ 4.5432444 ]\n",
      " [ 3.71337289]\n",
      " [ 3.19017541]\n",
      " [ 2.14225369]\n",
      " [ 3.83280063]\n",
      " [ 0.88021067]\n",
      " [ 4.01784174]\n",
      " [ 2.06138039]\n",
      " [ 1.68907944]\n",
      " [ 0.96626866]\n",
      " [ 1.57463436]\n",
      " [ 2.17006997]\n",
      " [ 2.78647703]\n",
      " [ 0.6508777 ]\n",
      " [ 1.02975129]\n",
      " [ 0.19979604]\n",
      " [ 3.96636617]\n",
      " [ 1.60571016]\n",
      " [ 0.44169907]\n",
      " [ 1.46915778]\n",
      " [ 1.8401334 ]\n",
      " [ 0.38542702]\n",
      " [ 0.89451404]\n",
      " [ 4.4196824 ]\n",
      " [ 3.01581488]]\n",
      "[[ 4.58887061]\n",
      " [ 2.18059128]\n",
      " [ 2.98685824]\n",
      " [ 1.49864936]\n",
      " [ 0.71085024]\n",
      " [ 0.74266726]\n",
      " [ 3.60877659]\n",
      " [ 0.21548678]\n",
      " [ 0.10582596]\n",
      " [ 2.49253506]\n",
      " [ 0.04610551]\n",
      " [ 3.74401941]\n",
      " [ 3.81620294]\n",
      " [ 3.16824117]\n",
      " [ 2.56561354]\n",
      " [ 3.42679909]\n",
      " [ 4.00034375]\n",
      " [ 1.52286678]\n",
      " [ 3.7230162 ]\n",
      " [ 4.06658042]\n",
      " [ 3.22163308]\n",
      " [ 1.31701582]\n",
      " [ 4.89409573]\n",
      " [ 2.29257103]\n",
      " [ 1.62755819]\n",
      " [ 0.12699891]\n",
      " [ 3.95878498]\n",
      " [ 2.71204258]\n",
      " [ 4.76321968]\n",
      " [ 4.32239597]\n",
      " [ 2.8077868 ]\n",
      " [ 1.46398988]\n",
      " [ 0.34048637]\n",
      " [ 1.50350028]\n",
      " [ 3.97154531]\n",
      " [ 1.45938034]\n",
      " [ 4.22309431]\n",
      " [ 1.90705767]\n",
      " [ 4.69257099]\n",
      " [ 2.265525  ]\n",
      " [ 0.83101074]\n",
      " [ 1.96709556]\n",
      " [ 2.60823576]\n",
      " [ 0.92017411]\n",
      " [ 2.99468225]\n",
      " [ 2.59898493]\n",
      " [ 0.29411184]\n",
      " [ 3.07868438]\n",
      " [ 3.13143574]\n",
      " [ 2.78789094]\n",
      " [ 1.21037938]\n",
      " [ 4.47854474]]\n"
     ]
    }
   ],
   "source": [
    "from sklearn import cross_validation\n",
    "from sklearn.cross_validation import KFold\n",
    "x = x.reshape(-1,1)\n",
    "\n",
    "\n",
    "# Способ 1\n",
    "x_train_init, x_test, y_train_init, y_test = cross_validation.train_test_split(x, y, test_size=0.3, random_state=0)\n",
    "x_train, x_val, y_train, y_val = cross_validation.train_test_split(x_train_init, y_train_init, test_size=0.25, random_state=0)\n",
    "\n",
    "# Способ 2\n",
    "# Воспользоваться KFold с параметрами n=len(x_train_init), n_folds=4, shuffle=True, random_state=0\n",
    "\n",
    "#Ваш код\n",
    "\n",
    "\n",
    "kf = KFold(n=len(x_train_init), n_folds=4, shuffle=True, random_state=0)\n",
    "\n",
    "pf = [PolynomialFeatures(degree = i) for i in range(25)]\n",
    "\n",
    "print(len(kf), '\\n')\n",
    "\n",
    "for train_indices, test_indices in kf:\n",
    "    x_train = x_train_init[train_indices]\n",
    "    x_val = x_train_init[test_indices]\n",
    "    y_train = y_train_init[train_indices] \n",
    "    y_val =  y_train_init[test_indices]\n",
    "    x_train = [p.fit_transform(x_train.reshape(-1, 1)) for p in pf]\n",
    "    x_val = [p.fit_transform(x_val.reshape(-1, 1)) for p in pf]\n",
    "    \n",
    "    print(x_train_init[train_indices])\n",
    "    print(x_train_init[test_indices])"
   ]
  },
  {
   "cell_type": "markdown",
   "metadata": {},
   "source": [
    "<p>3. Обучение</p>"
   ]
  },
  {
   "cell_type": "code",
   "execution_count": 11,
   "metadata": {
    "collapsed": false
   },
   "outputs": [
    {
     "ename": "NameError",
     "evalue": "name 'linReg' is not defined",
     "output_type": "error",
     "traceback": [
      "\u001b[0;31m---------------------------------------------------------------------------\u001b[0m",
      "\u001b[0;31mNameError\u001b[0m                                 Traceback (most recent call last)",
      "\u001b[0;32m<ipython-input-11-6c45535dfade>\u001b[0m in \u001b[0;36m<module>\u001b[0;34m()\u001b[0m\n\u001b[1;32m      1\u001b[0m \u001b[0mlin_reg\u001b[0m \u001b[0;34m=\u001b[0m \u001b[0mLinearRegression\u001b[0m\u001b[0;34m(\u001b[0m\u001b[0mnormalize\u001b[0m\u001b[0;34m=\u001b[0m\u001b[0;32mTrue\u001b[0m\u001b[0;34m)\u001b[0m\u001b[0;34m\u001b[0m\u001b[0m\n\u001b[0;32m----> 2\u001b[0;31m \u001b[0mlin_reg\u001b[0m \u001b[0;34m=\u001b[0m \u001b[0mlinReg\u001b[0m\u001b[0;34m.\u001b[0m\u001b[0mfit\u001b[0m\u001b[0;34m(\u001b[0m\u001b[0mx_train\u001b[0m\u001b[0;34m,\u001b[0m \u001b[0my_train\u001b[0m\u001b[0;34m)\u001b[0m\u001b[0;34m\u001b[0m\u001b[0m\n\u001b[0m\u001b[1;32m      3\u001b[0m \u001b[0;34m\u001b[0m\u001b[0m\n\u001b[1;32m      4\u001b[0m \u001b[0;32mdef\u001b[0m \u001b[0mplot_deg_train_val\u001b[0m\u001b[0;34m(\u001b[0m\u001b[0mname\u001b[0m\u001b[0;34m,\u001b[0m \u001b[0mdeg\u001b[0m\u001b[0;34m,\u001b[0m \u001b[0mtrain\u001b[0m\u001b[0;34m,\u001b[0m \u001b[0mval\u001b[0m\u001b[0;34m,\u001b[0m \u001b[0mheight\u001b[0m\u001b[0;34m=\u001b[0m\u001b[0;36m4\u001b[0m\u001b[0;34m,\u001b[0m \u001b[0mwidth\u001b[0m\u001b[0;34m=\u001b[0m\u001b[0;36m8\u001b[0m\u001b[0;34m)\u001b[0m\u001b[0;34m:\u001b[0m\u001b[0;34m\u001b[0m\u001b[0m\n\u001b[1;32m      5\u001b[0m     \u001b[0mplt\u001b[0m\u001b[0;34m.\u001b[0m\u001b[0mfigure\u001b[0m\u001b[0;34m(\u001b[0m\u001b[0;36m1\u001b[0m\u001b[0;34m,\u001b[0m \u001b[0mfigsize\u001b[0m\u001b[0;34m=\u001b[0m\u001b[0;34m[\u001b[0m\u001b[0mwidth\u001b[0m\u001b[0;34m,\u001b[0m \u001b[0mheight\u001b[0m\u001b[0;34m]\u001b[0m\u001b[0;34m)\u001b[0m\u001b[0;34m\u001b[0m\u001b[0m\n",
      "\u001b[0;31mNameError\u001b[0m: name 'linReg' is not defined"
     ]
    }
   ],
   "source": [
    "lin_reg = LinearRegression(normalize=True)\n",
    "lin_reg = linReg.fit(x_train, y_train)\n",
    "\n",
    "def plot_deg_train_val(name, deg, train, val, height=4, width=8):\n",
    "    plt.figure(1, figsize=[width, height])\n",
    "    plt.xticks(deg)\n",
    "    plt.title(name)\n",
    "    plt.plot(deg, train, color='orange', lw=2)\n",
    "    plt.plot(deg, val, color='green', lw=2)\n",
    "    plt.legend([\"Train MSE\", \"Val MSE\"])\n",
    "    plt.grid(True)\n",
    "    plt.show()\n",
    "    \n",
    "def lin_regr_fit_metrics(deg, x, y, x_val, y_val, metric=0):\n",
    "    pl_lin_reg = Pipeline([(\"plF\", PolynomialFeatures(degree=deg)), (\"lr\", lin_reg)])\n",
    "    pl_lin_reg = pl_lin_reg.fit(x, y)\n",
    "    if metric == 1:\n",
    "        return mean_squared_error(y, pl_lin_reg.predict(x)), mean_squared_error(y_val, pl_lin_reg.predict(x_val))\n",
    "    else:\n",
    "        return pl_lin_reg.score(x, y), pl_lin_reg.score(x_val, y_val)"
   ]
  },
  {
   "cell_type": "code",
   "execution_count": 12,
   "metadata": {
    "collapsed": false
   },
   "outputs": [
    {
     "data": {
      "image/png": "[encoded data removed]",
      "text/plain": [
       "<matplotlib.figure.Figure at 0x7fc1170f5f28>"
      ]
     },
     "metadata": {},
     "output_type": "display_data"
    }
   ],
   "source": [
    "# Для способа 2\n",
    "#Для каждой степени полинома ошибка обучения:\n",
    "#MeanErrorTrain = 1/4*(ErrorTrainFold_1+ErrorTrainFold_2+ErrorTrainFold_3+ErrorTrainFold_4)\n",
    "\n",
    "#Для каждой степени полинома ошибка на проверочном подмножестве:\n",
    "#MeanErrorValidation = 1/4*(ErrorValFold_1+ErrorValFold_2+ErrorValFold_3+ErrorValFold_4)\n",
    "\n",
    "#Ваш код\n",
    "\n",
    "deg, trainList, valList = [i for i in range(1,26)], [], []\n",
    "\n",
    "for i in deg:\n",
    "    trainDeg = []\n",
    "    valDeg = []\n",
    "    for train, val in kf:\n",
    "        trainRes, valRes = lin_regr_fit_metrics(i, \n",
    "                                                x_train_init[train], \n",
    "                                                y_train_init[train],\n",
    "                                                x_train_init[val],\n",
    "                                                y_train_init[val], \n",
    "                                                metric=1)\n",
    "        trainDeg.append(trainRes)\n",
    "        valDeg.append(valRes)\n",
    "    trainList.append(np.mean(trainDeg))\n",
    "    valList.append(np.mean(valDeg))\n",
    "    \n",
    "\n",
    "plot_deg_train_val(\"Degree of a polynom (x-axis) and MSE (y-axis) with cross-validation\", deg, trainList, valList)"
   ]
  },
  {
   "cell_type": "markdown",
   "metadata": {},
   "source": [
    "<p>4. Графики зависимости среднеквадратической ошибки от степени полинома для обучающего и проверочного подмножеств</p>"
   ]
  },
  {
   "cell_type": "code",
   "execution_count": 21,
   "metadata": {
    "collapsed": false
   },
   "outputs": [
    {
     "ename": "ValueError",
     "evalue": "could not broadcast input array from shape (158,1) into shape (158)",
     "output_type": "error",
     "traceback": [
      "\u001b[0;31m---------------------------------------------------------------------------\u001b[0m",
      "\u001b[0;31mValueError\u001b[0m                                Traceback (most recent call last)",
      "\u001b[0;32m<ipython-input-21-637c7107f12d>\u001b[0m in \u001b[0;36m<module>\u001b[0;34m()\u001b[0m\n\u001b[0;32m----> 1\u001b[0;31m \u001b[0mx_train\u001b[0m\u001b[0;34m=\u001b[0m\u001b[0mnp\u001b[0m\u001b[0;34m.\u001b[0m\u001b[0marray\u001b[0m\u001b[0;34m(\u001b[0m\u001b[0mx_train\u001b[0m\u001b[0;34m)\u001b[0m\u001b[0;34m\u001b[0m\u001b[0m\n\u001b[0m\u001b[1;32m      2\u001b[0m \u001b[0mx_val\u001b[0m\u001b[0;34m=\u001b[0m\u001b[0mnp\u001b[0m\u001b[0;34m.\u001b[0m\u001b[0marray\u001b[0m\u001b[0;34m(\u001b[0m\u001b[0;34m[\u001b[0m\u001b[0mx_val\u001b[0m\u001b[0;34m]\u001b[0m\u001b[0;34m)\u001b[0m\u001b[0;34m.\u001b[0m\u001b[0mT\u001b[0m\u001b[0;34m\u001b[0m\u001b[0m\n\u001b[1;32m      3\u001b[0m \u001b[0mx_test\u001b[0m\u001b[0;34m=\u001b[0m\u001b[0mnp\u001b[0m\u001b[0;34m.\u001b[0m\u001b[0marray\u001b[0m\u001b[0;34m(\u001b[0m\u001b[0;34m[\u001b[0m\u001b[0mx_test\u001b[0m\u001b[0;34m]\u001b[0m\u001b[0;34m)\u001b[0m\u001b[0;34m.\u001b[0m\u001b[0mT\u001b[0m\u001b[0;34m\u001b[0m\u001b[0m\n\u001b[1;32m      4\u001b[0m \u001b[0mmse1_y\u001b[0m\u001b[0;34m=\u001b[0m\u001b[0;34m[\u001b[0m\u001b[0;36m0\u001b[0m \u001b[0;32mfor\u001b[0m \u001b[0mx\u001b[0m \u001b[0;32min\u001b[0m \u001b[0mrange\u001b[0m\u001b[0;34m(\u001b[0m\u001b[0;36m25\u001b[0m\u001b[0;34m)\u001b[0m\u001b[0;34m]\u001b[0m\u001b[0;34m\u001b[0m\u001b[0m\n\u001b[1;32m      5\u001b[0m \u001b[0mmse2_y\u001b[0m\u001b[0;34m=\u001b[0m\u001b[0;34m[\u001b[0m\u001b[0;36m0\u001b[0m \u001b[0;32mfor\u001b[0m \u001b[0mx\u001b[0m \u001b[0;32min\u001b[0m \u001b[0mrange\u001b[0m\u001b[0;34m(\u001b[0m\u001b[0;36m25\u001b[0m\u001b[0;34m)\u001b[0m\u001b[0;34m]\u001b[0m\u001b[0;34m\u001b[0m\u001b[0m\n",
      "\u001b[0;31mValueError\u001b[0m: could not broadcast input array from shape (158,1) into shape (158)"
     ]
    }
   ],
   "source": [
    "mse1_y=[0 for x in range(25)]\n",
    "mse2_y=[0 for x in range(25)]\n",
    "R1 = [0 for x in range(25)]\n",
    "R2 = [0 for x in range(25)]\n",
    "for i in range(1, 25):\n",
    "    plModelTr_PL = Pipeline([(\"plF\", PolynomialFeatures(degree=i)), (\"lr\", LinearRegression(fit_intercept=True, normalize=True))])\n",
    "    plModelTr_PL = plModelTr_PL.fit(x_train, y_train)\n",
    "    f_x = lambda x : polyval(x, plModelTr_PL.named_steps[\"lr\"].coef_) + plModelTr_PL.named_steps[\"lr\"].intercept_\n",
    "    y_pr_val = plModelTr_PL.predict(x_val)\n",
    "    y_pr_train = plModelTr_PL.predict(x_train)\n",
    "    mse1_y[i] = mean_squared_error(y_train, y_pr_train)\n",
    "    mse2_y[i] = mean_squared_error(y_val, y_pr_val)\n",
    "    \n",
    "plt.figure(1)\n",
    "plt.title(\"Both\")\n",
    "plt.plot(mse1_y, \"-o\")\n",
    "plt.plot(mse2_y, \"-o\", color = \"green\")\n",
    "plt.grid(True)\n",
    "plt.show()"
   ]
  },
  {
   "cell_type": "markdown",
   "metadata": {},
   "source": [
    "<p>5. Графики зависимости R-квадрата от степени полинома для обучающего и проверочного подмножеств</p>"
   ]
  },
  {
   "cell_type": "code",
   "execution_count": null,
   "metadata": {
    "collapsed": false
   },
   "outputs": [],
   "source": [
    "# Для способов 1 и 2\n",
    "\n",
    "deg, train, val = [i for i in range(0,26)], [], []\n",
    "\n",
    "#############################################################\n",
    "############################ TODO############################\n",
    "#############################################################\n",
    "\n",
    "# Reg = [LinearRegression(normalize = True).fit(q, y_train) for q in x_train]\n",
    "# y_pr_train = [Reg[i].predict(x_train[i]) for i in range(25)]\n",
    "# y_pr_val = [Reg[i].predict(x_val[i]) for i in range(25)]\n",
    "\n",
    "\n",
    "# for i in deg:\n",
    "#     r2 = r2_score(val_res, train_res)\n",
    "#     train.append(train_res)\n",
    "#     val.append(val_res)"
   ]
  },
  {
   "cell_type": "markdown",
   "metadata": {
    "collapsed": true
   },
   "source": [
    "<p>6. Выбор степени полинома + повторное обучение модели на train_init</p>"
   ]
  },
  {
   "cell_type": "code",
   "execution_count": null,
   "metadata": {
    "collapsed": false
   },
   "outputs": [],
   "source": [
    "# Для способов 1 и 2\n",
    "\n",
    "# наилучшая степень для полинома - 3\n",
    "pl_lin_regr = Pipeline([(\"plF\", PolynomialFeatures(degree=3)), (\"lr\", lin_reg)])\n",
    "pl_lin_regr = pl_lin_regr.fit(x_train_init, y_train_init)"
   ]
  },
  {
   "cell_type": "markdown",
   "metadata": {
    "collapsed": true
   },
   "source": [
    "<p>7. Cреднеквадратическая ошибка на тестовом подмножестве</p>"
   ]
  },
  {
   "cell_type": "code",
   "execution_count": null,
   "metadata": {
    "collapsed": false
   },
   "outputs": [],
   "source": [
    "# Для способов 1 и 2\n",
    "\n",
    "mean_squared_error(y_test, pl_lin_regr.predict(x_test))"
   ]
  },
  {
   "cell_type": "markdown",
   "metadata": {},
   "source": [
    "<p>8. График функции регрессии (наилучший случай) + исходные данные</p>"
   ]
  },
  {
   "cell_type": "code",
   "execution_count": null,
   "metadata": {
    "collapsed": false
   },
   "outputs": [],
   "source": [
    "# Для способов 1 и 2\n",
    "from numpy.polynomial.polynomial import polyval\n",
    "\n",
    "f_x = lambda x : polyval(x, lin_reg.coef_) + lin_reg.intercept_\n",
    "xx = np.linspace(0, 5, 100)\n",
    "\n",
    "plt.title('test')\n",
    "plt.plot(x_test, y_test, 'o')\n",
    "plt.grid(True)\n",
    "plt.plot(xx, f_x(xx), color = 'red', lw = 2)\n",
    "plt.plot(x_test, f_x(x_test), 'o', color = 'red', lw = 2)\n",
    "plt.vlines(x_test, ymin = y_test, ymax=f_x(x_test), colors = 'black', linestyles = 'dotted')\n",
    "plt.show()"
   ]
  },
  {
   "cell_type": "markdown",
   "metadata": {},
   "source": [
    "<p>9. Сравнение результатов для различных способов</p>"
   ]
  },
  {
   "cell_type": "code",
   "execution_count": null,
   "metadata": {
    "collapsed": true
   },
   "outputs": [],
   "source": [
    "# Малая MSE на тестовом подмножестве"
   ]
  },
  {
   "cell_type": "markdown",
   "metadata": {},
   "source": [
    "<p><b>Задача 2.</b> Классификация + кросс-валидация</p>"
   ]
  },
  {
   "cell_type": "markdown",
   "metadata": {},
   "source": [
    "<p>Дано множество наблюдений (файл \"Cl_A5_Vx.csv\"), классификатор - логистическая регрессия. Найти степень полинома с минимальной ошибкой на проверочном подможестве, определить долю правильных классификаций на тестовом подмножестве?</p>\n",
    "<p>\n",
    "Построить графики:<br>\n",
    "1) зависимости доли правильных классификаций от <b>степени полинома</b> для обучающего и проверочного подмножеств<br>\n",
    "2) зависимости доли правильных классификаций от <b>количества итераций</b> для обучающего и проверочного подмножеств для наилучшего случая<br>\n",
    "3) результат классификации для наилучшего случая для обучающего и проверочного подмножеств</p>\n",
    "4) результат классификации для тестового подмножества</p>"
   ]
  },
  {
   "cell_type": "markdown",
   "metadata": {},
   "source": [
    "<p>1. Загрузка исходных данных</p>"
   ]
  },
  {
   "cell_type": "code",
   "execution_count": null,
   "metadata": {
    "collapsed": false
   },
   "outputs": [],
   "source": [
    "df = pd.read_csv(\"data/Cl_A5_V\"+str(2)+\".csv\") #variant - вариант задания\n",
    "\n",
    "plt.title(\"Initial Data\")\n",
    "plt.xlabel(\"X1\")\n",
    "plt.ylabel(\"X2\")\n",
    "plt.scatter(df.X1, df.X2, c=df.Y, cmap=clrMap)\n",
    "plt.grid(True)\n",
    "plt.show()"
   ]
  },
  {
   "cell_type": "markdown",
   "metadata": {},
   "source": [
    "<p>2. Формирование обучающего (train), проверочного (val) и тестового (test) подмножеств</p>"
   ]
  },
  {
   "cell_type": "code",
   "execution_count": null,
   "metadata": {
    "collapsed": true
   },
   "outputs": [],
   "source": [
    "# Способ 1\n",
    "x_train_init, x_test, y_train_init, y_test = cross_validation.train_test_split(x, y, test_size=0.3, random_state=0)\n",
    "x_train, x_val, y_train, y_val = cross_validation.train_test_split(x_train_init, y_train_init, test_size=0.25, random_state=0)\n",
    "\n",
    "# Способ 2\n",
    "# Воспользоваться KFold с параметрами n=len(x_train_init), n_folds=4, shuffle=True, random_state=0\n",
    "\n",
    "#Ваш код"
   ]
  },
  {
   "cell_type": "markdown",
   "metadata": {},
   "source": [
    "<p>3. Обучение</p>"
   ]
  },
  {
   "cell_type": "code",
   "execution_count": null,
   "metadata": {
    "collapsed": true
   },
   "outputs": [],
   "source": [
    "#Параметры классификатора\n",
    "#penalty=\"l2\", fit_intercept=True, max_iter=x, C=1e5, solver=\"lbfgs\", random_state=12345\n",
    "\n",
    "# Для способов 1 и 2\n",
    "\n",
    "# Для способа 2\n",
    "#Для каждой степени полинома ошибка обучения:\n",
    "#MeanErrorTrain = 1/4*(ErrorTrainFold_1+ErrorTrainFold_2+ErrorTrainFold_3+ErrorTrainFold_4)\n",
    "\n",
    "#Для каждой степени полинома ошибка на проверочном подмножестве:\n",
    "#MeanErrorValidation = 1/4*(ErrorValFold_1+ErrorValFold_2+ErrorValFold_3+ErrorValFold_4)\n",
    "\n",
    "#Ваш код"
   ]
  },
  {
   "cell_type": "markdown",
   "metadata": {},
   "source": [
    "<p>4. Графики зависимости доли правильных классификаций от степени полинома для обучающего и проверочного подмножеств</p>"
   ]
  },
  {
   "cell_type": "code",
   "execution_count": null,
   "metadata": {
    "collapsed": true
   },
   "outputs": [],
   "source": [
    "# Для способов 1 и 2\n",
    "\n",
    "#Ваш код"
   ]
  },
  {
   "cell_type": "markdown",
   "metadata": {},
   "source": [
    "<p>5. Графики зависимости доли правильных классификаций от количества итераций для обучающего (train) и проверочного подмножеств для наилучшего случая - изменение параметра max_iter</p>"
   ]
  },
  {
   "cell_type": "code",
   "execution_count": null,
   "metadata": {
    "collapsed": true
   },
   "outputs": [],
   "source": [
    "# Для способов 1 и 2\n",
    "\n",
    "#Ваш код"
   ]
  },
  {
   "cell_type": "markdown",
   "metadata": {
    "collapsed": true
   },
   "source": [
    "<p>6. Повторное обучение на train_init наилучшей модели по данным из пункта 4</p>"
   ]
  },
  {
   "cell_type": "code",
   "execution_count": null,
   "metadata": {
    "collapsed": false
   },
   "outputs": [],
   "source": [
    "# Для способов 1 и 2\n",
    "\n",
    "#Ваш код"
   ]
  },
  {
   "cell_type": "markdown",
   "metadata": {},
   "source": [
    "<p><b>Задача 3.</b> Регрессия + регуляризация</p>"
   ]
  },
  {
   "cell_type": "markdown",
   "metadata": {},
   "source": [
    "<p>1. Загрузка исходных данных</p>"
   ]
  },
  {
   "cell_type": "code",
   "execution_count": null,
   "metadata": {
    "collapsed": false
   },
   "outputs": [],
   "source": [
    "df = pnd.read_csv(\"data/Reg_A5.csv\")\n",
    "\n",
    "x = df.X.values\n",
    "y = df.Y.values\n",
    "\n",
    "plt.title(\"Initial Data\")\n",
    "plt.xlabel(\"X\")\n",
    "plt.ylabel(\"Y\")\n",
    "plt.plot(x, y, \"o\")\n",
    "plt.grid(True)\n",
    "plt.show()"
   ]
  },
  {
   "cell_type": "markdown",
   "metadata": {},
   "source": [
    "<p>2. Обучение с кросс-валидацией (см. задачу 1 способ 2) и с использованием Ridge при различных значениях коэф. регуляризации</p>"
   ]
  },
  {
   "cell_type": "code",
   "execution_count": null,
   "metadata": {
    "collapsed": false
   },
   "outputs": [],
   "source": [
    "from sklearn.linear_model import Ridge\n",
    "\n",
    "# Регрессор - Ridge\n",
    "# Параметры: a fit_intercept=True, normalize=True, random_state=12345\n",
    "# Здесь и далее СТЕПЕНЬ ПОЛИНОМА - 16!!!\n",
    "\n",
    "x_train_init, x_test, y_train_init, y_test = cross_validation.train_test_split(x, y, test_size=0.3, random_state=0)\n",
    "x_train, x_val, y_train, y_val = cross_validation.train_test_split(x_train_init, y_train_init, test_size=0.25, random_state=0)\n",
    "x_train_init=np.array([x_train_init]).T\n",
    "x_test=np.array([x_test]).T\n",
    "\n",
    "\n",
    "plModelTr = Pipeline([(\"plF\", PolynomialFeatures(degree=16)), (\"Ridge\", Ridge(alpha=0, fit_intercept=True, normalize=True))])\n",
    "plModelTr = plModelTr.fit(x_train_init, y_train_init)\n",
    "\n",
    "#Коэф. регуляризации\n",
    "alphas = np.append([0.0], np.logspace(-8, 1, 20, base=10))\n",
    "\n",
    "#Для каждого значения коэф. регуляризации:\n",
    "#MeanErrorTrain = 1/4*(ErrorTrainFold_1+ErrorTrainFold_2+ErrorTrainFold_3+ErrorTrainFold_4)\n",
    "\n",
    "#Для каждой степени полинома ошибка на проверочном подмножестве:\n",
    "#MeanErrorValidation = 1/4*(ErrorValFold_1+ErrorValFold_2+ErrorValFold_3+ErrorValFold_4)\n",
    "\n",
    "#Ваш код\n",
    "\n",
    "kf = cross_validation.KFold(n = len(x_train_init), n_folds = 4, shuffle = True, random_state = 0)\n",
    "\n",
    "    \n",
    "mse1 = [0 * len(alphas)]\n",
    "mse2 = [0 * len(alphas)]\n",
    "pf = [PolynomialFeatures(degree = i) for i in range(25)]\n",
    "\n",
    "for TI, VI in kf:\n",
    "    x_train = x_train_init[TI]\n",
    "    x_val = x_train_init[VI]\n",
    "    y_train = y_train_init[TI] \n",
    "    y_val =  y_train_init[VI]\n",
    "    x_train = PolynomialFeatures(degree = 16).fit_transform(x_train.reshape(-1, 1))\n",
    "    x_val = PolynomialFeatures(degree = 16).fit_transform(x_val.reshape(-1, 1))\n",
    "       \n",
    "    Reg2 = [Ridge(alpha = i, fit_intercept = True, normalize = True).fit(x_train, y_train) for i in alphas]\n",
    "    y_pr_train = [plModelTr.predict(x_train) for plModelTr in Reg2]\n",
    "    y_pr_val = [plModelTr.predict(x_val) for plModelTr in Reg2]\n",
    "   \n",
    "    mse_train = np.array([((t - y_train)**2).sum() for t in y_pr_train]) / len(y_train)\n",
    "    mse_val = np.array([((t - y_val)**2).sum() for t in y_pr_val]) / len(y_val)\n",
    "    mse1 = mse1 + 0.25 * mse_train\n",
    "    mse2 = mse2 + 0.25 * mse_val"
   ]
  },
  {
   "cell_type": "markdown",
   "metadata": {},
   "source": [
    "<p>3. Графики зависимости среднеквадратической ошибки от степени полинома для обучающего и проверочного подмножеств</p>"
   ]
  },
  {
   "cell_type": "code",
   "execution_count": null,
   "metadata": {
    "collapsed": true
   },
   "outputs": [],
   "source": [
    "#Ваш код\n",
    "\n",
    "##############\n",
    "#### TODO ####\n",
    "##############"
   ]
  },
  {
   "cell_type": "markdown",
   "metadata": {},
   "source": [
    "<p>4. Графики зависимости R-квадрата от степени полинома для обучающего и проверочного подмножеств</p>"
   ]
  },
  {
   "cell_type": "code",
   "execution_count": null,
   "metadata": {
    "collapsed": true
   },
   "outputs": [],
   "source": [
    "#Ваш код\n",
    "\n",
    "##############\n",
    "#### TODO ####\n",
    "##############"
   ]
  },
  {
   "cell_type": "markdown",
   "metadata": {},
   "source": [
    "<p>5. Найти коэф. рег. с минимальной ошибкой на val</p>"
   ]
  },
  {
   "cell_type": "code",
   "execution_count": null,
   "metadata": {
    "collapsed": false
   },
   "outputs": [],
   "source": [
    "a = alphas[list(mse2).index(min(mse2))]\n",
    "a"
   ]
  },
  {
   "cell_type": "markdown",
   "metadata": {},
   "source": [
    "<p>8. Обучение на train_init с использованием Ridge и параметром alpha=(значение из пункта 2)</p>"
   ]
  },
  {
   "cell_type": "code",
   "execution_count": null,
   "metadata": {
    "collapsed": true
   },
   "outputs": [],
   "source": [
    "plModelTr1 = Pipeline([(\"plF\", PolynomialFeatures(degree=16)), (\"Ridge\", Ridge(alpha=0.00054555947811685149, fit_intercept=True, normalize=True))])\n",
    "plModelTr1 = plModelTr1.fit(x_train_init, y_train_init)\n",
    "y_test2 = plModelTr1.predict(x_test)"
   ]
  },
  {
   "cell_type": "markdown",
   "metadata": {},
   "source": [
    "<p>9. Определить ошибку на тестовом подмножестве</p>"
   ]
  },
  {
   "cell_type": "code",
   "execution_count": null,
   "metadata": {
    "collapsed": false
   },
   "outputs": [],
   "source": [
    "mean_squared_error(y_test, y_test2)"
   ]
  },
  {
   "cell_type": "markdown",
   "metadata": {},
   "source": [
    "<p>10. Построить график регрессии</p>"
   ]
  },
  {
   "cell_type": "code",
   "execution_count": null,
   "metadata": {
    "collapsed": false
   },
   "outputs": [],
   "source": [
    "xx = np.linspace(0, 5, 100)\n",
    "f_x = lambda x : polyval(x, plModelTr1.named_steps[\"Ridge\"].coef_) + plModelTr1.named_steps[\"Ridge\"].intercept_\n",
    "\n",
    "plt.figure(1, figsize=[16, 5])\n",
    "\n",
    "plt.subplot(1,2,1)\n",
    "plt.title('test')\n",
    "plt.plot(x_test, y_test, 'o')\n",
    "plt.grid(True)\n",
    "plt.plot(xx, f_x(xx), color = 'orange', lw = 2)\n",
    "plt.plot(x_test, f_x(x_test), 'o', color = 'red', lw = 2)\n",
    "plt.vlines(x_test, ymin = y_test, ymax=f_x(x_test), colors = 'black', linestyles = 'dotted')"
   ]
  },
  {
   "cell_type": "markdown",
   "metadata": {},
   "source": [
    "<p>11. Сделать заключение о влиянии коэффициента регуляризации</p>"
   ]
  },
  {
   "cell_type": "code",
   "execution_count": null,
   "metadata": {
    "collapsed": true
   },
   "outputs": [],
   "source": [
    "#"
   ]
  },
  {
   "cell_type": "code",
   "execution_count": null,
   "metadata": {
    "collapsed": true
   },
   "outputs": [],
   "source": []
  },
  {
   "cell_type": "code",
   "execution_count": null,
   "metadata": {
    "collapsed": true
   },
   "outputs": [],
   "source": []
  }
 ],
 "metadata": {
  "anaconda-cloud": {},
  "kernelspec": {
   "display_name": "Python [conda root]",
   "language": "python",
   "name": "conda-root-py"
  },
  "language_info": {
   "codemirror_mode": {
    "name": "ipython",
    "version": 3
   },
   "file_extension": ".py",
   "mimetype": "text/x-python",
   "name": "python",
   "nbconvert_exporter": "python",
   "pygments_lexer": "ipython3",
   "version": "3.5.2"
  }
 },
 "nbformat": 4,
 "nbformat_minor": 0
}
