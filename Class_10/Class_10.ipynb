{
 "cells": [
  {
   "cell_type": "markdown",
   "metadata": {},
   "source": [
    "<div style=\"font-size:18pt; padding-top:20px; text-align:center\">СЕМИНАР 12. <b>Объединение деревьев и </b> <span style=\"font-weight:bold; color:green\">NumPy/SciPy/Sklearn</span></div><hr>\n",
    "<div style=\"text-align:right;\">Папулин С.Ю. <span style=\"font-style: italic;font-weight: bold;\">(papulin_hse@mail.ru)</span></div>"
   ]
  },
  {
   "cell_type": "markdown",
   "metadata": {},
   "source": [
    "<a name=\"0\"></a>\n",
    "<div><span style=\"font-size:14pt; font-weight:bold\">Содержание</span>\n",
    "    <ol>\n",
    "        <li><a href=\"#1\">Bootstrap Aggregating - Bagging</a>\n",
    "        <li><a href=\"#2\">Случайный лес - Random Forest</a>\n",
    "        <li><a href=\"#3\">Extra Trees</a>\n",
    "        <li><a href=\"#4\">Сравнение методов</a>\n",
    "        <li><a href=\"#5\">Источники</a>\n",
    "        </li>\n",
    "    </ol>\n",
    "</div>"
   ]
  },
  {
   "cell_type": "markdown",
   "metadata": {},
   "source": [
    "<p><b>Подлючение библиотек</b></p>"
   ]
  },
  {
   "cell_type": "code",
   "execution_count": null,
   "metadata": {
    "collapsed": true
   },
   "outputs": [],
   "source": [
    "import time\n",
    "import numpy as np\n",
    "import pandas as pnd\n",
    "import matplotlib.pyplot as plt\n",
    "%matplotlib inline"
   ]
  },
  {
   "cell_type": "code",
   "execution_count": null,
   "metadata": {
    "collapsed": true
   },
   "outputs": [],
   "source": [
    "from scipy import stats"
   ]
  },
  {
   "cell_type": "code",
   "execution_count": null,
   "metadata": {
    "collapsed": false
   },
   "outputs": [],
   "source": [
    "from sklearn import cross_validation"
   ]
  },
  {
   "cell_type": "code",
   "execution_count": null,
   "metadata": {
    "collapsed": true
   },
   "outputs": [],
   "source": [
    "from sklearn.datasets import make_classification\n",
    "from matplotlib import cm\n",
    "from matplotlib.colors import ListedColormap"
   ]
  },
  {
   "cell_type": "code",
   "execution_count": null,
   "metadata": {
    "collapsed": true
   },
   "outputs": [],
   "source": [
    "from sklearn import tree"
   ]
  },
  {
   "cell_type": "markdown",
   "metadata": {},
   "source": [
    "<a name=\"1\"></a>\n",
    "<div style=\"display:table; width:100%; padding-top:10px; padding-bottom:10px; border-bottom:1px solid lightgrey\">\n",
    "    <div style=\"display:table-row\">\n",
    "        <div style=\"display:table-cell; width:80%; font-size:14pt; font-weight:bold\">1. Bootstrap Aggregating - Bagging</div>\n",
    "    \t<div style=\"display:table-cell; width:20%; text-align:center; background-color:whitesmoke; border:1px solid lightgrey\"><a href=\"#0\">К содержанию</a></div>\n",
    "    </div>\n",
    "</div>"
   ]
  },
  {
   "cell_type": "markdown",
   "metadata": {},
   "source": [
    "<p><b>Обычное дерево - классификация</b></p>"
   ]
  },
  {
   "cell_type": "code",
   "execution_count": null,
   "metadata": {
    "collapsed": false
   },
   "outputs": [],
   "source": [
    "#Исходные данные\n",
    "n = 500\n",
    "x, y = make_classification(n_samples=n, n_features=2, n_redundant=0, \n",
    "                           n_informative=2, n_clusters_per_class=1, n_classes=3, class_sep=1,\n",
    "                           random_state=1234)\n",
    "clrMap = ListedColormap([\"blue\", \"red\", \"green\"])\n",
    "plt.scatter(x[:,0], x[:,1], c=y, cmap=clrMap)\n",
    "plt.grid(True)\n",
    "plt.show()\n",
    "\n",
    "#Формирование обучающего и тестового подмножеств\n",
    "x_train, x_test, y_train, y_test = cross_validation.train_test_split(x, y, test_size=0.3, random_state=0)\n",
    "\n",
    "#Обучение\n",
    "tick = time.time()\n",
    "decTree = tree.DecisionTreeClassifier(criterion=\"entropy\", random_state=0)\n",
    "decTree.fit(x_train, y_train)\n",
    "print(\"Time =\", time.time()-tick)\n",
    "\n",
    "#Проверка на тестовом подмножестве\n",
    "score_dt_cl = decTree.score(x_test, y_test)\n",
    "print(\"Test Score = \", score_dt_cl)\n",
    "\n",
    "#Графики\n",
    "step = 0.01\n",
    "xx, yy = np.meshgrid(np.arange(x[:,0].min(), x[:,0].max(), step), np.arange(x[:,1].min(), x[:,1].max(), step))\n",
    "points = np.c_[xx.ravel(), yy.ravel()]\n",
    "Z = decTree.predict(points)\n",
    "Z = Z.reshape(xx.shape)\n",
    "plt.figure(1, figsize=[12, 4])\n",
    "\n",
    "plt.subplot(1,2,1)\n",
    "plt.title(\"Train data\")\n",
    "plt.contourf(xx, yy, Z, cmap=clrMap, alpha=.5)\n",
    "plt.scatter(x_train[:,0], x_train[:,1], c=y_train, s=80, cmap=clrMap, alpha=0.5)\n",
    "plt.scatter(x_train[:, 0], x_train[:, 1], c=decTree.predict(x_train), s=20, cmap=clrMap)\n",
    "plt.grid(True)\n",
    "\n",
    "plt.subplot(1,2,2)\n",
    "plt.title(\"Test data\")\n",
    "plt.contourf(xx, yy, Z, cmap=clrMap, alpha=.5)\n",
    "plt.scatter(x_test[:,0], x_test[:,1], c=y_test, s=80, cmap=clrMap, alpha=0.5)\n",
    "plt.scatter(x_test[:,0], x_test[:,1], c=decTree.predict(x_test), s=20, cmap=clrMap)\n",
    "plt.grid(True)\n",
    "\n",
    "plt.show()"
   ]
  },
  {
   "cell_type": "markdown",
   "metadata": {},
   "source": [
    "<p><b>Bootstrap Aggregating - классификация</b></p>"
   ]
  },
  {
   "cell_type": "markdown",
   "metadata": {},
   "source": [
    "<a href=\"http://scikit-learn.org/stable/modules/generated/sklearn.ensemble.BaggingClassifier.html\">BaggingClassifier</a>"
   ]
  },
  {
   "cell_type": "code",
   "execution_count": null,
   "metadata": {
    "collapsed": true
   },
   "outputs": [],
   "source": [
    "from sklearn.ensemble import BaggingClassifier"
   ]
  },
  {
   "cell_type": "code",
   "execution_count": null,
   "metadata": {
    "collapsed": false
   },
   "outputs": [],
   "source": [
    "#Исходные данные\n",
    "n = 500\n",
    "x, y = make_classification(n_samples=n, n_features=2, n_redundant=0, \n",
    "                           n_informative=2, n_clusters_per_class=1, n_classes=3, class_sep=1,\n",
    "                           random_state=1234)\n",
    "clrMap = ListedColormap([\"blue\", \"red\", \"green\"])\n",
    "plt.scatter(x[:,0], x[:,1], c=y, cmap=clrMap)\n",
    "plt.grid(True)\n",
    "plt.show()\n",
    "\n",
    "#Формирование обучающего и тестового подмножеств\n",
    "x_train, x_test, y_train, y_test = cross_validation.train_test_split(x, y, test_size=0.3, random_state=0)\n",
    "\n",
    "#Обучение\n",
    "tick = time.time()\n",
    "decTree = tree.DecisionTreeClassifier(criterion=\"entropy\", random_state=0)\n",
    "\n",
    "bagCls = BaggingClassifier(base_estimator=decTree, n_estimators=10, max_samples=1.0, max_features=1.0, \n",
    "                           bootstrap=True, bootstrap_features=False, oob_score=False, random_state=0)\n",
    "bagCls.fit(x_train, y_train)\n",
    "print(\"Time =\", time.time()-tick)\n",
    "\n",
    "#Проверка на тестовом подмножестве\n",
    "score_bc_cl = bagCls.score(x_test, y_test)\n",
    "print(\"Test Score = \", score_bc_cl)\n",
    "\n",
    "#Графики\n",
    "step = 0.01\n",
    "xx, yy = np.meshgrid(np.arange(x[:,0].min(), x[:,0].max(), step), np.arange(x[:,1].min(), x[:,1].max(), step))\n",
    "points = np.c_[xx.ravel(), yy.ravel()]\n",
    "Z = bagCls.predict(points)\n",
    "Z = Z.reshape(xx.shape)\n",
    "plt.figure(1, figsize=[12, 4])\n",
    "\n",
    "plt.subplot(1,2,1)\n",
    "plt.title(\"Train data\")\n",
    "plt.contourf(xx, yy, Z, cmap=clrMap, alpha=.5)\n",
    "plt.scatter(x_train[:,0], x_train[:,1], c=y_train, s=80, cmap=clrMap, alpha=0.5)\n",
    "plt.scatter(x_train[:, 0], x_train[:, 1], c=bagCls.predict(x_train), s=20, cmap=clrMap)\n",
    "plt.grid(True)\n",
    "\n",
    "plt.subplot(1,2,2)\n",
    "plt.title(\"Test data\")\n",
    "plt.contourf(xx, yy, Z, cmap=clrMap, alpha=.5)\n",
    "plt.scatter(x_test[:,0], x_test[:,1], c=y_test, s=80, cmap=clrMap, alpha=0.5)\n",
    "plt.scatter(x_test[:,0], x_test[:,1], c=bagCls.predict(x_test), s=20, cmap=clrMap)\n",
    "plt.grid(True)\n",
    "\n",
    "plt.show()"
   ]
  },
  {
   "cell_type": "markdown",
   "metadata": {},
   "source": [
    "<p><b>Обычное дерево - регрессия</b></p>"
   ]
  },
  {
   "cell_type": "code",
   "execution_count": null,
   "metadata": {
    "collapsed": false
   },
   "outputs": [],
   "source": [
    "#Исходные данные\n",
    "n = 100\n",
    "x = stats.uniform.rvs(size=n, loc=0, scale=5, random_state=0)\n",
    "y = stats.norm.rvs(size=n, loc=0, scale=0.2, random_state=0) + np.sin(x)\n",
    "plt.title(\"Initial Data\")\n",
    "plt.plot(x, y, \"o\")\n",
    "plt.grid(True)\n",
    "plt.show()\n",
    "\n",
    "#Формирование обучающего и тестового подмножеств\n",
    "x_train, x_test, y_train, y_test = cross_validation.train_test_split(x, y, test_size=0.3, random_state=0)\n",
    "x_train = x_train[:, np.newaxis]\n",
    "x_test = x_test[:, np.newaxis]\n",
    "\n",
    "#Обучение\n",
    "decTreeReg = tree.DecisionTreeRegressor(criterion=\"mse\", max_depth=2, random_state=0)\n",
    "decTreeReg.fit(x_train, y_train)\n",
    "\n",
    "#Проверка на тестовом подмножестве\n",
    "score_dt_reg = decTreeReg.score(x_test, y_test)\n",
    "print(\"R^2 =\", score_dt_reg)\n",
    "\n",
    "#Графики\n",
    "xx = np.arange(x.min(), x.max(), 0.01)[:, np.newaxis]\n",
    "plt.plot(xx, decTreeReg.predict(xx), c=\"r\", label=\"max_depth=5\", linewidth=2)\n",
    "plt.plot(x_test, y_test, \"o\")\n",
    "plt.vlines(x_test, ymin=y_test, ymax=decTreeReg.predict(x_test), colors=\"black\", linestyles=\"dotted\")\n",
    "plt.plot(x_test, decTreeReg.predict(x_test), \"o\", color=\"red\", lw=2)\n",
    "plt.grid()\n",
    "plt.show()"
   ]
  },
  {
   "cell_type": "code",
   "execution_count": null,
   "metadata": {
    "collapsed": false
   },
   "outputs": [],
   "source": [
    "plt.figure(1, figsize=[12, 4])\n",
    "\n",
    "plt.subplot(1,2,1)\n",
    "plt.title(\"Train data\")\n",
    "plt.plot(x_train, y_train, \"o\")\n",
    "plt.plot(xx, decTreeReg.predict(xx), c=\"b\", label=\"max_depth=5\", linewidth=1)\n",
    "plt.plot(x_train, decTreeReg.predict(x_train), \"o\", color=\"red\", lw=2)\n",
    "plt.vlines(x_train, ymin=y_train, ymax=decTreeReg.predict(x_train), colors=\"black\", linestyles=\"dotted\")\n",
    "plt.grid(True)\n",
    "\n",
    "plt.subplot(1,2,2)\n",
    "plt.title(\"Test data\")\n",
    "plt.plot(x_test, y_test, \"o\")\n",
    "plt.plot(xx, decTreeReg.predict(xx), c=\"b\", label=\"max_depth=5\", linewidth=1)\n",
    "plt.plot(x_test, decTreeReg.predict(x_test), \"o\", color=\"red\", lw=2)\n",
    "plt.vlines(x_test, ymin=y_test, ymax=decTreeReg.predict(x_test), colors=\"black\", linestyles=\"dotted\")\n",
    "plt.grid(True)\n",
    "\n",
    "plt.show()"
   ]
  },
  {
   "cell_type": "markdown",
   "metadata": {},
   "source": [
    "<p><b>Bootstrap Aggregating - регрессия</b></p>"
   ]
  },
  {
   "cell_type": "markdown",
   "metadata": {},
   "source": [
    "<a href=\"http://scikit-learn.org/stable/modules/generated/sklearn.ensemble.BaggingRegressor.html\">BaggingRegressor</a>"
   ]
  },
  {
   "cell_type": "code",
   "execution_count": null,
   "metadata": {
    "collapsed": true
   },
   "outputs": [],
   "source": [
    "from sklearn.ensemble import BaggingRegressor"
   ]
  },
  {
   "cell_type": "code",
   "execution_count": null,
   "metadata": {
    "collapsed": false
   },
   "outputs": [],
   "source": [
    "#Исходные данные\n",
    "n = 100\n",
    "x = stats.uniform.rvs(size=n, loc=0, scale=5, random_state=0)\n",
    "y = stats.norm.rvs(size=n, loc=0, scale=0.2, random_state=0) + np.sin(x)\n",
    "plt.title(\"Initial Data\")\n",
    "plt.plot(x, y, \"o\")\n",
    "plt.grid(True)\n",
    "plt.show()\n",
    "\n",
    "#Формирование обучающего и тестового подмножеств\n",
    "x_train, x_test, y_train, y_test = cross_validation.train_test_split(x, y, test_size=0.3, random_state=0)\n",
    "x_train = x_train[:, np.newaxis]\n",
    "x_test = x_test[:, np.newaxis]\n",
    "\n",
    "#Обучение\n",
    "decTreeReg = tree.DecisionTreeRegressor(criterion=\"mse\", max_depth=10, random_state=0)\n",
    "bagReg = BaggingRegressor(base_estimator=decTreeReg, n_estimators=10, max_samples=1.0, max_features=1.0, \n",
    "                           bootstrap=True, bootstrap_features=False, oob_score=False, random_state=0)\n",
    "bagReg.fit(x_train, y_train)\n",
    "\n",
    "#Проверка на тестовом подмножестве\n",
    "score_dt_reg = bagReg.score(x_test, y_test)\n",
    "print(\"R^2 =\", score_dt_reg)\n",
    "\n",
    "#Графики\n",
    "xx = np.arange(x.min(), x.max(), 0.01)[:, np.newaxis]\n",
    "plt.plot(xx, bagReg.predict(xx), c=\"r\", label=\"max_depth=5\", linewidth=2)\n",
    "plt.plot(x_test, y_test, \"o\")\n",
    "plt.vlines(x_test, ymin=y_test, ymax=bagReg.predict(x_test), colors=\"black\", linestyles=\"dotted\")\n",
    "plt.plot(x_test, bagReg.predict(x_test), \"o\", color=\"red\", lw=2)\n",
    "plt.grid()\n",
    "plt.show()"
   ]
  },
  {
   "cell_type": "markdown",
   "metadata": {},
   "source": [
    "<a name=\"2\"></a>\n",
    "<div style=\"display:table; width:100%; padding-top:10px; padding-bottom:10px; border-bottom:1px solid lightgrey\">\n",
    "    <div style=\"display:table-row\">\n",
    "        <div style=\"display:table-cell; width:80%; font-size:14pt; font-weight:bold\">2. Случайный лес - Random Forest</div>\n",
    "    \t<div style=\"display:table-cell; width:20%; text-align:center; background-color:whitesmoke; border:1px solid lightgrey\"><a href=\"#0\">К содержанию</a></div>\n",
    "    </div>\n",
    "</div>"
   ]
  },
  {
   "cell_type": "markdown",
   "metadata": {},
   "source": [
    "<p><b>Random Forest - классификация</b></p>"
   ]
  },
  {
   "cell_type": "markdown",
   "metadata": {},
   "source": [
    "<a href=\"http://scikit-learn.org/stable/modules/generated/sklearn.ensemble.RandomForestClassifier.html\">RandomForestClassifier</a>"
   ]
  },
  {
   "cell_type": "code",
   "execution_count": null,
   "metadata": {
    "collapsed": true
   },
   "outputs": [],
   "source": [
    "from sklearn.ensemble import RandomForestClassifier"
   ]
  },
  {
   "cell_type": "code",
   "execution_count": null,
   "metadata": {
    "collapsed": false
   },
   "outputs": [],
   "source": [
    "#Исходные данные\n",
    "n = 500\n",
    "x, y = make_classification(n_samples=n, n_features=2, n_redundant=0, \n",
    "                           n_informative=2, n_clusters_per_class=1, n_classes=3, class_sep=1,\n",
    "                           random_state=1234)\n",
    "clrMap = ListedColormap([\"blue\", \"red\", \"green\"])\n",
    "plt.scatter(x[:,0], x[:,1], c=y, cmap=clrMap)\n",
    "plt.grid(True)\n",
    "plt.show()\n",
    "\n",
    "#Формирование обучающего и тестового подмножеств\n",
    "x_train, x_test, y_train, y_test = cross_validation.train_test_split(x, y, test_size=0.3, random_state=0)\n",
    "\n",
    "#Обучение\n",
    "tick = time.time()\n",
    "randForest = RandomForestClassifier(n_estimators=10, criterion=\"entropy\", bootstrap=True, \n",
    "                                    oob_score=False, random_state=0)\n",
    "randForest.fit(x_train, y_train)\n",
    "print(\"Time =\", time.time()-tick)\n",
    "\n",
    "#Проверка на тестовом подмножестве\n",
    "score_rf_cl = randForest.score(x_test, y_test)\n",
    "print(\"Test Score = \", score_rf_cl)\n",
    "\n",
    "#Графики\n",
    "step = 0.01\n",
    "xx, yy = np.meshgrid(np.arange(x[:,0].min(), x[:,0].max(), step), np.arange(x[:,1].min(), x[:,1].max(), step))\n",
    "points = np.c_[xx.ravel(), yy.ravel()]\n",
    "Z = randForest.predict(points)\n",
    "Z = Z.reshape(xx.shape)\n",
    "plt.figure(1, figsize=[12, 4])\n",
    "\n",
    "plt.subplot(1,2,1)\n",
    "plt.title(\"Train data\")\n",
    "plt.contourf(xx, yy, Z, cmap=clrMap, alpha=.5)\n",
    "plt.scatter(x_train[:,0], x_train[:,1], c=y_train, s=80, cmap=clrMap, alpha=0.5)\n",
    "plt.scatter(x_train[:, 0], x_train[:, 1], c=randForest.predict(x_train), s=20, cmap=clrMap)\n",
    "plt.grid(True)\n",
    "\n",
    "plt.subplot(1,2,2)\n",
    "plt.title(\"Test data\")\n",
    "plt.contourf(xx, yy, Z, cmap=clrMap, alpha=.5)\n",
    "plt.scatter(x_test[:,0], x_test[:,1], c=y_test, s=80, cmap=clrMap, alpha=0.5)\n",
    "plt.scatter(x_test[:,0], x_test[:,1], c=randForest.predict(x_test), s=20, cmap=clrMap)\n",
    "plt.grid(True)\n",
    "\n",
    "plt.show()"
   ]
  },
  {
   "cell_type": "markdown",
   "metadata": {},
   "source": [
    "<p><b>Random Forest - регрессия</b></p>"
   ]
  },
  {
   "cell_type": "markdown",
   "metadata": {},
   "source": [
    "<a href=\"http://scikit-learn.org/stable/modules/generated/sklearn.ensemble.RandomForestRegressor.html\">RandomForestRegressor</a>"
   ]
  },
  {
   "cell_type": "code",
   "execution_count": null,
   "metadata": {
    "collapsed": true
   },
   "outputs": [],
   "source": [
    "from sklearn.ensemble import RandomForestRegressor"
   ]
  },
  {
   "cell_type": "code",
   "execution_count": null,
   "metadata": {
    "collapsed": false
   },
   "outputs": [],
   "source": [
    "#Исходные данные\n",
    "n = 100\n",
    "x = stats.uniform.rvs(size=n, loc=0, scale=5, random_state=0)\n",
    "y = stats.norm.rvs(size=n, loc=0, scale=0.2, random_state=0) + np.sin(x)\n",
    "plt.title(\"Initial Data\")\n",
    "plt.plot(x, y, \"o\")\n",
    "plt.grid(True)\n",
    "plt.show()\n",
    "\n",
    "#Формирование обучающего и тестового подмножеств\n",
    "x_train, x_test, y_train, y_test = cross_validation.train_test_split(x, y, test_size=0.3, random_state=0)\n",
    "x_train = x_train[:, np.newaxis]\n",
    "x_test = x_test[:, np.newaxis]\n",
    "\n",
    "#Обучение\n",
    "randForestReg = RandomForestRegressor(n_estimators=10, max_depth=10, criterion=\"mse\", bootstrap=True, \n",
    "                                    oob_score=False, random_state=0)\n",
    "randForestReg.fit(x_train, y_train)\n",
    "\n",
    "#Проверка на тестовом подмножестве\n",
    "score_rf_reg = randForestReg.score(x_test, y_test)\n",
    "print(\"R^2 =\", score_rf_reg)\n",
    "\n",
    "#Графики\n",
    "xx = np.arange(x.min(), x.max(), 0.01)[:, np.newaxis]\n",
    "plt.plot(xx, randForestReg.predict(xx), c=\"r\", label=\"max_depth=5\", linewidth=2)\n",
    "plt.plot(x_test, y_test, \"o\")\n",
    "plt.vlines(x_test, ymin=y_test, ymax=randForestReg.predict(x_test), colors=\"black\", linestyles=\"dotted\")\n",
    "plt.plot(x_test, randForestReg.predict(x_test), \"o\", color=\"red\", lw=2)\n",
    "plt.grid()\n",
    "plt.show()"
   ]
  },
  {
   "cell_type": "markdown",
   "metadata": {},
   "source": [
    "<a name=\"3\"></a>\n",
    "<div style=\"display:table; width:100%; padding-top:10px; padding-bottom:10px; border-bottom:1px solid lightgrey\">\n",
    "    <div style=\"display:table-row\">\n",
    "        <div style=\"display:table-cell; width:80%; font-size:14pt; font-weight:bold\">3. Extra Trees</div>\n",
    "    \t<div style=\"display:table-cell; width:20%; text-align:center; background-color:whitesmoke; border:1px solid lightgrey\"><a href=\"#0\">К содержанию</a></div>\n",
    "    </div>\n",
    "</div>"
   ]
  },
  {
   "cell_type": "markdown",
   "metadata": {},
   "source": [
    "<p><b>Extra Trees - классификация</b></p>"
   ]
  },
  {
   "cell_type": "markdown",
   "metadata": {},
   "source": [
    "<a href=\"http://scikit-learn.org/stable/modules/generated/sklearn.ensemble.ExtraTreesClassifier.html\">ExtraTreesClassifier</a>"
   ]
  },
  {
   "cell_type": "code",
   "execution_count": null,
   "metadata": {
    "collapsed": true
   },
   "outputs": [],
   "source": [
    "from sklearn.ensemble import ExtraTreesClassifier"
   ]
  },
  {
   "cell_type": "code",
   "execution_count": null,
   "metadata": {
    "collapsed": false
   },
   "outputs": [],
   "source": [
    "#Исходные данные\n",
    "n = 500\n",
    "x, y = make_classification(n_samples=n, n_features=2, n_redundant=0, \n",
    "                           n_informative=2, n_clusters_per_class=1, n_classes=3, class_sep=1,\n",
    "                           random_state=1234)\n",
    "clrMap = ListedColormap([\"blue\", \"red\", \"green\"])\n",
    "plt.scatter(x[:,0], x[:,1], c=y, cmap=clrMap)\n",
    "plt.grid(True)\n",
    "plt.show()\n",
    "\n",
    "#Формирование обучающего и тестового подмножеств\n",
    "x_train, x_test, y_train, y_test = cross_validation.train_test_split(x, y, test_size=0.3, random_state=0)\n",
    "\n",
    "#Обучение\n",
    "tick = time.time()\n",
    "randForest = ExtraTreesClassifier(n_estimators=10, criterion=\"entropy\", bootstrap=True, \n",
    "                                    oob_score=False, random_state=0)\n",
    "randForest.fit(x_train, y_train)\n",
    "print(\"Time =\", time.time()-tick)\n",
    "\n",
    "#Проверка на тестовом подмножестве\n",
    "score_rf_cl = randForest.score(x_test, y_test)\n",
    "print(\"Test Score = \", score_rf_cl)\n",
    "\n",
    "#Графики\n",
    "step = 0.01\n",
    "xx, yy = np.meshgrid(np.arange(x[:,0].min(), x[:,0].max(), step), np.arange(x[:,1].min(), x[:,1].max(), step))\n",
    "points = np.c_[xx.ravel(), yy.ravel()]\n",
    "Z = randForest.predict(points)\n",
    "Z = Z.reshape(xx.shape)\n",
    "plt.figure(1, figsize=[12, 4])\n",
    "\n",
    "plt.subplot(1,2,1)\n",
    "plt.title(\"Train data\")\n",
    "plt.contourf(xx, yy, Z, cmap=clrMap, alpha=.5)\n",
    "plt.scatter(x_train[:,0], x_train[:,1], c=y_train, s=80, cmap=clrMap, alpha=0.5)\n",
    "plt.scatter(x_train[:, 0], x_train[:, 1], c=randForest.predict(x_train), s=20, cmap=clrMap)\n",
    "plt.grid(True)\n",
    "\n",
    "plt.subplot(1,2,2)\n",
    "plt.title(\"Test data\")\n",
    "plt.contourf(xx, yy, Z, cmap=clrMap, alpha=.5)\n",
    "plt.scatter(x_test[:,0], x_test[:,1], c=y_test, s=80, cmap=clrMap, alpha=0.5)\n",
    "plt.scatter(x_test[:,0], x_test[:,1], c=randForest.predict(x_test), s=20, cmap=clrMap)\n",
    "plt.grid(True)\n",
    "\n",
    "plt.show()"
   ]
  },
  {
   "cell_type": "markdown",
   "metadata": {},
   "source": [
    "<p><b>Extra Trees - регрессия</b></p>"
   ]
  },
  {
   "cell_type": "markdown",
   "metadata": {},
   "source": [
    "<a href=\"http://scikit-learn.org/stable/modules/generated/sklearn.ensemble.ExtraTreesRegressor.html\">ExtraTreesRegressor</a>"
   ]
  },
  {
   "cell_type": "code",
   "execution_count": null,
   "metadata": {
    "collapsed": true
   },
   "outputs": [],
   "source": [
    "from sklearn.ensemble import ExtraTreesRegressor"
   ]
  },
  {
   "cell_type": "code",
   "execution_count": null,
   "metadata": {
    "collapsed": false
   },
   "outputs": [],
   "source": [
    "#Исходные данные\n",
    "n = 100\n",
    "x = stats.uniform.rvs(size=n, loc=0, scale=5, random_state=0)\n",
    "y = stats.norm.rvs(size=n, loc=0, scale=0.2, random_state=0) + np.sin(x)\n",
    "plt.title(\"Initial Data\")\n",
    "plt.plot(x, y, \"o\")\n",
    "plt.grid(True)\n",
    "plt.show()\n",
    "\n",
    "#Формирование обучающего и тестового подмножеств\n",
    "x_train, x_test, y_train, y_test = cross_validation.train_test_split(x, y, test_size=0.3, random_state=0)\n",
    "x_train = x_train[:, np.newaxis]\n",
    "x_test = x_test[:, np.newaxis]\n",
    "\n",
    "#Обучение\n",
    "extTrReg = ExtraTreesRegressor(n_estimators=10, max_depth=10, criterion=\"mse\", bootstrap=True, \n",
    "                                    oob_score=False, random_state=0)\n",
    "extTrReg.fit(x_train, y_train)\n",
    "\n",
    "#Проверка на тестовом подмножестве\n",
    "score_et_reg = extTrReg.score(x_test, y_test)\n",
    "print(\"R^2 =\", score_et_reg)\n",
    "\n",
    "#Графики\n",
    "xx = np.arange(x.min(), x.max(), 0.01)[:, np.newaxis]\n",
    "plt.plot(xx, extTrReg.predict(xx), c=\"r\", label=\"max_depth=5\", linewidth=2)\n",
    "plt.plot(x_test, y_test, \"o\")\n",
    "plt.vlines(x_test, ymin=y_test, ymax=extTrReg.predict(x_test), colors=\"black\", linestyles=\"dotted\")\n",
    "plt.plot(x_test, extTrReg.predict(x_test), \"o\", color=\"red\", lw=2)\n",
    "plt.grid()\n",
    "plt.show()"
   ]
  },
  {
   "cell_type": "markdown",
   "metadata": {},
   "source": [
    "<a name=\"4\"></a>\n",
    "<div style=\"display:table; width:100%; padding-top:10px; padding-bottom:10px; border-bottom:1px solid lightgrey\">\n",
    "    <div style=\"display:table-row\">\n",
    "        <div style=\"display:table-cell; width:80%; font-size:14pt; font-weight:bold\">4. Сравнение методов</div>\n",
    "    \t<div style=\"display:table-cell; width:20%; text-align:center; background-color:whitesmoke; border:1px solid lightgrey\"><a href=\"#0\">К содержанию</a></div>\n",
    "    </div>\n",
    "</div>"
   ]
  },
  {
   "cell_type": "code",
   "execution_count": null,
   "metadata": {
    "collapsed": true
   },
   "outputs": [],
   "source": [
    "#Задание на семинар"
   ]
  },
  {
   "cell_type": "markdown",
   "metadata": {},
   "source": [
    "<a name=\"5\"></a>\n",
    "<div style=\"display:table; width:100%; padding-top:10px; padding-bottom:10px; border-bottom:1px solid lightgrey\">\n",
    "    <div style=\"display:table-row\">\n",
    "        <div style=\"display:table-cell; width:80%; font-size:14pt; font-weight:bold\">5. Источники</div>\n",
    "    \t<div style=\"display:table-cell; width:20%; text-align:center; background-color:whitesmoke; border:1px solid lightgrey\"><a href=\"#0\">К содержанию</a></div>\n",
    "    </div>\n",
    "</div>"
   ]
  },
  {
   "cell_type": "markdown",
   "metadata": {
    "collapsed": true
   },
   "source": [
    "<a href=\"http://scikit-learn.org/stable/modules/tree.html\">Decision Trees</a><br>\n",
    "<a href=\"http://scikit-learn.org/stable/modules/ensemble.html\">Ensemble methods</a><br>\n",
    "\n",
    "<a href=\"http://nbviewer.jupyter.org/github/arundhaj/datamining_class/blob/master/decision_tree.ipynb\">DecisionTree Classification</a>"
   ]
  },
  {
   "cell_type": "code",
   "execution_count": null,
   "metadata": {
    "collapsed": true
   },
   "outputs": [],
   "source": []
  }
 ],
 "metadata": {
  "kernelspec": {
   "display_name": "Python 3",
   "language": "python",
   "name": "python3"
  },
  "language_info": {
   "codemirror_mode": {
    "name": "ipython",
    "version": 3
   },
   "file_extension": ".py",
   "mimetype": "text/x-python",
   "name": "python",
   "nbconvert_exporter": "python",
   "pygments_lexer": "ipython3",
   "version": "3.5.2"
  }
 },
 "nbformat": 4,
 "nbformat_minor": 0
}
