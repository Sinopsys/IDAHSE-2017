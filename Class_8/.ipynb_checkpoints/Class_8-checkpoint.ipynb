{
 "cells": [
  {
   "cell_type": "markdown",
   "metadata": {},
   "source": [
    "<div style=\"font-size:18pt; padding-top:20px; text-align:center\">СЕМИНАР 8. <b>Классификация и </b> <span style=\"font-weight:bold; color:green\">NumPy/SciPy/Sklearn</span></div><hr>\n",
    "<div style=\"text-align:right;\">Папулин С.Ю. <span style=\"font-style: italic;font-weight: bold;\">(papulin_hse@mail.ru)</span></div>"
   ]
  },
  {
   "cell_type": "markdown",
   "metadata": {},
   "source": [
    "<a name=\"0\"></a>\n",
    "<div><span style=\"font-size:14pt; font-weight:bold\">Содержание</span>\n",
    "    <ol>\n",
    "        <li><a href=\"#1\">Генерация данных</a></li>\n",
    "        <li><a href=\"#2\">Классификация с линейной регрессией</a></li>\n",
    "        <li><a href=\"#3\">Логистическая регрессия</a>\n",
    "        <li><a href=\"#4\">Наивный байесовский классификатор</a>\n",
    "        <li><a href=\"#5\">Метод опорных векторов (SVM)</a>\n",
    "        <li><a href=\"#6\">Источники</a>\n",
    "        </li>\n",
    "    </ol>\n",
    "</div>"
   ]
  },
  {
   "cell_type": "markdown",
   "metadata": {},
   "source": [
    "<p><b>Подключение библиотек</b></p>"
   ]
  },
  {
   "cell_type": "code",
   "execution_count": null,
   "metadata": {
    "collapsed": false
   },
   "outputs": [],
   "source": [
    "import numpy as np\n",
    "import matplotlib.pyplot as plt\n",
    "%matplotlib inline"
   ]
  },
  {
   "cell_type": "code",
   "execution_count": null,
   "metadata": {
    "collapsed": true
   },
   "outputs": [],
   "source": [
    "from sklearn.datasets import make_classification\n",
    "from sklearn.datasets import make_blobs\n",
    "from sklearn.datasets import make_gaussian_quantiles\n",
    "from sklearn.datasets import make_moons\n",
    "from sklearn.datasets import make_circles\n",
    "\n",
    "from matplotlib.colors import ListedColormap\n",
    "from matplotlib import cm"
   ]
  },
  {
   "cell_type": "code",
   "execution_count": null,
   "metadata": {
    "collapsed": true
   },
   "outputs": [],
   "source": [
    "from sklearn import linear_model\n",
    "from sklearn import svm\n",
    "from sklearn.naive_bayes import GaussianNB"
   ]
  },
  {
   "cell_type": "markdown",
   "metadata": {},
   "source": [
    "<a name=\"1\"></a>\n",
    "<div style=\"display:table; width:100%; padding-top:10px; padding-bottom:10px; border-bottom:1px solid lightgrey\">\n",
    "    <div style=\"display:table-row\">\n",
    "        <div style=\"display:table-cell; width:80%; font-size:14pt; font-weight:bold\">1. Генерация данных</div>\n",
    "    \t<div style=\"display:table-cell; width:20%; text-align:center; background-color:whitesmoke; border:1px solid lightgrey\"><a href=\"#0\">К содержанию</a></div>\n",
    "    </div>\n",
    "</div>"
   ]
  },
  {
   "cell_type": "code",
   "execution_count": null,
   "metadata": {
    "collapsed": true
   },
   "outputs": [],
   "source": [
    "from sklearn.datasets import make_classification\n",
    "from matplotlib.colors import ListedColormap"
   ]
  },
  {
   "cell_type": "code",
   "execution_count": null,
   "metadata": {
    "collapsed": true
   },
   "outputs": [],
   "source": [
    "clrMap = ListedColormap([\"blue\", \"red\", \"green\"])"
   ]
  },
  {
   "cell_type": "markdown",
   "metadata": {},
   "source": [
    "<a href=\"http://scikit-learn.org/stable/modules/generated/sklearn.datasets.make_classification.html#sklearn.datasets.make_classification\">make_classification</a>"
   ]
  },
  {
   "cell_type": "code",
   "execution_count": null,
   "metadata": {
    "collapsed": false
   },
   "outputs": [],
   "source": [
    "X, Y = make_classification(n_samples=100, n_features=1, n_redundant=0, n_informative=1, n_classes=2, \n",
    "                           n_clusters_per_class=1, class_sep=1, random_state=1234)\n",
    "plt.scatter(X, Y, c=Y, cmap=clrMap)\n",
    "plt.grid(True)\n",
    "plt.show()"
   ]
  },
  {
   "cell_type": "code",
   "execution_count": null,
   "metadata": {
    "collapsed": false
   },
   "outputs": [],
   "source": [
    "X, Y = make_classification(n_samples=100, n_features=2, n_redundant=0, \n",
    "                           n_informative=2, n_clusters_per_class=1, n_classes=2, class_sep=5,\n",
    "                           random_state=1234)\n",
    "\n",
    "plt.scatter(X[:,0], X[:,1], c=Y, cmap=clrMap)\n",
    "plt.grid(True)\n",
    "plt.show()"
   ]
  },
  {
   "cell_type": "markdown",
   "metadata": {},
   "source": [
    "<a href=\"http://scikit-learn.org/stable/modules/generated/sklearn.datasets.make_blobs.html#sklearn.datasets.make_blobs\">make_blobs</a>"
   ]
  },
  {
   "cell_type": "code",
   "execution_count": null,
   "metadata": {
    "collapsed": true
   },
   "outputs": [],
   "source": [
    "from sklearn.datasets import make_blobs"
   ]
  },
  {
   "cell_type": "code",
   "execution_count": null,
   "metadata": {
    "collapsed": false
   },
   "outputs": [],
   "source": [
    "X1, Y1 = make_blobs(n_samples=100, n_features=2, centers=[[3,4], [0,0], [-2,-2]], cluster_std=1, \n",
    "                    center_box=(-5,5), random_state=1234)\n",
    "\n",
    "plt.scatter(X1[:,0], X1[:,1], c=Y1, cmap=clrMap)\n",
    "plt.grid(True)\n",
    "plt.show()"
   ]
  },
  {
   "cell_type": "code",
   "execution_count": null,
   "metadata": {
    "collapsed": false
   },
   "outputs": [],
   "source": [
    "X1, Y1 = make_blobs(n_samples=100, n_features=2, centers=3, cluster_std=1, \n",
    "                    center_box=(-5,5), random_state=1234)\n",
    "\n",
    "plt.scatter(X1[:,0], X1[:,1], c=Y1, cmap=clrMap)\n",
    "plt.grid(True)\n",
    "plt.show()"
   ]
  },
  {
   "cell_type": "markdown",
   "metadata": {},
   "source": [
    "<a href=\"http://scikit-learn.org/stable/modules/generated/sklearn.datasets.make_gaussian_quantiles.html#sklearn.datasets.make_gaussian_quantiles\">make_gaussian_quantiles</a>"
   ]
  },
  {
   "cell_type": "code",
   "execution_count": null,
   "metadata": {
    "collapsed": true
   },
   "outputs": [],
   "source": [
    "from sklearn.datasets import make_gaussian_quantiles"
   ]
  },
  {
   "cell_type": "code",
   "execution_count": null,
   "metadata": {
    "collapsed": false
   },
   "outputs": [],
   "source": [
    "X1, Y1 = make_gaussian_quantiles(n_samples=100, mean=(3,0), n_features=2, n_classes=3, random_state=1234)\n",
    "plt.scatter(X1[:,0], X1[:,1], marker='o', s=40, c=Y1, cmap=clrMap)\n",
    "plt.grid(True)\n",
    "plt.show()"
   ]
  },
  {
   "cell_type": "code",
   "execution_count": null,
   "metadata": {
    "collapsed": false
   },
   "outputs": [],
   "source": [
    "X, Y = make_gaussian_quantiles(n_samples=100, n_features=1, n_classes=3, random_state=1234)\n",
    "\n",
    "plt.scatter(X, Y, c=Y, cmap=clrMap)\n",
    "plt.grid(True)\n",
    "plt.show()"
   ]
  },
  {
   "cell_type": "markdown",
   "metadata": {},
   "source": [
    "<a href=\"http://scikit-learn.org/stable/modules/generated/sklearn.datasets.make_moons.html#sklearn.datasets.make_moons\">make_moons</a>"
   ]
  },
  {
   "cell_type": "code",
   "execution_count": null,
   "metadata": {
    "collapsed": true
   },
   "outputs": [],
   "source": [
    "from sklearn.datasets import make_moons"
   ]
  },
  {
   "cell_type": "code",
   "execution_count": null,
   "metadata": {
    "collapsed": false
   },
   "outputs": [],
   "source": [
    "X1, Y1 = make_moons(n_samples=1100, noise=0.1, random_state=1384)\n",
    "plt.scatter(X1[:,0], X1[:,1], marker='o', s=40, c=Y1, cmap=clrMap)\n",
    "plt.grid(True)\n",
    "plt.show()"
   ]
  },
  {
   "cell_type": "markdown",
   "metadata": {},
   "source": [
    "<a href=\"http://scikit-learn.org/stable/modules/generated/sklearn.datasets.make_circles.html#sklearn.datasets.make_circles\">make_circles</a>"
   ]
  },
  {
   "cell_type": "code",
   "execution_count": null,
   "metadata": {
    "collapsed": true
   },
   "outputs": [],
   "source": [
    "from sklearn.datasets import make_circles"
   ]
  },
  {
   "cell_type": "code",
   "execution_count": null,
   "metadata": {
    "collapsed": false
   },
   "outputs": [],
   "source": [
    "X1, Y1 = make_circles(n_samples=100, noise=0.1, factor=0.1, random_state=1234)\n",
    "plt.scatter(X1[:,0], X1[:,1], marker='o', s=40, c=Y1, cmap=clrMap)\n",
    "plt.grid(True)\n",
    "plt.show()"
   ]
  },
  {
   "cell_type": "markdown",
   "metadata": {},
   "source": [
    "<a name=\"2\"></a>\n",
    "<div style=\"display:table; width:100%; padding-top:10px; padding-bottom:10px; border-bottom:1px solid lightgrey\">\n",
    "    <div style=\"display:table-row\">\n",
    "        <div style=\"display:table-cell; width:80%; font-size:14pt; font-weight:bold\">2. Классификация с линейной регрессией</div>\n",
    "    \t<div style=\"display:table-cell; width:20%; text-align:center; background-color:whitesmoke; border:1px solid lightgrey\"><a href=\"#0\">К содержанию</a></div>\n",
    "    </div>\n",
    "</div>"
   ]
  },
  {
   "cell_type": "code",
   "execution_count": null,
   "metadata": {
    "collapsed": true
   },
   "outputs": [],
   "source": [
    "from sklearn import linear_model\n",
    "from matplotlib import cm"
   ]
  },
  {
   "cell_type": "markdown",
   "metadata": {},
   "source": [
    "<p><b>1D</b></p>"
   ]
  },
  {
   "cell_type": "markdown",
   "metadata": {},
   "source": [
    "<p><b>Исходные данные</b></p>"
   ]
  },
  {
   "cell_type": "code",
   "execution_count": null,
   "metadata": {
    "collapsed": false
   },
   "outputs": [],
   "source": [
    "n = 100\n",
    "x, y = make_classification(n_samples=n, n_features=1, n_redundant=0, n_informative=1, n_classes=2, n_clusters_per_class=1, \n",
    "                           class_sep=1, random_state=1000)"
   ]
  },
  {
   "cell_type": "code",
   "execution_count": null,
   "metadata": {
    "collapsed": false
   },
   "outputs": [],
   "source": [
    "clrMap = ListedColormap([\"blue\", \"red\"])\n",
    "plt.scatter(x, y, c=y, cmap=clrMap)\n",
    "plt.grid(True)\n",
    "plt.show()"
   ]
  },
  {
   "cell_type": "code",
   "execution_count": null,
   "metadata": {
    "collapsed": false
   },
   "outputs": [],
   "source": [
    "#Опционально\n",
    "#count = 0\n",
    "#while count < 20:\n",
    "#    indx = np.random.randint(low=0, high=len(x), size=1)\n",
    "#    \n",
    "#    if y[indx] > 0:\n",
    "#        x[indx,0] += 10\n",
    "#        count += 1"
   ]
  },
  {
   "cell_type": "code",
   "execution_count": null,
   "metadata": {
    "collapsed": false
   },
   "outputs": [],
   "source": [
    "#plt.scatter(x, y, c=y, cmap=clrMap)\n",
    "#plt.grid(True)\n",
    "#plt.show()"
   ]
  },
  {
   "cell_type": "markdown",
   "metadata": {},
   "source": [
    "<p><b>Формирование обучающего и тестового подмножеств</b></p>"
   ]
  },
  {
   "cell_type": "code",
   "execution_count": null,
   "metadata": {
    "collapsed": false
   },
   "outputs": [],
   "source": [
    "tr_pr = 0.7\n",
    "tr_n = int(np.round(tr_pr*n))\n",
    "\n",
    "x_train = x[:tr_n]\n",
    "x_test = x[tr_n:]\n",
    "\n",
    "y_train = y[:tr_n]\n",
    "y_test = y[tr_n:]"
   ]
  },
  {
   "cell_type": "code",
   "execution_count": null,
   "metadata": {
    "collapsed": true
   },
   "outputs": [],
   "source": [
    "from sklearn.model_selection import train_test_split"
   ]
  },
  {
   "cell_type": "code",
   "execution_count": null,
   "metadata": {
    "collapsed": true
   },
   "outputs": [],
   "source": [
    "x_train, x_test, y_train, y_test = train_test_split(x, y, test_size=0.3, random_state=12)"
   ]
  },
  {
   "cell_type": "markdown",
   "metadata": {},
   "source": [
    "<p><b>Обучение</b></p>"
   ]
  },
  {
   "cell_type": "code",
   "execution_count": null,
   "metadata": {
    "collapsed": false
   },
   "outputs": [],
   "source": [
    "linReg = linear_model.LinearRegression()\n",
    "linReg.fit(x_train, y_train)"
   ]
  },
  {
   "cell_type": "code",
   "execution_count": null,
   "metadata": {
    "collapsed": false
   },
   "outputs": [],
   "source": [
    "linReg.coef_, linReg.intercept_"
   ]
  },
  {
   "cell_type": "code",
   "execution_count": null,
   "metadata": {
    "collapsed": true
   },
   "outputs": [],
   "source": [
    "threshold = 0.5"
   ]
  },
  {
   "cell_type": "code",
   "execution_count": null,
   "metadata": {
    "collapsed": false
   },
   "outputs": [],
   "source": [
    "predTrainVals = np.where(linReg.predict(x_train)>=threshold, 1, 0)\n",
    "predTrainVals"
   ]
  },
  {
   "cell_type": "code",
   "execution_count": null,
   "metadata": {
    "collapsed": false
   },
   "outputs": [],
   "source": [
    "(threshold - linReg.intercept_)/linReg.coef_"
   ]
  },
  {
   "cell_type": "code",
   "execution_count": null,
   "metadata": {
    "collapsed": false
   },
   "outputs": [],
   "source": [
    "clrMap = ListedColormap([\"blue\", \"red\"])\n",
    "\n",
    "def plotLinRegTrain():\n",
    "    plt.figure(1, figsize=[15,4])\n",
    "\n",
    "    plt.subplot(1,3,1)\n",
    "    plt.title(\"Initial train classes\")\n",
    "    plt.scatter(x_train, y_train, c=y_train, cmap=clrMap, s=80, alpha=0.5)\n",
    "    plt.plot(x, linReg.coef_ * x + linReg.intercept_, linewidth=1, color=\"green\")\n",
    "    plt.axhline(threshold, color=\"0.5\", linestyle=\"--\")\n",
    "    plt.axvline((threshold - linReg.intercept_)/linReg.coef_, color=\"0.5\", linestyle=\"--\")\n",
    "    plt.grid(True)\n",
    "\n",
    "    plt.subplot(1,3,2)\n",
    "    plt.title(\"Predicted train classes\")\n",
    "    plt.scatter(x_train, predTrainVals, s=20, c=predTrainVals, cmap=clrMap)\n",
    "    plt.plot(x, linReg.coef_ * x + linReg.intercept_, linewidth=1, color=\"green\")\n",
    "    plt.axhline(threshold, color=\"0.5\", linestyle=\"--\")\n",
    "    plt.axvline((threshold - linReg.intercept_)/linReg.coef_, color=\"0.5\", linestyle=\"--\")\n",
    "    plt.grid(True)\n",
    "\n",
    "    plt.subplot(1,3,3)\n",
    "    plt.title(\"Matching Initial and Predicted\")\n",
    "    plt.scatter(x_train, y_train, c=y_train, cmap=clrMap, s=80, alpha=0.5)\n",
    "    plt.scatter(x_train, predTrainVals, s=20, c=predTrainVals, cmap=clrMap)\n",
    "    plt.plot(x, linReg.coef_ * x + linReg.intercept_, linewidth=1, color=\"green\")\n",
    "    plt.axhline(threshold, color=\"0.5\", linestyle=\"--\")\n",
    "    plt.axvline((threshold - linReg.intercept_)/linReg.coef_, color=\"0.5\", linestyle=\"--\")\n",
    "    plt.grid(True)\n",
    "    \n",
    "plotLinRegTrain()\n",
    "plt.show()"
   ]
  },
  {
   "cell_type": "markdown",
   "metadata": {},
   "source": [
    "<p><b>Проверка на тестовом подмножестве</b></p>"
   ]
  },
  {
   "cell_type": "markdown",
   "metadata": {},
   "source": [
    "<p>Классификация для тестового набора</p>"
   ]
  },
  {
   "cell_type": "code",
   "execution_count": null,
   "metadata": {
    "collapsed": false
   },
   "outputs": [],
   "source": [
    "predTestVals = np.where(linReg.predict(x_test)>=threshold, 1, 0)\n",
    "predTestVals"
   ]
  },
  {
   "cell_type": "markdown",
   "metadata": {},
   "source": [
    "<p>Показатель точности классификации</p>"
   ]
  },
  {
   "cell_type": "code",
   "execution_count": null,
   "metadata": {
    "collapsed": false
   },
   "outputs": [],
   "source": [
    "count = 0\n",
    "for i in range(len(y_test)):\n",
    "    if y_test[i] == predTestVals[i]:\n",
    "        count += 1\n",
    "print(count/len(y_test))     "
   ]
  },
  {
   "cell_type": "markdown",
   "metadata": {},
   "source": [
    "<p>Графики для тестового набора</p>"
   ]
  },
  {
   "cell_type": "code",
   "execution_count": null,
   "metadata": {
    "collapsed": false
   },
   "outputs": [],
   "source": [
    "def plotLinRegTest():\n",
    "    plt.figure(1, figsize=[15,4])\n",
    "\n",
    "    plt.subplot(1,3,1)\n",
    "    plt.title(\"Initial test classes\")\n",
    "    plt.scatter(x_test, y_test, c=y_test, cmap=clrMap, s=80, alpha=0.5)\n",
    "    plt.plot(x, linReg.coef_ * x + linReg.intercept_, linewidth=1, color=\"green\")\n",
    "    plt.axhline(threshold, color=\"0.5\", linestyle=\"--\")\n",
    "    plt.axvline((threshold - linReg.intercept_)/linReg.coef_, color=\"0.5\", linestyle=\"--\")\n",
    "    plt.grid(True)\n",
    "\n",
    "    plt.subplot(1,3,2)\n",
    "    plt.title(\"Predicted test classes\")\n",
    "    plt.scatter(x_test, predTestVals, s=20, c=predTestVals, cmap=clrMap)\n",
    "    plt.plot(x, linReg.coef_ * x + linReg.intercept_, linewidth=1, color=\"green\")\n",
    "    plt.axhline(threshold, color=\"0.5\", linestyle=\"--\")\n",
    "    plt.axvline((threshold - linReg.intercept_)/linReg.coef_, color=\"0.5\", linestyle=\"--\")\n",
    "    plt.grid(True)\n",
    "\n",
    "    plt.subplot(1,3,3)\n",
    "    plt.title(\"Matching Initial and Predicted\")\n",
    "    plt.scatter(x_test, y_test, c=y_test, cmap=clrMap, s=80, alpha=0.5)\n",
    "    plt.scatter(x_test, predTestVals, s=20, c=predTestVals, cmap=clrMap)\n",
    "    plt.plot(x, linReg.coef_ * x + linReg.intercept_, linewidth=1, color=\"green\")\n",
    "    plt.axhline(threshold, color=\"0.5\", linestyle=\"--\")\n",
    "    plt.axvline((threshold - linReg.intercept_)/linReg.coef_, color=\"0.5\", linestyle=\"--\")\n",
    "    plt.grid(True)\n",
    "\n",
    "plotLinRegTest()\n",
    "plt.show()"
   ]
  },
  {
   "cell_type": "markdown",
   "metadata": {},
   "source": [
    "<p><b>Графики</b></p>"
   ]
  },
  {
   "cell_type": "code",
   "execution_count": null,
   "metadata": {
    "collapsed": false
   },
   "outputs": [],
   "source": [
    "plotLinRegTrain()\n",
    "plt.show()\n",
    "plotLinRegTest()\n",
    "plt.show()"
   ]
  },
  {
   "cell_type": "markdown",
   "metadata": {},
   "source": [
    "<p><b>2D</b></p>"
   ]
  },
  {
   "cell_type": "markdown",
   "metadata": {},
   "source": [
    "<p><b>Исходные данные</b></p>"
   ]
  },
  {
   "cell_type": "code",
   "execution_count": null,
   "metadata": {
    "collapsed": true
   },
   "outputs": [],
   "source": [
    "n = 500\n",
    "x, y = make_classification(n_samples=n, n_features=2, n_redundant=0, \n",
    "                           n_informative=2, n_clusters_per_class=1, n_classes=2, class_sep=0.25,\n",
    "                           random_state=19)"
   ]
  },
  {
   "cell_type": "code",
   "execution_count": null,
   "metadata": {
    "collapsed": false
   },
   "outputs": [],
   "source": [
    "clrMap = ListedColormap([\"blue\", \"red\"])\n",
    "plt.scatter(x[:,0], x[:,1], c=y, cmap=clrMap)\n",
    "plt.grid(True)\n",
    "plt.show()"
   ]
  },
  {
   "cell_type": "markdown",
   "metadata": {},
   "source": [
    "<p><b>Формирование обучающего и тестового подмножеств</b></p>"
   ]
  },
  {
   "cell_type": "code",
   "execution_count": null,
   "metadata": {
    "collapsed": true
   },
   "outputs": [],
   "source": [
    "x_train, x_test, y_train, y_test = train_test_split(x, y, test_size=0.3, random_state=12)"
   ]
  },
  {
   "cell_type": "markdown",
   "metadata": {},
   "source": [
    "<p><b>Обучение</b></p>"
   ]
  },
  {
   "cell_type": "code",
   "execution_count": null,
   "metadata": {
    "collapsed": false
   },
   "outputs": [],
   "source": [
    "linReg = linear_model.LinearRegression()\n",
    "linReg.fit(x_train, y_train)"
   ]
  },
  {
   "cell_type": "code",
   "execution_count": null,
   "metadata": {
    "collapsed": true
   },
   "outputs": [],
   "source": [
    "threshold = 0.5"
   ]
  },
  {
   "cell_type": "code",
   "execution_count": null,
   "metadata": {
    "collapsed": false
   },
   "outputs": [],
   "source": [
    "predTrainVals = np.where(linReg.predict(x_train)>=threshold, 1, 0)\n",
    "predTrainVals"
   ]
  },
  {
   "cell_type": "markdown",
   "metadata": {},
   "source": [
    "<p>Разделительная линия</p>"
   ]
  },
  {
   "cell_type": "code",
   "execution_count": null,
   "metadata": {
    "collapsed": true
   },
   "outputs": [],
   "source": [
    "x1_range = np.linspace(x[:,0].min(), x[:,0].max(), 100)\n",
    "x2_range = (threshold - linReg.intercept_ - linReg.coef_[0]*x1_range) / linReg.coef_[1]"
   ]
  },
  {
   "cell_type": "code",
   "execution_count": null,
   "metadata": {
    "collapsed": false
   },
   "outputs": [],
   "source": [
    "plt.plot(x1_range, x2_range, color=\"0.5\")\n",
    "plt.scatter(x_train[:,0], x_train[:,1], c=y_train, s=80, cmap=clrMap, alpha=0.5)\n",
    "plt.scatter(x_train[:, 0], x_train[:,1], c=predTrainVals, s=20, cmap=clrMap)\n",
    "plt.grid(True)\n",
    "plt.show()"
   ]
  },
  {
   "cell_type": "markdown",
   "metadata": {},
   "source": [
    "<p><b>Проверка на тестовом подмножестве</b></p>"
   ]
  },
  {
   "cell_type": "code",
   "execution_count": null,
   "metadata": {
    "collapsed": false
   },
   "outputs": [],
   "source": [
    "predTestVals = np.where(linReg.predict(x_test)>=threshold, 1, 0)\n",
    "predTestVals"
   ]
  },
  {
   "cell_type": "code",
   "execution_count": null,
   "metadata": {
    "collapsed": false
   },
   "outputs": [],
   "source": [
    "count = 0\n",
    "for i in range(len(y_test)):\n",
    "    if y_test[i] == predTestVals[i]:\n",
    "        count += 1\n",
    "print(count/len(y_test))     "
   ]
  },
  {
   "cell_type": "code",
   "execution_count": null,
   "metadata": {
    "collapsed": true
   },
   "outputs": [],
   "source": [
    "h = lambda x: linReg.intercept_ + linReg.coef_[0]*x[0] + linReg.coef_[1]*x[1]"
   ]
  },
  {
   "cell_type": "code",
   "execution_count": null,
   "metadata": {
    "collapsed": false
   },
   "outputs": [],
   "source": [
    "for i in range(len(x_test)):\n",
    "    hVal = h(x_test[i,:])\n",
    "    hVal = np.around(hVal, decimals=2)\n",
    "    print(\"Point:\", x_test[i,:])\n",
    "    print(\"Class 0:\", 1 - hVal, end=\"; \")\n",
    "    print(\"Class 1:\", hVal, end=\"; \")\n",
    "    print(\"hVal:\", hVal - threshold, end=\"; \")\n",
    "    #print(\"Class 1:\", hVal + 0.5, end=\"; \")\n",
    "    print(\"Predicted Class:\", predTestVals[i], end=\"; \")\n",
    "    print(\"Actual Class:\", y_test[i])"
   ]
  },
  {
   "cell_type": "code",
   "execution_count": null,
   "metadata": {
    "collapsed": false
   },
   "outputs": [],
   "source": [
    "plt.plot(x1_range, x2_range, color=\"0.5\")\n",
    "plt.scatter(x_test[:,0], x_test[:,1], c=y_test, s=80, cmap=clrMap, alpha=0.5)\n",
    "plt.scatter(x_test[:,0], x_test[:,1], c=predTestVals, s=20, cmap=clrMap)\n",
    "plt.grid(True)\n",
    "plt.show()"
   ]
  },
  {
   "cell_type": "markdown",
   "metadata": {},
   "source": [
    "<p><b>Графики</b></p>"
   ]
  },
  {
   "cell_type": "code",
   "execution_count": null,
   "metadata": {
    "collapsed": true
   },
   "outputs": [],
   "source": [
    "step = 0.01\n",
    "xx, yy = np.meshgrid(np.arange(x[:,0].min(), x[:,0].max(), step), np.arange(x[:,1].min(), x[:,1].max(), step))"
   ]
  },
  {
   "cell_type": "code",
   "execution_count": null,
   "metadata": {
    "collapsed": false
   },
   "outputs": [],
   "source": [
    "points = np.c_[xx.ravel(), yy.ravel()]\n",
    "#Z = np.where(linReg.predict(points)>=threshold, 1, 0)\n",
    "Z = linReg.predict(points)\n",
    "Z = Z.reshape(xx.shape)"
   ]
  },
  {
   "cell_type": "code",
   "execution_count": null,
   "metadata": {
    "collapsed": false
   },
   "outputs": [],
   "source": [
    "plt.figure(1, figsize=[12, 4])\n",
    "\n",
    "plt.subplot(1,2,1)\n",
    "plt.title(\"Train data\")\n",
    "plt.contourf(xx, yy, Z, 15, cmap=cm.bwr, alpha=.5)\n",
    "plt.plot(x1_range, x2_range, color=\"0.5\")\n",
    "plt.scatter(x_train[:,0], x_train[:,1], c=y_train, s=80, cmap=clrMap, alpha=0.5)\n",
    "plt.scatter(x_train[:, 0], x_train[:,1], c=predTrainVals, s=20, cmap=clrMap)\n",
    "plt.grid(True)\n",
    "\n",
    "plt.subplot(1,2,2)\n",
    "plt.title(\"Test data\")\n",
    "plt.contourf(xx, yy, Z, 15, cmap=cm.bwr, alpha=.5)\n",
    "plt.plot(x1_range, x2_range, color=\"0.5\")\n",
    "plt.scatter(x_test[:,0], x_test[:,1], c=y_test, s=80, cmap=clrMap, alpha=0.5)\n",
    "plt.scatter(x_test[:,0], x_test[:,1], c=predTestVals, s=20, cmap=clrMap)\n",
    "plt.grid(True)\n",
    "\n",
    "plt.show()"
   ]
  },
  {
   "cell_type": "markdown",
   "metadata": {},
   "source": [
    "<a name=\"3\"></a>\n",
    "<div style=\"display:table; width:100%; padding-top:10px; padding-bottom:10px; border-bottom:1px solid lightgrey\">\n",
    "    <div style=\"display:table-row\">\n",
    "        <div style=\"display:table-cell; width:80%; font-size:14pt; font-weight:bold\">3. Логистическая регрессия</div>\n",
    "    \t<div style=\"display:table-cell; width:20%; text-align:center; background-color:whitesmoke; border:1px solid lightgrey\"><a href=\"#0\">К содержанию</a></div>\n",
    "    </div>\n",
    "</div>"
   ]
  },
  {
   "cell_type": "markdown",
   "metadata": {},
   "source": [
    "<a href=\"http://scikit-learn.org/stable/modules/generated/sklearn.linear_model.LogisticRegression.html\">\n",
    "sklearn.linear_model.LogisticRegression</a>\n",
    "\n",
    "<a href=\"http://scikit-learn.org/stable/modules/linear_model.html#logistic-regression\">\n",
    "Logistic regression</a>"
   ]
  },
  {
   "cell_type": "code",
   "execution_count": null,
   "metadata": {
    "collapsed": true
   },
   "outputs": [],
   "source": [
    "from sklearn import linear_model\n",
    "from matplotlib import cm"
   ]
  },
  {
   "cell_type": "markdown",
   "metadata": {},
   "source": [
    "<p><b>1D</b></p>"
   ]
  },
  {
   "cell_type": "markdown",
   "metadata": {},
   "source": [
    "<p><b>Исходные данные</b></p>"
   ]
  },
  {
   "cell_type": "code",
   "execution_count": null,
   "metadata": {
    "collapsed": true
   },
   "outputs": [],
   "source": [
    "n = 100\n",
    "x, y = make_classification(n_samples=n, n_features=1, n_redundant=0, n_informative=1, n_classes=2, n_clusters_per_class=1, \n",
    "                           class_sep=1, random_state=1000)"
   ]
  },
  {
   "cell_type": "code",
   "execution_count": null,
   "metadata": {
    "collapsed": false
   },
   "outputs": [],
   "source": [
    "clrMap = ListedColormap([\"blue\", \"red\"])\n",
    "plt.scatter(x, y, c=y, cmap=clrMap)\n",
    "plt.grid(True)\n",
    "plt.show()"
   ]
  },
  {
   "cell_type": "code",
   "execution_count": null,
   "metadata": {
    "collapsed": true
   },
   "outputs": [],
   "source": [
    "#Опционально\n",
    "#count = 0\n",
    "#while count < 20:\n",
    "#    indx = np.random.randint(low=0, high=len(x), size=1)\n",
    "    \n",
    "#    if y[indx] > 0:\n",
    "#        x[indx,0] += 10\n",
    "#        count += 1"
   ]
  },
  {
   "cell_type": "code",
   "execution_count": null,
   "metadata": {
    "collapsed": false
   },
   "outputs": [],
   "source": [
    "plt.scatter(x, y, c=y, cmap=clrMap)\n",
    "plt.grid(True)\n",
    "plt.show()"
   ]
  },
  {
   "cell_type": "markdown",
   "metadata": {},
   "source": [
    "<p><b>Формирование обучающего и тестового подмножеств</b></p>"
   ]
  },
  {
   "cell_type": "code",
   "execution_count": null,
   "metadata": {
    "collapsed": true
   },
   "outputs": [],
   "source": [
    "x_train, x_test, y_train, y_test = train_test_split(x, y, test_size=0.3, random_state=12)"
   ]
  },
  {
   "cell_type": "markdown",
   "metadata": {},
   "source": [
    "<p><b>Обучение</b></p>"
   ]
  },
  {
   "cell_type": "code",
   "execution_count": null,
   "metadata": {
    "collapsed": true
   },
   "outputs": [],
   "source": [
    "logReg1D = linear_model.LogisticRegression(penalty=\"l2\", fit_intercept=True, max_iter=100, C=1e5, \n",
    "                                         solver=\"lbfgs\", random_state=12345)"
   ]
  },
  {
   "cell_type": "code",
   "execution_count": null,
   "metadata": {
    "collapsed": false
   },
   "outputs": [],
   "source": [
    "logReg1D.fit(x_train, y_train)"
   ]
  },
  {
   "cell_type": "code",
   "execution_count": null,
   "metadata": {
    "collapsed": false
   },
   "outputs": [],
   "source": [
    "logReg1D.coef_"
   ]
  },
  {
   "cell_type": "code",
   "execution_count": null,
   "metadata": {
    "collapsed": false
   },
   "outputs": [],
   "source": [
    "logReg1D.intercept_"
   ]
  },
  {
   "cell_type": "code",
   "execution_count": null,
   "metadata": {
    "collapsed": false
   },
   "outputs": [],
   "source": [
    "f = lambda x: 1 / (1+np.exp(-(logReg1D.intercept_+logReg1D.coef_[0]*x)))\n",
    "#f = lambda x: 1 / (1+np.exp(-(15*x+1)))"
   ]
  },
  {
   "cell_type": "code",
   "execution_count": null,
   "metadata": {
    "collapsed": false
   },
   "outputs": [],
   "source": [
    "thresholdY = 0.5\n",
    "thresholdX = (np.log((1-thresholdY)/thresholdY) - logReg1D.intercept_)/logReg1D.coef_[0]\n",
    "\n",
    "xx = np.linspace(x.min(), x.max(), 100)\n",
    "\n",
    "def plotLogRegTrain1D():\n",
    "    plt.figure(1, figsize=[15,4])\n",
    "\n",
    "    plt.subplot(1,3,1)\n",
    "    plt.title(\"Initial train classes\")\n",
    "    plt.plot(xx, f(xx), linewidth=1, color=\"green\")\n",
    "    plt.scatter(x_train, y_train, c=y_train, cmap=clrMap, s=80, alpha=0.5)\n",
    "    plt.axhline(thresholdY, color=\"0.5\", linestyle=\"--\")\n",
    "    plt.axvline(thresholdX, color=\"0.5\", linestyle=\"--\")\n",
    "    plt.grid(True)\n",
    "\n",
    "    plt.subplot(1,3,2)\n",
    "    plt.title(\"Predicted train classes\")\n",
    "    plt.plot(xx, f(xx), linewidth=1, color=\"green\")\n",
    "    plt.scatter(x_train, logReg1D.predict(x_train), s=20, c=logReg1D.predict(x_train), cmap=clrMap)\n",
    "    plt.axhline(thresholdY, color=\"0.5\", linestyle=\"--\")\n",
    "    plt.axvline(thresholdX, color=\"0.5\", linestyle=\"--\")\n",
    "    plt.grid(True)\n",
    "\n",
    "    plt.subplot(1,3,3)\n",
    "    plt.title(\"Matching Initial and Predicted\")\n",
    "    plt.plot(xx, f(xx), linewidth=1, color=\"green\")\n",
    "    plt.scatter(x_train, y_train, c=y_train, cmap=clrMap, s=80, alpha=0.5)\n",
    "    plt.scatter(x_train, logReg1D.predict(x_train), s=20, c=logReg1D.predict(x_train), cmap=clrMap)\n",
    "    plt.axhline(threshold, color=\"0.5\", linestyle=\"--\")\n",
    "    plt.axvline(thresholdX, color=\"0.5\", linestyle=\"--\")\n",
    "    plt.grid(True)\n",
    "    \n",
    "plotLogRegTrain1D()\n",
    "plt.show()"
   ]
  },
  {
   "cell_type": "markdown",
   "metadata": {},
   "source": [
    "<p><b>Проверка на тестовом подмножестве</b></p>"
   ]
  },
  {
   "cell_type": "code",
   "execution_count": null,
   "metadata": {
    "collapsed": false
   },
   "outputs": [],
   "source": [
    "score = logReg1D.score(x_test, y_test)\n",
    "score"
   ]
  },
  {
   "cell_type": "code",
   "execution_count": null,
   "metadata": {
    "collapsed": false
   },
   "outputs": [],
   "source": [
    "test_pred"
   ]
  },
  {
   "cell_type": "code",
   "execution_count": null,
   "metadata": {
    "collapsed": false
   },
   "outputs": [],
   "source": [
    "count = 0\n",
    "for i in range(len(y_test)):\n",
    "    if y_test[i] == logReg1D.predict(x_test[i].reshape(-1,1)):\n",
    "        count += 1\n",
    "print(count/len(y_test))   "
   ]
  },
  {
   "cell_type": "code",
   "execution_count": null,
   "metadata": {
    "collapsed": false
   },
   "outputs": [],
   "source": [
    "test_pred = logReg1D.predict(x_test)\n",
    "np.where(test_pred==y_test)[0].size / y_test.size"
   ]
  },
  {
   "cell_type": "code",
   "execution_count": null,
   "metadata": {
    "collapsed": false
   },
   "outputs": [],
   "source": [
    "logReg1D.predict_proba(x_test)"
   ]
  },
  {
   "cell_type": "code",
   "execution_count": null,
   "metadata": {
    "collapsed": false
   },
   "outputs": [],
   "source": [
    "for i in range(len(x_test)):\n",
    "    p = np.around(logReg1D.predict_proba(x_test[i]), decimals=5).ravel()\n",
    "    print(\"Point:\", x_test[i])\n",
    "    print(\"Class 0:\", p[0], end=\"; \")\n",
    "    print(\"Class 1:\", p[1], end=\"; \")\n",
    "    print(\"Predicted Class:\", logReg1D.predict(x_test[i])[0], end=\"; \")\n",
    "    print(\"Actual Class:\", y_test[i])"
   ]
  },
  {
   "cell_type": "code",
   "execution_count": null,
   "metadata": {
    "collapsed": false
   },
   "outputs": [],
   "source": [
    "def plotLogRegTest1D():\n",
    "    plt.figure(1, figsize=[15,4])\n",
    "\n",
    "    plt.subplot(1,3,1)\n",
    "    plt.title(\"Initial train classes\")\n",
    "    plt.plot(xx, f(xx), linewidth=1, color=\"green\")\n",
    "    plt.scatter(x_test, y_test, c=y_test, cmap=clrMap, s=80, alpha=0.5)\n",
    "    plt.axhline(thresholdY, color=\"0.5\", linestyle=\"--\")\n",
    "    plt.axvline(thresholdX, color=\"0.5\", linestyle=\"--\")\n",
    "    plt.grid(True)\n",
    "\n",
    "    plt.subplot(1,3,2)\n",
    "    plt.title(\"Predicted train classes\")\n",
    "    plt.plot(xx, f(xx), linewidth=1, color=\"green\")\n",
    "    plt.scatter(x_test, logReg1D.predict(x_test), s=20, c=logReg1D.predict(x_test), cmap=clrMap)\n",
    "    plt.axhline(thresholdY, color=\"0.5\", linestyle=\"--\")\n",
    "    plt.axvline(thresholdX, color=\"0.5\", linestyle=\"--\")\n",
    "    plt.grid(True)\n",
    "\n",
    "    plt.subplot(1,3,3)\n",
    "    plt.title(\"Matching Initial and Predicted\")\n",
    "    plt.plot(xx, f(xx), linewidth=1, color=\"green\")\n",
    "    plt.scatter(x_test, y_test, c=y_test, cmap=clrMap, s=80, alpha=0.5)\n",
    "    plt.scatter(x_test, logReg1D.predict(x_test), s=20, c=logReg1D.predict(x_test), cmap=clrMap)\n",
    "    plt.axhline(threshold, color=\"0.5\", linestyle=\"--\")\n",
    "    plt.axvline(thresholdX, color=\"0.5\", linestyle=\"--\")\n",
    "    plt.grid(True)\n",
    "    \n",
    "plotLogRegTest1D()\n",
    "plt.show()"
   ]
  },
  {
   "cell_type": "markdown",
   "metadata": {},
   "source": [
    "<p><b>Графики</b></p>"
   ]
  },
  {
   "cell_type": "code",
   "execution_count": null,
   "metadata": {
    "collapsed": false
   },
   "outputs": [],
   "source": [
    "plotLogRegTrain1D()\n",
    "plt.show()\n",
    "plotLogRegTest1D()\n",
    "plt.show()"
   ]
  },
  {
   "cell_type": "markdown",
   "metadata": {},
   "source": [
    "<p><b>2D</b></p>"
   ]
  },
  {
   "cell_type": "markdown",
   "metadata": {},
   "source": [
    "<p><b>Исходные данные</b></p>"
   ]
  },
  {
   "cell_type": "code",
   "execution_count": null,
   "metadata": {
    "collapsed": false
   },
   "outputs": [],
   "source": [
    "n = 500\n",
    "x, y = make_classification(n_samples=n, n_features=2, n_redundant=0, \n",
    "                           n_informative=2, n_clusters_per_class=1, n_classes=2, class_sep=0.25,\n",
    "                           random_state=19)"
   ]
  },
  {
   "cell_type": "code",
   "execution_count": null,
   "metadata": {
    "collapsed": false
   },
   "outputs": [],
   "source": [
    "clrMap = ListedColormap([\"blue\", \"red\"])\n",
    "plt.scatter(x[:,0], x[:,1], c=y, cmap=clrMap)\n",
    "plt.grid(True)\n",
    "plt.show()"
   ]
  },
  {
   "cell_type": "markdown",
   "metadata": {},
   "source": [
    "<p><b>Формирование обучающего и тестового подмножеств</b></p>"
   ]
  },
  {
   "cell_type": "code",
   "execution_count": null,
   "metadata": {
    "collapsed": true
   },
   "outputs": [],
   "source": [
    "x_train, x_test, y_train, y_test = train_test_split(x, y, test_size=0.3, random_state=12)"
   ]
  },
  {
   "cell_type": "markdown",
   "metadata": {},
   "source": [
    "<p><b>Обучение</b></p>"
   ]
  },
  {
   "cell_type": "code",
   "execution_count": null,
   "metadata": {
    "collapsed": true
   },
   "outputs": [],
   "source": [
    "logReg = linear_model.LogisticRegression(penalty=\"l2\", fit_intercept=True, max_iter=100, C=1e5, \n",
    "                                         solver=\"lbfgs\", random_state=1234)"
   ]
  },
  {
   "cell_type": "code",
   "execution_count": null,
   "metadata": {
    "collapsed": false
   },
   "outputs": [],
   "source": [
    "logReg.fit(x_train, y_train)"
   ]
  },
  {
   "cell_type": "code",
   "execution_count": null,
   "metadata": {
    "collapsed": false
   },
   "outputs": [],
   "source": [
    "logReg.coef_"
   ]
  },
  {
   "cell_type": "code",
   "execution_count": null,
   "metadata": {
    "collapsed": false
   },
   "outputs": [],
   "source": [
    "logReg.intercept_"
   ]
  },
  {
   "cell_type": "code",
   "execution_count": null,
   "metadata": {
    "collapsed": false
   },
   "outputs": [],
   "source": [
    "plt.scatter(x_train[:,0], x_train[:,1], c=y_train, s=80, cmap=clrMap, alpha=0.5)\n",
    "plt.scatter(x_train[:, 0], x_train[:, 1], c=logReg.predict(x_train), s=20, cmap=clrMap)\n",
    "plt.grid(True)\n",
    "plt.show()"
   ]
  },
  {
   "cell_type": "markdown",
   "metadata": {},
   "source": [
    "<p><b>Проверка на тестовом подмножестве</b></p>"
   ]
  },
  {
   "cell_type": "code",
   "execution_count": null,
   "metadata": {
    "collapsed": false
   },
   "outputs": [],
   "source": [
    "score = logReg.score(x_test, y_test)\n",
    "score"
   ]
  },
  {
   "cell_type": "code",
   "execution_count": null,
   "metadata": {
    "collapsed": false
   },
   "outputs": [],
   "source": [
    "count = 0\n",
    "for i in range(len(y_test)):\n",
    "    if y_test[i] == logReg.predict(x_test[i].reshape(-1,2)):\n",
    "        count += 1\n",
    "print(count/len(y_test))        "
   ]
  },
  {
   "cell_type": "code",
   "execution_count": null,
   "metadata": {
    "collapsed": false
   },
   "outputs": [],
   "source": [
    "logReg.predict_proba(x_test)"
   ]
  },
  {
   "cell_type": "code",
   "execution_count": null,
   "metadata": {
    "collapsed": false
   },
   "outputs": [],
   "source": [
    "z = lambda x: logReg.intercept_[0] + logReg.coef_[0,0]*x[0] + logReg.coef_[0,1]*x[1]\n",
    "z(x_test[0,:])"
   ]
  },
  {
   "cell_type": "code",
   "execution_count": null,
   "metadata": {
    "collapsed": false
   },
   "outputs": [],
   "source": [
    "zVal = z(x_test[0,:])\n",
    "p = np.around(np.exp(zVal) / (np.exp(zVal) + 1), decimals=2)\n",
    "p"
   ]
  },
  {
   "cell_type": "code",
   "execution_count": null,
   "metadata": {
    "collapsed": false
   },
   "outputs": [],
   "source": [
    "for i in range(len(x_test)):\n",
    "    zVal = z(x_test[i,:])\n",
    "    p = np.around(np.exp(zVal) / (np.exp(zVal) + 1), decimals=2)\n",
    "    print(\"Point:\", x_test[i,:])\n",
    "    print(\"Class 0:\", 1 - p, end=\"; \")\n",
    "    print(\"Class 1:\", p, end=\"; \")\n",
    "    print(\"Predicted Class:\", logReg.predict(x_test[i,:])[0], end=\"; \")\n",
    "    print(\"Actual Class:\", y_test[i])"
   ]
  },
  {
   "cell_type": "code",
   "execution_count": null,
   "metadata": {
    "collapsed": false
   },
   "outputs": [],
   "source": [
    "plt.scatter(x_test[:,0], x_test[:,1], c=y_test, s=80, cmap=clrMap, alpha=0.5)\n",
    "plt.scatter(x_test[:, 0], x_test[:, 1], c=logReg.predict(x_test), s=20, cmap=clrMap)\n",
    "plt.grid(True)\n",
    "plt.show()"
   ]
  },
  {
   "cell_type": "markdown",
   "metadata": {},
   "source": [
    "<p><b>Графики</b></p>"
   ]
  },
  {
   "cell_type": "code",
   "execution_count": null,
   "metadata": {
    "collapsed": false
   },
   "outputs": [],
   "source": [
    "step = 0.01\n",
    "xx, yy = np.meshgrid(np.arange(x[:,0].min(), x[:,0].max(), step), np.arange(x[:,1].min(), x[:,1].max(), step))\n",
    "#xx[:,:], yy[:,:]"
   ]
  },
  {
   "cell_type": "code",
   "execution_count": null,
   "metadata": {
    "collapsed": false
   },
   "outputs": [],
   "source": [
    "xx.ravel(), yy.ravel()"
   ]
  },
  {
   "cell_type": "code",
   "execution_count": null,
   "metadata": {
    "collapsed": false
   },
   "outputs": [],
   "source": [
    "points = np.c_[xx.ravel(), yy.ravel()]\n",
    "#points[:3]"
   ]
  },
  {
   "cell_type": "code",
   "execution_count": null,
   "metadata": {
    "collapsed": false
   },
   "outputs": [],
   "source": [
    "points_2 = list(zip(xx.ravel(), yy.ravel()))\n",
    "#points_2[40:50]"
   ]
  },
  {
   "cell_type": "code",
   "execution_count": null,
   "metadata": {
    "collapsed": false
   },
   "outputs": [],
   "source": [
    "Z = logReg.predict_proba(points)[:, 1]\n",
    "Z = Z.reshape(xx.shape)\n",
    "#Z"
   ]
  },
  {
   "cell_type": "code",
   "execution_count": null,
   "metadata": {
    "collapsed": false
   },
   "outputs": [],
   "source": [
    "plt.figure(1, figsize=[12, 4])\n",
    "\n",
    "plt.subplot(1,2,1)\n",
    "plt.title(\"Train data\")\n",
    "plt.contourf(xx, yy, Z, cmap=cm.bwr, alpha=.5)\n",
    "plt.scatter(x_train[:,0], x_train[:,1], c=y_train, s=80, cmap=clrMap, alpha=0.5)\n",
    "plt.scatter(x_train[:, 0], x_train[:, 1], c=logReg.predict(x_train), s=20, cmap=clrMap)\n",
    "plt.grid(True)\n",
    "\n",
    "plt.subplot(1,2,2)\n",
    "plt.title(\"Test data\")\n",
    "plt.contourf(xx, yy, Z, cmap=cm.bwr, alpha=.5)\n",
    "plt.scatter(x_test[:,0], x_test[:,1], c=y_test, s=80, cmap=clrMap, alpha=0.5)\n",
    "plt.scatter(x_test[:, 0], x_test[:, 1], c=logReg.predict(x_test), s=20, cmap=clrMap)\n",
    "plt.grid(True)\n",
    "\n",
    "plt.show()"
   ]
  },
  {
   "cell_type": "markdown",
   "metadata": {},
   "source": [
    "<p><b>Пример с тремя классами</b></p>"
   ]
  },
  {
   "cell_type": "markdown",
   "metadata": {},
   "source": [
    "<p><b>Исходные данные</b></p>"
   ]
  },
  {
   "cell_type": "code",
   "execution_count": null,
   "metadata": {
    "collapsed": false
   },
   "outputs": [],
   "source": [
    "n = 100\n",
    "x, y = make_classification(n_samples=n, n_features=2, n_redundant=0, \n",
    "                           n_informative=2, n_clusters_per_class=1, n_classes=3, class_sep=1,\n",
    "                           random_state=1234)"
   ]
  },
  {
   "cell_type": "code",
   "execution_count": null,
   "metadata": {
    "collapsed": false
   },
   "outputs": [],
   "source": [
    "clrMap = ListedColormap([\"blue\", \"red\", \"green\"])\n",
    "plt.scatter(x[:,0], x[:,1], c=y, cmap=clrMap)\n",
    "plt.grid(True)\n",
    "plt.show()"
   ]
  },
  {
   "cell_type": "markdown",
   "metadata": {},
   "source": [
    "<p><b>Формирование обучающего и тестового подмножеств</b></p>"
   ]
  },
  {
   "cell_type": "code",
   "execution_count": null,
   "metadata": {
    "collapsed": true
   },
   "outputs": [],
   "source": [
    "x_train, x_test, y_train, y_test = train_test_split(x, y, test_size=0.3, random_state=12)"
   ]
  },
  {
   "cell_type": "markdown",
   "metadata": {},
   "source": [
    "<p><b>Обучение</b></p>"
   ]
  },
  {
   "cell_type": "code",
   "execution_count": null,
   "metadata": {
    "collapsed": false
   },
   "outputs": [],
   "source": [
    "logRegMultClass = linear_model.LogisticRegression(penalty=\"l2\", fit_intercept=True, max_iter=100, C=1e5, \n",
    "                                         solver=\"lbfgs\", multi_class=\"ovr\", random_state=12345)"
   ]
  },
  {
   "cell_type": "code",
   "execution_count": null,
   "metadata": {
    "collapsed": false
   },
   "outputs": [],
   "source": [
    "logRegMultClass.fit(x_train, y_train)"
   ]
  },
  {
   "cell_type": "code",
   "execution_count": null,
   "metadata": {
    "collapsed": false
   },
   "outputs": [],
   "source": [
    "logRegMultClass.coef_"
   ]
  },
  {
   "cell_type": "code",
   "execution_count": null,
   "metadata": {
    "collapsed": false
   },
   "outputs": [],
   "source": [
    "logRegMultClass.intercept_"
   ]
  },
  {
   "cell_type": "code",
   "execution_count": null,
   "metadata": {
    "collapsed": false
   },
   "outputs": [],
   "source": [
    "plt.scatter(x_train[:,0], x_train[:,1], c=y_train, s=80, cmap=clrMap, alpha=0.5)\n",
    "plt.scatter(x_train[:, 0], x_train[:, 1], c=logRegMultClass.predict(x_train), s=20, cmap=clrMap)\n",
    "plt.grid(True)\n",
    "plt.show()"
   ]
  },
  {
   "cell_type": "markdown",
   "metadata": {},
   "source": [
    "<p><b>Проверка на тестовом подмножестве</b></p>"
   ]
  },
  {
   "cell_type": "code",
   "execution_count": null,
   "metadata": {
    "collapsed": false
   },
   "outputs": [],
   "source": [
    "score = logRegMultClass.score(x_test, y_test)\n",
    "score"
   ]
  },
  {
   "cell_type": "code",
   "execution_count": null,
   "metadata": {
    "collapsed": false
   },
   "outputs": [],
   "source": [
    "count = 0\n",
    "for i in range(len(y_test)):\n",
    "    if y_test[i] == logRegMultClass.predict(x_test[i]):\n",
    "        count += 1\n",
    "print(count/len(y_test))    "
   ]
  },
  {
   "cell_type": "code",
   "execution_count": null,
   "metadata": {
    "collapsed": false
   },
   "outputs": [],
   "source": [
    "pr = np.around(logRegMultClass.predict_proba(x_test), decimals=2)\n",
    "pr = np.column_stack((pr, logRegMultClass.predict(x_test)))\n",
    "\n",
    "#Class_0, Class_1, Class_2, Prediction\n",
    "pr"
   ]
  },
  {
   "cell_type": "code",
   "execution_count": null,
   "metadata": {
    "collapsed": false
   },
   "outputs": [],
   "source": [
    "z_cl_0 = lambda x: logRegMultClass.intercept_[0] + logRegMultClass.coef_[0,0]*x[:,0] + logRegMultClass.coef_[0,1]*x[:,1]\n",
    "z_cl_1 = lambda x: logRegMultClass.intercept_[1] + logRegMultClass.coef_[1,0]*x[:,0] + logRegMultClass.coef_[1,1]*x[:,1]\n",
    "z_cl_2 = lambda x: logRegMultClass.intercept_[2] + logRegMultClass.coef_[2,0]*x[:,0] + logRegMultClass.coef_[2,1]*x[:,1]\n",
    "\n",
    "zVal_cl_0 = z_cl_0(x_test)\n",
    "zVal_cl_1 = z_cl_1(x_test)\n",
    "zVal_cl_2 = z_cl_2(x_test)\n",
    "\n",
    "p_cl_0 = np.around(np.exp(zVal_cl_0) / (np.exp(zVal_cl_0) + 1), decimals=2)\n",
    "p_cl_1 = np.around(np.exp(zVal_cl_1) / (np.exp(zVal_cl_1) + 1), decimals=2)\n",
    "p_cl_2 = np.around(np.exp(zVal_cl_2) / (np.exp(zVal_cl_2) + 1), decimals=2)\n",
    "\n",
    "st = np.column_stack((p_cl_0, p_cl_1, p_cl_2))\n",
    "st = np.column_stack((st, st.argmax(axis=1)))\n",
    "\n",
    "#Class_0, Class_1, Class_2, Prediction\n",
    "st"
   ]
  },
  {
   "cell_type": "code",
   "execution_count": null,
   "metadata": {
    "collapsed": false
   },
   "outputs": [],
   "source": [
    "for i in range(len(x_test)):\n",
    "    p_vals = np.around(logRegMultClass.predict_proba(x_test[i]), decimals=2)\n",
    "    print(\"Point:\", x_test[i,:])\n",
    "    print(\"Class 0:\", p_vals[0,0], end=\"; \")\n",
    "    print(\"Class 1:\", p_vals[0,1], end=\"; \")\n",
    "    print(\"Class 2:\", p_vals[0,2], end=\"; \")\n",
    "    print(\"Predicted Class:\", logRegMultClass.predict(x_test[i,:])[0], end=\"; \")\n",
    "    print(\"Actual Class:\", y_test[i])"
   ]
  },
  {
   "cell_type": "code",
   "execution_count": null,
   "metadata": {
    "collapsed": false
   },
   "outputs": [],
   "source": [
    "plt.scatter(x_test[:,0], x_test[:,1], c=y_test, s=80, cmap=clrMap, alpha=0.5)\n",
    "plt.scatter(x_test[:, 0], x_test[:, 1], c=logRegMultClass.predict(x_test), s=20, cmap=clrMap)\n",
    "plt.grid(True)\n",
    "plt.show()"
   ]
  },
  {
   "cell_type": "markdown",
   "metadata": {},
   "source": [
    "<p><b>Графики</b></p>"
   ]
  },
  {
   "cell_type": "code",
   "execution_count": null,
   "metadata": {
    "collapsed": false
   },
   "outputs": [],
   "source": [
    "step = 0.01\n",
    "xx, yy = np.meshgrid(np.arange(x[:,0].min(), x[:,0].max(), step), np.arange(x[:,1].min(), x[:,1].max(), step))\n",
    "#xx[:,:3], yy[:,:3]"
   ]
  },
  {
   "cell_type": "code",
   "execution_count": null,
   "metadata": {
    "collapsed": false
   },
   "outputs": [],
   "source": [
    "points = np.c_[xx.ravel(), yy.ravel()]\n",
    "Z = logRegMultClass.predict(points)\n",
    "Z = Z.reshape(xx.shape)\n",
    "#Z"
   ]
  },
  {
   "cell_type": "code",
   "execution_count": null,
   "metadata": {
    "collapsed": false
   },
   "outputs": [],
   "source": [
    "plt.figure(1, figsize=[12, 4])\n",
    "\n",
    "plt.subplot(1,2,1)\n",
    "plt.title(\"Train data\")\n",
    "plt.contourf(xx, yy, Z, cmap=clrMap, alpha=.5)\n",
    "plt.scatter(x_train[:,0], x_train[:,1], c=y_train, s=80, cmap=clrMap, alpha=0.5)\n",
    "plt.scatter(x_train[:, 0], x_train[:, 1], c=logRegMultClass.predict(x_train), s=20, cmap=clrMap)\n",
    "plt.grid(True)\n",
    "\n",
    "plt.subplot(1,2,2)\n",
    "plt.title(\"Test data\")\n",
    "plt.contourf(xx, yy, Z, cmap=clrMap, alpha=.5)\n",
    "plt.scatter(x_test[:,0], x_test[:,1], c=y_test, s=80, cmap=clrMap, alpha=0.5)\n",
    "plt.scatter(x_test[:,0], x_test[:,1], c=logRegMultClass.predict(x_test), s=20, cmap=clrMap)\n",
    "plt.grid(True)\n",
    "\n",
    "plt.show()"
   ]
  },
  {
   "cell_type": "markdown",
   "metadata": {},
   "source": [
    "<a name=\"4\"></a>\n",
    "<div style=\"display:table; width:100%; padding-top:10px; padding-bottom:10px; border-bottom:1px solid lightgrey\">\n",
    "    <div style=\"display:table-row\">\n",
    "        <div style=\"display:table-cell; width:80%; font-size:14pt; font-weight:bold\">4. Наивный байесовский классификатор</div>\n",
    "    \t<div style=\"display:table-cell; width:20%; text-align:center; background-color:whitesmoke; border:1px solid lightgrey\"><a href=\"#0\">К содержанию</a></div>\n",
    "    </div>\n",
    "</div>"
   ]
  },
  {
   "cell_type": "markdown",
   "metadata": {},
   "source": [
    "<a href=\"http://scikit-learn.org/stable/modules/naive_bayes.html\">1.9. Naive Bayes</a><br>\n",
    "<a href=\"http://scikit-learn.org/stable/modules/generated/sklearn.naive_bayes.GaussianNB.html#sklearn.naive_bayes.GaussianNB\">GaussianNB</a>"
   ]
  },
  {
   "cell_type": "code",
   "execution_count": null,
   "metadata": {
    "collapsed": true
   },
   "outputs": [],
   "source": [
    "from sklearn.naive_bayes import GaussianNB"
   ]
  },
  {
   "cell_type": "markdown",
   "metadata": {},
   "source": [
    "<p><b>Исходные данные</b></p>"
   ]
  },
  {
   "cell_type": "code",
   "execution_count": null,
   "metadata": {
    "collapsed": true
   },
   "outputs": [],
   "source": [
    "n = 500\n",
    "x, y = make_classification(n_samples=n, n_features=2, n_redundant=0, \n",
    "                           n_informative=2, n_clusters_per_class=1, n_classes=2, class_sep=0.25,\n",
    "                           random_state=19)"
   ]
  },
  {
   "cell_type": "code",
   "execution_count": null,
   "metadata": {
    "collapsed": false
   },
   "outputs": [],
   "source": [
    "clrMap = ListedColormap([\"blue\", \"red\"])\n",
    "plt.scatter(x[:,0], x[:,1], c=y, cmap=clrMap)\n",
    "plt.grid(True)\n",
    "plt.show()"
   ]
  },
  {
   "cell_type": "markdown",
   "metadata": {},
   "source": [
    "<p><b>Формирование обучающего и тестового подмножеств</b></p>"
   ]
  },
  {
   "cell_type": "code",
   "execution_count": null,
   "metadata": {
    "collapsed": true
   },
   "outputs": [],
   "source": [
    "x_train, x_test, y_train, y_test = train_test_split(x, y, test_size=0.3, random_state=12)"
   ]
  },
  {
   "cell_type": "markdown",
   "metadata": {},
   "source": [
    "<p><b>Обучение</b></p>"
   ]
  },
  {
   "cell_type": "code",
   "execution_count": null,
   "metadata": {
    "collapsed": true
   },
   "outputs": [],
   "source": [
    "nBClass = GaussianNB()\n",
    "nBClass.fit(x_train, y_train)\n",
    "plt.scatter(x_train[:,0], x_train[:,1], c=y_train, s=80, cmap=clrMap, alpha=0.5)\n",
    "plt.scatter(x_train[:, 0], x_train[:, 1], c=nBClass.predict(x_train), s=20, cmap=clrMap)\n",
    "plt.grid(True)\n",
    "plt.show()"
   ]
  },
  {
   "cell_type": "markdown",
   "metadata": {},
   "source": [
    "<p><b>Проверка на тестовом подмножестве</b></p>"
   ]
  },
  {
   "cell_type": "code",
   "execution_count": null,
   "metadata": {
    "collapsed": false
   },
   "outputs": [],
   "source": [
    "score = nBClass.score(x_test, y_test)\n",
    "score"
   ]
  },
  {
   "cell_type": "code",
   "execution_count": null,
   "metadata": {
    "collapsed": false
   },
   "outputs": [],
   "source": [
    "plt.scatter(x_test[:,0], x_test[:,1], c=y_test, s=80, cmap=clrMap, alpha=0.5)\n",
    "plt.scatter(x_test[:, 0], x_test[:, 1], c=nBClass.predict(x_test), s=20, cmap=clrMap)\n",
    "plt.grid(True)\n",
    "plt.show()"
   ]
  },
  {
   "cell_type": "markdown",
   "metadata": {},
   "source": [
    "<p><b>Графики</b></p>"
   ]
  },
  {
   "cell_type": "code",
   "execution_count": null,
   "metadata": {
    "collapsed": true
   },
   "outputs": [],
   "source": [
    "step = 0.01\n",
    "xx, yy = np.meshgrid(np.arange(x[:,0].min(), x[:,0].max(), step), np.arange(x[:,1].min(), x[:,1].max(), step))\n",
    "xx[:,:3], yy[:,:3]\n",
    "\n",
    "points = np.c_[xx.ravel(), yy.ravel()]\n",
    "\n",
    "Z = nBClass.predict_proba(points)[:, 1]\n",
    "Z = Z.reshape(xx.shape)"
   ]
  },
  {
   "cell_type": "code",
   "execution_count": null,
   "metadata": {
    "collapsed": false
   },
   "outputs": [],
   "source": [
    "plt.figure(1, figsize=[12, 4])\n",
    "\n",
    "plt.subplot(1,2,1)\n",
    "plt.title(\"Train data\")\n",
    "plt.contourf(xx, yy, Z, cmap=cm.bwr, alpha=.5)\n",
    "plt.scatter(x_train[:,0], x_train[:,1], c=y_train, s=80, cmap=clrMap, alpha=0.5)\n",
    "plt.scatter(x_train[:, 0], x_train[:, 1], c=nBClass.predict(x_train), s=20, cmap=clrMap)\n",
    "plt.grid(True)\n",
    "\n",
    "plt.subplot(1,2,2)\n",
    "plt.title(\"Test data\")\n",
    "plt.contourf(xx, yy, Z, cmap=cm.bwr, alpha=.5)\n",
    "plt.scatter(x_test[:,0], x_test[:,1], c=y_test, s=80, cmap=clrMap, alpha=0.5)\n",
    "plt.scatter(x_test[:, 0], x_test[:, 1], c=nBClass.predict(x_test), s=20, cmap=clrMap)\n",
    "plt.grid(True)\n",
    "\n",
    "plt.show()"
   ]
  },
  {
   "cell_type": "markdown",
   "metadata": {
    "collapsed": true
   },
   "source": [
    "<a name=\"5\"></a>\n",
    "<div style=\"display:table; width:100%; padding-top:10px; padding-bottom:10px; border-bottom:1px solid lightgrey\">\n",
    "    <div style=\"display:table-row\">\n",
    "        <div style=\"display:table-cell; width:80%; font-size:14pt; font-weight:bold\">5. Метод опорных векторов (SVM)</div>\n",
    "    \t<div style=\"display:table-cell; width:20%; text-align:center; background-color:whitesmoke; border:1px solid lightgrey\"><a href=\"#0\">К содержанию</a></div>\n",
    "    </div>\n",
    "</div>"
   ]
  },
  {
   "cell_type": "markdown",
   "metadata": {},
   "source": [
    "<a href=\"http://scikit-learn.org/stable/modules/svm.html\">1.4. Support Vector Machines</a><br>\n",
    "<a href=\"http://scikit-learn.org/stable/modules/generated/sklearn.svm.SVC.html\">sklearn.svm.SVC</a><br>\n",
    "<a href=\"http://scikit-learn.org/stable/auto_examples/svm/plot_svm_margin.html\">SVM Margins Example</a>"
   ]
  },
  {
   "cell_type": "code",
   "execution_count": null,
   "metadata": {
    "collapsed": true
   },
   "outputs": [],
   "source": [
    "from sklearn import svm"
   ]
  },
  {
   "cell_type": "markdown",
   "metadata": {},
   "source": [
    "<p><b>Исходные данные</b></p>"
   ]
  },
  {
   "cell_type": "code",
   "execution_count": null,
   "metadata": {
    "collapsed": true
   },
   "outputs": [],
   "source": [
    "n = 500\n",
    "x, y = make_classification(n_samples=n, n_features=2, n_redundant=0, \n",
    "                           n_informative=2, n_clusters_per_class=1, n_classes=2, class_sep=0.25,\n",
    "                           random_state=19)"
   ]
  },
  {
   "cell_type": "code",
   "execution_count": null,
   "metadata": {
    "collapsed": false
   },
   "outputs": [],
   "source": [
    "clrMap = ListedColormap([\"blue\", \"red\"])\n",
    "plt.scatter(x[:,0], x[:,1], c=y, cmap=clrMap)\n",
    "plt.grid(True)\n",
    "plt.show()"
   ]
  },
  {
   "cell_type": "markdown",
   "metadata": {},
   "source": [
    "<p><b>Формирование обучающего и тестового подмножеств</b></p>"
   ]
  },
  {
   "cell_type": "code",
   "execution_count": null,
   "metadata": {
    "collapsed": true
   },
   "outputs": [],
   "source": [
    "x_train, x_test, y_train, y_test = train_test_split(x, y, test_size=0.3, random_state=12)"
   ]
  },
  {
   "cell_type": "markdown",
   "metadata": {},
   "source": [
    "<p><b>Обучение</b></p>"
   ]
  },
  {
   "cell_type": "code",
   "execution_count": null,
   "metadata": {
    "collapsed": true
   },
   "outputs": [],
   "source": [
    "svmCl = svm.SVC(kernel=\"linear\")"
   ]
  },
  {
   "cell_type": "code",
   "execution_count": null,
   "metadata": {
    "collapsed": false
   },
   "outputs": [],
   "source": [
    "svmCl.fit(x_train, y_train)  "
   ]
  },
  {
   "cell_type": "code",
   "execution_count": null,
   "metadata": {
    "collapsed": false
   },
   "outputs": [],
   "source": [
    "svmCl.support_vectors_"
   ]
  },
  {
   "cell_type": "code",
   "execution_count": null,
   "metadata": {
    "collapsed": false
   },
   "outputs": [],
   "source": [
    "svmCl.support_ "
   ]
  },
  {
   "cell_type": "code",
   "execution_count": null,
   "metadata": {
    "collapsed": false
   },
   "outputs": [],
   "source": [
    "svmCl.n_support_"
   ]
  },
  {
   "cell_type": "code",
   "execution_count": null,
   "metadata": {
    "collapsed": false
   },
   "outputs": [],
   "source": [
    "svmCl.coef_"
   ]
  },
  {
   "cell_type": "code",
   "execution_count": null,
   "metadata": {
    "collapsed": false
   },
   "outputs": [],
   "source": [
    "svmCl.intercept_"
   ]
  },
  {
   "cell_type": "code",
   "execution_count": null,
   "metadata": {
    "collapsed": true
   },
   "outputs": [],
   "source": [
    "f = lambda x: svmCl.intercept_[0] + svmCl.coef_[0,0]*x[:,0] + svmCl.coef_[0,1]*x[:,1]"
   ]
  },
  {
   "cell_type": "code",
   "execution_count": null,
   "metadata": {
    "collapsed": true
   },
   "outputs": [],
   "source": [
    "w = svmCl.coef_[0]\n",
    "a = -w[0] / w[1]\n",
    "xx1 = np.linspace(x[:,0].min(), x[:,0].max())\n",
    "xx2 = a * xx1 - (svmCl.intercept_[0]) / w[1]"
   ]
  },
  {
   "cell_type": "code",
   "execution_count": null,
   "metadata": {
    "collapsed": true
   },
   "outputs": [],
   "source": [
    "margin = 1 / np.sqrt(np.sum(svmCl.coef_ ** 2))\n",
    "xx2_down = xx2 + a * margin\n",
    "xx2_up = xx2 - a * margin"
   ]
  },
  {
   "cell_type": "code",
   "execution_count": null,
   "metadata": {
    "collapsed": false
   },
   "outputs": [],
   "source": [
    "plt.scatter(x_train[:,0], x_train[:,1], c=y_train, s=80, cmap=clrMap, alpha=0.5)\n",
    "plt.scatter(x_train[:, 0], x_train[:, 1], c=svmCl.predict(x_train), s=20, cmap=clrMap)\n",
    "plt.grid(True)\n",
    "plt.plot(xx1, xx2, 'k-')\n",
    "plt.plot(xx1, xx2_down, 'k--')\n",
    "plt.plot(xx1, xx2_up, 'k--')\n",
    "plt.scatter(svmCl.support_vectors_[:,0], svmCl.support_vectors_[:,1], c=svmCl.predict(svmCl.support_vectors_), facecolors=\"none\",\n",
    "            s=150, cmap=clrMap)\n",
    "plt.show()"
   ]
  },
  {
   "cell_type": "markdown",
   "metadata": {},
   "source": [
    "<p><b>Проверка на тестовом подмножестве</b></p>"
   ]
  },
  {
   "cell_type": "code",
   "execution_count": null,
   "metadata": {
    "collapsed": false
   },
   "outputs": [],
   "source": [
    "score = svmCl.score(x_test, y_test)\n",
    "score"
   ]
  },
  {
   "cell_type": "code",
   "execution_count": null,
   "metadata": {
    "collapsed": false
   },
   "outputs": [],
   "source": [
    "np.around(svmCl.decision_function(x_test), decimals=2)"
   ]
  },
  {
   "cell_type": "code",
   "execution_count": null,
   "metadata": {
    "collapsed": false
   },
   "outputs": [],
   "source": [
    "np.around(f(x_test), decimals=2)"
   ]
  },
  {
   "cell_type": "code",
   "execution_count": null,
   "metadata": {
    "collapsed": false
   },
   "outputs": [],
   "source": [
    "svmCl.predict(x_test)"
   ]
  },
  {
   "cell_type": "code",
   "execution_count": null,
   "metadata": {
    "collapsed": false
   },
   "outputs": [],
   "source": [
    "for i in range(len(x_test)):\n",
    "    p_vals = np.around(svmCl.decision_function(x_test[i]), decimals=2)\n",
    "    print(\"Point:\", x_test[i,:])\n",
    "    print(\"Value: \", p_vals, end=\"; \")\n",
    "    print(\"Predicted Class:\", svmCl.predict(x_test[i,:])[0], end=\"; \")\n",
    "    print(\"Actual Class:\", y_test[i])"
   ]
  },
  {
   "cell_type": "markdown",
   "metadata": {},
   "source": [
    "<p><b>Графики</b></p>"
   ]
  },
  {
   "cell_type": "code",
   "execution_count": null,
   "metadata": {
    "collapsed": false
   },
   "outputs": [],
   "source": [
    "plt.figure(1, figsize=[12, 4])\n",
    "\n",
    "plt.subplot(1,2,1)\n",
    "plt.title(\"Train data\")\n",
    "plt.scatter(x_train[:,0], x_train[:,1], c=y_train, s=80, cmap=clrMap, alpha=0.5)\n",
    "plt.scatter(x_train[:, 0], x_train[:, 1], c=svmCl.predict(x_train), s=20, cmap=clrMap)\n",
    "plt.plot(xx1, xx2, 'k-')\n",
    "plt.plot(xx1, xx2_down, 'k--')\n",
    "plt.plot(xx1, xx2_up, 'k--')\n",
    "plt.grid(True)\n",
    "\n",
    "plt.subplot(1,2,2)\n",
    "plt.title(\"Test data\")\n",
    "plt.scatter(x_test[:,0], x_test[:,1], c=y_test, s=80, cmap=clrMap, alpha=0.5)\n",
    "plt.scatter(x_test[:, 0], x_test[:, 1], c=svmCl.predict(x_test), s=20, cmap=clrMap)\n",
    "plt.plot(xx1, xx2, 'k-')\n",
    "plt.plot(xx1, xx2_down, 'k--')\n",
    "plt.plot(xx1, xx2_up, 'k--')\n",
    "plt.grid(True)\n",
    "\n",
    "plt.show()"
   ]
  },
  {
   "cell_type": "markdown",
   "metadata": {},
   "source": [
    "<a name=\"6\"></a>\n",
    "<div style=\"display:table; width:100%; padding-top:10px; padding-bottom:10px; border-bottom:1px solid lightgrey\">\n",
    "    <div style=\"display:table-row\">\n",
    "        <div style=\"display:table-cell; width:80%; font-size:14pt; font-weight:bold\">6. Источники</div>\n",
    "    \t<div style=\"display:table-cell; width:20%; text-align:center; background-color:whitesmoke; border:1px solid lightgrey\"><a href=\"#0\">К содержанию</a></div>\n",
    "    </div>\n",
    "</div>"
   ]
  },
  {
   "cell_type": "markdown",
   "metadata": {},
   "source": [
    "<a href=\"http://scikit-learn.org/stable/auto_examples/datasets/plot_random_dataset.html#example-datasets-plot-random-dataset-py\">Plot randomly generated classification dataset</a><br>\n",
    "<a href=\"http://scikit-learn.org/stable/auto_examples/classification/plot_classifier_comparison.html#example-classification-plot-classifier-comparison-py\">Classifier comparison</a>"
   ]
  },
  {
   "cell_type": "code",
   "execution_count": null,
   "metadata": {
    "collapsed": true
   },
   "outputs": [],
   "source": []
  }
 ],
 "metadata": {
  "kernelspec": {
   "display_name": "Python [default]",
   "language": "python",
   "name": "python3"
  },
  "language_info": {
   "codemirror_mode": {
    "name": "ipython",
    "version": 3
   },
   "file_extension": ".py",
   "mimetype": "text/x-python",
   "name": "python",
   "nbconvert_exporter": "python",
   "pygments_lexer": "ipython3",
   "version": "3.5.2"
  }
 },
 "nbformat": 4,
 "nbformat_minor": 0
}
